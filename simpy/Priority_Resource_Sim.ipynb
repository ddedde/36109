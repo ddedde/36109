{
 "cells": [
  {
   "cell_type": "code",
   "execution_count": 1,
   "metadata": {},
   "outputs": [],
   "source": [
    "import simpy\n",
    "import numpy as np\n",
    "import functools\n",
    "import matplotlib.pyplot as plt\n",
    "from simpy_helpers import Entity, Resource, Source, Stats"
   ]
  },
  {
   "cell_type": "markdown",
   "metadata": {},
   "source": [
    "## Description of problem: \n",
    "\n",
    "We are going to model a restaurant.\n",
    "\n",
    "Customers can be either take out or dine in customers\n",
    "\n",
    "Take out customers will have higher priority, since they are in a hurry.\n",
    "\n",
    "Customers start by ordering, which is passed to the kitchen.\n",
    "The Kitchen is described as follows: \n",
    " - 2 cooks\n",
    " - 3 things to order:\n",
    "   - fish -- 15 mins to prepare\n",
    "   - burger -- 5 mins to prepare\n",
    "   - salad -- 8 mins to prepare\n",
    "   \n",
    "Then must wait for a seat\n",
    "- people will sit for between 20-30 minutes. \n",
    "- Capacity: 4\n",
    "- Assume all attendees are dining alone (no need to worry about specific party capacity, or matching to tables).\n"
   ]
  },
  {
   "cell_type": "code",
   "execution_count": 2,
   "metadata": {},
   "outputs": [],
   "source": [
    "# Our Kitchen class subclasses PriorityResource. We give it a unique name of \"kitchen\"\n",
    "class Kitchen(Resource):\n",
    "    def service_time(self, entity):\n",
    "        \"\"\"\n",
    "        Defines preparation time for each dish\n",
    "        Since we can pass the entity being processed to service_time when we call it, \n",
    "        we can react to the requirements of the entity (e.g. fish takes longer to prepare)\n",
    "        \"\"\"\n",
    "        if entity.attributes[\"food\"] == \"Fish\":\n",
    "            return 100\n",
    "        elif entity.attributes[\"food\"] == \"Burger\":\n",
    "            return 5\n",
    "        elif entity.attributes[\"food\"] == \"Salad\":\n",
    "            return 8\n",
    "        else:\n",
    "            raise Exception(\"Restaurant does not serve this kind of food\")\n",
    "        \n",
    "\n",
    "# Our DiningRoom class subclasses Resource. We give it a unique name of \"DiningRoom\"\n",
    "class DiningRoom(Resource):\n",
    "    def service_time(self):\n",
    "        \"\"\"\n",
    "        random integer of time between 20 and 30 minutes per problem specification\n",
    "        \"\"\"\n",
    "        return np.random.randint(20, 30) # 20 to 30 minute seating per entity\n",
    "\n"
   ]
  },
  {
   "cell_type": "code",
   "execution_count": 3,
   "metadata": {},
   "outputs": [],
   "source": [
    "# entities are in charge of the order in which interactions with resources occur\n",
    "class DineInCustomer(Entity):\n",
    "    \n",
    "    priority = 1\n",
    "    \n",
    "    # template method for all of the resources it needs to interact with\n",
    "    def process(self):\n",
    "        \n",
    "        # interface with kitchen\n",
    "        yield self.wait_for_resource(kitchen)\n",
    "        yield self.process_at_resource(kitchen)\n",
    "        self.release_resource(kitchen)\n",
    "        \n",
    "        # interface with dining_room\n",
    "        yield self.wait_for_resource(dining_room)\n",
    "        yield self.process_at_resource(dining_room)\n",
    "        self.release_resource(dining_room)\n",
    "\n",
    "class TakeOutCustomer(Entity):\n",
    "    \n",
    "    priority = 0\n",
    "    \n",
    "    # template method for all of the resources it needs to interact with\n",
    "    def process(self):\n",
    "        # interface with kitchen\n",
    "        yield self.wait_for_resource(kitchen)\n",
    "        yield self.process_at_resource(kitchen) \n",
    "        self.release_resource(kitchen)\n",
    "        # take out does not need to go to the dining room\n",
    "        "
   ]
  },
  {
   "cell_type": "code",
   "execution_count": 4,
   "metadata": {},
   "outputs": [],
   "source": [
    "# The source is what contains the interarrival time definition, and rules for constructing entities \n",
    "# with various attribute sets.\n",
    "class CustomerSource(Source):\n",
    "    def interarrival_time(self):\n",
    "        return np.random.choice([1,10,15,20], p=[0.5, 0.2, 0.2, 0.1])\n",
    "    \n",
    "    def sample_from_foods(self):\n",
    "        return np.random.choice([\"Fish\", \"Burger\", \"Salad\"], p=[0.1,0.7,0.2])\n",
    "    \n",
    "    def is_dine_in(self):\n",
    "        # returns true if the customer is dine in with a 50% likelihood\n",
    "        return np.random.random() > 0.50\n",
    "    \n",
    "    def build_entity(self):\n",
    "        attributes = {\n",
    "            \"food\": self.sample_from_foods()\n",
    "        }\n",
    "        if self.is_dine_in():\n",
    "            return DineInCustomer(env, attributes)\n",
    "         \n",
    "        return TakeOutCustomer(env, attributes)"
   ]
  },
  {
   "cell_type": "code",
   "execution_count": 5,
   "metadata": {},
   "outputs": [],
   "source": [
    "np.random.seed(42)\n",
    "# Create simulation environment\n",
    "env = simpy.Environment()\n",
    "\n",
    "# Configure source to generate fixed number of entities\n",
    "source = CustomerSource(env, number=10)\n",
    "\n",
    "# Configure DiningRoom to have space for 4 diners\n",
    "dining_room = DiningRoom(env,  capacity=4)\n",
    "\n",
    "# Configure Kitchen to have 2 chefs\n",
    "kitchen = Kitchen(env, capacity=2)\n",
    "\n",
    "# Aside: if students want to tune various parameters of the simulation, they could configure each component\n",
    "#        of the simulation here, then loop over the construction of each with different combinations of parameters"
   ]
  },
  {
   "cell_type": "code",
   "execution_count": 6,
   "metadata": {},
   "outputs": [],
   "source": [
    "env.process(source.start())\n",
    "env.run()"
   ]
  },
  {
   "cell_type": "code",
   "execution_count": 7,
   "metadata": {},
   "outputs": [
    {
     "name": "stdout",
     "output_type": "stream",
     "text": [
      "total_time: [35, 5, 34, 30, 32, 100, 8, 5, 34, 134]\n",
      "waiting_time: [0, 0, 0, 3, 3, 0, 0, 0, 0, 7]\n",
      "processing_time: [35, 5, 34, 27, 29, 100, 8, 5, 34, 127]\n",
      "waiting time at kitchen [0, 0, 0, 3, 3, 0, 0, 0, 0, 7]\n",
      "processing time at kitchen [8, 5, 5, 5, 8, 100, 8, 5, 8, 100]\n",
      "waiting time at dining_room [0, None, 0, 0, 0, None, None, None, 0, 0]\n",
      "processing time at dining_room [27, None, 29, 22, 21, None, None, None, 26, 27]\n",
      "total waiting_time for entities that ate fish: [0, 7]\n",
      "processing time at dining_room for entities that ate burgers [None, 29, 22, None]\n",
      "total time for entities that ate salad [35, 32, 8, 34]\n",
      "total processing_time at kitchen for entities that were TakeOutCustomers that ate burgers [5, 5]\n",
      "total processing_time at dining_room for entities that were DineInCustomers that ate burgers [29, 22]\n"
     ]
    }
   ],
   "source": [
    "# extract summary statistics from the Stats class\n",
    "system_time = Stats.get_total_times()\n",
    "print(\"total_time:\", Stats.get_total_times())\n",
    "print(\"waiting_time:\", Stats.get_waiting_times())\n",
    "print(\"processing_time:\", Stats.get_processing_times())\n",
    "\n",
    "print(\"waiting time at kitchen\", Stats.get_waiting_times(kitchen))\n",
    "print(\"processing time at kitchen\", Stats.get_processing_times(kitchen))\n",
    "\n",
    "print(\"waiting time at dining_room\", Stats.get_waiting_times(dining_room))\n",
    "print(\"processing time at dining_room\", Stats.get_processing_times(dining_room))\n",
    "\n",
    "# It's also possible to filter by entity types or attributes.\n",
    "print(\"total waiting_time for entities that ate fish:\", Stats.get_waiting_times(attributes={\"food\": \"Fish\"}))\n",
    "print(\"processing time at dining_room for entities that ate burgers\", Stats.get_processing_times(resource=dining_room, attributes={\"food\": \"Burger\"}))\n",
    "print(\"total time for entities that ate salad\", Stats.get_total_times(attributes={\"food\": \"Salad\"}))\n",
    "\n",
    "# you can additionally filter by the type of the entity\n",
    "print(\"total processing_time at kitchen for entities that were TakeOutCustomers that ate burgers\", Stats.get_processing_times(resource=kitchen, attributes={\"food\": \"Burger\", \"type\": TakeOutCustomer}))\n",
    "print(\"total processing_time at dining_room for entities that were DineInCustomers that ate burgers\", Stats.get_processing_times(resource=dining_room, attributes={\"food\": \"Burger\", \"type\": DineInCustomer}))"
   ]
  },
  {
   "cell_type": "code",
   "execution_count": 12,
   "metadata": {},
   "outputs": [
    {
     "name": "stdout",
     "output_type": "stream",
     "text": [
      "total_time: [35, 5, 34, 30, 32, 100, 8, 5, 34, 134]\n",
      "waiting_time: [0, 0, 0, 3, 3, 0, 0, 0, 0, 7]\n",
      "total_time: [35, 5, 34, 30, 32, 100, 8, 5, 34, 134]\n",
      "waiting time at kitchen [0, 0, 0, 3, 3, 0, 0, 0, 0, 7]\n",
      "waiting time at dining_room [0, None, 0, 0, 0, None, None, None, 0, 0]\n"
     ]
    }
   ],
   "source": [
    "# testing that the get_entities function works\n",
    "\n",
    "entities = Stats.get_entities()\n",
    "print(\"total_time:\", [entity.get_total_time() for entity in entities])\n",
    "print(\"waiting_time:\", [entity.get_total_waiting_time() for entity in entities])\n",
    "print(\"total_time:\", [entity.get_total_time() for entity in entities])\n",
    "\n",
    "print(\"waiting time at kitchen\", [entity.get_waiting_time_for_resource(kitchen) for entity in entities])\n",
    "print(\"waiting time at dining_room\", [entity.get_waiting_time_for_resource(dining_room) for entity in entities])\n"
   ]
  },
  {
   "cell_type": "code",
   "execution_count": 37,
   "metadata": {},
   "outputs": [
    {
     "data": {
      "image/png": "[encoded data removed]",
      "text/plain": [
       "<Figure size 432x288 with 1 Axes>"
      ]
     },
     "metadata": {
      "needs_background": "light"
     },
     "output_type": "display_data"
    }
   ],
   "source": [
    "plt.hist(system_time,bins=5)\n",
    "# you can customize the exact tick marks on an axis\n",
    "plt.yticks(range(0,3))\n",
    "plt.ylabel('Frequency');\n",
    "plt.xlabel('Time in System');"
   ]
  },
  {
   "cell_type": "code",
   "execution_count": 38,
   "metadata": {},
   "outputs": [
    {
     "name": "stdout",
     "output_type": "stream",
     "text": [
      "Average number in queue: 0.06666666666666667\n",
      "Max in queue: 2\n"
     ]
    },
    {
     "data": {
      "image/png": "[encoded data removed]",
      "text/plain": [
       "<Figure size 432x288 with 1 Axes>"
      ]
     },
     "metadata": {
      "needs_background": "light"
     },
     "output_type": "display_data"
    }
   ],
   "source": [
    "\"\"\"\n",
    "Histogram of queue over time\n",
    "\"\"\"\n",
    "plt.hist(queue_over_time_kitchen)\n",
    "print(f\"Average number in queue: {np.mean(queue_over_time_kitchen)}\")\n",
    "print(f\"Max in queue: {np.max(queue_over_time_kitchen)}\")"
   ]
  },
  {
   "cell_type": "code",
   "execution_count": 39,
   "metadata": {},
   "outputs": [
    {
     "name": "stdout",
     "output_type": "stream",
     "text": [
      "Average number in queue: 0.0\n",
      "Max in queue: 0\n"
     ]
    },
    {
     "data": {
      "image/png": "[encoded data removed]",
      "text/plain": [
       "<Figure size 432x288 with 1 Axes>"
      ]
     },
     "metadata": {
      "needs_background": "light"
     },
     "output_type": "display_data"
    }
   ],
   "source": [
    "plt.hist(queue_over_time_dining_room)\n",
    "print(f\"Average number in queue: {np.mean(queue_over_time_dining_room)}\")\n",
    "print(f\"Max in queue: {np.max(queue_over_time_dining_room)}\")"
   ]
  },
  {
   "cell_type": "code",
   "execution_count": 40,
   "metadata": {},
   "outputs": [
    {
     "name": "stdout",
     "output_type": "stream",
     "text": [
      "max system time 134\n",
      "50th percentile time 33.0\n",
      "std system time 40.17723235863814\n"
     ]
    }
   ],
   "source": [
    "print(f\"max system time {np.max(system_time)}\")\n",
    "# 50th percentile, or median\n",
    "print(f\"50th percentile time {np.percentile(system_time,50)}\")\n",
    "print(f\"std system time {np.std(system_time)}\")"
   ]
  },
  {
   "cell_type": "markdown",
   "metadata": {},
   "source": [
    "## What next? \n",
    "\n",
    "Adjust capacities at each resource and see how the summary statistics change.\n",
    "- how many chefs do you need in the kitchen to ensure 0 wait times with the current interarrival function? \n",
    "- What if we expanded our dining room... How big would we need to make the average wait time for a seat to be under 10 minutes? \n",
    "\n",
    "Could also adjust interarrival times / resource service times to see how that impacts\n",
    "- What if we retrained chefs to cook fish 5 seconds faster... would that impact wait times? \n",
    "- What if we get a huge rush at night and interarrival time spikes to 1 minute. How bad would wait times get? \n",
    "- How to implement reneging customers? "
   ]
  },
  {
   "cell_type": "code",
   "execution_count": null,
   "metadata": {},
   "outputs": [],
   "source": []
  },
  {
   "cell_type": "code",
   "execution_count": null,
   "metadata": {},
   "outputs": [],
   "source": []
  },
  {
   "cell_type": "code",
   "execution_count": null,
   "metadata": {},
   "outputs": [],
   "source": []
  }
 ],
 "metadata": {
  "kernelspec": {
   "display_name": "Python 3",
   "language": "python",
   "name": "python3"
  },
  "language_info": {
   "codemirror_mode": {
    "name": "ipython",
    "version": 3
   },
   "file_extension": ".py",
   "mimetype": "text/x-python",
   "name": "python",
   "nbconvert_exporter": "python",
   "pygments_lexer": "ipython3",
   "version": "3.7.4"
  }
 },
 "nbformat": 4,
 "nbformat_minor": 4
}
