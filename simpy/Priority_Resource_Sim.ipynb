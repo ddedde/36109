{
 "cells": [
  {
   "cell_type": "code",
   "execution_count": 1,
   "metadata": {},
   "outputs": [],
   "source": [
    "import simpy\n",
    "import numpy as np\n",
    "import functools\n",
    "import matplotlib.pyplot as plt\n",
    "from Stats import Entity, Resource, Source"
   ]
  },
  {
   "cell_type": "markdown",
   "metadata": {},
   "source": [
    "## Things that Changed: \n",
    "\n",
    "1. Got rid of `__init__(*args, **kwargs)` in constructors for all classes\n",
    "2. Hid the gross \"process\" function in the `Source` class. Now to start simulation you call source.start(resources)\n",
    "3. Passing resources to entity.process as a dictionary of resources. This was necessary for hiding the gross process function from #2 above.\n",
    "4. All resources are now priority resources. Students can define a priority as a static `priority` variable in an entity class, or they can define a priority attribute for the entity on construction. If no priority is defined in either of those places, a default priority of 0 is used.\n",
    "5. No longer need to define a unique name when constructing entities. Entities are named `{EntityClassName} {counter}` by default, where counter starts at 1 and increments for every entity produced by the source. So for the examples below, entities will be named `Customer 1` `Customer 2` by default.\n",
    "6. Entities now no longer need kwargs to define their attributes on construction. They now accept an \"attributes\" dictionary. If no attributes dictionary is provided, an empty dictionary will be supplied automatically.\n",
    "7. You can pass a resource to the `source.get_waiting_times()` and `source.get_processing_times` functions to get the waiting / processing times for each entity at that resource. If the entity did not visit that resource, the resulting array will contain a `None` value for that entity.\n",
    "8. You now need to remember to call self.dispose() at the end of the entity's process function."
   ]
  },
  {
   "cell_type": "markdown",
   "metadata": {},
   "source": [
    "## Description of problem: \n",
    "\n",
    "We are going to model a restaurant.\n",
    "\n",
    "Customers can be either take out or dine in customers\n",
    "\n",
    "Take out customers will have higher priority, since they are in a hurry.\n",
    "\n",
    "Customers start by ordering, which is passed to the kitchen.\n",
    "The Kitchen is described as follows: \n",
    " - 2 cooks\n",
    " - 3 things to order:\n",
    "   - fish -- 15 mins to prepare\n",
    "   - burger -- 5 mins to prepare\n",
    "   - salad -- 8 mins to prepare\n",
    "   \n",
    "Then must wait for a seat\n",
    "- people will sit for between 20-30 minutes. \n",
    "- Capacity: 4\n",
    "- Assume all attendees are dining alone (no need to worry about specific party capacity, or matching to tables).\n"
   ]
  },
  {
   "cell_type": "code",
   "execution_count": 12,
   "metadata": {},
   "outputs": [],
   "source": [
    "# Our Kitchen class subclasses PriorityResource. We give it a unique name of \"kitchen\"\n",
    "class Kitchen(Resource):\n",
    "    def next_service_time(self, entity):\n",
    "        \"\"\"\n",
    "        Defines preparation time for each dish\n",
    "        Since we can pass the entity being processed to next_service_time when we call it, \n",
    "        we can react to the requirements of the entity (e.g. fish takes longer to prepare)\n",
    "        \"\"\"\n",
    "        if entity.attributes[\"food\"] == \"Fish\":\n",
    "            return 100\n",
    "        elif entity.attributes[\"food\"] == \"Burger\":\n",
    "            return 5\n",
    "        elif entity.attributes[\"food\"] == \"Salad\":\n",
    "            return 8\n",
    "        else:\n",
    "            raise Exception(\"Restaurant does not serve this kind of food\")\n",
    "        \n",
    "\n",
    "# Our DiningRoom class subclasses Resource. We give it a unique name of \"DiningRoom\"\n",
    "class DiningRoom(Resource):\n",
    "    def next_service_time(self, entity):\n",
    "        \"\"\"\n",
    "        random integer of time between 20 and 30 minutes per problem specification\n",
    "        \"\"\"\n",
    "        return np.random.randint(20, 30) # 20 to 30 minute seating per entity\n",
    "\n"
   ]
  },
  {
   "cell_type": "code",
   "execution_count": 13,
   "metadata": {},
   "outputs": [],
   "source": [
    "# entities are in charge of the order in which interactions with resources occur\n",
    "class DineInCustomer(Entity):\n",
    "    \n",
    "    priority = 1\n",
    "    \n",
    "    # template method for all of the resources it needs to interact with\n",
    "    def process(self, kitchen, dining_room):\n",
    "        \n",
    "        # interface with kitchen\n",
    "        request = self.request_resource(kitchen)\n",
    "        yield request\n",
    "        \n",
    "        self.start_service_at_resource(kitchen)\n",
    "        cook_time = kitchen.next_service_time(self) # next_service_time is defined in kitchen\n",
    "        yield self.env.timeout(cook_time)\n",
    "        \n",
    "        self.release_resource(kitchen, request)\n",
    "        \n",
    "        # interface with dining_room\n",
    "        request = self.request_resource(dining_room)\n",
    "        yield request\n",
    "        \n",
    "        self.start_service_at_resource(dining_room)\n",
    "        seat_time = dining_room.next_service_time(self) # next_service_time is defined in dining_room\n",
    "        yield self.env.timeout(seat_time)\n",
    "        \n",
    "        self.release_resource(dining_room, request)\n",
    "\n",
    "class TakeOutCustomer(Entity):\n",
    "    \n",
    "    priority = 0\n",
    "    \n",
    "    # template method for all of the resources it needs to interact with\n",
    "    def process(self, kitchen, dining_room):\n",
    "        \n",
    "        # interface with kitchen\n",
    "        request = self.request_resource(kitchen)\n",
    "        yield request\n",
    "        \n",
    "        self.start_service_at_resource(kitchen)\n",
    "        cook_time = kitchen.next_service_time(self) # next_service_time is defined in kitchen\n",
    "        yield self.env.timeout(cook_time)\n",
    "        \n",
    "        self.release_resource(kitchen, request)\n",
    "        \n",
    "        # take out does not need to go to the dining room"
   ]
  },
  {
   "cell_type": "code",
   "execution_count": 14,
   "metadata": {},
   "outputs": [],
   "source": [
    "# The source is what contains the interarrival time definition, and rules for constructing entities \n",
    "# with various attribute sets.\n",
    "class CustomerSource(Source):\n",
    "    def interarrival_time_generator(self):\n",
    "        while True:\n",
    "            yield np.random.choice([1,10,15,20], p=[0.5, 0.2, 0.2, 0.1])\n",
    "    \n",
    "    def sample_from_foods(self):\n",
    "        return np.random.choice([\"Fish\", \"Burger\", \"Salad\"], p=[0.1,0.7,0.2])\n",
    "    \n",
    "    def is_dine_in(self):\n",
    "        # returns true if the customer is dine in with a 65% likelihood\n",
    "        return np.random.random() > 0.50\n",
    "    \n",
    "    def build_entity(self):\n",
    "        attributes = {\n",
    "            \"food\": self.sample_from_foods()\n",
    "        }\n",
    "        if self.is_dine_in():\n",
    "            return DineInCustomer(env, attributes)\n",
    "         \n",
    "        return TakeOutCustomer(env, attributes)"
   ]
  },
  {
   "cell_type": "code",
   "execution_count": 15,
   "metadata": {},
   "outputs": [],
   "source": [
    "def process(env, customer_source, kitchen, dining_room):\n",
    "    \"\"\" Generate arrivals into our simulation\n",
    "    \n",
    "    Arguments:   \n",
    "     env:  Our simulation environment\n",
    "     source: the source of entities for our simulation\n",
    "     resource: Shared resource\n",
    "    \"\"\"\n",
    "    \n",
    "    def dispose(entity):\n",
    "        return lambda _: entity.dispose()\n",
    "    \n",
    "    # consider turning customer_source into an iterator to call next on it.\n",
    "    for arrival_time, customer in customer_source.next_entity(): \n",
    "        yield arrival_time # wait for the next entity to appear\n",
    "        print(f\"{customer}\")\n",
    "        processed_entity = env.process(customer.process(kitchen, dining_room))\n",
    "        processed_entity.callbacks.append(dispose(customer))\n"
   ]
  },
  {
   "cell_type": "code",
   "execution_count": 16,
   "metadata": {},
   "outputs": [],
   "source": [
    "# Create simulation environment\n",
    "env = simpy.Environment()\n",
    "\n",
    "# Configure source to generate fixed number of entities\n",
    "source = CustomerSource(env, number=10)\n",
    "\n",
    "# Configure DiningRoom to have space for 4 diners\n",
    "dining_room = DiningRoom(env,  capacity=4)\n",
    "\n",
    "# Configure Kitchen to have 2 chefs\n",
    "kitchen = Kitchen(env, capacity=2)\n",
    "\n",
    "# Aside: if students want to tune various parameters of the simulation, they could configure each component\n",
    "#        of the simulation here, then loop over the construction of each with different combinations of parameters"
   ]
  },
  {
   "cell_type": "code",
   "execution_count": 17,
   "metadata": {},
   "outputs": [
    {
     "name": "stdout",
     "output_type": "stream",
     "text": [
      "TakeOutCustomer 1 created_at: 15 attributes: {'food': 'Salad', 'priority': 0}\n",
      "TakeOutCustomer 1 requesting Kitchen: 15\n",
      "TakeOutCustomer 1 started processing at Kitchen : 15\n",
      "TakeOutCustomer 1 finished at Kitchen: 23\n",
      "TakeOutCustomer 1 disposed: 23\n",
      "DineInCustomer 2 created_at: 25 attributes: {'food': 'Fish', 'priority': 1}\n",
      "DineInCustomer 2 requesting Kitchen: 25\n",
      "DineInCustomer 2 started processing at Kitchen : 25\n",
      "TakeOutCustomer 3 created_at: 26 attributes: {'food': 'Burger', 'priority': 0}\n",
      "TakeOutCustomer 3 requesting Kitchen: 26\n",
      "TakeOutCustomer 3 started processing at Kitchen : 26\n",
      "TakeOutCustomer 3 finished at Kitchen: 31\n",
      "TakeOutCustomer 3 disposed: 31\n",
      "DineInCustomer 4 created_at: 41 attributes: {'food': 'Burger', 'priority': 1}\n",
      "DineInCustomer 4 requesting Kitchen: 41\n",
      "DineInCustomer 4 started processing at Kitchen : 41\n",
      "DineInCustomer 5 created_at: 42 attributes: {'food': 'Salad', 'priority': 1}\n",
      "DineInCustomer 5 requesting Kitchen: 42\n",
      "DineInCustomer 6 created_at: 43 attributes: {'food': 'Burger', 'priority': 1}\n",
      "DineInCustomer 6 requesting Kitchen: 43\n",
      "TakeOutCustomer 7 created_at: 44 attributes: {'food': 'Burger', 'priority': 0}\n",
      "TakeOutCustomer 7 requesting Kitchen: 44\n",
      "DineInCustomer 8 created_at: 45 attributes: {'food': 'Burger', 'priority': 1}\n",
      "DineInCustomer 8 requesting Kitchen: 45\n",
      "DineInCustomer 4 finished at Kitchen: 46\n",
      "DineInCustomer 4 requesting DiningRoom: 46\n",
      "DineInCustomer 9 created_at: 46 attributes: {'food': 'Salad', 'priority': 1}\n",
      "DineInCustomer 9 requesting Kitchen: 46\n",
      "DineInCustomer 4 started processing at DiningRoom : 46\n",
      "TakeOutCustomer 7 started processing at Kitchen : 46\n",
      "TakeOutCustomer 7 finished at Kitchen: 51\n",
      "TakeOutCustomer 7 disposed: 51\n",
      "DineInCustomer 5 started processing at Kitchen : 51\n",
      "DineInCustomer 5 finished at Kitchen: 59\n",
      "DineInCustomer 5 requesting DiningRoom: 59\n",
      "DineInCustomer 5 started processing at DiningRoom : 59\n",
      "DineInCustomer 6 started processing at Kitchen : 59\n",
      "DineInCustomer 10 created_at: 61 attributes: {'food': 'Burger', 'priority': 1}\n",
      "DineInCustomer 10 requesting Kitchen: 61\n",
      "DineInCustomer 6 finished at Kitchen: 64\n",
      "DineInCustomer 6 requesting DiningRoom: 64\n",
      "DineInCustomer 6 started processing at DiningRoom : 64\n",
      "DineInCustomer 8 started processing at Kitchen : 64\n",
      "DineInCustomer 4 finished at DiningRoom: 66\n",
      "DineInCustomer 4 disposed: 66\n",
      "DineInCustomer 8 finished at Kitchen: 69\n",
      "DineInCustomer 8 requesting DiningRoom: 69\n",
      "DineInCustomer 8 started processing at DiningRoom : 69\n",
      "DineInCustomer 9 started processing at Kitchen : 69\n",
      "DineInCustomer 9 finished at Kitchen: 77\n",
      "DineInCustomer 9 requesting DiningRoom: 77\n",
      "DineInCustomer 9 started processing at DiningRoom : 77\n",
      "DineInCustomer 10 started processing at Kitchen : 77\n",
      "DineInCustomer 10 finished at Kitchen: 82\n",
      "DineInCustomer 10 requesting DiningRoom: 82\n",
      "DineInCustomer 5 finished at DiningRoom: 85\n",
      "DineInCustomer 5 disposed: 85\n",
      "DineInCustomer 10 started processing at DiningRoom : 85\n",
      "DineInCustomer 6 finished at DiningRoom: 89\n",
      "DineInCustomer 6 disposed: 89\n",
      "DineInCustomer 8 finished at DiningRoom: 98\n",
      "DineInCustomer 8 disposed: 98\n",
      "DineInCustomer 9 finished at DiningRoom: 106\n",
      "DineInCustomer 9 disposed: 106\n",
      "DineInCustomer 10 finished at DiningRoom: 110\n",
      "DineInCustomer 10 disposed: 110\n",
      "DineInCustomer 2 finished at Kitchen: 125\n",
      "DineInCustomer 2 requesting DiningRoom: 125\n",
      "DineInCustomer 2 started processing at DiningRoom : 125\n",
      "DineInCustomer 2 finished at DiningRoom: 150\n",
      "DineInCustomer 2 disposed: 150\n"
     ]
    }
   ],
   "source": [
    "env.process(process(env, source, kitchen, dining_room))\n",
    "env.run()"
   ]
  },
  {
   "cell_type": "markdown",
   "metadata": {},
   "source": [
    "## Step 7: Extract Summary Statistics from Source / Resource\n",
    "\n",
    "Source provides methods that calculate summary statistics about the entities while they were in the system. \n",
    "\n",
    "Resource provides methods to see what the queue was like at each resource over time.\n",
    "\n",
    "See the following code blocks for some plots and calculations made with the summary stats."
   ]
  },
  {
   "cell_type": "code",
   "execution_count": 21,
   "metadata": {},
   "outputs": [
    {
     "name": "stdout",
     "output_type": "stream",
     "text": [
      "total_time: [8, 125, 5, 25, 43, 46, 7, 53, 60, 49]\n",
      "waiting_time: [0, 0, 0, 0, 9, 16, 2, 19, 23, 19]\n",
      "processing_time: [8, 125, 5, 25, 34, 30, 5, 34, 37, 30]\n",
      "150\n",
      "[0, 0, 0, 0, 0, 0, 0, 0, 0, 0, 0, 0, 0, 0, 0, 0, 0, 0, 0, 0, 0, 0, 0, 0, 0, 0, 0, 0, 0, 0, 0, 0, 0, 0, 0, 0, 0, 0, 0, 0, 0, 0, 1, 2, 3, 4, 4, 4, 4, 4, 4, 3, 3, 3, 3, 3, 3, 3, 3, 2, 2, 3, 3, 3, 2, 2, 2, 2, 2, 1, 1, 1, 1, 1, 1, 1, 1, 0, 0, 0, 0, 0, 0, 0, 0, 0, 0, 0, 0, 0, 0, 0, 0, 0, 0, 0, 0, 0, 0, 0, 0, 0, 0, 0, 0, 0, 0, 0, 0, 0, 0, 0, 0, 0, 0, 0, 0, 0, 0, 0, 0, 0, 0, 0, 0, 0, 0, 0, 0, 0, 0, 0, 0, 0, 0, 0, 0, 0, 0, 0, 0, 0, 0, 0, 0, 0, 0, 0, 0, 0]\n",
      "[0, 0, 0, 0, 0, 0, 0, 0, 0, 0, 0, 0, 0, 0, 0, 0, 0, 0, 0, 0, 0, 0, 0, 0, 0, 0, 0, 0, 0, 0, 0, 0, 0, 0, 0, 0, 0, 0, 0, 0, 0, 0, 0, 0, 0, 0, 0, 0, 0, 0, 0, 0, 0, 0, 0, 0, 0, 0, 0, 0, 0, 0, 0, 0, 0, 0, 0, 0, 0, 0, 0, 0, 0, 0, 0, 0, 0, 0, 0, 0, 0, 0, 1, 1, 1, 0, 0, 0, 0, 0, 0, 0, 0, 0, 0, 0, 0, 0, 0, 0, 0, 0, 0, 0, 0, 0, 0, 0, 0, 0, 0, 0, 0, 0, 0, 0, 0, 0, 0, 0, 0, 0, 0, 0, 0, 0, 0, 0, 0, 0, 0, 0, 0, 0, 0, 0, 0, 0, 0, 0, 0, 0, 0, 0, 0, 0, 0, 0, 0, 0]\n",
      "waiting time at kitchen [0, 0, 0, 0, 9, 16, 2, 19, 23, 16]\n",
      "processing time at kitchen [8, 100, 5, 5, 8, 5, 5, 5, 8, 5]\n",
      "waiting time at dining_room [None, 0, None, 0, 0, 0, None, 0, 0, 3]\n",
      "processing time at dining_room [None, 25, None, 20, 26, 25, None, 29, 29, 25]\n"
     ]
    }
   ],
   "source": [
    "system_time = source.get_total_times()\n",
    "print(\"total_time:\", source.get_total_times())\n",
    "print(\"waiting_time:\", source.get_waiting_times())\n",
    "print(\"processing_time:\", source.get_processing_times())\n",
    "\n",
    "print(int(env.now))\n",
    "\n",
    "queue_over_time_kitchen = kitchen.queue_size_over_time() # sample queue length\n",
    "print(queue_over_time_kitchen)\n",
    "\n",
    "\n",
    "queue_over_time_dining_room = dining_room.queue_size_over_time() # sample queue length\n",
    "print(queue_over_time_dining_room)\n",
    "\n",
    "print(\"waiting time at kitchen\", source.get_waiting_times(kitchen))\n",
    "print(\"processing time at kitchen\", source.get_processing_times(kitchen))\n",
    "\n",
    "print(\"waiting time at dining_room\", source.get_waiting_times(dining_room))\n",
    "print(\"processing time at dining_room\", source.get_processing_times(dining_room))"
   ]
  },
  {
   "cell_type": "code",
   "execution_count": 22,
   "metadata": {},
   "outputs": [
    {
     "data": {
      "image/png": "[encoded data removed]",
      "text/plain": [
       "<Figure size 432x288 with 1 Axes>"
      ]
     },
     "metadata": {
      "needs_background": "light"
     },
     "output_type": "display_data"
    }
   ],
   "source": [
    "plt.hist(system_time,bins=5)\n",
    "# you can customize the exact tick marks on an axis\n",
    "plt.yticks(range(0,3))\n",
    "plt.ylabel('Frequency');\n",
    "plt.xlabel('Time in System');"
   ]
  },
  {
   "cell_type": "code",
   "execution_count": 23,
   "metadata": {},
   "outputs": [
    {
     "name": "stdout",
     "output_type": "stream",
     "text": [
      "Average number in queue: 0.5666666666666667\n",
      "Max in queue: 4\n"
     ]
    },
    {
     "data": {
      "image/png": "[encoded data removed]",
      "text/plain": [
       "<Figure size 432x288 with 1 Axes>"
      ]
     },
     "metadata": {
      "needs_background": "light"
     },
     "output_type": "display_data"
    }
   ],
   "source": [
    "\"\"\"\n",
    "Histogram of queue over time\n",
    "\"\"\"\n",
    "plt.hist(queue_over_time_kitchen)\n",
    "print(f\"Average number in queue: {np.mean(queue_over_time_kitchen)}\")\n",
    "print(f\"Max in queue: {np.max(queue_over_time_kitchen)}\")"
   ]
  },
  {
   "cell_type": "code",
   "execution_count": 24,
   "metadata": {},
   "outputs": [
    {
     "name": "stdout",
     "output_type": "stream",
     "text": [
      "Average number in queue: 0.02\n",
      "Max in queue: 1\n"
     ]
    },
    {
     "data": {
      "image/png": "[encoded data removed]",
      "text/plain": [
       "<Figure size 432x288 with 1 Axes>"
      ]
     },
     "metadata": {
      "needs_background": "light"
     },
     "output_type": "display_data"
    }
   ],
   "source": [
    "plt.hist(queue_over_time_dining_room)\n",
    "print(f\"Average number in queue: {np.mean(queue_over_time_dining_room)}\")\n",
    "print(f\"Max in queue: {np.max(queue_over_time_dining_room)}\")"
   ]
  },
  {
   "cell_type": "code",
   "execution_count": 25,
   "metadata": {},
   "outputs": [
    {
     "name": "stdout",
     "output_type": "stream",
     "text": [
      "max system time 125\n",
      "50th percentile time 44.5\n",
      "std system time 33.82144290239552\n"
     ]
    }
   ],
   "source": [
    "print(f\"max system time {np.max(system_time)}\")\n",
    "# 50th percentile, or median\n",
    "print(f\"50th percentile time {np.percentile(system_time,50)}\")\n",
    "print(f\"std system time {np.std(system_time)}\")"
   ]
  },
  {
   "cell_type": "markdown",
   "metadata": {},
   "source": [
    "## What next? \n",
    "\n",
    "Adjust capacities at each resource and see how the summary statistics change.\n",
    "- how many chefs do you need in the kitchen to ensure 0 wait times with the current interarrival function? \n",
    "- What if we expanded our dining room... How big would we need to make the average wait time for a seat to be under 10 minutes? \n",
    "\n",
    "Could also adjust interarrival times / resource service times to see how that impacts\n",
    "- What if we retrained chefs to cook fish 5 seconds faster... would that impact wait times? \n",
    "- What if we get a huge rush at night and interarrival time spikes to 1 minute. How bad would wait times get? \n",
    "- How to implement reneging customers? "
   ]
  },
  {
   "cell_type": "code",
   "execution_count": null,
   "metadata": {},
   "outputs": [],
   "source": []
  }
 ],
 "metadata": {
  "kernelspec": {
   "display_name": "Python 3",
   "language": "python",
   "name": "python3"
  },
  "language_info": {
   "codemirror_mode": {
    "name": "ipython",
    "version": 3
   },
   "file_extension": ".py",
   "mimetype": "text/x-python",
   "name": "python",
   "nbconvert_exporter": "python",
   "pygments_lexer": "ipython3",
   "version": "3.7.4"
  }
 },
 "nbformat": 4,
 "nbformat_minor": 4
}
