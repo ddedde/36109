{
 "cells": [
  {
   "cell_type": "markdown",
   "metadata": {},
   "source": [
    "##  Discrete Event Simulation\n",
    "\n",
    "###  Bus 36109 \"Advanced Decision Modeling with Python\", Don Eisenstein\n",
    "Don Eisenstein &copy; Copyright 2020, University of Chicago \n",
    "\n",
    "---\n",
    "### The building blocks for a simulation\n",
    "- We write a function that loops forever (unless we do something), what is called an `infinte loop`\n",
    "- Within each loop we put holds or places to pause, with a `yield` statement\n",
    "- We tell our loop to continue with the python `next` statement\n",
    "- These `yield`'s will form the basis of a simulation, holding an entity certain amount of simulated time before moving on to a new state"
   ]
  },
  {
   "cell_type": "code",
   "execution_count": 6,
   "metadata": {},
   "outputs": [],
   "source": [
    "def loop_thru_states():\n",
    "    # an infinte loop\n",
    "    while True: \n",
    "      print('We are in state 1');\n",
    "      # halt here and return\n",
    "      yield \n",
    "\n",
    "      print('We are in state 2');\n",
    "      # halt here and return\n",
    "      yield \n",
    "\n",
    "      print('We are in state 3');\n",
    "      # halt here and return\n",
    "      yield "
   ]
  },
  {
   "cell_type": "code",
   "execution_count": 7,
   "metadata": {},
   "outputs": [],
   "source": [
    "# We make a \"copy\" of the function `loop_thru_states`\n",
    "my_loop=loop_thru_states();"
   ]
  },
  {
   "cell_type": "code",
   "execution_count": 8,
   "metadata": {},
   "outputs": [
    {
     "name": "stdout",
     "output_type": "stream",
     "text": [
      "We are in state 1\n"
     ]
    }
   ],
   "source": [
    "# Proceed thru the `my_loop` copy of `loop_thru_states`\n",
    "next(my_loop);"
   ]
  },
  {
   "cell_type": "code",
   "execution_count": 9,
   "metadata": {},
   "outputs": [
    {
     "name": "stdout",
     "output_type": "stream",
     "text": [
      "We are in state 2\n"
     ]
    }
   ],
   "source": [
    "next(my_loop);"
   ]
  },
  {
   "cell_type": "code",
   "execution_count": 10,
   "metadata": {},
   "outputs": [
    {
     "name": "stdout",
     "output_type": "stream",
     "text": [
      "We are in state 3\n"
     ]
    }
   ],
   "source": [
    "next(my_loop);"
   ]
  },
  {
   "cell_type": "code",
   "execution_count": 11,
   "metadata": {},
   "outputs": [
    {
     "name": "stdout",
     "output_type": "stream",
     "text": [
      "We are in state 1\n"
     ]
    }
   ],
   "source": [
    "next(my_loop);"
   ]
  },
  {
   "cell_type": "code",
   "execution_count": 12,
   "metadata": {},
   "outputs": [
    {
     "name": "stdout",
     "output_type": "stream",
     "text": [
      "We are in state 2\n"
     ]
    }
   ],
   "source": [
    "next(my_loop);"
   ]
  },
  {
   "cell_type": "markdown",
   "metadata": {},
   "source": [
    "### More than one entity looping!"
   ]
  },
  {
   "cell_type": "code",
   "execution_count": 13,
   "metadata": {},
   "outputs": [],
   "source": [
    "# We now have two INDEPENDENT copies!\n",
    "entity_1 = loop_thru_states();\n",
    "entity_2 = loop_thru_states();"
   ]
  },
  {
   "cell_type": "code",
   "execution_count": 14,
   "metadata": {},
   "outputs": [
    {
     "name": "stdout",
     "output_type": "stream",
     "text": [
      "We are in state 1\n"
     ]
    }
   ],
   "source": [
    "next(entity_1)"
   ]
  },
  {
   "cell_type": "code",
   "execution_count": 15,
   "metadata": {},
   "outputs": [
    {
     "name": "stdout",
     "output_type": "stream",
     "text": [
      "We are in state 2\n"
     ]
    }
   ],
   "source": [
    "next(entity_1)"
   ]
  },
  {
   "cell_type": "code",
   "execution_count": 16,
   "metadata": {},
   "outputs": [
    {
     "name": "stdout",
     "output_type": "stream",
     "text": [
      "We are in state 1\n"
     ]
    }
   ],
   "source": [
    "next(entity_2)"
   ]
  },
  {
   "cell_type": "markdown",
   "metadata": {},
   "source": [
    "### The SimPy package \n",
    "- SimPy takes care of lots of tedious bookkeeping for us.\n",
    "- For example, it keeps an internal simulation time clock, and allows us to `yield` a certain amount of time according to this clock.  \n",
    "- That is, SimPy will execute the `next` statement for us when it is \"time\" to do so, moving us to the next state of the simulation\n",
    "- And SimPy will allow us to simply define an end-time, to exit our infinite loop\n",
    "- And will easily allow multiple entities to run through at the same time, and compete and wait for shared resources\n",
    "- And finally, since your simulation is written in Python, you have powerful access to all of Python --- for example running an optimization on a simulated scenario!\n",
    "- Here is our simple 3-state system rewritten in SimPy"
   ]
  },
  {
   "cell_type": "code",
   "execution_count": 2,
   "metadata": {},
   "outputs": [
    {
     "name": "stdout",
     "output_type": "stream",
     "text": [
      "Collecting simpy\n",
      "  Downloading https://files.pythonhosted.org/packages/22/f7/6eeb75eddd6e64a31f7f8b406a1a1e0d9e85622fc162399f3f84eb4c9a05/simpy-3.0.13-py2.py3-none-any.whl\n",
      "Installing collected packages: simpy\n",
      "Successfully installed simpy-3.0.13\n"
     ]
    }
   ],
   "source": [
    "# Uncomment the following line and execute this cell if you are on a local machine and have not installed simpy\n",
    "\n",
    "! pip install simpy"
   ]
  },
  {
   "cell_type": "code",
   "execution_count": 3,
   "metadata": {},
   "outputs": [],
   "source": [
    "import simpy"
   ]
  },
  {
   "cell_type": "code",
   "execution_count": 2,
   "metadata": {},
   "outputs": [],
   "source": [
    "class Driver(object):\n",
    "    def __init__(self, env):\n",
    "        # Store the simulation environment\n",
    "        self.env = env\n",
    "        # Start the process everytime an instance is created.\n",
    "        # We need to tell SimPy which function to process and yield through\n",
    "        env.process(self.drive())\n",
    "\n",
    "    def drive(self):\n",
    "        while True:\n",
    "            print('Drive customer at %d' % self.env.now)\n",
    "            # We yield for driver to complete trip\n",
    "            trip_duration = 20 \n",
    "            yield self.env.timeout(trip_duration)\n",
    "\n",
    "            # The trip process has finished \n",
    "            print('Trip completed at %d' % self.env.now)\n",
    "                \n",
    "            # Now spend time until next ride \n",
    "            time_until_next_ride = 10\n",
    "            yield self.env.timeout(time_until_next_ride)\n"
   ]
  },
  {
   "cell_type": "markdown",
   "metadata": {},
   "source": [
    "#### Every SimPy simulation begins by setting up a simulation environment, we name this one `env`"
   ]
  },
  {
   "cell_type": "code",
   "execution_count": 3,
   "metadata": {},
   "outputs": [],
   "source": [
    "env = simpy.Environment()"
   ]
  },
  {
   "cell_type": "markdown",
   "metadata": {},
   "source": [
    "#### We now set up an entity to run through our Simulation.  We use the method `process` to set up this entity and tell it to begin in the function `my_simpy_loop` when the simulation begins"
   ]
  },
  {
   "cell_type": "code",
   "execution_count": 4,
   "metadata": {},
   "outputs": [],
   "source": [
    "driver1 = Driver(env)\n",
    "driver2 = Driver(env)"
   ]
  },
  {
   "cell_type": "markdown",
   "metadata": {},
   "source": [
    "#### Now begin the simulation, and tell it to run for 20 time units"
   ]
  },
  {
   "cell_type": "code",
   "execution_count": 5,
   "metadata": {},
   "outputs": [
    {
     "name": "stdout",
     "output_type": "stream",
     "text": [
      "Drive customer at 0\n",
      "Drive customer at 0\n",
      "Trip completed at 20\n",
      "Trip completed at 20\n",
      "Drive customer at 30\n",
      "Drive customer at 30\n",
      "Trip completed at 50\n",
      "Trip completed at 50\n",
      "Drive customer at 60\n",
      "Drive customer at 60\n",
      "Trip completed at 80\n",
      "Trip completed at 80\n",
      "Drive customer at 90\n",
      "Drive customer at 90\n",
      "Trip completed at 110\n",
      "Trip completed at 110\n",
      "Drive customer at 120\n",
      "Drive customer at 120\n",
      "Trip completed at 140\n",
      "Trip completed at 140\n",
      "Drive customer at 150\n",
      "Drive customer at 150\n",
      "Trip completed at 170\n",
      "Trip completed at 170\n",
      "Drive customer at 180\n",
      "Drive customer at 180\n"
     ]
    }
   ],
   "source": [
    "env.run(until=200)"
   ]
  },
  {
   "cell_type": "markdown",
   "metadata": {},
   "source": [
    "### Where could we go from here?\n",
    "- Simulate Uber drivers coming on/off work and their locations\n",
    "- Simulate Customers requesting service, and their locations\n",
    "- Every X seconds, run matching algorithm to assign drivers to customers\n",
    "- Gather stats:\n",
    "  - Wait times of customers\n",
    "  - Idle/busy times of drivers\n",
    "- Experiment with:\n",
    "  - Surge pricing/time of day influences supply of drivers\n",
    "  - Surge pricing/time of day influences demand of customers \n",
    "  - Reposition drivers depending on demand"
   ]
  },
  {
   "cell_type": "code",
   "execution_count": null,
   "metadata": {},
   "outputs": [],
   "source": []
  }
 ],
 "metadata": {
  "kernelspec": {
   "display_name": "Python 3",
   "language": "python",
   "name": "python3"
  },
  "language_info": {
   "codemirror_mode": {
    "name": "ipython",
    "version": 3
   },
   "file_extension": ".py",
   "mimetype": "text/x-python",
   "name": "python",
   "nbconvert_exporter": "python",
   "pygments_lexer": "ipython3",
   "version": "3.7.4"
  }
 },
 "nbformat": 4,
 "nbformat_minor": 4
}
