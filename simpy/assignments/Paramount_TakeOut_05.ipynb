{
 "cells": [
  {
   "cell_type": "markdown",
   "metadata": {},
   "source": [
    "# Paramount Take-Out\n",
    "\n",
    "###  Bus 36109 \"Advanced Decision Modeling with Python\", Don Eisenstein\n",
    "Don Eisenstein &copy; Copyright 2020, University of Chicago \n",
    "\n",
    "---"
   ]
  },
  {
   "cell_type": "markdown",
   "metadata": {},
   "source": [
    "Here we add the option of customers ordering take-out.  \n",
    "\n",
    "Our variables now reflect that some customers dine in, and others take-out.  The party-size for take-out will dictact how many \"orders\" must be cooked for take-out orders."
   ]
  },
  {
   "cell_type": "code",
   "execution_count": 38,
   "metadata": {},
   "outputs": [],
   "source": [
    "NUM_DINE_IN_CUSTOMERS = 10\n",
    "NUM_TAKE_OUT_CUSTOMERS = 3\n",
    "MEAN_COOK_TIME_DURATION = 190\n",
    "NUM_IN_TAKE_OUT_PARTY = 4 \n",
    "#  A take-out order will require MEAN_COOK_TIME_DURATION * NUM_IN_TAKE_OUT_PARTY time\n",
    "MEAN_TIME_BETWEEN_DINE_IN_ARRIVALS = 200\n",
    "MEAN_TIME_BETWEEN_TAKE_OUT_ARRIVALS = 600\n",
    "MEAN_EATING_DURATION = 2000\n",
    "NUM_COOKS = 4\n",
    "NUM_SEATS = 25\n",
    "# Take out has priority for Cooks, that is, take-out orders do not have to wait in line\n",
    "# The lower the priority number the \"higher\" the priority\n",
    "TAKE_OUT_PRIORITY = 0\n",
    "DINE_IN_PRIORITY = 1"
   ]
  },
  {
   "cell_type": "code",
   "execution_count": 27,
   "metadata": {},
   "outputs": [],
   "source": [
    "import simpy \n",
    "import numpy as np\n",
    "import matplotlib.pyplot as plt\n",
    "import pprint\n",
    "from pprint import pprint\n",
    "from ppretty import ppretty"
   ]
  },
  {
   "cell_type": "markdown",
   "metadata": {},
   "source": [
    "We now generate a party, and one customer in the party will be designated as the leader.  All customers will require a cook resource, but only the leader will acquire a table of the appropriate size for the party."
   ]
  },
  {
   "cell_type": "code",
   "execution_count": 28,
   "metadata": {},
   "outputs": [],
   "source": [
    "def generate_customers(env, number, take_out, take_out_party_size):\n",
    "    customer_objects_list = []\n",
    "    arrival_time = 0\n",
    "    \n",
    "    for i in range(number):\n",
    "        if (take_out):\n",
    "            customer_name = f'TO Customer {i}'   # create a customer name string \n",
    "            arrival_time = arrival_time + MEAN_TIME_BETWEEN_TAKE_OUT_ARRIVALS\n",
    "            cook_duration =  MEAN_COOK_TIME_DURATION * NUM_IN_TAKE_OUT_PARTY \n",
    "            eating_duration = 0  \n",
    "        else:\n",
    "            customer_name = f'DI Customer {i}'   # create a customer name string \n",
    "            arrival_time = arrival_time + MEAN_TIME_BETWEEN_DINE_IN_ARRIVALS\n",
    "            cook_duration =  MEAN_COOK_TIME_DURATION \n",
    "            eating_duration = MEAN_EATING_DURATION \n",
    "            \n",
    "\n",
    "        customer = Customer(env, customer_name, arrival_time, cook_duration, eating_duration, take_out)\n",
    "        customer_objects_list.append(customer)\n",
    "        \n",
    "    return customer_objects_list"
   ]
  },
  {
   "cell_type": "code",
   "execution_count": 29,
   "metadata": {},
   "outputs": [],
   "source": [
    "env = simpy.Environment()\n",
    "# NOTE:  The cooks are now a \"PriorityResource\" !!\n",
    "cook_resource = simpy.PriorityResource(env, capacity=NUM_COOKS)\n",
    "seat_resource = simpy.Resource(env, capacity=NUM_SEATS)"
   ]
  },
  {
   "cell_type": "code",
   "execution_count": 30,
   "metadata": {},
   "outputs": [],
   "source": [
    "class Customer(object):\n",
    "    def __init__(self, env, name, arrival_time, cook_duration, eating_duration, take_out):\n",
    "        # Store the simulation environment\n",
    "        self.env = env\n",
    "        self.name = name\n",
    "        self.arrival_time = arrival_time\n",
    "        self.begin_cook_service_time = None\n",
    "        self.cook_duration = cook_duration\n",
    "        self.enter_seating_queue_time = None\n",
    "        self.begin_eating_time = None\n",
    "        self.eating_duration = eating_duration\n",
    "        self.departure_time = None\n",
    "        self.take_out = take_out\n",
    "        \n",
    "        print(f'Create Customer {self.name}')\n",
    "        # Start the process everytime an instance is created.\n",
    "        env.process(self.process_thru_restaurant())\n",
    "        \n",
    "    def process_thru_restaurant(self):\n",
    "        yield self.env.timeout(self.arrival_time)\n",
    "        print(f'Customer {self.name} arrives at {self.env.now}')\n",
    "        \n",
    "        if (self.take_out):\n",
    "            request = cook_resource.request(priority=TAKE_OUT_PRIORITY) # request a cook\n",
    "        else:\n",
    "            request = cook_resource.request(priority=DINE_IN_PRIORITY)  # request a cook\n",
    "            \n",
    "        yield request \n",
    "        \n",
    "        print(f'Customer {self.name} arrives to cook at {self.env.now}')\n",
    "        self.begin_cook_service_time = env.now\n",
    "        yield env.timeout(self.cook_duration)  # cook food \n",
    "        cook_resource.release(request)      # release cook \n",
    "\n",
    "        if (not self.take_out):\n",
    "            self.enter_seating_queue_time = env.now\n",
    "            print(f'Customer {self.name} arrives to seating at {self.env.now}')\n",
    "            request = seat_resource.request()  # request a seat \n",
    "            yield request \n",
    "        \n",
    "            self.begin_eating_time = env.now\n",
    "            yield env.timeout(self.eating_duration)  # eat food \n",
    "            seat_resource.release(request)      # release seat \n",
    "        \n",
    "        # Customer completes service \n",
    "        print(f'Customer {self.name} departs at {self.env.now}')\n",
    "        self.departure_time = env.now"
   ]
  },
  {
   "cell_type": "code",
   "execution_count": 31,
   "metadata": {},
   "outputs": [
    {
     "name": "stdout",
     "output_type": "stream",
     "text": [
      "Create Customer DI Customer 0\n",
      "Create Customer DI Customer 1\n",
      "Create Customer DI Customer 2\n",
      "Create Customer DI Customer 3\n",
      "Create Customer DI Customer 4\n",
      "Create Customer DI Customer 5\n",
      "Create Customer DI Customer 6\n",
      "Create Customer DI Customer 7\n",
      "Create Customer DI Customer 8\n",
      "Create Customer DI Customer 9\n"
     ]
    }
   ],
   "source": [
    "dine_in_customers = generate_customers(env,NUM_DINE_IN_CUSTOMERS,False,0)"
   ]
  },
  {
   "cell_type": "code",
   "execution_count": 32,
   "metadata": {},
   "outputs": [
    {
     "name": "stdout",
     "output_type": "stream",
     "text": [
      "Create Customer TO Customer 0\n",
      "Create Customer TO Customer 1\n",
      "Create Customer TO Customer 2\n"
     ]
    }
   ],
   "source": [
    "take_out_customers = generate_customers(env,NUM_TAKE_OUT_CUSTOMERS,True,NUM_IN_TAKE_OUT_PARTY)"
   ]
  },
  {
   "cell_type": "code",
   "execution_count": 33,
   "metadata": {},
   "outputs": [],
   "source": [
    "customers = dine_in_customers + take_out_customers"
   ]
  },
  {
   "cell_type": "code",
   "execution_count": 34,
   "metadata": {},
   "outputs": [
    {
     "name": "stdout",
     "output_type": "stream",
     "text": [
      "[\n",
      "    __main__.Customer(\n",
      "        arrival_time = 600, \n",
      "        begin_cook_service_time = None, \n",
      "        begin_eating_time = None, \n",
      "        cook_duration = 760, \n",
      "        departure_time = None, \n",
      "        eating_duration = 0, \n",
      "        enter_seating_queue_time = None, \n",
      "        env = simpy.core.Environment(), \n",
      "        name = 'TO Customer 0', \n",
      "        take_out = True\n",
      "    ), \n",
      "    __main__.Customer(\n",
      "        arrival_time = 1200, \n",
      "        begin_cook_service_time = None, \n",
      "        begin_eating_time = None, \n",
      "        cook_duration = 760, \n",
      "        departure_time = None, \n",
      "        eating_duration = 0, \n",
      "        enter_seating_queue_time = None, \n",
      "        env = simpy.core.Environment(), \n",
      "        name = 'TO Customer 1', \n",
      "        take_out = True\n",
      "    ), \n",
      "    __main__.Customer(\n",
      "        arrival_time = 1800, \n",
      "        begin_cook_service_time = None, \n",
      "        begin_eating_time = None, \n",
      "        cook_duration = 760, \n",
      "        departure_time = None, \n",
      "        eating_duration = 0, \n",
      "        enter_seating_queue_time = None, \n",
      "        env = simpy.core.Environment(), \n",
      "        name = 'TO Customer 2', \n",
      "        take_out = True\n",
      "    )\n",
      "]\n"
     ]
    }
   ],
   "source": [
    "print(ppretty(take_out_customers, seq_length=10))"
   ]
  },
  {
   "cell_type": "code",
   "execution_count": 35,
   "metadata": {},
   "outputs": [
    {
     "name": "stdout",
     "output_type": "stream",
     "text": [
      "Customer DI Customer 0 arrives at 200\n",
      "Customer DI Customer 0 arrives to cook at 200\n",
      "Customer DI Customer 0 arrives to seating at 390\n",
      "Customer DI Customer 1 arrives at 400\n",
      "Customer DI Customer 1 arrives to cook at 400\n",
      "Customer DI Customer 1 arrives to seating at 590\n",
      "Customer DI Customer 2 arrives at 600\n",
      "Customer TO Customer 0 arrives at 600\n",
      "Customer DI Customer 2 arrives to cook at 600\n",
      "Customer TO Customer 0 arrives to cook at 600\n",
      "Customer DI Customer 2 arrives to seating at 790\n",
      "Customer DI Customer 3 arrives at 800\n",
      "Customer DI Customer 3 arrives to cook at 800\n",
      "Customer DI Customer 3 arrives to seating at 990\n",
      "Customer DI Customer 4 arrives at 1000\n",
      "Customer DI Customer 4 arrives to cook at 1000\n",
      "Customer DI Customer 4 arrives to seating at 1190\n",
      "Customer DI Customer 5 arrives at 1200\n",
      "Customer TO Customer 1 arrives at 1200\n",
      "Customer DI Customer 5 arrives to cook at 1200\n",
      "Customer TO Customer 1 arrives to cook at 1200\n",
      "Customer TO Customer 0 departs at 1360\n",
      "Customer DI Customer 5 arrives to seating at 1390\n",
      "Customer DI Customer 6 arrives at 1400\n",
      "Customer DI Customer 6 arrives to cook at 1400\n",
      "Customer DI Customer 6 arrives to seating at 1590\n",
      "Customer DI Customer 7 arrives at 1600\n",
      "Customer DI Customer 7 arrives to cook at 1600\n",
      "Customer DI Customer 7 arrives to seating at 1790\n",
      "Customer DI Customer 8 arrives at 1800\n",
      "Customer TO Customer 2 arrives at 1800\n",
      "Customer DI Customer 8 arrives to cook at 1800\n",
      "Customer TO Customer 2 arrives to cook at 1800\n",
      "Customer TO Customer 1 departs at 1960\n",
      "Customer DI Customer 8 arrives to seating at 1990\n",
      "Customer DI Customer 9 arrives at 2000\n",
      "Customer DI Customer 9 arrives to cook at 2000\n",
      "Customer DI Customer 9 arrives to seating at 2190\n",
      "Customer DI Customer 0 departs at 2390\n",
      "Customer TO Customer 2 departs at 2560\n",
      "Customer DI Customer 1 departs at 2590\n",
      "Customer DI Customer 2 departs at 2790\n",
      "Customer DI Customer 3 departs at 2990\n",
      "Customer DI Customer 4 departs at 3190\n",
      "Customer DI Customer 5 departs at 3390\n",
      "Customer DI Customer 6 departs at 3590\n",
      "Customer DI Customer 7 departs at 3790\n",
      "Customer DI Customer 8 departs at 3990\n",
      "Customer DI Customer 9 departs at 4190\n"
     ]
    }
   ],
   "source": [
    "env.run()"
   ]
  },
  {
   "cell_type": "markdown",
   "metadata": {},
   "source": [
    "### Compute average time a job spends in the system"
   ]
  },
  {
   "cell_type": "code",
   "execution_count": 36,
   "metadata": {},
   "outputs": [
    {
     "name": "stdout",
     "output_type": "stream",
     "text": [
      "average time in system is 1860.0\n",
      "average time in system for take out 760.0\n",
      "average time in system for dine in 2190.0\n"
     ]
    }
   ],
   "source": [
    "# loop through all the customers \n",
    "system_times = []\n",
    "dine_in_system_times = []\n",
    "take_out_system_times = []\n",
    "for customer in customers:\n",
    "    system_times.append(customer.departure_time-customer.arrival_time)\n",
    "    if (not customer.take_out):\n",
    "        dine_in_system_times.append(customer.departure_time-customer.arrival_time)\n",
    "    else:\n",
    "        take_out_system_times.append(customer.departure_time-customer.arrival_time)\n",
    "            \n",
    "print(f'average time in system is {np.mean(system_times)}')\n",
    "print(f'average time in system for take out {np.mean(take_out_system_times)}')\n",
    "print(f'average time in system for dine in {np.mean(dine_in_system_times)}')\n"
   ]
  },
  {
   "cell_type": "code",
   "execution_count": 37,
   "metadata": {},
   "outputs": [
    {
     "data": {
      "image/png": "[encoded data removed]",
      "text/plain": [
       "<Figure size 432x288 with 1 Axes>"
      ]
     },
     "metadata": {
      "needs_background": "light"
     },
     "output_type": "display_data"
    }
   ],
   "source": [
    "# Tinker with number of bins, until it looks right\n",
    "plt.hist(system_times,bins=30)\n",
    "# you can customize the exact tick marks on an axis\n",
    "plt.yticks(range(0,3))\n",
    "plt.ylabel('Frequency');\n",
    "plt.xlabel('Time in System');"
   ]
  },
  {
   "cell_type": "markdown",
   "metadata": {},
   "source": [
    "# Homework/In-class work\n",
    "\n",
    "1. Suppose customers arrive to your queue with an exponentially distrubuted time between arrivals of 30 seconds and are served by one of two *parallel* servers, each server can, on average serve a customer in 50 seconds, with the service time exponentially distributed.\n",
    "\n",
    "1. Now, return back to one server, but add a second server in *series*.  That is, each job first is serviced by a single Server 1, and then by a single Server 2.  Assume to exponential arrivals with a mean time between arrivals of 200 and exponential service time with mean of 190 for each server.  \n",
    "   - Compute the average system time\n",
    "   - Plot a histogram of total time in system\n",
    "\n",
    "\n",
    "1. Of course, we may want to use other distributions in a simulation.  Write functions for the exponential and these other distributions,  `normal`, `triangular`,  and `uniform`, explore the `numpy` documentation:  https://docs.scipy.org/doc/numpy-1.14.0/reference/routines.random.html\n",
    "\n",
    "   - remember, make sure your functions return only positive values for our purposes.\n",
    "   - try out each of your functions to make sure they work as expected\n",
    "   \n",
    "\n",
    "1.  Consider the Paramount restaurant.  \n",
    "    - Model a busy input stream of customers in the morning rush ...\n",
    "    - Consider 4 cooks that ...\n",
    "    - Consider community seating with XX seats and the dining experience ...\n",
    "    "
   ]
  },
  {
   "cell_type": "code",
   "execution_count": null,
   "metadata": {},
   "outputs": [],
   "source": []
  }
 ],
 "metadata": {
  "kernelspec": {
   "display_name": "Python 3",
   "language": "python",
   "name": "python3"
  },
  "language_info": {
   "codemirror_mode": {
    "name": "ipython",
    "version": 3
   },
   "file_extension": ".py",
   "mimetype": "text/x-python",
   "name": "python",
   "nbconvert_exporter": "python",
   "pygments_lexer": "ipython3",
   "version": "3.7.3"
  }
 },
 "nbformat": 4,
 "nbformat_minor": 4
}
