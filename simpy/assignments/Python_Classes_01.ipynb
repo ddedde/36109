{
 "cells": [
  {
   "cell_type": "markdown",
   "metadata": {},
   "source": [
    "## Python Classes\n",
    "\n",
    "###  Bus 36109 \"Advanced Decision Modeling with Python\", Don Eisenstein\n",
    "Don Eisenstein &copy; Copyright 2020, University of Chicago \n",
    "\n",
    "---\n",
    "\n",
    "### A class encapulates data and functions that pertain to an entity.\n",
    "### An instance of a class is called an `object`"
   ]
  },
  {
   "cell_type": "code",
   "execution_count": 2,
   "metadata": {},
   "outputs": [],
   "source": [
    "# Notice how this definition differs from functions\n",
    "#  You begin with `class`\n",
    "#  By Convention, you should capitalize the class name (Customer in this case)\n",
    "#  You give the argument `object`\n",
    "class Customer(object):\n",
    "    \"\"\"A customer of our ride sharing service. Customers have the\n",
    "    following properties:\n",
    "\n",
    "    Attributes:\n",
    "        name: A string representing the customer's name.\n",
    "        home_address: A string representing the customer's address\n",
    "        lat:  Latitude of customer's current location  \n",
    "        lng:  Longitude of customer's current location  \n",
    "    \"\"\"\n",
    "\n",
    "    def __init__(self, name):\n",
    "        \"\"\"Return a Customer object whose name is *name*.\n",
    "        and home_address, lat, lng is *None*  \"\"\" \n",
    "        self.name = name\n",
    "        self.home_address = None \n",
    "        self.lat = None \n",
    "        self.lng = None \n",
    "        \n",
    "    def set_geolocation(self, lat, lng):\n",
    "        \"\"\"Set and return [lat,lng] geo location \"\"\"\n",
    "        self.lat = lat\n",
    "        self.lng = lng \n",
    "        return [self.lat, self.lng] \n",
    "    \n",
    "    def geolocation(self):\n",
    "        \"\"\"Return [lat,lng] geo location \"\"\"\n",
    "        return [self.lat,self.lng] \n",
    "    \n",
    "    def clear_geolocation(self):\n",
    "        \"\"\" Set lat,lng to None \"\"\"\n",
    "        self.set_geolocation(None, None) "
   ]
  },
  {
   "cell_type": "code",
   "execution_count": 4,
   "metadata": {},
   "outputs": [],
   "source": [
    "# Create a new \"instance\" of the class by calling it\n",
    "cust1 = Customer('Bob Jones')"
   ]
  },
  {
   "cell_type": "code",
   "execution_count": 5,
   "metadata": {},
   "outputs": [
    {
     "data": {
      "text/plain": [
       "'Bob Jones'"
      ]
     },
     "execution_count": 5,
     "metadata": {},
     "output_type": "execute_result"
    }
   ],
   "source": [
    "cust1.name"
   ]
  },
  {
   "cell_type": "code",
   "execution_count": 6,
   "metadata": {},
   "outputs": [],
   "source": [
    "cust1.lng"
   ]
  },
  {
   "cell_type": "code",
   "execution_count": 7,
   "metadata": {},
   "outputs": [
    {
     "data": {
      "text/plain": [
       "[None, None]"
      ]
     },
     "execution_count": 7,
     "metadata": {},
     "output_type": "execute_result"
    }
   ],
   "source": [
    "cust1.geolocation()"
   ]
  },
  {
   "cell_type": "code",
   "execution_count": 38,
   "metadata": {},
   "outputs": [
    {
     "data": {
      "text/plain": [
       "[33, -88.0]"
      ]
     },
     "execution_count": 38,
     "metadata": {},
     "output_type": "execute_result"
    }
   ],
   "source": [
    "cust1.set_geolocation(33,-88.0)"
   ]
  },
  {
   "cell_type": "code",
   "execution_count": 39,
   "metadata": {},
   "outputs": [
    {
     "data": {
      "text/plain": [
       "[33, -88.0]"
      ]
     },
     "execution_count": 39,
     "metadata": {},
     "output_type": "execute_result"
    }
   ],
   "source": [
    "cust1.geolocation()"
   ]
  },
  {
   "cell_type": "code",
   "execution_count": 40,
   "metadata": {},
   "outputs": [],
   "source": [
    "cust1.clear_geolocation()"
   ]
  },
  {
   "cell_type": "code",
   "execution_count": 41,
   "metadata": {},
   "outputs": [
    {
     "data": {
      "text/plain": [
       "[None, None]"
      ]
     },
     "execution_count": 41,
     "metadata": {},
     "output_type": "execute_result"
    }
   ],
   "source": [
    "cust1.geolocation()"
   ]
  },
  {
   "cell_type": "code",
   "execution_count": 14,
   "metadata": {},
   "outputs": [
    {
     "data": {
      "text/plain": [
       "'Bob Jones'"
      ]
     },
     "execution_count": 14,
     "metadata": {},
     "output_type": "execute_result"
    }
   ],
   "source": [
    "cust1.name\n"
   ]
  },
  {
   "cell_type": "code",
   "execution_count": 42,
   "metadata": {},
   "outputs": [],
   "source": [
    "cust1.home_address = '5807 N Woodlawn, Chicago, IL 60657'"
   ]
  },
  {
   "cell_type": "code",
   "execution_count": 43,
   "metadata": {},
   "outputs": [
    {
     "data": {
      "text/plain": [
       "'5807 N Woodlawn, Chicago, IL 60657'"
      ]
     },
     "execution_count": 43,
     "metadata": {},
     "output_type": "execute_result"
    }
   ],
   "source": [
    "cust1.home_address"
   ]
  },
  {
   "cell_type": "code",
   "execution_count": null,
   "metadata": {},
   "outputs": [],
   "source": []
  }
 ],
 "metadata": {
  "kernelspec": {
   "display_name": "Python 3",
   "language": "python",
   "name": "python3"
  },
  "language_info": {
   "codemirror_mode": {
    "name": "ipython",
    "version": 3
   },
   "file_extension": ".py",
   "mimetype": "text/x-python",
   "name": "python",
   "nbconvert_exporter": "python",
   "pygments_lexer": "ipython3",
   "version": "3.7.4"
  }
 },
 "nbformat": 4,
 "nbformat_minor": 4
}
