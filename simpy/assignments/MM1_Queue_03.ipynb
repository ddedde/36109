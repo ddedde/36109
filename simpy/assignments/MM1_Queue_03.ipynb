{
 "cells": [
  {
   "cell_type": "markdown",
   "metadata": {},
   "source": [
    "# Support Center Queue: M/M/1 \n",
    "\n",
    "###  Bus 36109 \"Advanced Decision Modeling with Python\", Don Eisenstein\n",
    "Don Eisenstein &copy; Copyright 2020, University of Chicago \n",
    "\n",
    "---\n",
    "\n",
    "Jill manages a software support center.  Jill wants to run an analysis on how long support requests remain in the system before getting resolved.  Collecting some stats and showing a Histogram of request time in system seems like a nice outcome.  Jill has data of when each request enters the system, and when each request is resolved.  \n",
    "\n",
    "First, she wants to simulate many days, and experiment with adding staff, etc.  The first step is to generate arrivals to the support center randomly, and generate random service times --- A monte carlo simulation.  She knows from her intro to Ops class (which she loved), that one way to help validate her code is to compare it to a theoretical M/M/1 queueing system.  Once she sees her code track the theoretical values, she would feel better about making changes to the distribution, etc.  That is, she will have confidence that her code is working.   \n",
    "\n",
    "- Jobs arrive to the support center with interarrival times according to an exponential distribution\n",
    "- Service times are generated according to an exponential distribution\n",
    "- Still just one server (for now!), and thus she will be simulating an M/M/1 queueing system"
   ]
  },
  {
   "cell_type": "code",
   "execution_count": 1,
   "metadata": {},
   "outputs": [],
   "source": [
    "import simpy \n",
    "import numpy as np\n",
    "import matplotlib.pyplot as plt\n",
    "from pprint import pprint"
   ]
  },
  {
   "cell_type": "markdown",
   "metadata": {},
   "source": [
    "#### Some new SimPy is needed\n",
    "- Have jobs arrive to simulation randomly\n",
    "- Have jobs contend for a shared resource, and queue when busy"
   ]
  },
  {
   "cell_type": "markdown",
   "metadata": {},
   "source": [
    "#### Let's start with dealing with a shared resource\n"
   ]
  },
  {
   "cell_type": "code",
   "execution_count": 2,
   "metadata": {},
   "outputs": [],
   "source": [
    "# Create NUMBER_OF_ARRIVALS arrivals with interarrival times \n",
    "# Exponentially distributed with mean MEAN_TIME_BETWEEN_ARRIVALS\n",
    "# And service times exponentially distributed with MEAN_SERVICE_TIME\n",
    "NUM_JOBS = 100000\n",
    "MEAN_TIME_BETWEEN_ARRIVALS = 200\n",
    "MEAN_SERVICE_DURATION = 190"
   ]
  },
  {
   "cell_type": "code",
   "execution_count": 3,
   "metadata": {},
   "outputs": [],
   "source": [
    "class Job(object):\n",
    "    def __init__(self, env, name, arrival_time, service_duration):\n",
    "        # Store the simulation environment\n",
    "        self.env = env\n",
    "        self.name = name\n",
    "        self.arrival_time = arrival_time\n",
    "        # Note our convention:  \"time\" vs \"duration\"\n",
    "        self.service_duration = service_duration\n",
    "        self.enter_service_time = None\n",
    "        self.departure_time = None\n",
    "        \n",
    "        #print(f'Create Job {self.name}')\n",
    "        # Start the process everytime an instance is created.\n",
    "        env.process(self.process_thru_queue())\n",
    "        \n",
    "    def process_thru_queue(self):\n",
    "        yield self.env.timeout(self.arrival_time)\n",
    "        #print('Job arrives at %d' % self.env.now)\n",
    "        request = server_resource.request()  # request the server\n",
    "        yield request \n",
    "\n",
    "        self.enter_service_time = env.now\n",
    "        yield env.timeout(self.service_duration)  # server processes job\n",
    "        server_resource.release(request)      # you must free up the server\n",
    "\n",
    "        # Job completes service \n",
    "        #print('Service completed at %d' % self.env.now)\n",
    "        self.departure_time = env.now"
   ]
  },
  {
   "cell_type": "code",
   "execution_count": 4,
   "metadata": {},
   "outputs": [],
   "source": [
    "def generate_jobs(env, number):\n",
    "    jobs = []\n",
    "    arrival_time = 0\n",
    "    \n",
    "    for i in range(number):\n",
    "        job_name = f'Job_{i}'      # create a job name string \n",
    "        service_duration = np.random.exponential(MEAN_SERVICE_DURATION)\n",
    "\n",
    "        job = Job(env, job_name, arrival_time, service_duration)\n",
    "        jobs.append(job)\n",
    "        arrival_time = arrival_time + np.random.exponential(MEAN_TIME_BETWEEN_ARRIVALS)\n",
    "        \n",
    "    return jobs "
   ]
  },
  {
   "cell_type": "code",
   "execution_count": 5,
   "metadata": {},
   "outputs": [],
   "source": [
    "env = simpy.Environment()\n",
    "server_resource = simpy.Resource(env, capacity=1)"
   ]
  },
  {
   "cell_type": "code",
   "execution_count": 6,
   "metadata": {},
   "outputs": [],
   "source": [
    "jobs=generate_jobs(env,NUM_JOBS)"
   ]
  },
  {
   "cell_type": "code",
   "execution_count": 7,
   "metadata": {},
   "outputs": [],
   "source": [
    "env.run()"
   ]
  },
  {
   "cell_type": "markdown",
   "metadata": {},
   "source": [
    "### Compute average time a job spends in the system"
   ]
  },
  {
   "cell_type": "code",
   "execution_count": 8,
   "metadata": {},
   "outputs": [
    {
     "name": "stdout",
     "output_type": "stream",
     "text": [
      "average time in system is 3393.886097390965\n"
     ]
    }
   ],
   "source": [
    "# loop through all the jobs\n",
    "system_times = []\n",
    "for job in jobs:\n",
    "    system_times.append(job.departure_time-job.arrival_time)\n",
    "print(f'average time in system is {np.mean(system_times)}')"
   ]
  },
  {
   "cell_type": "markdown",
   "metadata": {},
   "source": [
    "### Compare to M/M/1 theoretical average time in system\n",
    "- $CT = \\frac{1}{\\mu - \\lambda}$\n",
    "- Here, $\\mu$ is the average service rate, 1/MEAN_SERVICE_TIME\n",
    "- And $\\lambda$ is the average arrival rate, 1/MEAN_TIME_BETWEEN_ARRIVALS"
   ]
  },
  {
   "cell_type": "code",
   "execution_count": 9,
   "metadata": {},
   "outputs": [
    {
     "name": "stdout",
     "output_type": "stream",
     "text": [
      "The theoretical average system time is: 3800.000000000003\n"
     ]
    }
   ],
   "source": [
    "print('The theoretical average system time is:',1/( (1/MEAN_SERVICE_DURATION) - (1/MEAN_TIME_BETWEEN_ARRIVALS) ))"
   ]
  },
  {
   "cell_type": "code",
   "execution_count": 10,
   "metadata": {},
   "outputs": [
    {
     "data": {
      "image/png": "[encoded data removed]",
      "text/plain": [
       "<Figure size 432x288 with 1 Axes>"
      ]
     },
     "metadata": {
      "needs_background": "light"
     },
     "output_type": "display_data"
    }
   ],
   "source": [
    "# Tinker with number of bins, until it looks right\n",
    "plt.hist(system_times,bins=30)\n",
    "# you can customize the exact tick marks on an axis\n",
    "plt.yticks(range(0,3))\n",
    "plt.ylabel('Frequency');\n",
    "plt.xlabel('Time in System');"
   ]
  },
  {
   "cell_type": "markdown",
   "metadata": {},
   "source": [
    "# Homework/In-class work\n",
    "\n",
    "1. Suppose customers arrive to your queue with an exponentially distrubuted time between arrivals of 30 seconds and are served by one of two *parallel* servers, each server can, on average serve a customer in 50 seconds, with the service time exponentially distributed.\n",
    "\n",
    "1. Now, return back to one server, but add a second server in *series*.  That is, each job first is serviced by a single Server 1, and then by a single Server 2.  Assume to exponential arrivals with a mean time between arrivals of 200 and exponential service time with mean of 190 for each server.  \n",
    "   - Compute the average system time\n",
    "   - Plot a histogram of total time in system\n",
    "\n",
    "\n",
    "1. Of course, we may want to use other distributions in a simulation.  Write functions for the exponential and these other distributions,  `normal`, `triangular`,  and `uniform`, explore the `numpy` documentation:  https://docs.scipy.org/doc/numpy-1.14.0/reference/routines.random.html\n",
    "\n",
    "   - remember, make sure your functions return only positive values for our purposes.\n",
    "   - try out each of your functions to make sure they work as expected\n",
    "   \n",
    "\n",
    "1.  Consider the Paramount restaurant.  \n",
    "    - Model a busy input stream of customers in the morning rush ...\n",
    "    - Consider 4 cooks that ...\n",
    "    - Consider community seating with XX seats and the dining experience ...\n",
    "    "
   ]
  },
  {
   "cell_type": "code",
   "execution_count": null,
   "metadata": {},
   "outputs": [],
   "source": []
  }
 ],
 "metadata": {
  "kernelspec": {
   "display_name": "Python 3",
   "language": "python",
   "name": "python3"
  },
  "language_info": {
   "codemirror_mode": {
    "name": "ipython",
    "version": 3
   },
   "file_extension": ".py",
   "mimetype": "text/x-python",
   "name": "python",
   "nbconvert_exporter": "python",
   "pygments_lexer": "ipython3",
   "version": "3.7.3"
  }
 },
 "nbformat": 4,
 "nbformat_minor": 4
}
