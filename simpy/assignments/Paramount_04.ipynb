{
 "cells": [
  {
   "cell_type": "markdown",
   "metadata": {},
   "source": [
    "# Paramount Restaurant Simulation using SimPy\n",
    "\n",
    "###  Bus 36109 \"Advanced Decision Modeling with Python\", Don Eisenstein\n",
    "Don Eisenstein &copy; Copyright 2020, University of Chicago \n",
    "\n",
    "---"
   ]
  },
  {
   "cell_type": "markdown",
   "metadata": {},
   "source": [
    "In this initial Paramount Simulation we assume the following.  All times are deterministic in this initial simulation, that is, no variation.\n",
    "- Customers arrive with `MEAN_TIME_BETWEEN_ARRIVALS` seconds between them\n",
    "- They then queue for one of `NUM_COOKS`\n",
    "- It takes one cook `MEAN_COOK_TIME_DURATION` seconds to prepare their food order\n",
    "- They then queue for one of `NUM_SEATS`\n",
    "- It takes one customer `MEAN_EATING_DURATION` seconds to complete their meal \n",
    "\n",
    "We are also assuming simple communal seating, with no concept of eating with a party that must be seated at their own table."
   ]
  },
  {
   "cell_type": "code",
   "execution_count": 31,
   "metadata": {},
   "outputs": [],
   "source": [
    "NUM_CUSTOMERS = 10\n",
    "MEAN_TIME_BETWEEN_ARRIVALS = 200\n",
    "MEAN_COOK_TIME_DURATION = 190\n",
    "MEAN_EATING_DURATION = 200\n",
    "NUM_COOKS = 4\n",
    "NUM_SEATS = 25"
   ]
  },
  {
   "cell_type": "code",
   "execution_count": 36,
   "metadata": {},
   "outputs": [],
   "source": [
    "import simpy \n",
    "import numpy as np\n",
    "import matplotlib.pyplot as plt\n",
    "import pprint\n",
    "from pprint import pprint\n",
    "from ppretty import ppretty"
   ]
  },
  {
   "cell_type": "code",
   "execution_count": 47,
   "metadata": {},
   "outputs": [],
   "source": [
    "def generate_customers(env, number):\n",
    "    customer_objects_list = []\n",
    "    arrival_time = 0\n",
    "    \n",
    "    for i in range(number):\n",
    "        customer_name = f'Customer {i}'      # create a job name string \n",
    "        arrival_time = arrival_time + MEAN_TIME_BETWEEN_ARRIVALS \n",
    "        cook_duration =  MEAN_COOK_TIME_DURATION\n",
    "        eating_duration = MEAN_EATING_DURATION \n",
    "\n",
    "        customer = Customer(env, customer_name, arrival_time, cook_duration, eating_duration)\n",
    "        customer_objects_list.append(customer)\n",
    "    return customer_objects_list "
   ]
  },
  {
   "cell_type": "code",
   "execution_count": 48,
   "metadata": {},
   "outputs": [],
   "source": [
    "env = simpy.Environment()\n",
    "cook_resource = simpy.Resource(env, capacity=NUM_COOKS)\n",
    "seat_resource = simpy.Resource(env, capacity=NUM_SEATS)"
   ]
  },
  {
   "cell_type": "code",
   "execution_count": 49,
   "metadata": {},
   "outputs": [],
   "source": [
    "class Customer(object):\n",
    "    def __init__(self, env, name, arrival_time, cook_duration, eating_duration):\n",
    "        # Store the simulation environment\n",
    "        self.env = env\n",
    "        self.name = name\n",
    "        self.arrival_time = arrival_time\n",
    "        # Note our convention:  \"time\" vs \"duration\"\n",
    "        # \"time\" we use to denote simulation wall clock time\n",
    "        # \"duration\" we use to denote how long something will take \n",
    "        self.begin_cook_service_time = None\n",
    "        self.cook_duration = cook_duration\n",
    "        self.enter_seating_queue_time = None\n",
    "        self.begin_eating_time = None\n",
    "        self.eating_duration = eating_duration\n",
    "        self.departure_time = None\n",
    "        \n",
    "        print(f'Create Customer {self.name}')\n",
    "        # Start the process everytime an instance is created.\n",
    "        env.process(self.process_thru_restaurant())\n",
    "        \n",
    "    def process_thru_restaurant(self):\n",
    "        yield self.env.timeout(self.arrival_time)\n",
    "        print('Customer arrives at %d' % self.env.now)\n",
    "        request = cook_resource.request()  # request a cook\n",
    "        yield request \n",
    "\n",
    "        print('Customer arrives to cook at %d' % self.env.now)\n",
    "        self.begin_cook_service_time = env.now\n",
    "        yield env.timeout(self.cook_duration)  # cook food \n",
    "        cook_resource.release(request)      # release cook \n",
    "\n",
    "        self.enter_seating_queue_time = env.now\n",
    "        print('Customer arrives to seating queue at %d' % self.env.now)\n",
    "        request = seat_resource.request()  # request a seat \n",
    "        yield request \n",
    "        \n",
    "        self.begin_eating_time = env.now\n",
    "        yield env.timeout(self.eating_duration)  # eat food \n",
    "        seat_resource.release(request)      # release seat \n",
    "        \n",
    "        # Customer completes service \n",
    "        print('Service completed at %d' % self.env.now)\n",
    "        self.departure_time = env.now"
   ]
  },
  {
   "cell_type": "code",
   "execution_count": 50,
   "metadata": {},
   "outputs": [
    {
     "name": "stdout",
     "output_type": "stream",
     "text": [
      "Create Customer Customer 0\n",
      "Create Customer Customer 1\n"
     ]
    }
   ],
   "source": [
    "customer_list = generate_customers(env,NUM_CUSTOMERS)"
   ]
  },
  {
   "cell_type": "code",
   "execution_count": 51,
   "metadata": {},
   "outputs": [
    {
     "name": "stdout",
     "output_type": "stream",
     "text": [
      "[\n",
      "    __main__.Customer(\n",
      "        arrival_time = 200, \n",
      "        begin_cook_service_time = None, \n",
      "        begin_eating_time = None, \n",
      "        cook_duration = 190, \n",
      "        departure_time = None, \n",
      "        eating_duration = 200, \n",
      "        enter_seating_queue_time = None, \n",
      "        env = simpy.core.Environment(), \n",
      "        name = 'Customer 0'\n",
      "    ), \n",
      "    __main__.Customer(\n",
      "        arrival_time = 400, \n",
      "        begin_cook_service_time = None, \n",
      "        begin_eating_time = None, \n",
      "        cook_duration = 190, \n",
      "        departure_time = None, \n",
      "        eating_duration = 200, \n",
      "        enter_seating_queue_time = None, \n",
      "        env = simpy.core.Environment(), \n",
      "        name = 'Customer 1'\n",
      "    )\n",
      "]\n"
     ]
    }
   ],
   "source": [
    "# Yes, this is a bit convoluted, but it is one way to show our objects formatted nicely with all their attributes\n",
    "# Don't ask me exactly why this works....!\n",
    "print(ppretty(customers, seq_length=10))"
   ]
  },
  {
   "cell_type": "code",
   "execution_count": 52,
   "metadata": {},
   "outputs": [
    {
     "name": "stdout",
     "output_type": "stream",
     "text": [
      "Customer arrives at 200\n",
      "Customer arrives to cook at 200\n",
      "Customer arrives to seating queue at 390\n",
      "Customer arrives at 400\n",
      "Customer arrives to cook at 400\n",
      "Service completed at 590\n",
      "Customer arrives to seating queue at 590\n",
      "Service completed at 790\n"
     ]
    }
   ],
   "source": [
    "env.run()"
   ]
  },
  {
   "cell_type": "markdown",
   "metadata": {},
   "source": [
    "### Compute average time a job spends in the system"
   ]
  },
  {
   "cell_type": "code",
   "execution_count": 53,
   "metadata": {},
   "outputs": [
    {
     "name": "stdout",
     "output_type": "stream",
     "text": [
      "average time in system is 390.0\n"
     ]
    }
   ],
   "source": [
    "# loop through all the jobs\n",
    "system_times = []\n",
    "for customer in customer_list:\n",
    "    system_times.append(customer.departure_time-customer.arrival_time)\n",
    "print(f'average time in system is {np.mean(system_times)}')"
   ]
  },
  {
   "cell_type": "code",
   "execution_count": 54,
   "metadata": {},
   "outputs": [
    {
     "data": {
      "image/png": "[encoded data removed]",
      "text/plain": [
       "<Figure size 432x288 with 1 Axes>"
      ]
     },
     "metadata": {
      "needs_background": "light"
     },
     "output_type": "display_data"
    }
   ],
   "source": [
    "# Tinker with number of bins, until it looks right\n",
    "plt.hist(system_times,bins=30)\n",
    "# you can customize the exact tick marks on an axis\n",
    "plt.yticks(range(0,3))\n",
    "plt.ylabel('Frequency');\n",
    "plt.xlabel('Time in System');"
   ]
  },
  {
   "cell_type": "markdown",
   "metadata": {},
   "source": [
    "# Homework/In-class work\n",
    "\n",
    "1. Suppose customers arrive to your queue with an exponentially distrubuted time between arrivals of 30 seconds and are served by one of two *parallel* servers, each server can, on average serve a customer in 50 seconds, with the service time exponentially distributed.\n",
    "\n",
    "1. Now, return back to one server, but add a second server in *series*.  That is, each job first is serviced by a single Server 1, and then by a single Server 2.  Assume to exponential arrivals with a mean time between arrivals of 200 and exponential service time with mean of 190 for each server.  \n",
    "   - Compute the average system time\n",
    "   - Plot a histogram of total time in system\n",
    "\n",
    "\n",
    "1. Of course, we may want to use other distributions in a simulation.  Write functions for the exponential and these other distributions,  `normal`, `triangular`,  and `uniform`, explore the `numpy` documentation:  https://docs.scipy.org/doc/numpy-1.14.0/reference/routines.random.html\n",
    "\n",
    "   - remember, make sure your functions return only positive values for our purposes.\n",
    "   - try out each of your functions to make sure they work as expected\n",
    "   \n",
    "\n",
    "1.  Consider the Paramount restaurant.  \n",
    "    - Model a busy input stream of customers in the morning rush ...\n",
    "    - Consider 4 cooks that ...\n",
    "    - Consider community seating with XX seats and the dining experience ...\n",
    "    "
   ]
  },
  {
   "cell_type": "code",
   "execution_count": null,
   "metadata": {},
   "outputs": [],
   "source": []
  }
 ],
 "metadata": {
  "kernelspec": {
   "display_name": "Python 3",
   "language": "python",
   "name": "python3"
  },
  "language_info": {
   "codemirror_mode": {
    "name": "ipython",
    "version": 3
   },
   "file_extension": ".py",
   "mimetype": "text/x-python",
   "name": "python",
   "nbconvert_exporter": "python",
   "pygments_lexer": "ipython3",
   "version": "3.7.4"
  }
 },
 "nbformat": 4,
 "nbformat_minor": 4
}
