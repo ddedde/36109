{
 "cells": [
  {
   "cell_type": "code",
   "execution_count": 1,
   "metadata": {},
   "outputs": [],
   "source": [
    "import numpy as np\n",
    "from simpy_helpers import Entity, Resource, Source, Stats\n",
    "import simpy"
   ]
  },
  {
   "cell_type": "code",
   "execution_count": 2,
   "metadata": {},
   "outputs": [],
   "source": [
    "NUM_CUSTOMERS = 100\n",
    "MEAN_TIME_BETWEEN_ARRIVALS = 100\n",
    "MEAN_COOK_TIME_DURATION = 390\n",
    "MEAN_EATING_DURATION = 5000\n",
    "NUM_COOKS = 4\n",
    "NUM_SEATS = 5"
   ]
  },
  {
   "cell_type": "code",
   "execution_count": 3,
   "metadata": {},
   "outputs": [],
   "source": [
    "# Here is the Resource subclass\n",
    "class Cooks(Resource):\n",
    "    def service_time(self, entity):\n",
    "        return np.random.exponential(MEAN_COOK_TIME_DURATION)\n",
    "    \n",
    "class Seats(Resource):\n",
    "    def service_time(self, entity):\n",
    "        return np.random.exponential(MEAN_EATING_DURATION)"
   ]
  },
  {
   "cell_type": "code",
   "execution_count": 4,
   "metadata": {},
   "outputs": [],
   "source": [
    "## Here is the Entity Subclass\n",
    "class Job(Entity):\n",
    "    def process(self):\n",
    "        yield self.wait_for_resource(cook)\n",
    "        yield self.process_at_resource(cook)\n",
    "        self.release_resource(cook)\n",
    "        \n",
    "        yield self.wait_for_resource(seat)\n",
    "        yield self.process_at_resource(seat)\n",
    "        self.release_resource(seat)"
   ]
  },
  {
   "cell_type": "code",
   "execution_count": 5,
   "metadata": {},
   "outputs": [],
   "source": [
    "# Here is the Source subclass\n",
    "class GenerateCustomers(Source):\n",
    "    def interarrival_time(self):\n",
    "#         return np.random.exponential(MEAN_TIME_BETWEEN_ARRIVALS)\n",
    "        return MEAN_TIME_BETWEEN_ARRIVALS\n",
    "    \n",
    "    def build_entity(self):\n",
    "        return Job(env) "
   ]
  },
  {
   "cell_type": "code",
   "execution_count": 6,
   "metadata": {},
   "outputs": [],
   "source": [
    "env = simpy.Environment()\n",
    "\n",
    "seat = Seats(env, capacity=NUM_SEATS) \n",
    "cook = Cooks(env, capacity=NUM_COOKS) \n",
    "source = GenerateCustomers(env, number=NUM_CUSTOMERS) \n",
    "\n",
    "\n",
    "env.process(source.start())\n",
    "env.run()"
   ]
  },
  {
   "cell_type": "code",
   "execution_count": 7,
   "metadata": {},
   "outputs": [
    {
     "name": "stdout",
     "output_type": "stream",
     "text": [
      "average time in system is 59420.13349844848\n"
     ]
    }
   ],
   "source": [
    "# loop through all the jobs\n",
    "system_times = Stats.get_total_times()\n",
    "\n",
    "print(f'average time in system is {np.mean(system_times)}')"
   ]
  },
  {
   "cell_type": "code",
   "execution_count": 8,
   "metadata": {},
   "outputs": [
    {
     "name": "stdout",
     "output_type": "stream",
     "text": [
      "avg waiting time: 52977.05514387454\n",
      "avg processing time: 6443.078354573939\n"
     ]
    }
   ],
   "source": [
    "wait_times = Stats.get_waiting_times()\n",
    "print(\"avg waiting time:\", np.sum(wait_times)/NUM_CUSTOMERS) \n",
    "processing_times = Stats.get_processing_times()\n",
    "print(\"avg processing time:\", np.sum(processing_times)/NUM_CUSTOMERS) \n"
   ]
  },
  {
   "cell_type": "code",
   "execution_count": 9,
   "metadata": {},
   "outputs": [
    {
     "name": "stdout",
     "output_type": "stream",
     "text": [
      "avg waiting time for a cook resource 161.4298198049126\n",
      "avg waiting time for a seat resource 52815.62532406963\n"
     ]
    }
   ],
   "source": [
    "cook_wait_times = Stats.get_waiting_times(cook)\n",
    "print(\"avg waiting time for a cook resource\", np.sum(cook_wait_times)/NUM_CUSTOMERS)\n",
    "seat_wait_times = Stats.get_waiting_times(seat)\n",
    "print(\"avg waiting time for a seat resource\", np.sum(seat_wait_times)/NUM_CUSTOMERS)"
   ]
  },
  {
   "cell_type": "code",
   "execution_count": 10,
   "metadata": {},
   "outputs": [
    {
     "name": "stdout",
     "output_type": "stream",
     "text": [
      "avg processing time for a cook resource 372.7626706104078\n",
      "avg processing time for a seat resource 6070.315683963531\n"
     ]
    }
   ],
   "source": [
    "cook_processing_times = Stats.get_processing_times(cook)\n",
    "print(\"avg processing time for a cook resource\", np.sum(cook_processing_times)/NUM_CUSTOMERS)\n",
    "seat_processing_times = Stats.get_processing_times(seat)\n",
    "print(\"avg processing time for a seat resource\", np.sum(seat_processing_times)/NUM_CUSTOMERS)"
   ]
  },
  {
   "cell_type": "code",
   "execution_count": 11,
   "metadata": {},
   "outputs": [
    {
     "name": "stdout",
     "output_type": "stream",
     "text": [
      "avg queue size for cooks 0.12592708130239813\n"
     ]
    }
   ],
   "source": [
    "queue_size_for_cooks = Stats.queue_size_over_time(cook)\n",
    "# print(queue_size_for_cooks)\n",
    "print(\"avg queue size for cooks\", np.sum(queue_size_for_cooks)/len(queue_size_for_cooks))\n"
   ]
  },
  {
   "cell_type": "code",
   "execution_count": 12,
   "metadata": {},
   "outputs": [
    {
     "name": "stdout",
     "output_type": "stream",
     "text": [
      "avg queue size for seats 41.189822577500486\n"
     ]
    }
   ],
   "source": [
    "queue_size_for_seats = Stats.queue_size_over_time(seat)\n",
    "# print(queue_size_for_seats)\n",
    "print(\"avg queue size for seats\", np.sum(queue_size_for_seats)/len(queue_size_for_seats))"
   ]
  },
  {
   "cell_type": "code",
   "execution_count": 13,
   "metadata": {},
   "outputs": [
    {
     "name": "stdout",
     "output_type": "stream",
     "text": [
      "cooks utilization 0.07267693507506337\n"
     ]
    }
   ],
   "source": [
    "cooks_utilization = Stats.utilization_over_time(cook)\n",
    "print(\"cooks utilization\", np.sum(cooks_utilization)/len(cooks_utilization))"
   ]
  },
  {
   "cell_type": "code",
   "execution_count": 14,
   "metadata": {},
   "outputs": [
    {
     "name": "stdout",
     "output_type": "stream",
     "text": [
      "seats utilization 0.9468216026515891\n"
     ]
    }
   ],
   "source": [
    "seats_utilization = Stats.utilization_over_time(seat)\n",
    "print(\"seats utilization\", np.sum(seats_utilization)/len(seats_utilization))"
   ]
  },
  {
   "cell_type": "code",
   "execution_count": null,
   "metadata": {},
   "outputs": [],
   "source": []
  }
 ],
 "metadata": {
  "kernelspec": {
   "display_name": "Python 3",
   "language": "python",
   "name": "python3"
  },
  "language_info": {
   "codemirror_mode": {
    "name": "ipython",
    "version": 3
   },
   "file_extension": ".py",
   "mimetype": "text/x-python",
   "name": "python",
   "nbconvert_exporter": "python",
   "pygments_lexer": "ipython3",
   "version": "3.7.4"
  }
 },
 "nbformat": 4,
 "nbformat_minor": 4
}
