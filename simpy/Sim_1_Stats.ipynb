{
 "cells": [
  {
   "cell_type": "markdown",
   "metadata": {},
   "source": [
    "# Support Center Queue\n",
    "\n",
    "Jill manages a software support center.  Jill wants to run an analysis on how long support requests remain in the system before getting resolved.  Collecting some stats and showing a Histogram of request time in system seems like a nice outcome.  Jill has data of when each request enters the system, and when each request is resolved.  \n",
    "\n",
    "One methodology is to gather various Scenarios for which to analyze.  For example, a Busy Post Launch Scenario, a Mild Scenario,  A Monday Morning Scenario, etc.   And then use these scenarios to plan staffing, etc.\n",
    "\n",
    "To test her methodology and code, she will use the following small dataset and make the following assumptions:\n",
    "\n",
    "- Jobs arrive, are processed, and complete only at integral units of minutes\n",
    "- Request arrival times:  `0, 5, 10, 12, 14, 15, 55`\n",
    "- So, the time between arrivals is `5, 5, 2, 2, 1, 40`\n",
    "- Service times for each request, that is, time to resolve once started: `4, 4, 10, 10, 10, 10, 1`\n",
    "- There is a single support staff that processes requests First-In-First-Out (FIFO)"
   ]
  },
  {
   "cell_type": "code",
   "execution_count": 20,
   "metadata": {},
   "outputs": [],
   "source": [
    "import simpy\n",
    "import numpy as np\n",
    "import functools\n",
    "import matplotlib.pyplot as plt\n",
    "from Stats import Entity, Resource, Source\n",
    "from pprint import pprint"
   ]
  },
  {
   "cell_type": "code",
   "execution_count": 21,
   "metadata": {},
   "outputs": [],
   "source": [
    "def dispose(entity):\n",
    "    return lambda _: entity.dispose() \n",
    "\n",
    "def process(env, source, resource):\n",
    "    \"\"\" Generate arrivals into our simulation\n",
    "    \n",
    "    Arguments:   \n",
    "     env:  Our simulation environment\n",
    "     source: the source of entities for our simulation\n",
    "     resource: Shared resource\n",
    "    \"\"\"\n",
    "    \n",
    "    for arrival_time, entity in source.next_entity():\n",
    "        yield arrival_time\n",
    "        processed_entity = env.process(resource.process_entity(entity))\n",
    "        processed_entity.callbacks.append(dispose(entity))\n",
    "                "
   ]
  },
  {
   "cell_type": "code",
   "execution_count": 22,
   "metadata": {},
   "outputs": [],
   "source": [
    "class CallCenter(Resource):\n",
    "    def __init__(self, env, *args, **kwargs):\n",
    "        self.name = \"call_center\"\n",
    "        self.env = env\n",
    "        super().__init__(env, *args, **kwargs) # still looks scary\n",
    "        \n",
    "    def process_entity(self, entity):\n",
    "        request = entity.request_resource(self)\n",
    "        print(f'{entity.name} requesting resource: {self.env.now}')\n",
    "        yield request\n",
    "        \n",
    "        print(f'{entity.name} started processing: {self.env.now}')        \n",
    "        entity.start_service_at_resource(self)\n",
    "        yield self.env.timeout(self.next_service_time())\n",
    "        \n",
    "        print(f'{entity.name} finished: {self.env.now}')\n",
    "        entity.release_resource(self, request)\n",
    "        return entity\n",
    "    \n",
    "    def service_time_generator(self):\n",
    "        service_times = [4,4,10,10,10,10,1]\n",
    "        for time in service_times:\n",
    "            yield time  \n",
    "    "
   ]
  },
  {
   "cell_type": "code",
   "execution_count": 23,
   "metadata": {},
   "outputs": [],
   "source": [
    "class JobSource(Source):\n",
    "    def __init__(self, env, *args, **kwargs):\n",
    "        self.name=\"job_source\"\n",
    "        self.env = env\n",
    "        super().__init__(env, *args, **kwargs)\n",
    "    \n",
    "    def interarrival_time_generator(self):\n",
    "        interarrival_times = [5,5,2,2,1,40]\n",
    "        for time in interarrival_times:\n",
    "            yield time\n",
    "    \n",
    "    def build_entity(self, creation_time, *args, **kwargs):\n",
    "        return Entity(self.env, f\"job_{len(self.entities)}\", creation_time, *args, **kwargs)\n",
    "         \n",
    "        "
   ]
  },
  {
   "cell_type": "code",
   "execution_count": 24,
   "metadata": {},
   "outputs": [
    {
     "name": "stdout",
     "output_type": "stream",
     "text": [
      "Support Center 1\n",
      "\n",
      "job_0 requesting resource: 0\n",
      "job_0 started processing: 0\n",
      "job_0 finished: 4\n",
      "job_0 disposed: 4\n",
      "job_1 requesting resource: 5\n",
      "job_1 started processing: 5\n",
      "job_1 finished: 9\n",
      "job_1 disposed: 9\n",
      "job_2 requesting resource: 10\n",
      "job_2 started processing: 10\n",
      "job_3 requesting resource: 12\n",
      "job_4 requesting resource: 14\n",
      "job_5 requesting resource: 15\n",
      "job_2 finished: 20\n",
      "job_2 disposed: 20\n",
      "job_3 started processing: 20\n",
      "job_3 finished: 30\n",
      "job_3 disposed: 30\n",
      "job_4 started processing: 30\n",
      "job_4 finished: 40\n",
      "job_4 disposed: 40\n",
      "job_5 started processing: 40\n",
      "job_5 finished: 50\n",
      "job_5 disposed: 50\n",
      "job_6 requesting resource: 55\n",
      "job_6 started processing: 55\n",
      "job_6 finished: 56\n",
      "job_6 disposed: 56\n"
     ]
    }
   ],
   "source": [
    "# Setup and start the simulation\n",
    "print('Support Center 1\\n')\n",
    "env = simpy.Environment()\n",
    "\n",
    "source = JobSource(env, first_creation=0)\n",
    "# Start processes and run\n",
    "resource = CallCenter(env, capacity=1)\n",
    "\n",
    "env.process(process(env, source, resource))\n",
    "env.run()"
   ]
  },
  {
   "cell_type": "code",
   "execution_count": 25,
   "metadata": {},
   "outputs": [
    {
     "name": "stdout",
     "output_type": "stream",
     "text": [
      "total_time: [4, 4, 10, 18, 26, 35, 1]\n",
      "waiting_time: [0, 0, 0, 8, 16, 25, 0]\n",
      "processing_time: [4, 4, 10, 10, 10, 10, 1]\n"
     ]
    }
   ],
   "source": [
    "\"\"\"\n",
    "Statistics collected by entities that passed through system\n",
    "\"\"\"\n",
    "system_time = source.get_total_times()\n",
    "print(\"total_time:\", source.get_total_times())\n",
    "print(\"waiting_time:\", source.get_waiting_times())\n",
    "print(\"processing_time:\", source.get_processing_times())"
   ]
  },
  {
   "cell_type": "code",
   "execution_count": 7,
   "metadata": {},
   "outputs": [
    {
     "name": "stdout",
     "output_type": "stream",
     "text": [
      "[0, 0, 0, 0, 0, 0, 0, 0, 0, 0, 0, 0, 1, 1, 2, 3, 3, 3, 3, 3, 2, 2, 2, 2, 2, 2, 2, 2, 2, 2, 1, 1, 1, 1, 1, 1, 1, 1, 1, 1, 0, 0, 0, 0, 0, 0, 0, 0, 0, 0, 0, 0, 0, 0, 0, 0]\n"
     ]
    }
   ],
   "source": [
    "\"\"\"\n",
    "Statistics collected by resource\n",
    "\"\"\"\n",
    "queue_over_time = resource.queue_size_over_time() # sample queue length\n",
    "print(queue_over_time)"
   ]
  },
  {
   "cell_type": "code",
   "execution_count": 8,
   "metadata": {},
   "outputs": [
    {
     "name": "stdout",
     "output_type": "stream",
     "text": [
      "The average system time is: 14.0\n"
     ]
    }
   ],
   "source": [
    "print('The average system time is:',np.mean(system_time))"
   ]
  },
  {
   "cell_type": "code",
   "execution_count": 9,
   "metadata": {},
   "outputs": [
    {
     "data": {
      "image/png": "[encoded data removed]",
      "text/plain": [
       "<Figure size 432x288 with 1 Axes>"
      ]
     },
     "metadata": {
      "needs_background": "light"
     },
     "output_type": "display_data"
    }
   ],
   "source": [
    "# Tinker with number of bins, until it looks right\n",
    "plt.hist(system_time,bins=36)\n",
    "# you can customize the exact tick marks on an axis\n",
    "plt.yticks(range(0,3))\n",
    "plt.ylabel('Frequency');\n",
    "plt.xlabel('Time in System');"
   ]
  },
  {
   "cell_type": "markdown",
   "metadata": {},
   "source": [
    "## The NumPy package provides lots of statistical methods, we call it with `np`"
   ]
  },
  {
   "cell_type": "code",
   "execution_count": 10,
   "metadata": {},
   "outputs": [
    {
     "name": "stdout",
     "output_type": "stream",
     "text": [
      "Average number in queue: 0.875\n"
     ]
    },
    {
     "data": {
      "image/png": "[encoded data removed]",
      "text/plain": [
       "<Figure size 432x288 with 1 Axes>"
      ]
     },
     "metadata": {
      "needs_background": "light"
     },
     "output_type": "display_data"
    }
   ],
   "source": [
    "\"\"\"\n",
    "Histogram of queue over time\n",
    "\"\"\"\n",
    "plt.hist(queue_over_time)\n",
    "print(f\"Average number in queue: {np.mean(queue_over_time)}\")"
   ]
  },
  {
   "cell_type": "code",
   "execution_count": 11,
   "metadata": {},
   "outputs": [
    {
     "data": {
      "text/plain": [
       "35"
      ]
     },
     "execution_count": 11,
     "metadata": {},
     "output_type": "execute_result"
    }
   ],
   "source": [
    "np.max(system_time)"
   ]
  },
  {
   "cell_type": "code",
   "execution_count": 12,
   "metadata": {},
   "outputs": [
    {
     "data": {
      "text/plain": [
       "10.0"
      ]
     },
     "execution_count": 12,
     "metadata": {},
     "output_type": "execute_result"
    }
   ],
   "source": [
    "# 50th percentile, or median\n",
    "np.percentile(system_time,50)"
   ]
  },
  {
   "cell_type": "code",
   "execution_count": 13,
   "metadata": {},
   "outputs": [
    {
     "data": {
      "text/plain": [
       "10.0"
      ]
     },
     "execution_count": 13,
     "metadata": {},
     "output_type": "execute_result"
    }
   ],
   "source": [
    "np.median(system_time)"
   ]
  },
  {
   "cell_type": "code",
   "execution_count": 14,
   "metadata": {},
   "outputs": [
    {
     "data": {
      "text/plain": [
       "11.868325191750639"
      ]
     },
     "execution_count": 14,
     "metadata": {},
     "output_type": "execute_result"
    }
   ],
   "source": [
    "np.std(system_time)"
   ]
  },
  {
   "cell_type": "markdown",
   "metadata": {},
   "source": [
    "# Support Center: Homework/Class work\n",
    "\n",
    "Add to this notebook to answer the following:\n",
    "\n",
    "1. Consider the number of jobs in the queue over time, from 0 until all jobs are completed\n",
    "  - What is the average number of jobs in the queue?\n",
    "  - Form a histogram of the number of jobs in the queue\n",
    "\n",
    "1. Consider the time jobs spend in the queue, before beginning service.\n",
    "  - What is the average time a job spends in the queue?\n",
    "  - Form a histogram of the time jobs spend in the queue\n",
    "  \n"
   ]
  }
 ],
 "metadata": {
  "kernelspec": {
   "display_name": "Python 3",
   "language": "python",
   "name": "python3"
  },
  "language_info": {
   "codemirror_mode": {
    "name": "ipython",
    "version": 3
   },
   "file_extension": ".py",
   "mimetype": "text/x-python",
   "name": "python",
   "nbconvert_exporter": "python",
   "pygments_lexer": "ipython3",
   "version": "3.7.0"
  }
 },
 "nbformat": 4,
 "nbformat_minor": 4
}
