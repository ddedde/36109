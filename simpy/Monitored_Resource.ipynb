{
 "cells": [
  {
   "cell_type": "markdown",
   "metadata": {},
   "source": [
    "# Support Center Queue\n",
    "\n",
    "Jill manages a software support center.  Jill wants to run an analysis on how long support requests remain in the system before getting resolved.  Collecting some stats and showing a Histogram of request time in system seems like a nice outcome.  Jill has data of when each request enters the system, and when each request is resolved.  \n",
    "\n",
    "One methodology is to gather various Scenarios for which to analyze.  For example, a Busy Post Launch Scenario, a Mild Scenario,  A Monday Morning Scenario, etc.   And then use these scenarios to plan staffing, etc.\n",
    "\n",
    "To test her methodology and code, she will use the following small dataset and make the following assumptions:\n",
    "\n",
    "- Jobs arrive, are processed, and complete only at integral units of minutes\n",
    "- Request arrival times:  `0, 5, 10, 12, 14, 15, 55`\n",
    "- So, the time between arrivals is `5, 5, 2, 2, 1, 40`\n",
    "- Service times for each request, that is, time to resolve once started: `4, 4, 10, 10, 10, 10, 1`\n",
    "- There is a single support staff that processes requests First-In-First-Out (FIFO)"
   ]
  },
  {
   "cell_type": "code",
   "execution_count": 1,
   "metadata": {},
   "outputs": [],
   "source": [
    "import simpy\n",
    "import numpy as np\n",
    "import functools\n",
    "import matplotlib.pyplot as plt\n",
    "from Stats import Entity, Resource, Source\n",
    "from pprint import pprint\n",
    "\n",
    "\n"
   ]
  },
  {
   "cell_type": "code",
   "execution_count": 2,
   "metadata": {},
   "outputs": [],
   "source": [
    "\"\"\"\n",
    "These generators define interarrival times and service times\n",
    "\"\"\"\n",
    "def interarrival_time_generator():\n",
    "    interarrival_times = [0,5,5,2,2,1,40]\n",
    "    for time in interarrival_times:\n",
    "        yield time\n",
    "        \n",
    "def call_center_service_time_generator():\n",
    "    service_times = [4,4,10,10,10,10,1]\n",
    "    for time in service_times:\n",
    "        yield time   "
   ]
  },
  {
   "cell_type": "code",
   "execution_count": 3,
   "metadata": {},
   "outputs": [],
   "source": [
    "def dispose(entity):\n",
    "    return lambda _: entity.dispose() \n",
    "\n",
    "def call_center(env, entity, resource):\n",
    "    \"\"\"\n",
    "    defines the set of steps necessary for processing an\n",
    "    entity in a call center\n",
    "    \"\"\"\n",
    "    request = entity.request_resource(resource)\n",
    "    print(f'{entity.name} started processing: {env.now}')\n",
    "    yield request\n",
    "    print(f'{entity.name} started processing: {env.now}')\n",
    "    entity.start_service_at_resource(resource)\n",
    "#   resource.process_request(entity, request) # this is useful for when we want to move this logic into a resource subclass\n",
    "    yield env.timeout(next(resource.service_time_generator))\n",
    "    print(f'{entity.name} finished processing: {env.now}')\n",
    "    entity.release_resource(resource, request)\n",
    "    return entity\n",
    "\n",
    "\n",
    "def process(env, source, resource):\n",
    "    \"\"\" Generate arrivals into our simulation\n",
    "    \n",
    "    Arguments:   \n",
    "     env:  Our simulation environment\n",
    "     number: number of jobs to generate\n",
    "     res: Shared resource\n",
    "     \n",
    "    \"\"\"\n",
    "    \n",
    "    for arrival_time, entity in source.next_entity():\n",
    "        yield arrival_time\n",
    "        processed_entity = env.process(call_center(env, entity, resource))\n",
    "        processed_entity.callbacks.append(dispose(entity))\n",
    "                "
   ]
  },
  {
   "cell_type": "code",
   "execution_count": 4,
   "metadata": {},
   "outputs": [
    {
     "name": "stdout",
     "output_type": "stream",
     "text": [
      "Support Center 1\n",
      "\n",
      "job_0 requested call_center: 0\n",
      "job_0 started processing call_center: 0\n",
      "job_0 finished processing call_center: 4\n",
      "job_0 disposed: 4\n",
      "job_5 requested call_center: 5\n",
      "job_5 started processing call_center: 5\n",
      "job_5 finished processing call_center: 9\n",
      "job_5 disposed: 9\n",
      "job_10 requested call_center: 10\n",
      "job_10 started processing call_center: 10\n",
      "job_12 requested call_center: 12\n",
      "job_14 requested call_center: 14\n",
      "job_15 requested call_center: 15\n",
      "job_10 finished processing call_center: 20\n",
      "job_10 disposed: 20\n",
      "job_12 started processing call_center: 20\n",
      "job_12 finished processing call_center: 30\n",
      "job_12 disposed: 30\n",
      "job_14 started processing call_center: 30\n",
      "job_14 finished processing call_center: 40\n",
      "job_14 disposed: 40\n",
      "job_15 started processing call_center: 40\n",
      "job_15 finished processing call_center: 50\n",
      "job_15 disposed: 50\n",
      "job_55 requested call_center: 55\n",
      "job_55 started processing call_center: 55\n",
      "job_55 finished processing call_center: 56\n",
      "job_55 disposed: 56\n"
     ]
    }
   ],
   "source": [
    "class CallCenter(Resource):\n",
    "    def process_entity(self, entity):\n",
    "        print(f\"processing entity with name {entity.name}\")\n",
    "    \n",
    "        \n",
    "# Setup and start the simulation\n",
    "print('Support Center 1\\n')\n",
    "env = simpy.Environment()\n",
    "\n",
    "source = Source(env, Entity, interarrival_time_generator)\n",
    "# Start processes and run\n",
    "resource = Resource(env, name=\"call_center\", capacity=1, service_time_generator=call_center_service_time_generator)\n",
    "env.process(process(env, source, resource))\n",
    "env.run()"
   ]
  },
  {
   "cell_type": "code",
   "execution_count": 5,
   "metadata": {},
   "outputs": [
    {
     "name": "stdout",
     "output_type": "stream",
     "text": [
      "[4, 4, 10, 18, 26, 35, 1]\n",
      "[0, 0, 0, 8, 16, 25, 0]\n",
      "[4, 4, 10, 10, 10, 10, 1]\n"
     ]
    }
   ],
   "source": [
    "\"\"\"\n",
    "Statistics collected by entities that passed through system\n",
    "\"\"\"\n",
    "system_time = source.get_total_times()\n",
    "print(source.get_total_times())\n",
    "print(source.get_waiting_times())\n",
    "print(source.get_processing_times())"
   ]
  },
  {
   "cell_type": "code",
   "execution_count": 6,
   "metadata": {},
   "outputs": [
    {
     "name": "stdout",
     "output_type": "stream",
     "text": [
      "[(0, 0, 'request'), (4, 0, 'release'), (5, 0, 'request'), (9, 0, 'release'), (10, 0, 'request'), (12, 1, 'request'), (14, 2, 'request'), (15, 3, 'request'), (20, 3, 'release'), (30, 2, 'release'), (40, 1, 'release'), (50, 0, 'release'), (55, 0, 'request'), (56, 0, 'release')]\n"
     ]
    },
    {
     "ename": "NotImplementedError",
     "evalue": "Implement this method",
     "output_type": "error",
     "traceback": [
      "\u001b[0;31m---------------------------------------------------------------------------\u001b[0m",
      "\u001b[0;31mNotImplementedError\u001b[0m                       Traceback (most recent call last)",
      "\u001b[0;32m<ipython-input-6-b8ce5cb06c14>\u001b[0m in \u001b[0;36m<module>\u001b[0;34m\u001b[0m\n\u001b[1;32m      3\u001b[0m \"\"\"\n\u001b[1;32m      4\u001b[0m \u001b[0mprint\u001b[0m\u001b[0;34m(\u001b[0m\u001b[0mresource\u001b[0m\u001b[0;34m.\u001b[0m\u001b[0mqueue_size_over_time\u001b[0m\u001b[0;34m(\u001b[0m\u001b[0;34m)\u001b[0m\u001b[0;34m)\u001b[0m\u001b[0;34m\u001b[0m\u001b[0m\n\u001b[0;32m----> 5\u001b[0;31m \u001b[0mresource\u001b[0m\u001b[0;34m.\u001b[0m\u001b[0mprocess_entity\u001b[0m\u001b[0;34m(\u001b[0m\u001b[0;34m{\u001b[0m\u001b[0;34m}\u001b[0m\u001b[0;34m)\u001b[0m\u001b[0;34m\u001b[0m\u001b[0m\n\u001b[0m",
      "\u001b[0;32m~/36109/simpy/Stats.py\u001b[0m in \u001b[0;36mprocess_entity\u001b[0;34m(self, entity)\u001b[0m\n\u001b[1;32m     37\u001b[0m \u001b[0;34m\u001b[0m\u001b[0m\n\u001b[1;32m     38\u001b[0m     \u001b[0;32mdef\u001b[0m \u001b[0mprocess_entity\u001b[0m\u001b[0;34m(\u001b[0m\u001b[0mself\u001b[0m\u001b[0;34m,\u001b[0m \u001b[0mentity\u001b[0m\u001b[0;34m)\u001b[0m\u001b[0;34m:\u001b[0m\u001b[0;34m\u001b[0m\u001b[0m\n\u001b[0;32m---> 39\u001b[0;31m         \u001b[0;32mraise\u001b[0m \u001b[0mNotImplementedError\u001b[0m\u001b[0;34m(\u001b[0m\u001b[0;34m\"Implement this method\"\u001b[0m\u001b[0;34m)\u001b[0m\u001b[0;34m\u001b[0m\u001b[0m\n\u001b[0m\u001b[1;32m     40\u001b[0m \u001b[0;34m\u001b[0m\u001b[0m\n\u001b[1;32m     41\u001b[0m \u001b[0;32mclass\u001b[0m \u001b[0mEntity\u001b[0m\u001b[0;34m(\u001b[0m\u001b[0mobject\u001b[0m\u001b[0;34m)\u001b[0m\u001b[0;34m:\u001b[0m\u001b[0;34m\u001b[0m\u001b[0m\n",
      "\u001b[0;31mNotImplementedError\u001b[0m: Implement this method"
     ]
    }
   ],
   "source": [
    "\"\"\"\n",
    "Statistics collected by resource\n",
    "\"\"\"\n",
    "print(resource.queue_size_over_time())\n",
    "resource.process_entity({})"
   ]
  },
  {
   "cell_type": "code",
   "execution_count": 25,
   "metadata": {},
   "outputs": [
    {
     "name": "stdout",
     "output_type": "stream",
     "text": [
      "The average system time is: 14.0\n"
     ]
    }
   ],
   "source": [
    "print('The average system time is:',np.mean(system_time))"
   ]
  },
  {
   "cell_type": "code",
   "execution_count": 26,
   "metadata": {},
   "outputs": [
    {
     "data": {
      "image/png": "[encoded data removed]",
      "text/plain": [
       "<Figure size 432x288 with 1 Axes>"
      ]
     },
     "metadata": {
      "needs_background": "light"
     },
     "output_type": "display_data"
    }
   ],
   "source": [
    "# Tinker with number of bins, until it looks right\n",
    "plt.hist(system_time,bins=36)\n",
    "# you can customize the exact tick marks on an axis\n",
    "plt.yticks(range(0,3))\n",
    "plt.ylabel('Frequency');\n",
    "plt.xlabel('Time in System');"
   ]
  },
  {
   "cell_type": "markdown",
   "metadata": {},
   "source": [
    "## The NumPy package provides lots of statistical methods, we call it with `np`"
   ]
  },
  {
   "cell_type": "code",
   "execution_count": 27,
   "metadata": {},
   "outputs": [
    {
     "data": {
      "text/plain": [
       "35"
      ]
     },
     "execution_count": 27,
     "metadata": {},
     "output_type": "execute_result"
    }
   ],
   "source": [
    "np.max(system_time)"
   ]
  },
  {
   "cell_type": "code",
   "execution_count": 28,
   "metadata": {},
   "outputs": [
    {
     "data": {
      "text/plain": [
       "10.0"
      ]
     },
     "execution_count": 28,
     "metadata": {},
     "output_type": "execute_result"
    }
   ],
   "source": [
    "# 50th percentile, or median\n",
    "np.percentile(system_time,50)"
   ]
  },
  {
   "cell_type": "code",
   "execution_count": 29,
   "metadata": {},
   "outputs": [
    {
     "data": {
      "text/plain": [
       "10.0"
      ]
     },
     "execution_count": 29,
     "metadata": {},
     "output_type": "execute_result"
    }
   ],
   "source": [
    "np.median(system_time)"
   ]
  },
  {
   "cell_type": "code",
   "execution_count": 30,
   "metadata": {},
   "outputs": [
    {
     "data": {
      "text/plain": [
       "11.868325191750639"
      ]
     },
     "execution_count": 30,
     "metadata": {},
     "output_type": "execute_result"
    }
   ],
   "source": [
    "np.std(system_time)"
   ]
  },
  {
   "cell_type": "markdown",
   "metadata": {},
   "source": [
    "# Support Center: Homework/Class work\n",
    "\n",
    "Add to this notebook to answer the following:\n",
    "\n",
    "1. Consider the number of jobs in the queue over time, from 0 until all jobs are completed\n",
    "  - What is the average number of jobs in the queue?\n",
    "  - Form a histogram of the number of jobs in the queue\n",
    "\n",
    "1. Consider the time jobs spend in the queue, before beginning service.\n",
    "  - What is the average time a job spends in the queue?\n",
    "  - Form a histogram of the time jobs spend in the queue\n",
    "  \n"
   ]
  }
 ],
 "metadata": {
  "kernelspec": {
   "display_name": "Python 3",
   "language": "python",
   "name": "python3"
  },
  "language_info": {
   "codemirror_mode": {
    "name": "ipython",
    "version": 3
   },
   "file_extension": ".py",
   "mimetype": "text/x-python",
   "name": "python",
   "nbconvert_exporter": "python",
   "pygments_lexer": "ipython3",
   "version": "3.7.0"
  }
 },
 "nbformat": 4,
 "nbformat_minor": 4
}
