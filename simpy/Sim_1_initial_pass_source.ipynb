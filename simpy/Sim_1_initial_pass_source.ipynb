{
 "cells": [
  {
   "cell_type": "markdown",
   "metadata": {},
   "source": [
    "# Support Center Queue\n",
    "\n",
    "Jill manages a software support center.  Jill wants to run an analysis on how long support requests remain in the system before getting resolved.  Collecting some stats and showing a Histogram of request time in system seems like a nice outcome.  Jill has data of when each request enters the system, and when each request is resolved.  \n",
    "\n",
    "One methodology is to gather various Scenarios for which to analyze.  For example, a Busy Post Launch Scenario, a Mild Scenario,  A Monday Morning Scenario, etc.   And then use these scenarios to plan staffing, etc.\n",
    "\n",
    "To test her methodology and code, she will use the following small dataset and make the following assumptions:\n",
    "\n",
    "- Jobs arrive, are processed, and complete only at integral units of minutes\n",
    "- Request arrival times:  `0, 5, 10, 12, 14, 15, 55`\n",
    "- So, the time between arrivals is `5, 5, 2, 2, 1, 40`\n",
    "- Service times for each request, that is, time to resolve once started: `4, 4, 10, 10, 10, 10, 1`\n",
    "- There is a single support staff that processes requests First-In-First-Out (FIFO)"
   ]
  },
  {
   "cell_type": "code",
   "execution_count": 1,
   "metadata": {},
   "outputs": [],
   "source": [
    "import simpy\n",
    "import numpy as np\n",
    "import functools\n",
    "import matplotlib.pyplot as plt\n",
    "from pprint import pprint"
   ]
  },
  {
   "cell_type": "code",
   "execution_count": 2,
   "metadata": {},
   "outputs": [],
   "source": [
    "system_time = []\n",
    "interarrival_times = [5, 5, 2, 2, 1, 40]\n",
    "service_times = [4, 4, 10, 10, 10, 10, 1] \n",
    "NUM_JOBS = len(service_times)"
   ]
  },
  {
   "cell_type": "code",
   "execution_count": 3,
   "metadata": {},
   "outputs": [],
   "source": [
    "def source(env, number, res):\n",
    "    \"\"\" Generate arrivals into our simulation\n",
    "    \n",
    "    Arguments:   \n",
    "     env:  Our simulation environment\n",
    "     number: number of jobs to generate\n",
    "     res: Shared resource\n",
    "    \"\"\"\n",
    "    for i in range(number):     # keep looping until all jobs are generated\n",
    "        service_time = service_times.pop(0)   # grab the first service time and then delete from list\n",
    "        job_name = f'Job_{i}'      # create a job name string \n",
    "        print(f'\\nGenerate {job_name} with service time: {service_time}')\n",
    "        j = job(env, job_name, res, service_time)   # create a new job and add it to our simulation env\n",
    "        env.process(j)\n",
    "        \n",
    "        if len(time_between_jobs) > 0:   # make sure there is another interarrival time\n",
    "            time_between = time_between_jobs.pop(0)  # grab first interarrival time from list\n",
    "            print(f'Next Job in: {time_between} time units')  \n",
    "            yield env.timeout(time_between)  # pause here for interarrival time"
   ]
  },
  {
   "cell_type": "code",
   "execution_count": 4,
   "metadata": {},
   "outputs": [
    {
     "name": "stdout",
     "output_type": "stream",
     "text": [
      "5: 0 arrived\n",
      "5: 0 Accessed the server\n",
      "9: 0 left service\n",
      "9: 0 Total time in system: 4\n",
      "\n",
      "10: 1 arrived\n",
      "10: 1 Accessed the server\n",
      "12: 2 arrived\n",
      "14: 1 left service\n",
      "14: 1 Total time in system: 4\n",
      "\n",
      "14: 3 arrived\n",
      "14: 2 Accessed the server\n",
      "15: 4 arrived\n",
      "24: 2 left service\n",
      "24: 2 Total time in system: 12\n",
      "\n",
      "24: 3 Accessed the server\n",
      "34: 3 left service\n",
      "34: 3 Total time in system: 20\n",
      "\n",
      "34: 4 Accessed the server\n",
      "44: 4 left service\n",
      "44: 4 Total time in system: 29\n",
      "\n",
      "55: 5 arrived\n",
      "55: 5 Accessed the server\n",
      "65: 5 left service\n",
      "65: 5 Total time in system: 10\n",
      "\n"
     ]
    },
    {
     "data": {
      "text/plain": [
       "[(5, 0),\n",
       " (9, 0),\n",
       " (10, 0),\n",
       " (12, 0),\n",
       " (14, 1),\n",
       " (14, 1),\n",
       " (15, 1),\n",
       " (24, 2),\n",
       " (34, 1),\n",
       " (44, 0),\n",
       " (55, 0),\n",
       " (65, 0)]"
      ]
     },
     "execution_count": 4,
     "metadata": {},
     "output_type": "execute_result"
    }
   ],
   "source": [
    "# +------------------------------+        +------------------------------+\n",
    "# |                              |        |                              |\n",
    "# |       producer               |        |        consumer              |\n",
    "# |                              +-------->                              |\n",
    "# | - interarrival times         |        | - reads from store           |\n",
    "# | - service times              |        | - processes jobs             |\n",
    "# | - Puts jobs in store         |        | - Disposes of jobs           |\n",
    "# |                              |        |                              |\n",
    "# +------------------------------+        +------------------------------+\n",
    "\n",
    "system_time2 = []\n",
    "\n",
    "def consumer(env, entity):\n",
    "    name, service_time, request = entity \n",
    "    print(f'{env.now}: {name} arrived')\n",
    "    arr_time = env.now\n",
    "    yield request\n",
    "    print(f'{env.now}: {name} Accessed the server')\n",
    "    yield env.timeout(service_time)\n",
    "    resource.release(request)\n",
    "    dispose(env, (name, arr_time))\n",
    "\n",
    "\n",
    "def producer(env, store, resource):\n",
    "    \n",
    "    # these arrays could be more complex objects that are produced by the producer\n",
    "    # they could contain attributes that the consumer factors in to processing\n",
    "    # they should keep track of statistics like \"total wait time\".\n",
    "    interarrival_times = [5, 5, 2, 2, 1, 40]\n",
    "    service_times = [4, 4, 10, 10, 10, 10, 1] \n",
    "    for i, (interarrival_time, service_time) in enumerate(zip(interarrival_times, service_times)):\n",
    "        yield env.timeout(interarrival_time)\n",
    "        request = resource.request()\n",
    "        env.process(consumer(env, (i, service_time, request)))\n",
    "\n",
    "def dispose(env, entity):\n",
    "    name, arr_time = entity\n",
    "    print(f'{env.now}: {name} left service') \n",
    "    total_time = env.now - arr_time  \n",
    "    print(f'{env.now}: {name} Total time in system: {total_time}\\n')\n",
    "    system_time2.append(total_time)\n",
    "        \n",
    "class MonitoredResource(simpy.Resource):\n",
    "    def __init__(self, *args, **kwargs):\n",
    "        super().__init__(*args, **kwargs)\n",
    "        self.data = []\n",
    "\n",
    "    def request(self, *args, **kwargs):\n",
    "        self.data.append((self._env.now, len(self.queue)))\n",
    "        return super().request(*args, **kwargs)\n",
    "\n",
    "    def release(self, *args, **kwargs):\n",
    "        self.data.append((self._env.now, len(self.queue)))\n",
    "        return super().release(*args, **kwargs)\n",
    "        \n",
    "env = simpy.Environment()\n",
    "store = simpy.Store(env, capacity=float('Inf'))\n",
    "resource = MonitoredResource(env, capacity=1)\n",
    "prod = env.process(producer(env, store, resource))\n",
    "env.run()\n",
    "resource.data"
   ]
  },
  {
   "cell_type": "code",
   "execution_count": 6,
   "metadata": {},
   "outputs": [],
   "source": [
    "def job(env, name, server, time_in_bank):\n",
    "    \"\"\"Customer arrives, is served and leaves.\n",
    "    \n",
    "    Arguments:\n",
    "        env: \n",
    "    \"\"\"\n",
    "    print(f'{env.now}: {name} arrived\\n')\n",
    "    arr_time = env.now\n",
    "    \n",
    "    request = server.request()  # request the server\n",
    "    yield request               # wait for the server\n",
    "    print(f'{env.now}: {name} Accessed the server')\n",
    "    yield env.timeout(time_in_bank)  # server processes job\n",
    "    server.release(request)      # you must free up the server\n",
    "    print(f'{env.now}: {name} left service') \n",
    "    \n",
    "    total_time = env.now - arr_time  \n",
    "    print(f'{env.now}: {name} Total time in system: {total_time}') \n",
    "    system_time.append(total_time)\n"
   ]
  },
  {
   "cell_type": "code",
   "execution_count": 7,
   "metadata": {},
   "outputs": [
    {
     "name": "stdout",
     "output_type": "stream",
     "text": [
      "Support Center 1\n",
      "\n",
      "\n",
      "Generate Job_0 with service time: 4\n",
      "0: Job_0 arrived\n",
      "\n"
     ]
    },
    {
     "ename": "NameError",
     "evalue": "name 'time_between_jobs' is not defined",
     "output_type": "error",
     "traceback": [
      "\u001b[0;31m---------------------------------------------------------------------------\u001b[0m",
      "\u001b[0;31mNameError\u001b[0m                                 Traceback (most recent call last)",
      "\u001b[0;32m<ipython-input-3-e39a6e081a29>\u001b[0m in \u001b[0;36msource\u001b[0;34m(env, number, res)\u001b[0m\n\u001b[1;32m     15\u001b[0m \u001b[0;34m\u001b[0m\u001b[0m\n\u001b[0;32m---> 16\u001b[0;31m         \u001b[0;32mif\u001b[0m \u001b[0mlen\u001b[0m\u001b[0;34m(\u001b[0m\u001b[0mtime_between_jobs\u001b[0m\u001b[0;34m)\u001b[0m \u001b[0;34m>\u001b[0m \u001b[0;36m0\u001b[0m\u001b[0;34m:\u001b[0m   \u001b[0;31m# make sure there is another interarrival time\u001b[0m\u001b[0;34m\u001b[0m\u001b[0m\n\u001b[0m\u001b[1;32m     17\u001b[0m             \u001b[0mtime_between\u001b[0m \u001b[0;34m=\u001b[0m \u001b[0mtime_between_jobs\u001b[0m\u001b[0;34m.\u001b[0m\u001b[0mpop\u001b[0m\u001b[0;34m(\u001b[0m\u001b[0;36m0\u001b[0m\u001b[0;34m)\u001b[0m  \u001b[0;31m# grab first interarrival time from list\u001b[0m\u001b[0;34m\u001b[0m\u001b[0m\n",
      "\u001b[0;31mNameError\u001b[0m: name 'time_between_jobs' is not defined",
      "\nThe above exception was the direct cause of the following exception:\n",
      "\u001b[0;31mNameError\u001b[0m                                 Traceback (most recent call last)",
      "\u001b[0;32m<ipython-input-7-99963bf2984f>\u001b[0m in \u001b[0;36m<module>\u001b[0;34m\u001b[0m\n\u001b[1;32m      6\u001b[0m \u001b[0mserver_resource\u001b[0m \u001b[0;34m=\u001b[0m \u001b[0mMonitoredResource\u001b[0m\u001b[0;34m(\u001b[0m\u001b[0menv\u001b[0m\u001b[0;34m,\u001b[0m \u001b[0mcapacity\u001b[0m\u001b[0;34m=\u001b[0m\u001b[0;36m1\u001b[0m\u001b[0;34m)\u001b[0m\u001b[0;34m\u001b[0m\u001b[0m\n\u001b[1;32m      7\u001b[0m \u001b[0menv\u001b[0m\u001b[0;34m.\u001b[0m\u001b[0mprocess\u001b[0m\u001b[0;34m(\u001b[0m\u001b[0msource\u001b[0m\u001b[0;34m(\u001b[0m\u001b[0menv\u001b[0m\u001b[0;34m,\u001b[0m \u001b[0mNUM_JOBS\u001b[0m\u001b[0;34m,\u001b[0m \u001b[0mserver_resource\u001b[0m\u001b[0;34m)\u001b[0m\u001b[0;34m)\u001b[0m\u001b[0;34m\u001b[0m\u001b[0m\n\u001b[0;32m----> 8\u001b[0;31m \u001b[0menv\u001b[0m\u001b[0;34m.\u001b[0m\u001b[0mrun\u001b[0m\u001b[0;34m(\u001b[0m\u001b[0;34m)\u001b[0m\u001b[0;34m\u001b[0m\u001b[0m\n\u001b[0m",
      "\u001b[0;32m~/.local/share/virtualenvs/36109-xWApQpbH/lib/python3.7/site-packages/simpy/core.py\u001b[0m in \u001b[0;36mrun\u001b[0;34m(self, until)\u001b[0m\n\u001b[1;32m    136\u001b[0m         \u001b[0;32mtry\u001b[0m\u001b[0;34m:\u001b[0m\u001b[0;34m\u001b[0m\u001b[0m\n\u001b[1;32m    137\u001b[0m             \u001b[0;32mwhile\u001b[0m \u001b[0;32mTrue\u001b[0m\u001b[0;34m:\u001b[0m\u001b[0;34m\u001b[0m\u001b[0m\n\u001b[0;32m--> 138\u001b[0;31m                 \u001b[0mself\u001b[0m\u001b[0;34m.\u001b[0m\u001b[0mstep\u001b[0m\u001b[0;34m(\u001b[0m\u001b[0;34m)\u001b[0m\u001b[0;34m\u001b[0m\u001b[0m\n\u001b[0m\u001b[1;32m    139\u001b[0m         \u001b[0;32mexcept\u001b[0m \u001b[0mStopSimulation\u001b[0m \u001b[0;32mas\u001b[0m \u001b[0mexc\u001b[0m\u001b[0;34m:\u001b[0m\u001b[0;34m\u001b[0m\u001b[0m\n\u001b[1;32m    140\u001b[0m             \u001b[0;32mreturn\u001b[0m \u001b[0mexc\u001b[0m\u001b[0;34m.\u001b[0m\u001b[0margs\u001b[0m\u001b[0;34m[\u001b[0m\u001b[0;36m0\u001b[0m\u001b[0;34m]\u001b[0m  \u001b[0;31m# == until.value\u001b[0m\u001b[0;34m\u001b[0m\u001b[0m\n",
      "\u001b[0;32m~/.local/share/virtualenvs/36109-xWApQpbH/lib/python3.7/site-packages/simpy/core.py\u001b[0m in \u001b[0;36mstep\u001b[0;34m(self)\u001b[0m\n\u001b[1;32m    228\u001b[0m             \u001b[0mexc\u001b[0m \u001b[0;34m=\u001b[0m \u001b[0mtype\u001b[0m\u001b[0;34m(\u001b[0m\u001b[0mevent\u001b[0m\u001b[0;34m.\u001b[0m\u001b[0m_value\u001b[0m\u001b[0;34m)\u001b[0m\u001b[0;34m(\u001b[0m\u001b[0;34m*\u001b[0m\u001b[0mevent\u001b[0m\u001b[0;34m.\u001b[0m\u001b[0m_value\u001b[0m\u001b[0;34m.\u001b[0m\u001b[0margs\u001b[0m\u001b[0;34m)\u001b[0m\u001b[0;34m\u001b[0m\u001b[0m\n\u001b[1;32m    229\u001b[0m             \u001b[0mexc\u001b[0m\u001b[0;34m.\u001b[0m\u001b[0m__cause__\u001b[0m \u001b[0;34m=\u001b[0m \u001b[0mevent\u001b[0m\u001b[0;34m.\u001b[0m\u001b[0m_value\u001b[0m\u001b[0;34m\u001b[0m\u001b[0m\n\u001b[0;32m--> 230\u001b[0;31m             \u001b[0;32mraise\u001b[0m \u001b[0mexc\u001b[0m\u001b[0;34m\u001b[0m\u001b[0m\n\u001b[0m",
      "\u001b[0;31mNameError\u001b[0m: name 'time_between_jobs' is not defined"
     ]
    }
   ],
   "source": [
    "# Setup and start the simulation\n",
    "print('Support Center 1\\n')\n",
    "env = simpy.Environment()\n",
    "\n",
    "# Start processes and run\n",
    "server_resource = MonitoredResource(env, capacity=1)\n",
    "env.process(source(env, NUM_JOBS, server_resource))\n",
    "env.run()"
   ]
  },
  {
   "cell_type": "code",
   "execution_count": 88,
   "metadata": {},
   "outputs": [
    {
     "name": "stdout",
     "output_type": "stream",
     "text": [
      "The average system time is: 27.571428571428573\n"
     ]
    },
    {
     "data": {
      "text/plain": [
       "[(0, 0),\n",
       " (0, 0),\n",
       " (0, 1),\n",
       " (0, 2),\n",
       " (0, 3),\n",
       " (0, 4),\n",
       " (0, 5),\n",
       " (4, 6),\n",
       " (8, 5),\n",
       " (18, 4),\n",
       " (28, 3),\n",
       " (38, 2),\n",
       " (48, 1),\n",
       " (49, 0)]"
      ]
     },
     "execution_count": 88,
     "metadata": {},
     "output_type": "execute_result"
    }
   ],
   "source": [
    "print('The average system time is:',np.mean(system_time))\n",
    "server_resource.data"
   ]
  },
  {
   "cell_type": "code",
   "execution_count": 10,
   "metadata": {},
   "outputs": [
    {
     "data": {
      "image/png": "[encoded data removed]",
      "text/plain": [
       "<Figure size 432x288 with 1 Axes>"
      ]
     },
     "metadata": {
      "needs_background": "light"
     },
     "output_type": "display_data"
    }
   ],
   "source": [
    "# Tinker with number of bins, until it looks right\n",
    "plt.hist(system_time,bins=36)\n",
    "# you can customize the exact tick marks on an axis\n",
    "plt.yticks(range(0,3))\n",
    "plt.ylabel('Frequency');\n",
    "plt.xlabel('Time in System');"
   ]
  },
  {
   "cell_type": "markdown",
   "metadata": {},
   "source": [
    "## The NumPy package provides lots of statistical methods, we call it with `np`"
   ]
  },
  {
   "cell_type": "code",
   "execution_count": 13,
   "metadata": {},
   "outputs": [
    {
     "data": {
      "text/plain": [
       "35"
      ]
     },
     "execution_count": 13,
     "metadata": {},
     "output_type": "execute_result"
    }
   ],
   "source": [
    "np.max(system_time)"
   ]
  },
  {
   "cell_type": "code",
   "execution_count": 14,
   "metadata": {},
   "outputs": [
    {
     "data": {
      "text/plain": [
       "10.0"
      ]
     },
     "execution_count": 14,
     "metadata": {},
     "output_type": "execute_result"
    }
   ],
   "source": [
    "# 50th percentile, or median\n",
    "np.percentile(system_time,50)"
   ]
  },
  {
   "cell_type": "code",
   "execution_count": 15,
   "metadata": {},
   "outputs": [
    {
     "data": {
      "text/plain": [
       "10.0"
      ]
     },
     "execution_count": 15,
     "metadata": {},
     "output_type": "execute_result"
    }
   ],
   "source": [
    "np.median(system_time)"
   ]
  },
  {
   "cell_type": "code",
   "execution_count": 16,
   "metadata": {},
   "outputs": [
    {
     "data": {
      "text/plain": [
       "11.868325191750639"
      ]
     },
     "execution_count": 16,
     "metadata": {},
     "output_type": "execute_result"
    }
   ],
   "source": [
    "np.std(system_time)"
   ]
  },
  {
   "cell_type": "markdown",
   "metadata": {},
   "source": [
    "# Support Center: Homework/Class work\n",
    "\n",
    "Add to this notebook to answer the following:\n",
    "\n",
    "1. Consider the number of jobs in the queue over time, from 0 until all jobs are completed\n",
    "  - What is the average number of jobs in the queue?\n",
    "  - Form a histogram of the number of jobs in the queue\n",
    "\n",
    "1. Consider the time jobs spend in the queue, before beginning service.\n",
    "  - What is the average time a job spends in the queue?\n",
    "  - Form a histogram of the time jobs spend in the queue\n",
    "  \n"
   ]
  },
  {
   "cell_type": "code",
   "execution_count": null,
   "metadata": {},
   "outputs": [],
   "source": []
  }
 ],
 "metadata": {
  "kernelspec": {
   "display_name": "Python 3",
   "language": "python",
   "name": "python3"
  },
  "language_info": {
   "codemirror_mode": {
    "name": "ipython",
    "version": 3
   },
   "file_extension": ".py",
   "mimetype": "text/x-python",
   "name": "python",
   "nbconvert_exporter": "python",
   "pygments_lexer": "ipython3",
   "version": "3.7.0"
  }
 },
 "nbformat": 4,
 "nbformat_minor": 4
}
