{
 "cells": [
  {
   "cell_type": "code",
   "execution_count": 8,
   "metadata": {},
   "outputs": [],
   "source": [
    "import simpy\n",
    "import numpy as np\n",
    "import functools\n",
    "import matplotlib.pyplot as plt\n",
    "from Stats import Entity, Resource, Source"
   ]
  },
  {
   "cell_type": "markdown",
   "metadata": {},
   "source": [
    "## Description of problem: \n",
    "\n",
    "You have to model a restaurant. Arrivals come in poisson distribution\n",
    "\n",
    "They must order. The Kitchen is described as follows: \n",
    " - 2 cooks\n",
    " - 3 things to order:\n",
    "   - fish -- 15 mins to prepare\n",
    "   - burger -- 5 mins to prepare\n",
    "   - salad -- 8 mins to prepare\n",
    "   \n",
    "Then must wait for a seat\n",
    "- people will sit for between 20-30 minutes. \n",
    "- Capacity: 10\n",
    "- Assume all attendees are dining alone (no need to worry about specific party capacity).\n"
   ]
  },
  {
   "cell_type": "code",
   "execution_count": 9,
   "metadata": {},
   "outputs": [],
   "source": [
    "# First, set up interarrival generators and classes to represent resources\n",
    "# for all of your problem parameters\n",
    "\n",
    "# To use simpy is to understand generators\n",
    "class Kitchen(Resource):\n",
    "    def __init__(self, env, *args, **kwargs):\n",
    "        self.name = \"kitchen\"\n",
    "        self.env = env\n",
    "        super().__init__(env, *args, **kwargs)\n",
    "    \n",
    "    def next_service_time(self, entity):\n",
    "        \"\"\"\n",
    "        Defines preparation time for each dish\n",
    "        \"\"\"\n",
    "        if entity.attributes[\"food\"] == \"Fish\":\n",
    "            return 15\n",
    "        elif entity.attributes[\"food\"] == \"Burger\":\n",
    "            return 5\n",
    "        elif entity.attributes[\"food\"] == \"Salad\":\n",
    "            return 8\n",
    "        else:\n",
    "            raise Exception(\"Restaurant does not serve this kind of food\")\n",
    "        \n",
    " \n",
    "class DiningRoom(Resource):\n",
    "    def __init__(self, env, *args, **kwargs):\n",
    "        self.name = \"DiningRoom\"\n",
    "        self.env = env\n",
    "        super().__init__(env, *args, **kwargs)\n",
    "    \n",
    "    def next_service_time(self, entity):\n",
    "        \"\"\"\n",
    "        logic for calculating next service time for resource\n",
    "        \"\"\"\n",
    "        return np.random.randint(20, 30) # 20 to 30 minute seating per entity\n",
    "\n",
    "class CustomerSource(Source):\n",
    "    def __init__(self, env, *args, **kwargs):\n",
    "        self.count = 0\n",
    "        self.foods = [\"Fish\", \"Burger\", \"Salad\"]\n",
    "        super().__init__(env, *args, **kwargs)\n",
    "    \n",
    "    def interarrival_time_generator(self):\n",
    "        for i in [5, 5, 10, 10, 30, 5, 1]:\n",
    "            yield i\n",
    "    \n",
    "    def sample_from_foods(self):\n",
    "        return np.random.choice(self.foods, p=[0.1,0.7,0.2])\n",
    "    \n",
    "    def build_entity(self, creation_time):\n",
    "        self.count += 1\n",
    "        food = self.sample_from_foods()\n",
    "        entity = Customer(env, f\"Customer {self.count}\", creation_time, food=food)\n",
    "        return entity\n",
    "\n",
    "# entities are in charge of the order in which interactions with resources occur\n",
    "class Customer(Entity):\n",
    "    def __init__(self, env, name, creation_time, *args, **kwargs):\n",
    "        self.env = env\n",
    "        super().__init__(env, name, creation_time, *args, **kwargs)\n",
    "    \n",
    "    # template method for all of the resources it needs to interact with\n",
    "    def process(self, kitchen, dining_room):\n",
    "        # interface with kitchen\n",
    "        request = self.request_resource(kitchen)\n",
    "        print(f'{self.name} requesting Chef: {self.env.now}')\n",
    "        yield request\n",
    "        \n",
    "        print(f'{self.name} started Cooking: {self.env.now}')        \n",
    "        self.start_service_at_resource(kitchen)\n",
    "        cook_time = kitchen.next_service_time(self)\n",
    "        print(f\"{self.name} cook time: {cook_time} for food {self.attributes['food']}\")\n",
    "        yield self.env.timeout(cook_time)\n",
    "        \n",
    "        print(f'{self.name} finished at kitchen: {self.env.now}')\n",
    "        self.release_resource(kitchen, request)\n",
    "        \n",
    "        # interface with dining_room\n",
    "        request = self.request_resource(dining_room)\n",
    "        print(f'{self.name} requesting Table: {self.env.now}')\n",
    "        yield request\n",
    "        \n",
    "        print(f'{self.name} started Seating At Table: {self.env.now}')        \n",
    "        self.start_service_at_resource(dining_room)\n",
    "        seat_time = dining_room.next_service_time(self)\n",
    "        print(f'{self.name} seat time is: {seat_time}')\n",
    "        yield self.env.timeout(seat_time)\n",
    "        \n",
    "        print(f'{self.name} finished in dining room: {self.env.now}')\n",
    "        self.release_resource(dining_room, request)\n",
    "\n",
    "        return self"
   ]
  },
  {
   "cell_type": "code",
   "execution_count": 4,
   "metadata": {},
   "outputs": [],
   "source": [
    "def process(env, customer_source, kitchen, dining_room):\n",
    "    \"\"\" Generate arrivals into our simulation\n",
    "    \n",
    "    Arguments:   \n",
    "     env:  Our simulation environment\n",
    "     source: the source of entities for our simulation\n",
    "     resource: Shared resource\n",
    "    \"\"\"\n",
    "    \n",
    "    def dispose(entity):\n",
    "        return lambda _: entity.dispose()\n",
    "    for arrival_time, customer in customer_source.next_entity():\n",
    "        yield arrival_time # wait for the next entity to appear\n",
    "        print(f\"new customer arriving {customer.name}\")\n",
    "        processed_entity = env.process(customer.process(kitchen, dining_room))\n",
    "        processed_entity.callbacks.append(dispose(customer))\n",
    "        print(\"finished appending callback\")"
   ]
  },
  {
   "cell_type": "code",
   "execution_count": 5,
   "metadata": {},
   "outputs": [
    {
     "name": "stdout",
     "output_type": "stream",
     "text": [
      "Restaurant Simulation\n",
      "\n"
     ]
    }
   ],
   "source": [
    "# Setup and start the simulation\n",
    "print('Restaurant Simulation\\n')\n",
    "env = simpy.Environment()\n",
    "\n",
    "source = CustomerSource(env)\n",
    "dining_room = DiningRoom(env,  capacity=2)\n",
    "kitchen = Kitchen(env, capacity=2)"
   ]
  },
  {
   "cell_type": "code",
   "execution_count": 6,
   "metadata": {},
   "outputs": [
    {
     "name": "stdout",
     "output_type": "stream",
     "text": [
      "new customer arriving Customer 1\n",
      "finished appending callback\n",
      "Customer 1 requesting Chef: 5\n",
      "> <ipython-input-3-17ee12d78336>(69)process()\n",
      "-> yield request\n"
     ]
    },
    {
     "name": "stdin",
     "output_type": "stream",
     "text": [
      "(Pdb)  c\n"
     ]
    },
    {
     "name": "stdout",
     "output_type": "stream",
     "text": [
      "Customer 1 started Cooking: 5\n",
      "Customer 1 cook time: 8 for food Salad\n",
      "new customer arriving Customer 2\n",
      "finished appending callback\n",
      "Customer 2 requesting Chef: 10\n",
      "> <ipython-input-3-17ee12d78336>(69)process()\n",
      "-> yield request\n"
     ]
    },
    {
     "name": "stdin",
     "output_type": "stream",
     "text": [
      "(Pdb)  c\n"
     ]
    },
    {
     "name": "stdout",
     "output_type": "stream",
     "text": [
      "Customer 2 started Cooking: 10\n",
      "Customer 2 cook time: 5 for food Burger\n",
      "Customer 1 finished at kitchen: 13\n",
      "Customer 1 requesting Table: 13\n",
      "Customer 1 started Seating At Table: 13\n",
      "Customer 1 seat time is: 22\n",
      "Customer 2 finished at kitchen: 15\n",
      "Customer 2 requesting Table: 15\n",
      "Customer 2 started Seating At Table: 15\n",
      "Customer 2 seat time is: 27\n",
      "new customer arriving Customer 3\n",
      "finished appending callback\n",
      "Customer 3 requesting Chef: 20\n",
      "> <ipython-input-3-17ee12d78336>(69)process()\n",
      "-> yield request\n"
     ]
    },
    {
     "name": "stdin",
     "output_type": "stream",
     "text": [
      "(Pdb)  c\n"
     ]
    },
    {
     "name": "stdout",
     "output_type": "stream",
     "text": [
      "Customer 3 started Cooking: 20\n",
      "Customer 3 cook time: 5 for food Burger\n",
      "Customer 3 finished at kitchen: 25\n",
      "Customer 3 requesting Table: 25\n",
      "new customer arriving Customer 4\n",
      "finished appending callback\n",
      "Customer 4 requesting Chef: 30\n",
      "> <ipython-input-3-17ee12d78336>(69)process()\n",
      "-> yield request\n"
     ]
    },
    {
     "name": "stdin",
     "output_type": "stream",
     "text": [
      "(Pdb)  c\n"
     ]
    },
    {
     "name": "stdout",
     "output_type": "stream",
     "text": [
      "Customer 4 started Cooking: 30\n",
      "Customer 4 cook time: 5 for food Burger\n",
      "Customer 1 finished in dining room: 35\n",
      "Customer 4 finished at kitchen: 35\n",
      "Customer 4 requesting Table: 35\n",
      "Customer 1 disposed: 35\n",
      "Customer 3 started Seating At Table: 35\n",
      "Customer 3 seat time is: 26\n",
      "Customer 2 finished in dining room: 42\n",
      "Customer 2 disposed: 42\n",
      "Customer 4 started Seating At Table: 42\n",
      "Customer 4 seat time is: 20\n",
      "new customer arriving Customer 5\n",
      "finished appending callback\n",
      "Customer 5 requesting Chef: 60\n",
      "> <ipython-input-3-17ee12d78336>(69)process()\n",
      "-> yield request\n"
     ]
    },
    {
     "name": "stdin",
     "output_type": "stream",
     "text": [
      "(Pdb)  c\n"
     ]
    },
    {
     "name": "stdout",
     "output_type": "stream",
     "text": [
      "Customer 5 started Cooking: 60\n",
      "Customer 5 cook time: 5 for food Burger\n",
      "Customer 3 finished in dining room: 61\n",
      "Customer 3 disposed: 61\n",
      "Customer 4 finished in dining room: 62\n",
      "Customer 4 disposed: 62\n",
      "new customer arriving Customer 6\n",
      "finished appending callback\n",
      "Customer 6 requesting Chef: 65\n",
      "> <ipython-input-3-17ee12d78336>(69)process()\n",
      "-> yield request\n"
     ]
    },
    {
     "name": "stdin",
     "output_type": "stream",
     "text": [
      "(Pdb)  c\n"
     ]
    },
    {
     "name": "stdout",
     "output_type": "stream",
     "text": [
      "Customer 5 finished at kitchen: 65\n",
      "Customer 5 requesting Table: 65\n",
      "Customer 6 started Cooking: 65\n",
      "Customer 6 cook time: 5 for food Burger\n",
      "Customer 5 started Seating At Table: 65\n",
      "Customer 5 seat time is: 20\n",
      "new customer arriving Customer 7\n",
      "finished appending callback\n",
      "Customer 7 requesting Chef: 66\n",
      "> <ipython-input-3-17ee12d78336>(69)process()\n",
      "-> yield request\n"
     ]
    },
    {
     "name": "stdin",
     "output_type": "stream",
     "text": [
      "(Pdb)  c\n"
     ]
    },
    {
     "name": "stdout",
     "output_type": "stream",
     "text": [
      "Customer 7 started Cooking: 66\n",
      "Customer 7 cook time: 15 for food Fish\n",
      "Customer 6 finished at kitchen: 70\n",
      "Customer 6 requesting Table: 70\n",
      "Customer 6 started Seating At Table: 70\n",
      "Customer 6 seat time is: 23\n",
      "Customer 7 finished at kitchen: 81\n",
      "Customer 7 requesting Table: 81\n",
      "Customer 5 finished in dining room: 85\n",
      "Customer 5 disposed: 85\n",
      "Customer 7 started Seating At Table: 85\n",
      "Customer 7 seat time is: 28\n",
      "Customer 6 finished in dining room: 93\n",
      "Customer 6 disposed: 93\n",
      "Customer 7 finished in dining room: 113\n",
      "Customer 7 disposed: 113\n"
     ]
    }
   ],
   "source": [
    "env.process(process(env, source, kitchen, dining_room))\n",
    "env.run()"
   ]
  },
  {
   "cell_type": "code",
   "execution_count": 38,
   "metadata": {},
   "outputs": [
    {
     "name": "stdout",
     "output_type": "stream",
     "text": [
      "1\n",
      "2\n",
      "3\n",
      "4\n",
      "5\n",
      "6\n",
      "7\n",
      "8\n",
      "9\n",
      "10\n"
     ]
    }
   ],
   "source": [
    "class Thing:\n",
    "    \n",
    "    def __init__(self):\n",
    "        self.max = 10\n",
    "    \n",
    "    def __iter__(self):\n",
    "        self.n = 0 \n",
    "        return self\n",
    "    \n",
    "    def __next__(self):\n",
    "        if self.n < self.max:\n",
    "            self.n += 1\n",
    "            return self.n\n",
    "        else:\n",
    "            raise StopIteration\n",
    "\n",
    "for i in Thing():\n",
    "    print(i)\n"
   ]
  }
 ],
 "metadata": {
  "kernelspec": {
   "display_name": "Python 3",
   "language": "python",
   "name": "python3"
  },
  "language_info": {
   "codemirror_mode": {
    "name": "ipython",
    "version": 3
   },
   "file_extension": ".py",
   "mimetype": "text/x-python",
   "name": "python",
   "nbconvert_exporter": "python",
   "pygments_lexer": "ipython3",
   "version": "3.7.4"
  }
 },
 "nbformat": 4,
 "nbformat_minor": 4
}
