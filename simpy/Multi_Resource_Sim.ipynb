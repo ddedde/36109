{
 "cells": [
  {
   "cell_type": "code",
   "execution_count": 1,
   "metadata": {},
   "outputs": [],
   "source": [
    "import simpy\n",
    "import numpy as np\n",
    "import functools\n",
    "import matplotlib.pyplot as plt\n",
    "from Stats import Entity, Resource, Source"
   ]
  },
  {
   "cell_type": "markdown",
   "metadata": {},
   "source": [
    "## Things that Changed\n",
    "\n",
    "1. resources are now just globals that you access inside of the process function. You'll need to reference the resource via the same variable name"
   ]
  },
  {
   "cell_type": "markdown",
   "metadata": {},
   "source": [
    "## Description of problem: \n",
    "\n",
    "We are going to model a restaurant.\n",
    "\n",
    "Customers start by ordering, which is passed to the kitchen.\n",
    "The Kitchen is described as follows: \n",
    " - 2 cooks\n",
    " - 3 things to order:\n",
    "   - fish -- 15 mins to prepare\n",
    "   - burger -- 5 mins to prepare\n",
    "   - salad -- 8 mins to prepare\n",
    "   \n",
    "Then must wait for a seat\n",
    "- people will sit for between 20-30 minutes. \n",
    "- Capacity: 4\n",
    "- Assume all attendees are dining alone (no need to worry about specific party capacity, or matching to tables).\n"
   ]
  },
  {
   "cell_type": "markdown",
   "metadata": {},
   "source": [
    "## Step 1: Setting up Resource Classes\n",
    "\n",
    "First things first, let's define classes to represent our Kitchen and DiningRoom Resources. \n",
    "These resources will subclass the `Resource` class from the Stats library provided for this course in `stats.py`. \n",
    "\n",
    "The `Resource` class from the Stats library provides some handy helper methods for tracking statistics about Resource usage during simulation, so you don't have to manually instrument this yourself (as long as you subclass Resource).\n",
    "\n",
    "\n",
    "We must define the following for each resource:\n",
    "- a name attribute. This should be unique across all resource classes that you define\n",
    "- a `service_time` function that computes the service time for an entity\n",
    "\n",
    "Other configuration for resource that is done when you construct an instance:\n",
    "- capacity -- this is how many entities the resource can process in parallel (e.g. a capacity of 2 on kitchen means 2 chefs)."
   ]
  },
  {
   "cell_type": "code",
   "execution_count": 2,
   "metadata": {},
   "outputs": [],
   "source": [
    "# Our Kitchen class subclasses resource\n",
    "class Kitchen(Resource):\n",
    "    def service_time(self, entity):\n",
    "        \"\"\"\n",
    "        Defines preparation time for each dish\n",
    "        Since we can pass the entity being processed to next_service_time when we call it, \n",
    "        we can react to the requirements of the entity (e.g. fish takes longer to prepare)\n",
    "        \"\"\"\n",
    "        if entity.attributes[\"food\"] == \"Fish\":\n",
    "            return 15\n",
    "        elif entity.attributes[\"food\"] == \"Burger\":\n",
    "            return 5\n",
    "        elif entity.attributes[\"food\"] == \"Salad\":\n",
    "            return 8\n",
    "        else:\n",
    "            raise Exception(\"Restaurant does not serve this kind of food\")\n",
    "        \n",
    "\n",
    "# Our DiningRoom class subclasses Resource\n",
    "class DiningRoom(Resource):\n",
    "    def service_time(self, entity):\n",
    "        \"\"\"\n",
    "        random integer of time between 20 and 30 minutes per problem specification\n",
    "        \"\"\"\n",
    "        return np.random.randint(20, 30) # 20 to 30 minute seating per entity\n",
    "\n"
   ]
  },
  {
   "cell_type": "markdown",
   "metadata": {},
   "source": [
    "## Step 2: Setting up Entity Class\n",
    "\n",
    "An entity is conceptually the \"things passing through your simulation\". In the case of a restaurant, we can think of customers as the entities.  \n",
    "\n",
    "These entities will travel through the simulation, will request resources, will perform actions that take time, might reneg and jump out of long queues, etc... All of this behavior should be defined in your entity class.\n",
    "\n",
    "Entities should subclass the `Entity` class from the stats library. The `Entity` class in the Stats library provides a bunch of methods useful for collecting summary statistics about an entity's trip through the system.\n",
    "\n",
    "An entity class should define the following:\n",
    "- a `process()` function) -- this defines how entities interact with resources in the system. Resources should be made globally accessible so you can access them in your process function\n",
    "\n",
    "Entities have the following methods available, which should be used in the body of your `process` function:\n",
    "- self.request_resource(resource) -- this function has the entity submit a resource request to the resource provided (e.g. self.request_resource(kitchen) will return a request to the kitchen).\n",
    "- self.start_service_at_resource(resource) -- this function logs when the resource is ready to begin processing the request of the entity. This is needed for statistics gathering.\n",
    "- self.release_resource(resource, request) -- this function will release the requested resource, freeing it up for another entity to use.\n",
    "\n",
    "See the definition of the `process` function in the Customer resource below for an example of how to interact with multiple resources during processing."
   ]
  },
  {
   "cell_type": "code",
   "execution_count": 3,
   "metadata": {},
   "outputs": [],
   "source": [
    "# entities are in charge of the order in which interactions with resources occur\n",
    "class Customer(Entity):\n",
    "    # process will be passed the resource dictionary that contains resources for your simulation\n",
    "    def process(self):\n",
    "        # interface with kitchen\n",
    "        request = self.request_resource(kitchen)\n",
    "        yield request\n",
    "        \n",
    "        self.start_service_at_resource(kitchen)\n",
    "        cook_time = kitchen.service_time(self) # next_service_time is defined in kitchen\n",
    "        yield self.env.timeout(cook_time)\n",
    "        \n",
    "        self.release_resource(kitchen, request)\n",
    "        \n",
    "        if np.random.random() <= 0.1:\n",
    "            print(f\"{self.name} sent food back, bump them to the front of the line\")\n",
    "            request = self.request_resource(kitchen, priority_override=0) # second argument is priority\n",
    "            yield request\n",
    "\n",
    "            self.start_service_at_resource(kitchen)\n",
    "            cook_time = kitchen.service_time(self) # next_service_time is defined in kitchen\n",
    "            yield self.env.timeout(cook_time)\n",
    "\n",
    "            self.release_resource(kitchen, request)\n",
    "                \n",
    "        # interface with dining_room\n",
    "        request = self.request_resource(dining_room)\n",
    "        yield request\n",
    "        \n",
    "        self.start_service_at_resource(dining_room)\n",
    "        seat_time = dining_room.service_time(self) # next_service_time is defined in dining_room\n",
    "        yield self.env.timeout(seat_time)\n",
    "        \n",
    "        self.release_resource(dining_room, request)"
   ]
  },
  {
   "cell_type": "markdown",
   "metadata": {},
   "source": [
    "## Step 3: Setting up Source Class\n",
    "\n",
    "Now that we have our resource and Entity classes defined, we should implement our Source class. \n",
    "\n",
    "Think of the source as the place where the simulation starts. It defines how often entities will arrive to the system (interarrival time) and how those entities are defined. It also keeps track of the number of entities created, and provides helper methods for calculating summary statistics at the end of simulation.\n",
    "\n",
    "Your source should subclass the `Source` class provided in the stats package.\n",
    "\n",
    "A source must have:\n",
    "- an `interarrival_time_generator` -- this is a generator function that will yield the next time that an entity is to be constructed and processed by the simulation. \n",
    "- a `build_entity` function -- this defines how entities are constructed when the source needs to build a new one. You can define how entity attributes are selected in this function (more on attributes later)\n",
    "\n",
    "Additional source configuration:\n",
    "- number -- this is the number of entities that will be produced during simulation."
   ]
  },
  {
   "cell_type": "code",
   "execution_count": 4,
   "metadata": {},
   "outputs": [],
   "source": [
    "# The source is what contains the interarrival time definition, and rules for constructing entities \n",
    "# with various attribute sets.\n",
    "class CustomerSource(Source):\n",
    "    def interarrival_time_generator(self):\n",
    "        while True:\n",
    "            yield np.random.choice([1, 5, 10, 20], p=[0.2,0.3,0.4,0.1])\n",
    "    \n",
    "    def sample_from_foods(self):\n",
    "        return np.random.choice([\"Fish\", \"Burger\", \"Salad\"], p=[0.1,0.7,0.2])\n",
    "    \n",
    "    def build_entity(self):\n",
    "        attributes = {\n",
    "            \"food\": self.sample_from_foods()\n",
    "        }\n",
    "        return Customer(env, attributes)"
   ]
  },
  {
   "cell_type": "markdown",
   "metadata": {},
   "source": [
    "## Step 4: Configure Classes \n",
    "\n",
    "Before beginning simulation, you need to create instances of your source and resource classes. You can pass any parameterizeable configuration to classes at this time (e.g. the capacity of each resource or the number of entities to create from the source).\n",
    "\n",
    "Also need to construct a simpy.Environment(), and pass this to each class in its constructor."
   ]
  },
  {
   "cell_type": "code",
   "execution_count": 5,
   "metadata": {},
   "outputs": [],
   "source": [
    "# Create simulation environment\n",
    "env = simpy.Environment()\n",
    "\n",
    "# Configure DiningRoom to have space for 4 diners\n",
    "dining_room = DiningRoom(env, capacity=2)\n",
    "\n",
    "# Configure Kitchen to have 2 chefs\n",
    "kitchen = Kitchen(env, capacity=1)\n",
    "\n",
    "# Configure source to generate fixed number of entities\n",
    "source = CustomerSource(env, number=10)\n",
    "\n",
    "# Aside: if students want to tune various parameters of the simulation, they could configure each component\n",
    "#        of the simulation here, then loop over the construction of each with different combinations of parameters"
   ]
  },
  {
   "cell_type": "markdown",
   "metadata": {},
   "source": [
    "## Step 5: Run Simulation \n",
    "\n",
    "Running the simulation is pretty simple... just pass your resources as a dictionary to the source.start function, and call env.run()"
   ]
  },
  {
   "cell_type": "code",
   "execution_count": 6,
   "metadata": {},
   "outputs": [
    {
     "name": "stdout",
     "output_type": "stream",
     "text": [
      "Customer 1 requesting Kitchen: 10\n",
      "Customer 1 started processing at Kitchen : 10\n",
      "Customer 2 requesting Kitchen: 11\n",
      "Customer 1 finished at Kitchen: 15\n",
      "Customer 1 requesting DiningRoom: 15\n",
      "Customer 1 started processing at DiningRoom : 15\n",
      "Customer 2 started processing at Kitchen : 15\n",
      "Customer 2 finished at Kitchen: 20\n",
      "Customer 2 requesting DiningRoom: 20\n",
      "Customer 2 started processing at DiningRoom : 20\n",
      "Customer 3 requesting Kitchen: 21\n",
      "Customer 3 started processing at Kitchen : 21\n",
      "Customer 3 finished at Kitchen: 26\n",
      "Customer 3 requesting DiningRoom: 26\n",
      "Customer 4 requesting Kitchen: 31\n",
      "Customer 4 started processing at Kitchen : 31\n",
      "Customer 1 finished at DiningRoom: 36\n",
      "Customer 1 disposed: 36\n",
      "Customer 3 started processing at DiningRoom : 36\n",
      "Customer 4 finished at Kitchen: 39\n",
      "Customer 4 requesting DiningRoom: 39\n",
      "Customer 2 finished at DiningRoom: 40\n",
      "Customer 2 disposed: 40\n",
      "Customer 4 started processing at DiningRoom : 40\n",
      "Customer 5 requesting Kitchen: 41\n",
      "Customer 5 started processing at Kitchen : 41\n",
      "Customer 6 requesting Kitchen: 46\n",
      "Customer 5 finished at Kitchen: 49\n",
      "Customer 5 requesting DiningRoom: 49\n",
      "Customer 6 started processing at Kitchen : 49\n",
      "Customer 3 finished at DiningRoom: 56\n",
      "Customer 7 requesting Kitchen: 56\n",
      "Customer 3 disposed: 56\n",
      "Customer 5 started processing at DiningRoom : 56\n",
      "Customer 8 requesting Kitchen: 61\n",
      "Customer 4 finished at DiningRoom: 62\n",
      "Customer 4 disposed: 62\n",
      "Customer 6 finished at Kitchen: 64\n",
      "Customer 6 requesting DiningRoom: 64\n",
      "Customer 6 started processing at DiningRoom : 64\n",
      "Customer 7 started processing at Kitchen : 64\n",
      "Customer 9 requesting Kitchen: 71\n",
      "Customer 10 requesting Kitchen: 76\n",
      "Customer 7 finished at Kitchen: 79\n",
      "Customer 7 requesting DiningRoom: 79\n",
      "Customer 8 started processing at Kitchen : 79\n",
      "Customer 5 finished at DiningRoom: 80\n",
      "Customer 5 disposed: 80\n",
      "Customer 7 started processing at DiningRoom : 80\n",
      "Customer 8 finished at Kitchen: 84\n",
      "Customer 8 sent food back, bump them to the front of the line\n",
      "Customer 8 requesting Kitchen: 84\n",
      "Customer 8 started processing at Kitchen : 84\n",
      "Customer 8 finished at Kitchen: 89\n",
      "Customer 8 requesting DiningRoom: 89\n",
      "Customer 9 started processing at Kitchen : 89\n",
      "Customer 6 finished at DiningRoom: 91\n",
      "Customer 6 disposed: 91\n",
      "Customer 8 started processing at DiningRoom : 91\n",
      "Customer 9 finished at Kitchen: 97\n",
      "Customer 9 requesting DiningRoom: 97\n",
      "Customer 10 started processing at Kitchen : 97\n",
      "Customer 10 finished at Kitchen: 105\n",
      "Customer 10 requesting DiningRoom: 105\n",
      "Customer 7 finished at DiningRoom: 109\n",
      "Customer 7 disposed: 109\n",
      "Customer 9 started processing at DiningRoom : 109\n",
      "Customer 8 finished at DiningRoom: 115\n",
      "Customer 8 disposed: 115\n",
      "Customer 10 started processing at DiningRoom : 115\n",
      "Customer 9 finished at DiningRoom: 132\n",
      "Customer 9 disposed: 132\n",
      "Customer 10 finished at DiningRoom: 140\n",
      "Customer 10 disposed: 140\n"
     ]
    }
   ],
   "source": [
    "env.process(source.start())\n",
    "env.run()"
   ]
  },
  {
   "cell_type": "markdown",
   "metadata": {},
   "source": [
    "## Step 6: Extract Summary Statistics from Source / Resource\n",
    "\n",
    "Source provides methods that calculate summary statistics about the entities while they were in the system. \n",
    "\n",
    "Resource provides methods to see what the queue was like at each resource over time.\n",
    "\n",
    "See the following code blocks for some plots and calculations made with the summary stats."
   ]
  },
  {
   "cell_type": "code",
   "execution_count": 7,
   "metadata": {},
   "outputs": [
    {
     "name": "stdout",
     "output_type": "stream",
     "text": [
      "total_time: [26, 29, 35, 31, 39, 45, 53, 54, 61, 64]\n",
      "waiting_time: [0, 4, 10, 1, 7, 3, 9, 20, 30, 31]\n",
      "processing_time: [26, 25, 25, 30, 32, 42, 44, 34, 31, 33]\n",
      "[0, 0, 0, 0, 0, 0, 0, 0, 0, 0, 0, 1, 1, 1, 1, 0, 0, 0, 0, 0, 0, 0, 0, 0, 0, 0, 0, 0, 0, 0, 0, 0, 0, 0, 0, 0, 0, 0, 0, 0, 0, 0, 0, 0, 0, 0, 1, 1, 1, 0, 0, 0, 0, 0, 0, 0, 1, 1, 1, 1, 1, 2, 2, 2, 1, 1, 1, 1, 1, 1, 1, 2, 2, 2, 2, 2, 3, 3, 3, 2, 2, 2, 2, 2, 2, 2, 2, 2, 2, 1, 1, 1, 1, 1, 1, 1, 1, 0, 0, 0, 0, 0, 0, 0, 0, 0, 0, 0, 0, 0, 0, 0, 0, 0, 0, 0, 0, 0, 0, 0, 0, 0, 0, 0, 0, 0, 0, 0, 0, 0, 0, 0, 0, 0, 0, 0, 0, 0, 0, 0]\n",
      "[0, 0, 0, 0, 0, 0, 0, 0, 0, 0, 0, 0, 0, 0, 0, 0, 0, 0, 0, 0, 0, 0, 0, 0, 0, 0, 1, 1, 1, 1, 1, 1, 1, 1, 1, 1, 0, 0, 0, 1, 0, 0, 0, 0, 0, 0, 0, 0, 0, 1, 1, 1, 1, 1, 1, 1, 0, 0, 0, 0, 0, 0, 0, 0, 0, 0, 0, 0, 0, 0, 0, 0, 0, 0, 0, 0, 0, 0, 0, 1, 0, 0, 0, 0, 0, 0, 0, 0, 0, 1, 1, 0, 0, 0, 0, 0, 0, 1, 1, 1, 1, 1, 1, 1, 1, 2, 2, 2, 2, 1, 1, 1, 1, 1, 1, 0, 0, 0, 0, 0, 0, 0, 0, 0, 0, 0, 0, 0, 0, 0, 0, 0, 0, 0, 0, 0, 0, 0, 0, 0]\n",
      "waiting time for kitchen resource [0, 0, 10, 1, 7, 0, 1, 2, 12, 10]\n",
      "processing time for kitchen resource [21, 20, 20, 22, 24, 27, 29, 24, 23, 25]\n"
     ]
    }
   ],
   "source": [
    "system_time = source.get_total_times()\n",
    "print(\"total_time:\", source.get_total_times())\n",
    "print(\"waiting_time:\", source.get_waiting_times()) \n",
    "print(\"processing_time:\", source.get_processing_times())\n",
    "\n",
    "\n",
    "# TODO: non-integer time for queue sizes (user can tell you how many buckets or bucket size)\n",
    "queue_over_time_kitchen = kitchen.queue_size_over_time() # sample queue length\n",
    "print(queue_over_time_kitchen)\n",
    "\n",
    "queue_over_time_dining_room = dining_room.queue_size_over_time() # sample queue length\n",
    "print(queue_over_time_dining_room)\n",
    "\n",
    "\n",
    "print(\"waiting time for kitchen resource\", source.get_waiting_times(dining_room))\n",
    "print(\"processing time for kitchen resource\", source.get_processing_times(dining_room))"
   ]
  },
  {
   "cell_type": "code",
   "execution_count": 8,
   "metadata": {},
   "outputs": [
    {
     "data": {
      "image/png": "[encoded data removed]",
      "text/plain": [
       "<Figure size 432x288 with 1 Axes>"
      ]
     },
     "metadata": {
      "needs_background": "light"
     },
     "output_type": "display_data"
    }
   ],
   "source": [
    "plt.hist(system_time,bins=5)\n",
    "# you can customize the exact tick marks on an axis\n",
    "plt.yticks(range(0,3))\n",
    "plt.ylabel('Frequency');\n",
    "plt.xlabel('Time in System');"
   ]
  },
  {
   "cell_type": "code",
   "execution_count": 26,
   "metadata": {},
   "outputs": [
    {
     "name": "stdout",
     "output_type": "stream",
     "text": [
      "Average number in queue: 0.0\n",
      "Max in queue: 0\n"
     ]
    },
    {
     "data": {
      "image/png": "[encoded data removed]",
      "text/plain": [
       "<Figure size 432x288 with 1 Axes>"
      ]
     },
     "metadata": {
      "needs_background": "light"
     },
     "output_type": "display_data"
    }
   ],
   "source": [
    "\"\"\"\n",
    "Histogram of queue over time\n",
    "\"\"\"\n",
    "plt.hist(queue_over_time_kitchen)\n",
    "print(f\"Average number in queue: {np.mean(queue_over_time_kitchen)}\")\n",
    "print(f\"Max in queue: {np.max(queue_over_time_kitchen)}\")"
   ]
  },
  {
   "cell_type": "code",
   "execution_count": 27,
   "metadata": {},
   "outputs": [
    {
     "name": "stdout",
     "output_type": "stream",
     "text": [
      "Average number in queue: 3.1877551020408164\n",
      "Max in queue: 7\n"
     ]
    },
    {
     "data": {
      "image/png": "[encoded data removed]",
      "text/plain": [
       "<Figure size 432x288 with 1 Axes>"
      ]
     },
     "metadata": {
      "needs_background": "light"
     },
     "output_type": "display_data"
    }
   ],
   "source": [
    "plt.hist(queue_over_time_dining_room)\n",
    "print(f\"Average number in queue: {np.mean(queue_over_time_dining_room)}\")\n",
    "print(f\"Max in queue: {np.max(queue_over_time_dining_room)}\")"
   ]
  },
  {
   "cell_type": "code",
   "execution_count": 12,
   "metadata": {},
   "outputs": [
    {
     "name": "stdout",
     "output_type": "stream",
     "text": [
      "max system time 99\n",
      "50th percentile time 65.5\n",
      "std system time 22.737853900489377\n"
     ]
    }
   ],
   "source": [
    "print(f\"max system time {np.max(system_time)}\")\n",
    "# 50th percentile, or median\n",
    "print(f\"50th percentile time {np.percentile(system_time,50)}\")\n",
    "print(f\"std system time {np.std(system_time)}\")"
   ]
  },
  {
   "cell_type": "markdown",
   "metadata": {},
   "source": [
    "## What next? \n",
    "\n",
    "Adjust capacities at each resource and see how the summary statistics change.\n",
    "- how many chefs do you need in the kitchen to ensure 0 wait times with the current interarrival function? \n",
    "- What if we expanded our dining room... How big would we need to make the average wait time for a seat to be under 10 minutes? \n",
    "\n",
    "Could also adjust interarrival times / resource service times to see how that impacts\n",
    "- What if we retrained chefs to cook fish 5 seconds faster... would that impact wait times? \n",
    "- What if we get a huge rush at night and interarrival time spikes to 1 minute. How bad would wait times get? \n",
    "- How to implement reneging customers? "
   ]
  },
  {
   "cell_type": "code",
   "execution_count": 8,
   "metadata": {},
   "outputs": [
    {
     "ename": "NameError",
     "evalue": "name 'apply' is not defined",
     "output_type": "error",
     "traceback": [
      "\u001b[1;31m---------------------------------------------------------------------------\u001b[0m",
      "\u001b[1;31mNameError\u001b[0m                                 Traceback (most recent call last)",
      "\u001b[1;32m<ipython-input-8-d7c23a7689ff>\u001b[0m in \u001b[0;36m<module>\u001b[1;34m\u001b[0m\n\u001b[1;32m----> 1\u001b[1;33m \u001b[0mapply\u001b[0m\u001b[1;33m\u001b[0m\u001b[1;33m\u001b[0m\u001b[0m\n\u001b[0m",
      "\u001b[1;31mNameError\u001b[0m: name 'apply' is not defined"
     ]
    }
   ],
   "source": []
  },
  {
   "cell_type": "code",
   "execution_count": null,
   "metadata": {},
   "outputs": [],
   "source": []
  }
 ],
 "metadata": {
  "kernelspec": {
   "display_name": "Python 3",
   "language": "python",
   "name": "python3"
  },
  "language_info": {
   "codemirror_mode": {
    "name": "ipython",
    "version": 3
   },
   "file_extension": ".py",
   "mimetype": "text/x-python",
   "name": "python",
   "nbconvert_exporter": "python",
   "pygments_lexer": "ipython3",
   "version": "3.7.4"
  }
 },
 "nbformat": 4,
 "nbformat_minor": 4
}
