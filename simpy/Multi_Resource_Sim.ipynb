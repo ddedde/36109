{
 "cells": [
  {
   "cell_type": "code",
   "execution_count": 26,
   "metadata": {},
   "outputs": [],
   "source": [
    "import simpy\n",
    "import numpy as np\n",
    "import functools\n",
    "import matplotlib.pyplot as plt\n",
    "from Stats import Entity, Resource, Source"
   ]
  },
  {
   "cell_type": "markdown",
   "metadata": {},
   "source": [
    "## Description of problem: \n",
    "\n",
    "You have to model a restaurant. Arrivals come in poisson distribution\n",
    "\n",
    "They must order. The Kitchen is described as follows: \n",
    " - 2 cooks\n",
    " - 3 things to order:\n",
    "   - fish -- 15 mins to prepare\n",
    "   - burger -- 5 mins to prepare\n",
    "   - salad -- 8 mins to prepare\n",
    "   \n",
    "Then must wait for a seat\n",
    "- people will sit for between 20-30 minutes. \n",
    "- Capacity: 10\n",
    "- Assume all attendees are dining alone (no need to worry about specific party capacity).\n"
   ]
  },
  {
   "cell_type": "code",
   "execution_count": 27,
   "metadata": {},
   "outputs": [],
   "source": [
    "# First, set up interarrival generators and classes to represent resources\n",
    "# for all of your problem parameters\n",
    "\n",
    "# To use simpy is to understand generators\n",
    "class Kitchen(Resource):\n",
    "    def __init__(self, env, *args, **kwargs):\n",
    "        self.name = \"kitchen\"\n",
    "        self.env = env\n",
    "        super().__init__(env, *args, **kwargs)\n",
    "    \n",
    "    def process_entity(self, entity):\n",
    "        \"\"\"\n",
    "        logic for dealing with prep times for different foods\n",
    "        \"\"\"\n",
    "        request = entity.request_resource(self)\n",
    "        print(f'{entity.name} requesting Chef: {self.env.now}')\n",
    "        yield request\n",
    "        \n",
    "        print(f'{entity.name} started Cooking: {self.env.now}')        \n",
    "        entity.start_service_at_resource(self)\n",
    "        yield self.env.timeout(self.next_service_time(entity))\n",
    "    \n",
    "    def next_service_time(self, entity):\n",
    "        \"\"\"\n",
    "        Defines preparation time for each dish\n",
    "        \"\"\"\n",
    "        if entity.attributes[\"food\"] == \"Fish\":\n",
    "            return 15\n",
    "        elif entity.attributes[\"food\"] == \"Burger\":\n",
    "            return 5\n",
    "        elif entity.attributes[\"food\"] == \"Salad\":\n",
    "            return 8\n",
    "        else:\n",
    "            raise Exception(\"Entity did not have food attribute defined\")\n",
    "        \n",
    " \n",
    "class DiningRoom(Resource):\n",
    "    def __init__(self, env, *args, **kwargs):\n",
    "        self.name = \"DiningRoom\"\n",
    "        self.env = env\n",
    "        super().__init__(env, *args, **kwargs)\n",
    "    \n",
    "    def process_entity(self, entity):\n",
    "        \"\"\"\n",
    "        logic for requesting a resource and \n",
    "        \"\"\"\n",
    "        request = entity.request_resource(self)\n",
    "        print(f'{entity.name} requesting Table: {self.env.now}')\n",
    "        yield request\n",
    "        \n",
    "        print(f'{entity.name} started Seating At Table: {self.env.now}')        \n",
    "        entity.start_service_at_resource(self)\n",
    "        yield self.env.timeout(self.next_service_time(entity))\n",
    "    \n",
    "    def next_service_time(self, entity):\n",
    "        \"\"\"\n",
    "        logic for calculating next service time for resource\n",
    "        \"\"\"\n",
    "        return np.radom.randint(20, 30) # 20 to 30 minute seating per entity\n",
    "\n",
    "class CustomerSource(Source):\n",
    "    \n",
    "    "
   ]
  },
  {
   "cell_type": "code",
   "execution_count": 25,
   "metadata": {},
   "outputs": [
    {
     "data": {
      "text/plain": [
       "24"
      ]
     },
     "execution_count": 25,
     "metadata": {},
     "output_type": "execute_result"
    }
   ],
   "source": [
    "np.random.randint(20, 30)"
   ]
  },
  {
   "cell_type": "code",
   "execution_count": null,
   "metadata": {},
   "outputs": [],
   "source": [
    "def dispose(entity):\n",
    "    return lambda _: entity.dispose() \n",
    "\n",
    "def process(env, source, resource):\n",
    "    \"\"\" Generate arrivals into our simulation\n",
    "    \n",
    "    Arguments:   \n",
    "     env:  Our simulation environment\n",
    "     source: the source of entities for our simulation\n",
    "     resource: Shared resource\n",
    "    \"\"\"\n",
    "    \n",
    "    for arrival_time, entity in source.next_entity():\n",
    "        yield arrival_time\n",
    "        processed_entity = env.process(resource.process_entity(entity))\n",
    "        processed_entity.callbacks.append(dispose(entity))\n",
    "                "
   ]
  }
 ],
 "metadata": {
  "kernelspec": {
   "display_name": "Python 3",
   "language": "python",
   "name": "python3"
  },
  "language_info": {
   "codemirror_mode": {
    "name": "ipython",
    "version": 3
   },
   "file_extension": ".py",
   "mimetype": "text/x-python",
   "name": "python",
   "nbconvert_exporter": "python",
   "pygments_lexer": "ipython3",
   "version": "3.7.0"
  }
 },
 "nbformat": 4,
 "nbformat_minor": 2
}
