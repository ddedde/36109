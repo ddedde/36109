{
 "cells": [
  {
   "cell_type": "code",
   "execution_count": 24,
   "metadata": {},
   "outputs": [],
   "source": [
    "import simpy\n",
    "import numpy as np\n",
    "import functools\n",
    "import matplotlib.pyplot as plt\n",
    "from Stats import Entity, Resource, Source"
   ]
  },
  {
   "cell_type": "markdown",
   "metadata": {},
   "source": [
    "## Description of problem: \n",
    "\n",
    "We are going to model a restaurant.\n",
    "\n",
    "Customers start by ordering, which is passed to the kitchen.\n",
    "The Kitchen is described as follows: \n",
    " - 2 cooks\n",
    " - 3 things to order:\n",
    "   - fish -- 15 mins to prepare\n",
    "   - burger -- 5 mins to prepare\n",
    "   - salad -- 8 mins to prepare\n",
    "   \n",
    "Then must wait for a seat\n",
    "- people will sit for between 20-30 minutes. \n",
    "- Capacity: 4\n",
    "- Assume all attendees are dining alone (no need to worry about specific party capacity, or matching to tables).\n"
   ]
  },
  {
   "cell_type": "markdown",
   "metadata": {},
   "source": [
    "## Step 1: Setting up Resource Classes\n",
    "\n",
    "First things first, let's define classes to represent our Kitchen and DiningRoom Resources. \n",
    "These resources will subclass the `Resource` class from the Stats library provided for this course in `stats.py`. \n",
    "\n",
    "The `Resource` class from the Stats library provides some handy helper methods for tracking statistics about Resource usage during simulation, so you don't have to manually instrument this yourself (as long as you subclass Resource).\n",
    "\n",
    "\n",
    "We must define the following for each resource:\n",
    "- a name attribute. This should be unique across all resource classes that you define\n",
    "- a `next_service_time` function that computes the service time for an entity\n",
    "\n",
    "Other configuration for resource that is done when you construct an instance:\n",
    "- capacity -- this is how many entities the resource can process in parallel (e.g. a capacity of 2 on kitchen means 2 chefs)."
   ]
  },
  {
   "cell_type": "code",
   "execution_count": 25,
   "metadata": {},
   "outputs": [],
   "source": [
    "# Our Kitchen class subclasses resource. We give it a unique name of \"kitchen\"\n",
    "class Kitchen(Resource):\n",
    "    def __init__(self, env, *args, **kwargs):\n",
    "        self.name = \"kitchen\"\n",
    "        self.env = env\n",
    "        super().__init__(env, *args, **kwargs)\n",
    "    \n",
    "    def next_service_time(self, entity):\n",
    "        \"\"\"\n",
    "        Defines preparation time for each dish\n",
    "        Since we can pass the entity being processed to next_service_time when we call it, \n",
    "        we can react to the requirements of the entity (e.g. fish takes longer to prepare)\n",
    "        \"\"\"\n",
    "        if entity.attributes[\"food\"] == \"Fish\":\n",
    "            return 15\n",
    "        elif entity.attributes[\"food\"] == \"Burger\":\n",
    "            return 5\n",
    "        elif entity.attributes[\"food\"] == \"Salad\":\n",
    "            return 8\n",
    "        else:\n",
    "            raise Exception(\"Restaurant does not serve this kind of food\")\n",
    "        \n",
    "\n",
    "# Our DiningRoom class subclasses Resource. We give it a unique name of \"DiningRoom\"\n",
    "class DiningRoom(Resource):\n",
    "    def __init__(self, env, *args, **kwargs):\n",
    "        self.name = \"DiningRoom\"\n",
    "        self.env = env\n",
    "        super().__init__(env, *args, **kwargs)\n",
    "    \n",
    "    def next_service_time(self, entity):\n",
    "        \"\"\"\n",
    "        random integer of time between 20 and 30 minutes per problem specification\n",
    "        \"\"\"\n",
    "        return np.random.randint(20, 30) # 20 to 30 minute seating per entity\n",
    "\n"
   ]
  },
  {
   "cell_type": "markdown",
   "metadata": {},
   "source": [
    "## Step 2: Setting up Entity Class\n",
    "\n",
    "An entity is conceptually the \"things passing through your simulation\". In the case of a restaurant, we can think of customers as the entities.  \n",
    "\n",
    "These entities will travel through the simulation, will request resources, will perform actions that take time, might reneg and jump out of long queues, etc... All of this behavior should be defined in your entity class.\n",
    "\n",
    "Entities should subclass the `Entity` class from the stats library. The `Entity` class in the Stats library provides a bunch of methods useful for collecting summary statistics about an entity's trip through the system.\n",
    "\n",
    "An entity class should define the following:\n",
    "- a `process(self, resource1, resource2, ...)` function) -- this defines how entities interact with resources in the system. It should accept all relevant resources as parameters.\n",
    "\n",
    "Entities have the following methods available, which should be used in the body of your `process` function:\n",
    "- self.request_resource(resource) -- this function has the entity submit a resource request to the resource provided (e.g. self.request_resource(kitchen) will return a request to the kitchen).\n",
    "- self.start_service_at_resource(resource) -- this function logs when the resource is ready to begin processing the request of the entity. This is needed for statistics gathering.\n",
    "- self.release_resource(resource, request) -- this function will release the requested resource, freeing it up for another entity to use.\n",
    "\n",
    "See the definition of the `process` function in the Customer resource below for an example of how to interact with multiple resources during processing."
   ]
  },
  {
   "cell_type": "code",
   "execution_count": 26,
   "metadata": {},
   "outputs": [],
   "source": [
    "# entities are in charge of the order in which interactions with resources occur\n",
    "class Customer(Entity):\n",
    "    def __init__(self, env, name, creation_time, *args, **kwargs):\n",
    "        self.env = env\n",
    "        super().__init__(env, name, creation_time, *args, **kwargs)\n",
    "    \n",
    "    # template method for all of the resources it needs to interact with\n",
    "    def process(self, kitchen, dining_room):\n",
    "        \n",
    "        # interface with kitchen\n",
    "        request = self.request_resource(kitchen)\n",
    "        yield request\n",
    "        \n",
    "        self.start_service_at_resource(kitchen)\n",
    "        cook_time = kitchen.next_service_time(self) # next_service_time is defined in kitchen\n",
    "        yield self.env.timeout(cook_time)\n",
    "        \n",
    "        self.release_resource(kitchen, request)\n",
    "        \n",
    "        # interface with dining_room\n",
    "        request = self.request_resource(dining_room)\n",
    "        yield request\n",
    "        \n",
    "        self.start_service_at_resource(dining_room)\n",
    "        seat_time = dining_room.next_service_time(self) # next_service_time is defined in dining_room\n",
    "        yield self.env.timeout(seat_time)\n",
    "        \n",
    "        self.release_resource(dining_room, request)"
   ]
  },
  {
   "cell_type": "markdown",
   "metadata": {},
   "source": [
    "## Step 3: Setting up Source Class\n",
    "\n",
    "Now that we have our resource and Entity classes defined, we should implement our Source class. \n",
    "\n",
    "Think of the source as the place where the simulation starts. It defines how often entities will arrive to the system (interarrival time) and how those entities are defined. It also keeps track of the number of entities created, and provides helper methods for calculating summary statistics at the end of simulation.\n",
    "\n",
    "Your source should subclass the `Source` class provided in the stats package.\n",
    "\n",
    "A source must have:\n",
    "- an `interarrival_time_generator` -- this is a generator function that will yield the next time that an entity is to be constructed and processed by the simulation. \n",
    "- a `build_entity` function -- this defines how entities are constructed when the source needs to build a new one. You can define how entity attributes are selected in this function (more on attributes later)\n",
    "\n",
    "Additional source configuration:\n",
    "- number -- this is the number of entities that will be produced during simulation."
   ]
  },
  {
   "cell_type": "code",
   "execution_count": 27,
   "metadata": {},
   "outputs": [],
   "source": [
    "# The source is what contains the interarrival time definition, and rules for constructing entities \n",
    "# with various attribute sets.\n",
    "class CustomerSource(Source):\n",
    "    def __init__(self, env, *args, **kwargs):\n",
    "        self.count = 0 # this is used for uniquely naming entities\n",
    "        super().__init__(env, *args, **kwargs)\n",
    "    \n",
    "    def interarrival_time_generator(self):\n",
    "        while True:\n",
    "            yield np.random.choice([1,10,15,20], p=[0.5, 0.2, 0.2, 0.1])\n",
    "    \n",
    "    def sample_from_foods(self):\n",
    "        return np.random.choice([\"Fish\", \"Burger\", \"Salad\"], p=[0.1,0.7,0.2])\n",
    "    \n",
    "    def build_entity(self, creation_time):\n",
    "        self.count += 1\n",
    "        food = self.sample_from_foods()\n",
    "        # pass attributes as kwargs\n",
    "        # pass env and the name of the entity\n",
    "        entity = Customer(env, f\"Customer {self.count}\", creation_time, food=food)\n",
    "        return entity"
   ]
  },
  {
   "cell_type": "markdown",
   "metadata": {},
   "source": [
    "## Step 4: Define main \"process\"\n",
    "\n",
    "Consider this the main method of the simulation. It doesn't necessarily have to be a function of its own... but we need this small bit of code to orchestrate the simulation.\n",
    "\n",
    "The dispose function is needed for statistics gathering. It tells us when an entity has finished processing. We use callbacks.append() to make sure that dispose is the last thing that happens to the entity after it has traversed through the system. \n",
    "\n",
    "I might be able to hide this dispose implementation detail a bit more."
   ]
  },
  {
   "cell_type": "code",
   "execution_count": 28,
   "metadata": {},
   "outputs": [],
   "source": [
    "def process(env, customer_source, kitchen, dining_room):\n",
    "    \"\"\" Generate arrivals into our simulation\n",
    "    \n",
    "    Arguments:   \n",
    "     env:  Our simulation environment\n",
    "     source: the source of entities for our simulation\n",
    "     resource: Shared resource\n",
    "    \"\"\"\n",
    "    \n",
    "    def dispose(entity):\n",
    "        return lambda _: entity.dispose()\n",
    "    \n",
    "    for arrival_time, customer in customer_source.next_entity():\n",
    "        yield arrival_time # wait for the next entity to appear\n",
    "        processed_entity = env.process(customer.process(kitchen, dining_room))\n",
    "        processed_entity.callbacks.append(dispose(customer))\n"
   ]
  },
  {
   "cell_type": "markdown",
   "metadata": {},
   "source": [
    "## Step 5: Configure Classes \n",
    "\n",
    "Before beginning simulation, you need to create instances of your source and resource classes. You can pass any parameterizeable configuration to classes at this time (e.g. the capacity of each resource or the number of entities to create from the source).\n",
    "\n",
    "Also need to construct a simpy.Environment(), and pass this to each class in its constructor."
   ]
  },
  {
   "cell_type": "code",
   "execution_count": 29,
   "metadata": {},
   "outputs": [],
   "source": [
    "# Create simulation environment and entity instances needed for simulation\n",
    "env = simpy.Environment()\n",
    "\n",
    "# Configure source to generate 10 entities\n",
    "source = CustomerSource(env, number=10)\n",
    "\n",
    "# Configure DiningRoom to have space for 4 diners\n",
    "dining_room = DiningRoom(env,  capacity=4)\n",
    "\n",
    "# Configure Kitchen to have 2 chefs\n",
    "kitchen = Kitchen(env, capacity=2)\n",
    "\n",
    "# Aside: if students want to tune various parameters of the simulation, they could configure each component\n",
    "#        of the simulation here, then loop over the construction of each with different combinations of parameters"
   ]
  },
  {
   "cell_type": "markdown",
   "metadata": {},
   "source": [
    "## Step 6: Run Simulation \n",
    "\n",
    "Running the simulation is pretty simple... just pass your process function with all configured objects to the env.process function. \n",
    "Then call env.run()"
   ]
  },
  {
   "cell_type": "code",
   "execution_count": 30,
   "metadata": {},
   "outputs": [
    {
     "name": "stdout",
     "output_type": "stream",
     "text": [
      "Customer 1 requesting kitchen: 1\n",
      "Customer 1 started processing at kitchen : 1\n",
      "Customer 2 requesting kitchen: 2\n",
      "Customer 2 started processing at kitchen : 2\n",
      "Customer 1 finished at kitchen: 6\n",
      "Customer 1 requesting DiningRoom: 6\n",
      "Customer 1 started processing at DiningRoom : 6\n",
      "Customer 2 finished at kitchen: 10\n",
      "Customer 2 requesting DiningRoom: 10\n",
      "Customer 2 started processing at DiningRoom : 10\n",
      "Customer 3 requesting kitchen: 12\n",
      "Customer 3 started processing at kitchen : 12\n",
      "Customer 4 requesting kitchen: 13\n",
      "Customer 4 started processing at kitchen : 13\n",
      "Customer 5 requesting kitchen: 14\n",
      "Customer 6 requesting kitchen: 15\n",
      "Customer 3 finished at kitchen: 17\n",
      "Customer 3 requesting DiningRoom: 17\n",
      "Customer 3 started processing at DiningRoom : 17\n",
      "Customer 5 started processing at kitchen : 17\n",
      "Customer 4 finished at kitchen: 21\n",
      "Customer 4 requesting DiningRoom: 21\n",
      "Customer 4 started processing at DiningRoom : 21\n",
      "Customer 6 started processing at kitchen : 21\n",
      "Customer 5 finished at kitchen: 25\n",
      "Customer 5 requesting DiningRoom: 25\n",
      "Customer 6 finished at kitchen: 26\n",
      "Customer 6 requesting DiningRoom: 26\n",
      "Customer 1 finished at DiningRoom: 28\n",
      "Customer 1 disposed: 28\n",
      "Customer 5 started processing at DiningRoom : 28\n",
      "Customer 2 finished at DiningRoom: 30\n",
      "Customer 7 requesting kitchen: 30\n",
      "Customer 2 disposed: 30\n",
      "Customer 7 started processing at kitchen : 30\n",
      "Customer 6 started processing at DiningRoom : 30\n",
      "Customer 7 finished at kitchen: 35\n",
      "Customer 7 requesting DiningRoom: 35\n",
      "Customer 3 finished at DiningRoom: 45\n",
      "Customer 8 requesting kitchen: 45\n",
      "Customer 3 disposed: 45\n",
      "Customer 8 started processing at kitchen : 45\n",
      "Customer 7 started processing at DiningRoom : 45\n",
      "Customer 9 requesting kitchen: 46\n",
      "Customer 9 started processing at kitchen : 46\n",
      "Customer 10 requesting kitchen: 47\n",
      "Customer 4 finished at DiningRoom: 49\n",
      "Customer 4 disposed: 49\n",
      "Customer 8 finished at kitchen: 50\n",
      "Customer 8 requesting DiningRoom: 50\n",
      "Customer 8 started processing at DiningRoom : 50\n",
      "Customer 10 started processing at kitchen : 50\n",
      "Customer 9 finished at kitchen: 51\n",
      "Customer 9 requesting DiningRoom: 51\n",
      "Customer 5 finished at DiningRoom: 52\n",
      "Customer 5 disposed: 52\n",
      "Customer 9 started processing at DiningRoom : 52\n",
      "Customer 6 finished at DiningRoom: 53\n",
      "Customer 6 disposed: 53\n",
      "Customer 10 finished at kitchen: 55\n",
      "Customer 10 requesting DiningRoom: 55\n",
      "Customer 10 started processing at DiningRoom : 55\n",
      "Customer 7 finished at DiningRoom: 67\n",
      "Customer 7 disposed: 67\n",
      "Customer 9 finished at DiningRoom: 75\n",
      "Customer 9 disposed: 75\n",
      "Customer 8 finished at DiningRoom: 78\n",
      "Customer 8 disposed: 78\n",
      "Customer 10 finished at DiningRoom: 79\n",
      "Customer 10 disposed: 79\n"
     ]
    }
   ],
   "source": [
    "env.process(process(env, source, kitchen, dining_room))\n",
    "env.run()"
   ]
  },
  {
   "cell_type": "markdown",
   "metadata": {},
   "source": [
    "## Step 7: Extract Summary Statistics from Source / Resource\n",
    "\n",
    "Source provides methods that calculate summary statistics about the entities while they were in the system. \n",
    "\n",
    "Resource provides methods to see what the queue was like at each resource over time.\n",
    "\n",
    "See the following code blocks for some plots and calculations made with the summary stats."
   ]
  },
  {
   "cell_type": "code",
   "execution_count": 31,
   "metadata": {},
   "outputs": [
    {
     "name": "stdout",
     "output_type": "stream",
     "text": [
      "total_time: [27, 28, 33, 36, 38, 38, 37, 33, 29, 32]\n",
      "waiting_time: [0, 0, 0, 0, 6, 10, 10, 0, 1, 3]\n",
      "processing_time: [27, 28, 33, 36, 32, 28, 27, 33, 28, 29]\n",
      "79\n",
      "[0, 0, 0, 0, 0, 0, 0, 0, 0, 0, 0, 0, 0, 0, 1, 2, 2, 1, 1, 1, 1, 0, 0, 0, 0, 0, 0, 0, 0, 0, 0, 0, 0, 0, 0, 0, 0, 0, 0, 0, 0, 0, 0, 0, 0, 0, 0, 1, 1, 1, 0, 0, 0, 0, 0, 0, 0, 0, 0, 0, 0, 0, 0, 0, 0, 0, 0, 0, 0, 0, 0, 0, 0, 0, 0, 0, 0, 0, 0]\n",
      "[0, 0, 0, 0, 0, 0, 0, 0, 0, 0, 0, 0, 0, 0, 0, 0, 0, 0, 0, 0, 0, 0, 0, 0, 0, 1, 2, 2, 1, 1, 0, 0, 0, 0, 0, 1, 1, 1, 1, 1, 1, 1, 1, 1, 1, 0, 0, 0, 0, 0, 0, 1, 0, 0, 0, 0, 0, 0, 0, 0, 0, 0, 0, 0, 0, 0, 0, 0, 0, 0, 0, 0, 0, 0, 0, 0, 0, 0, 0]\n"
     ]
    }
   ],
   "source": [
    "system_time = source.get_total_times()\n",
    "print(\"total_time:\", source.get_total_times())\n",
    "print(\"waiting_time:\", source.get_waiting_times())\n",
    "print(\"processing_time:\", source.get_processing_times())\n",
    "\n",
    "print(int(env.now))\n",
    "\n",
    "queue_over_time_kitchen = kitchen.queue_size_over_time() # sample queue length\n",
    "print(queue_over_time_kitchen)\n",
    "\n",
    "\n",
    "queue_over_time_dining_room = dining_room.queue_size_over_time() # sample queue length\n",
    "print(queue_over_time_dining_room)"
   ]
  },
  {
   "cell_type": "code",
   "execution_count": 32,
   "metadata": {},
   "outputs": [
    {
     "data": {
      "image/png": "[encoded data removed]",
      "text/plain": [
       "<Figure size 432x288 with 1 Axes>"
      ]
     },
     "metadata": {
      "needs_background": "light"
     },
     "output_type": "display_data"
    }
   ],
   "source": [
    "plt.hist(system_time,bins=5)\n",
    "# you can customize the exact tick marks on an axis\n",
    "plt.yticks(range(0,3))\n",
    "plt.ylabel('Frequency');\n",
    "plt.xlabel('Time in System');"
   ]
  },
  {
   "cell_type": "code",
   "execution_count": 33,
   "metadata": {},
   "outputs": [
    {
     "name": "stdout",
     "output_type": "stream",
     "text": [
      "Average number in queue: 0.1518987341772152\n",
      "Max in queue: 2\n"
     ]
    },
    {
     "data": {
      "image/png": "[encoded data removed]",
      "text/plain": [
       "<Figure size 432x288 with 1 Axes>"
      ]
     },
     "metadata": {
      "needs_background": "light"
     },
     "output_type": "display_data"
    }
   ],
   "source": [
    "\"\"\"\n",
    "Histogram of queue over time\n",
    "\"\"\"\n",
    "plt.hist(queue_over_time_kitchen)\n",
    "print(f\"Average number in queue: {np.mean(queue_over_time_kitchen)}\")\n",
    "print(f\"Max in queue: {np.max(queue_over_time_kitchen)}\")"
   ]
  },
  {
   "cell_type": "code",
   "execution_count": 34,
   "metadata": {},
   "outputs": [
    {
     "name": "stdout",
     "output_type": "stream",
     "text": [
      "Average number in queue: 0.22784810126582278\n",
      "Max in queue: 2\n"
     ]
    },
    {
     "data": {
      "image/png": "[encoded data removed]",
      "text/plain": [
       "<Figure size 432x288 with 1 Axes>"
      ]
     },
     "metadata": {
      "needs_background": "light"
     },
     "output_type": "display_data"
    }
   ],
   "source": [
    "plt.hist(queue_over_time_dining_room)\n",
    "print(f\"Average number in queue: {np.mean(queue_over_time_dining_room)}\")\n",
    "print(f\"Max in queue: {np.max(queue_over_time_dining_room)}\")"
   ]
  },
  {
   "cell_type": "code",
   "execution_count": 35,
   "metadata": {},
   "outputs": [
    {
     "name": "stdout",
     "output_type": "stream",
     "text": [
      "max system time 38\n",
      "50th percentile time 33.0\n",
      "std system time 3.9102429592034307\n"
     ]
    }
   ],
   "source": [
    "print(f\"max system time {np.max(system_time)}\")\n",
    "# 50th percentile, or median\n",
    "print(f\"50th percentile time {np.percentile(system_time,50)}\")\n",
    "print(f\"std system time {np.std(system_time)}\")"
   ]
  },
  {
   "cell_type": "markdown",
   "metadata": {},
   "source": [
    "## What next? \n",
    "\n",
    "Adjust capacities at each resource and see how the summary statistics change.\n",
    "- how many chefs do you need in the kitchen to ensure 0 wait times with the current interarrival function? \n",
    "- What if we expanded our dining room... How big would we need to make the average wait time for a seat to be under 10 minutes? \n",
    "\n",
    "Could also adjust interarrival times / resource service times to see how that impacts\n",
    "- What if we retrained chefs to cook fish 5 seconds faster... would that impact wait times? \n",
    "- What if we get a huge rush at night and interarrival time spikes to 1 minute. How bad would wait times get? \n",
    "- How to implement reneging customers? "
   ]
  },
  {
   "cell_type": "code",
   "execution_count": null,
   "metadata": {},
   "outputs": [],
   "source": []
  }
 ],
 "metadata": {
  "kernelspec": {
   "display_name": "Python 3",
   "language": "python",
   "name": "python3"
  },
  "language_info": {
   "codemirror_mode": {
    "name": "ipython",
    "version": 3
   },
   "file_extension": ".py",
   "mimetype": "text/x-python",
   "name": "python",
   "nbconvert_exporter": "python",
   "pygments_lexer": "ipython3",
   "version": "3.7.4"
  }
 },
 "nbformat": 4,
 "nbformat_minor": 4
}
