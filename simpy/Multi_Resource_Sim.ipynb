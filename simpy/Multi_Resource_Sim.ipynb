{
 "cells": [
  {
   "cell_type": "code",
   "execution_count": 3,
   "metadata": {},
   "outputs": [],
   "source": [
    "import simpy\n",
    "import numpy as np\n",
    "import functools\n",
    "import matplotlib.pyplot as plt\n",
    "from Stats import Entity, Resource, Source"
   ]
  },
  {
   "cell_type": "markdown",
   "metadata": {},
   "source": [
    "## Description of problem: \n",
    "\n",
    "You have to model a restaurant.\n",
    "\n",
    "They must order. The Kitchen is described as follows: \n",
    " - 2 cooks\n",
    " - 3 things to order:\n",
    "   - fish -- 15 mins to prepare\n",
    "   - burger -- 5 mins to prepare\n",
    "   - salad -- 8 mins to prepare\n",
    "   \n",
    "Then must wait for a seat\n",
    "- people will sit for between 20-30 minutes. \n",
    "- Capacity: 4\n",
    "- Assume all attendees are dining alone (no need to worry about specific party capacity).\n"
   ]
  },
  {
   "cell_type": "code",
   "execution_count": 4,
   "metadata": {},
   "outputs": [],
   "source": [
    "# First, set up interarrival generators and classes to represent resources\n",
    "# for all of your problem parameters\n",
    "\n",
    "# To use simpy is to understand generators\n",
    "class Kitchen(Resource):\n",
    "    def __init__(self, env, *args, **kwargs):\n",
    "        self.name = \"kitchen\"\n",
    "        self.env = env\n",
    "        super().__init__(env, *args, **kwargs)\n",
    "    \n",
    "    def next_service_time(self, entity):\n",
    "        \"\"\"\n",
    "        Defines preparation time for each dish\n",
    "        \"\"\"\n",
    "        if entity.attributes[\"food\"] == \"Fish\":\n",
    "            return 15\n",
    "        elif entity.attributes[\"food\"] == \"Burger\":\n",
    "            return 5\n",
    "        elif entity.attributes[\"food\"] == \"Salad\":\n",
    "            return 8\n",
    "        else:\n",
    "            raise Exception(\"Restaurant does not serve this kind of food\")\n",
    "        \n",
    " \n",
    "class DiningRoom(Resource):\n",
    "    def __init__(self, env, *args, **kwargs):\n",
    "        self.name = \"DiningRoom\"\n",
    "        self.env = env\n",
    "        super().__init__(env, *args, **kwargs)\n",
    "    \n",
    "    def next_service_time(self, entity):\n",
    "        \"\"\"\n",
    "        random integer of time between 20 and 30 minutes per problem specification\n",
    "        \"\"\"\n",
    "        return np.random.randint(20, 30) # 20 to 30 minute seating per entity\n",
    "\n",
    "# The source is what contains the interarrival time definition, and rules for constructing entities \n",
    "# with various attribute sets.\n",
    "class CustomerSource(Source):\n",
    "    def __init__(self, env, *args, **kwargs):\n",
    "        self.count = 0\n",
    "        self.foods = [\"Fish\", \"Burger\", \"Salad\"]\n",
    "        super().__init__(env, *args, **kwargs)\n",
    "    \n",
    "    # define interarrival_time_generator for customers to restaurant\n",
    "#     def interarrival_time_generator(self):\n",
    "#         for i in [5, 5, 10, 10, 30, 5, 1]:\n",
    "#             yield i\n",
    "\n",
    "    # this can also be an infinite generator, but only one interarrival_time_generator may be defined in the source class\n",
    "    def interarrival_time_generator(self):\n",
    "        while True:\n",
    "            yield np.random.choice([1,10,15,20], p=[0.5, 0.2, 0.2, 0.1])\n",
    "    \n",
    "    def sample_from_foods(self):\n",
    "        return np.random.choice(self.foods, p=[0.1,0.7,0.2])\n",
    "    \n",
    "    def build_entity(self, creation_time):\n",
    "        self.count += 1\n",
    "        food = self.sample_from_foods()\n",
    "        # pass attributes as kwargs\n",
    "        # pass env and the name of the entity\n",
    "        entity = Customer(env, f\"Customer {self.count}\", creation_time, food=food)\n",
    "        return entity\n",
    "\n",
    "# entities are in charge of the order in which interactions with resources occur\n",
    "class Customer(Entity):\n",
    "    def __init__(self, env, name, creation_time, *args, **kwargs):\n",
    "        self.env = env\n",
    "        super().__init__(env, name, creation_time, *args, **kwargs)\n",
    "    \n",
    "    # template method for all of the resources it needs to interact with\n",
    "    def process(self, kitchen, dining_room):\n",
    "        \n",
    "        # interface with kitchen\n",
    "        request = self.request_resource(kitchen)\n",
    "        yield request\n",
    "        \n",
    "        self.start_service_at_resource(kitchen)\n",
    "        cook_time = kitchen.next_service_time(self)\n",
    "        yield self.env.timeout(cook_time)\n",
    "        \n",
    "        self.release_resource(kitchen, request)\n",
    "        \n",
    "        # interface with dining_room\n",
    "        request = self.request_resource(dining_room)\n",
    "        yield request\n",
    "        \n",
    "        self.start_service_at_resource(dining_room)\n",
    "        seat_time = dining_room.next_service_time(self)\n",
    "        yield self.env.timeout(seat_time)\n",
    "        \n",
    "        self.release_resource(dining_room, request)"
   ]
  },
  {
   "cell_type": "code",
   "execution_count": 5,
   "metadata": {},
   "outputs": [],
   "source": [
    "def process(env, customer_source, kitchen, dining_room):\n",
    "    \"\"\" Generate arrivals into our simulation\n",
    "    \n",
    "    Arguments:   \n",
    "     env:  Our simulation environment\n",
    "     source: the source of entities for our simulation\n",
    "     resource: Shared resource\n",
    "    \"\"\"\n",
    "    \n",
    "    def dispose(entity):\n",
    "        return lambda _: entity.dispose()\n",
    "    for arrival_time, customer in customer_source.next_entity():\n",
    "        yield arrival_time # wait for the next entity to appear\n",
    "        processed_entity = env.process(customer.process(kitchen, dining_room))\n",
    "        processed_entity.callbacks.append(dispose(customer))\n"
   ]
  },
  {
   "cell_type": "code",
   "execution_count": 12,
   "metadata": {},
   "outputs": [],
   "source": [
    "# Create simulation environment and entity instances needed for simulation\n",
    "env = simpy.Environment()\n",
    "\n",
    "# Configure source to generate 10 entities\n",
    "source = CustomerSource(env, number=10)\n",
    "\n",
    "# Configure DiningRoom to have space for 4 diners\n",
    "dining_room = DiningRoom(env,  capacity=4)\n",
    "\n",
    "# Configure Kitchen to have 2 chefs\n",
    "kitchen = Kitchen(env, capacity=2)\n",
    "\n",
    "# Aside: if students want to tune various parameters of the simulation, they could configure each component\n",
    "#        of the simulation here, then loop over the construction of each with different combinations of parameters"
   ]
  },
  {
   "cell_type": "code",
   "execution_count": 13,
   "metadata": {},
   "outputs": [
    {
     "name": "stdout",
     "output_type": "stream",
     "text": [
      "Customer 1 requesting kitchen: 20\n",
      "Customer 1 started processing at kitchen : 20\n",
      "Customer 1 finished at kitchen: 25\n",
      "Customer 1 requesting DiningRoom: 25\n",
      "Customer 1 started processing at DiningRoom : 25\n",
      "Customer 2 requesting kitchen: 30\n",
      "Customer 2 started processing at kitchen : 30\n",
      "Customer 3 requesting kitchen: 31\n",
      "Customer 3 started processing at kitchen : 31\n",
      "Customer 4 requesting kitchen: 32\n",
      "Customer 5 requesting kitchen: 33\n",
      "Customer 6 requesting kitchen: 34\n",
      "Customer 2 finished at kitchen: 35\n",
      "Customer 2 requesting DiningRoom: 35\n",
      "Customer 2 started processing at DiningRoom : 35\n",
      "Customer 4 started processing at kitchen : 35\n",
      "Customer 3 finished at kitchen: 39\n",
      "Customer 3 requesting DiningRoom: 39\n",
      "Customer 3 started processing at DiningRoom : 39\n",
      "Customer 5 started processing at kitchen : 39\n",
      "Customer 4 finished at kitchen: 40\n",
      "Customer 4 requesting DiningRoom: 40\n",
      "Customer 4 started processing at DiningRoom : 40\n",
      "Customer 6 started processing at kitchen : 40\n",
      "Customer 5 finished at kitchen: 44\n",
      "Customer 5 requesting DiningRoom: 44\n",
      "Customer 6 finished at kitchen: 45\n",
      "Customer 6 requesting DiningRoom: 45\n",
      "Customer 7 requesting kitchen: 49\n",
      "Customer 7 started processing at kitchen : 49\n",
      "Customer 1 finished at DiningRoom: 52\n",
      "Customer 1 disposed: 52\n",
      "Customer 5 started processing at DiningRoom : 52\n",
      "Customer 7 finished at kitchen: 57\n",
      "Customer 7 requesting DiningRoom: 57\n",
      "Customer 2 finished at DiningRoom: 60\n",
      "Customer 4 finished at DiningRoom: 60\n",
      "Customer 2 disposed: 60\n",
      "Customer 4 disposed: 60\n",
      "Customer 6 started processing at DiningRoom : 60\n",
      "Customer 7 started processing at DiningRoom : 60\n",
      "Customer 8 requesting kitchen: 64\n",
      "Customer 8 started processing at kitchen : 64\n",
      "Customer 9 requesting kitchen: 65\n",
      "Customer 9 started processing at kitchen : 65\n",
      "Customer 10 requesting kitchen: 66\n",
      "Customer 3 finished at DiningRoom: 68\n",
      "Customer 3 disposed: 68\n",
      "Customer 8 finished at kitchen: 72\n",
      "Customer 8 requesting DiningRoom: 72\n",
      "Customer 8 started processing at DiningRoom : 72\n",
      "Customer 10 started processing at kitchen : 72\n",
      "Customer 9 finished at kitchen: 73\n",
      "Customer 9 requesting DiningRoom: 73\n",
      "Customer 5 finished at DiningRoom: 77\n",
      "Customer 10 finished at kitchen: 77\n",
      "Customer 10 requesting DiningRoom: 77\n",
      "Customer 5 disposed: 77\n",
      "Customer 9 started processing at DiningRoom : 77\n",
      "Customer 6 finished at DiningRoom: 81\n",
      "Customer 7 finished at DiningRoom: 81\n",
      "Customer 6 disposed: 81\n",
      "Customer 7 disposed: 81\n",
      "Customer 10 started processing at DiningRoom : 81\n",
      "Customer 8 finished at DiningRoom: 97\n",
      "Customer 8 disposed: 97\n",
      "Customer 9 finished at DiningRoom: 100\n",
      "Customer 9 disposed: 100\n",
      "Customer 10 finished at DiningRoom: 106\n",
      "Customer 10 disposed: 106\n"
     ]
    }
   ],
   "source": [
    "env.process(process(env, source, kitchen, dining_room))\n",
    "env.run()"
   ]
  },
  {
   "cell_type": "code",
   "execution_count": 8,
   "metadata": {},
   "outputs": [
    {
     "name": "stdout",
     "output_type": "stream",
     "text": [
      "total_time: [30, 29, 33, 32, 26, 31, 27, 29, 30, 29]\n",
      "waiting_time: [0, 0, 0, 0, 0, 0, 0, 0, 0, 3]\n",
      "processing_time: [30, 29, 33, 32, 26, 31, 27, 29, 30, 26]\n",
      "118\n",
      "[0, 0, 0, 0, 0, 0, 0, 0, 0, 0, 0, 0, 0, 0, 0, 0, 0, 0, 0, 0, 0, 0, 0, 0, 0, 0, 0, 0, 0, 0, 0, 0, 0, 0, 0, 0, 0, 0, 0, 0, 0, 0, 0, 0, 0, 0, 0, 0, 0, 0, 0, 0, 0, 0, 0, 0, 0, 0, 0, 0, 0, 0, 0, 0, 0, 0, 0, 0, 0, 0, 0, 0, 0, 0, 0, 0, 0, 0, 0, 0, 0, 0, 0, 0, 0, 0, 0, 0, 0, 1, 1, 1, 0, 0, 0, 0, 0, 0, 0, 0, 0, 0, 0, 0, 0, 0, 0, 0, 0, 0, 0, 0, 0, 0, 0, 0, 0, 0]\n",
      "[0, 0, 0, 0, 0, 0, 0, 0, 0, 0, 0, 0, 0, 0, 0, 0, 0, 0, 0, 0, 0, 0, 0, 0, 0, 0, 0, 0, 0, 0, 0, 0, 0, 0, 0, 0, 0, 0, 0, 0, 0, 0, 0, 0, 0, 0, 0, 0, 0, 0, 0, 0, 0, 0, 0, 0, 0, 0, 0, 0, 0, 0, 0, 0, 0, 0, 0, 0, 0, 0, 0, 0, 0, 0, 0, 0, 0, 0, 0, 0, 0, 0, 0, 0, 0, 0, 0, 0, 0, 0, 0, 0, 0, 0, 0, 0, 0, 0, 0, 0, 0, 0, 0, 0, 0, 0, 0, 0, 0, 0, 0, 0, 0, 0, 0, 0, 0, 0]\n"
     ]
    }
   ],
   "source": [
    "system_time = source.get_total_times()\n",
    "print(\"total_time:\", source.get_total_times())\n",
    "print(\"waiting_time:\", source.get_waiting_times())\n",
    "print(\"processing_time:\", source.get_processing_times())\n",
    "\n",
    "print(int(env.now))\n",
    "\n",
    "queue_over_time_kitchen = kitchen.queue_size_over_time() # sample queue length\n",
    "print(queue_over_time_kitchen)\n",
    "\n",
    "\n",
    "queue_over_time_dining_room = dining_room.queue_size_over_time() # sample queue length\n",
    "print(queue_over_time_dining_room)"
   ]
  },
  {
   "cell_type": "code",
   "execution_count": 9,
   "metadata": {},
   "outputs": [
    {
     "data": {
      "image/png": "[encoded data removed]",
      "text/plain": [
       "<Figure size 432x288 with 1 Axes>"
      ]
     },
     "metadata": {
      "needs_background": "light"
     },
     "output_type": "display_data"
    }
   ],
   "source": [
    "plt.hist(system_time,bins=5)\n",
    "# you can customize the exact tick marks on an axis\n",
    "plt.yticks(range(0,3))\n",
    "plt.ylabel('Frequency');\n",
    "plt.xlabel('Time in System');"
   ]
  },
  {
   "cell_type": "code",
   "execution_count": 22,
   "metadata": {},
   "outputs": [
    {
     "name": "stdout",
     "output_type": "stream",
     "text": [
      "Average number in queue: 0.24742268041237114\n",
      "Max in queue: 3\n"
     ]
    },
    {
     "data": {
      "image/png": "[encoded data removed]",
      "text/plain": [
       "<Figure size 432x288 with 1 Axes>"
      ]
     },
     "metadata": {
      "needs_background": "light"
     },
     "output_type": "display_data"
    }
   ],
   "source": [
    "\"\"\"\n",
    "Histogram of queue over time\n",
    "\"\"\"\n",
    "plt.hist(queue_over_time_kitchen)\n",
    "print(f\"Average number in queue: {np.mean(queue_over_time_kitchen)}\")\n",
    "print(f\"Max in queue: {np.max(queue_over_time_kitchen)}\")"
   ]
  },
  {
   "cell_type": "code",
   "execution_count": 23,
   "metadata": {},
   "outputs": [
    {
     "name": "stdout",
     "output_type": "stream",
     "text": [
      "Average number in queue: 0.5979381443298969\n",
      "Max in queue: 3\n"
     ]
    },
    {
     "data": {
      "image/png": "[encoded data removed]",
      "text/plain": [
       "<Figure size 432x288 with 1 Axes>"
      ]
     },
     "metadata": {
      "needs_background": "light"
     },
     "output_type": "display_data"
    }
   ],
   "source": [
    "plt.hist(queue_over_time_dining_room)\n",
    "print(f\"Average number in queue: {np.mean(queue_over_time_dining_room)}\")\n",
    "print(f\"Max in queue: {np.max(queue_over_time_dining_room)}\")"
   ]
  },
  {
   "cell_type": "code",
   "execution_count": 11,
   "metadata": {},
   "outputs": [
    {
     "name": "stdout",
     "output_type": "stream",
     "text": [
      "max system time 86\n",
      "50th percentile time 56.5\n",
      "std system time 18.601075237738275\n"
     ]
    }
   ],
   "source": [
    "print(f\"max system time {np.max(system_time)}\")\n",
    "# 50th percentile, or median\n",
    "print(f\"50th percentile time {np.percentile(system_time,50)}\")\n",
    "print(f\"std system time {np.std(system_time)}\")"
   ]
  },
  {
   "cell_type": "code",
   "execution_count": null,
   "metadata": {},
   "outputs": [],
   "source": []
  }
 ],
 "metadata": {
  "kernelspec": {
   "display_name": "Python 3",
   "language": "python",
   "name": "python3"
  },
  "language_info": {
   "codemirror_mode": {
    "name": "ipython",
    "version": 3
   },
   "file_extension": ".py",
   "mimetype": "text/x-python",
   "name": "python",
   "nbconvert_exporter": "python",
   "pygments_lexer": "ipython3",
   "version": "3.7.4"
  }
 },
 "nbformat": 4,
 "nbformat_minor": 4
}
