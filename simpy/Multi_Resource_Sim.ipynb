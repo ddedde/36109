{
 "cells": [
  {
   "cell_type": "code",
   "execution_count": 1,
   "metadata": {},
   "outputs": [],
   "source": [
    "import simpy\n",
    "import numpy as np\n",
    "import functools\n",
    "import matplotlib.pyplot as plt\n",
    "from simpy_helpers import Entity, Resource, Source, Stats\n",
    "from pprint import pprint"
   ]
  },
  {
   "cell_type": "markdown",
   "metadata": {},
   "source": [
    "## Description of problem: \n",
    "\n",
    "We are going to model a restaurant.\n",
    "\n",
    "Customers start by ordering, which is passed to the kitchen.\n",
    "The Kitchen is described as follows: \n",
    " - 2 cooks\n",
    " - 3 things to order:\n",
    "   - fish -- 15 mins to prepare\n",
    "   - burger -- 5 mins to prepare\n",
    "   - salad -- 8 mins to prepare\n",
    "   \n",
    "Then must wait for a seat\n",
    "- people will sit for between 20-30 minutes. \n",
    "- Capacity: 4\n",
    "- Assume all attendees are dining alone (no need to worry about specific party capacity, or matching to tables).\n"
   ]
  },
  {
   "cell_type": "markdown",
   "metadata": {},
   "source": [
    "## Step 1: Setting up Resource Classes\n",
    "\n",
    "First things first, let's define classes to represent our Kitchen and DiningRoom Resources. \n",
    "These resources will subclass the `Resource` class from the simpy_helpers package provided for this course in `simpy_helpers.py`. \n",
    "\n",
    "The `Resource` class from the simpy_helpers package provides some handy helper methods for tracking statistics about Resource usage during simulation, so you don't have to manually instrument this yourself (as long as you subclass Resource).\n",
    "\n",
    "\n",
    "We must define the following for each resource:\n",
    "- a `service_time` function that computes the service time for an entity\n",
    "\n",
    "Other configuration for resource that is done when you construct an instance:\n",
    "- capacity -- this is how many entities the resource can process in parallel (e.g. a capacity of 2 on kitchen means 2 chefs)."
   ]
  },
  {
   "cell_type": "code",
   "execution_count": 2,
   "metadata": {},
   "outputs": [],
   "source": [
    "# Our Kitchen class subclasses resource\n",
    "class Kitchen(Resource):\n",
    "    def service_time(self, entity):\n",
    "        \"\"\"\n",
    "        Defines preparation time for each dish\n",
    "        Since we can pass the entity being processed to next_service_time when we call it, \n",
    "        we can react to the requirements of the entity (e.g. fish takes longer to prepare)\n",
    "        \"\"\"\n",
    "        if entity.attributes[\"food\"] == \"Fish\":\n",
    "            return 15\n",
    "        elif entity.attributes[\"food\"] == \"Burger\":\n",
    "            return 5\n",
    "        elif entity.attributes[\"food\"] == \"Salad\":\n",
    "            return 8\n",
    "        else:\n",
    "            raise Exception(\"Restaurant does not serve this kind of food\")\n",
    "        \n",
    "\n",
    "# Our DiningRoom class subclasses Resource\n",
    "class DiningRoom(Resource):\n",
    "    def service_time(self):\n",
    "        \"\"\"\n",
    "        random integer of time between 20 and 30 minutes per problem specification\n",
    "        \"\"\"\n",
    "        return np.random.randint(20, 30) # 20 to 30 minute seating per entity"
   ]
  },
  {
   "cell_type": "markdown",
   "metadata": {},
   "source": [
    "## Step 2: Setting up Entity Class\n",
    "\n",
    "An entity is conceptually the \"things passing through your simulation\". In the case of a restaurant, we can think of customers as the entities.  \n",
    "\n",
    "These entities will travel through the simulation, will request resources, will perform actions that take time, might reneg and jump out of long queues, etc... All of this behavior should be defined in your entity class.\n",
    "\n",
    "Entities should subclass the `Entity` class from the simpy_helpers package. The `Entity` class in the simpy_helpers package provides a bunch of methods useful for collecting summary statistics about an entity's trip through the system.\n",
    "\n",
    "An entity class should define the following:\n",
    "- a `process()` function) -- this defines how entities interact with resources in the system. Resources should be made globally accessible so you can access them in your process function\n",
    "\n",
    "Entities have the following methods available, which should be used in the body of your `process` function:\n",
    "- self.request_resource(resource) -- this function has the entity submit a resource request to the resource provided (e.g. self.request_resource(kitchen) will return a request to the kitchen).\n",
    "- self.start_service_at_resource(resource) -- this function logs when the resource is ready to begin processing the request of the entity. This is needed for statistics gathering.\n",
    "- self.release_resource(resource) -- this function will release the requested resource, freeing it up for another entity to use.\n",
    "\n",
    "See the definition of the `process` function in the Customer resource below for an example of how to interact with multiple resources during processing."
   ]
  },
  {
   "cell_type": "code",
   "execution_count": 3,
   "metadata": {},
   "outputs": [],
   "source": [
    "# entities are in charge of the order in which interactions with resources occur\n",
    "class Customer(Entity):\n",
    "    def process(self):\n",
    "        # interface with kitchen\n",
    "        yield self.wait_for_resource(kitchen)\n",
    "        yield self.process_at_resource(kitchen)\n",
    "        self.release_resource(kitchen)\n",
    "        \n",
    "        # with some likelihood the customer will send the food back to the kitchen...\n",
    "        if np.random.random() <= 0.1:\n",
    "            print(f\"{self.name} sent food back, bump them to the front of the line\")\n",
    "            yield self.wait_for_resource(kitchen, priority_override=0) # second argument is priority\n",
    "            yield self.process_at_resource(kitchen)\n",
    "            self.release_resource(kitchen)\n",
    "                \n",
    "        # interface with dining_room\n",
    "        yield self.wait_for_resource(dining_room)\n",
    "        yield self.process_at_resource(dining_room)\n",
    "        self.release_resource(dining_room)"
   ]
  },
  {
   "cell_type": "markdown",
   "metadata": {},
   "source": [
    "## Step 3: Setting up Source Class\n",
    "\n",
    "Now that we have our resource and Entity classes defined, we should implement our Source class. \n",
    "\n",
    "Think of the source as the place where the simulation starts. It defines how often entities will arrive to the system (interarrival time) and how those entities are defined. It also keeps track of the number of entities created.\n",
    "\n",
    "Your source should subclass the `Source` class provided in the simpy_helpers package.\n",
    "\n",
    "A source must have:\n",
    "- an `interarrival_time` -- this is a generator function that will yield the next time that an entity is to be constructed and processed by the simulation. \n",
    "- a `build_entity` function -- this defines how entities are constructed when the source needs to build a new one. You can define how entity attributes are selected in this function (more on attributes later)\n",
    "\n",
    "Additional source configuration:\n",
    "- number -- this is the number of entities that will be produced during simulation."
   ]
  },
  {
   "cell_type": "code",
   "execution_count": 4,
   "metadata": {},
   "outputs": [],
   "source": [
    "# The source is what contains the interarrival time definition, and rules for constructing entities \n",
    "# with various attribute sets.\n",
    "class CustomerSource(Source):\n",
    "    def interarrival_time(self):\n",
    "        return np.random.choice([1, 5, 10, 20], p=[0.1,0.3,0.4,0.2])\n",
    "    \n",
    "    def sample_from_foods(self):\n",
    "        return np.random.choice([\"Fish\", \"Burger\", \"Salad\"], p=[0.1,0.7,0.2])\n",
    "    \n",
    "    def build_entity(self):\n",
    "        attributes = {\n",
    "            \"food\": self.sample_from_foods()\n",
    "        }\n",
    "        return Customer(env, attributes)"
   ]
  },
  {
   "cell_type": "markdown",
   "metadata": {},
   "source": [
    "## Step 4: Configure Classes \n",
    "\n",
    "Before beginning simulation, you need to create instances of your source and resource classes. You can pass any parameterizeable configuration to classes at this time (e.g. the capacity of each resource or the number of entities to create from the source).\n",
    "\n",
    "Also need to construct a simpy.Environment(), and pass this to each class in its constructor."
   ]
  },
  {
   "cell_type": "code",
   "execution_count": 5,
   "metadata": {},
   "outputs": [],
   "source": [
    "np.random.seed(42)\n",
    "# Create simulation environment\n",
    "env = simpy.Environment()\n",
    "\n",
    "# Configure DiningRoom to have space for 4 diners\n",
    "dining_room = DiningRoom(env, capacity=3)\n",
    "\n",
    "# Configure Kitchen to have 2 chefs\n",
    "kitchen = Kitchen(env, capacity=1)\n",
    "\n",
    "# Configure source to generate fixed number of entities\n",
    "source = CustomerSource(env, number=10)\n",
    "\n",
    "# Aside: if students want to tune various parameters of the simulation, they could configure each component\n",
    "#        of the simulation here, then loop over the construction of each with different combinations of parameters"
   ]
  },
  {
   "cell_type": "markdown",
   "metadata": {},
   "source": [
    "## Step 5: Run Simulation \n",
    "\n",
    "Running the simulation is pretty simple... just pass your resources as a dictionary to the source.start function, and call env.run()"
   ]
  },
  {
   "cell_type": "code",
   "execution_count": 6,
   "metadata": {},
   "outputs": [
    {
     "name": "stdout",
     "output_type": "stream",
     "text": [
      "Debug is Enabled\n",
      "Customer 1 created_at: 5 attributes: {'food': 'Salad', 'priority': 1}\n",
      "Customer 1 requesting Kitchen: 5\n",
      "Customer 1 started processing at Kitchen : 5\n",
      "Customer 1 finished at Kitchen: 13\n",
      "Customer 1 requesting DiningRoom: 13\n",
      "Customer 1 started processing at DiningRoom : 13\n",
      "Customer 2 created_at: 15 attributes: {'food': 'Burger', 'priority': 1}\n",
      "Customer 2 requesting Kitchen: 15\n",
      "Customer 2 started processing at Kitchen : 15\n",
      "Customer 3 created_at: 16 attributes: {'food': 'Burger', 'priority': 1}\n",
      "Customer 3 requesting Kitchen: 16\n",
      "Customer 2 finished at Kitchen: 20\n",
      "Customer 2 requesting DiningRoom: 20\n",
      "Customer 2 started processing at DiningRoom : 20\n",
      "Customer 3 started processing at Kitchen : 20\n",
      "Customer 4 created_at: 21 attributes: {'food': 'Burger', 'priority': 1}\n",
      "Customer 4 requesting Kitchen: 21\n",
      "Customer 3 finished at Kitchen: 25\n",
      "Customer 3 requesting DiningRoom: 25\n",
      "Customer 3 started processing at DiningRoom : 25\n",
      "Customer 4 started processing at Kitchen : 25\n",
      "Customer 4 finished at Kitchen: 30\n",
      "Customer 4 requesting DiningRoom: 30\n",
      "Customer 1 finished at DiningRoom: 35\n",
      "Customer 1 disposed: 35\n",
      "Customer 4 started processing at DiningRoom : 35\n",
      "Customer 5 created_at: 41 attributes: {'food': 'Salad', 'priority': 1}\n",
      "Customer 5 requesting Kitchen: 41\n",
      "Customer 5 started processing at Kitchen : 41\n",
      "Customer 2 finished at DiningRoom: 44\n",
      "Customer 2 disposed: 44\n",
      "Customer 3 finished at DiningRoom: 49\n",
      "Customer 5 finished at Kitchen: 49\n",
      "Customer 5 requesting DiningRoom: 49\n",
      "Customer 3 disposed: 49\n",
      "Customer 5 started processing at DiningRoom : 49\n",
      "Customer 6 created_at: 51 attributes: {'food': 'Burger', 'priority': 1}\n",
      "Customer 6 requesting Kitchen: 51\n",
      "Customer 6 started processing at Kitchen : 51\n",
      "Customer 7 created_at: 52 attributes: {'food': 'Salad', 'priority': 1}\n",
      "Customer 7 requesting Kitchen: 52\n",
      "Customer 6 finished at Kitchen: 56\n",
      "Customer 6 requesting DiningRoom: 56\n",
      "Customer 6 started processing at DiningRoom : 56\n",
      "Customer 7 started processing at Kitchen : 56\n",
      "Customer 8 created_at: 57 attributes: {'food': 'Fish', 'priority': 1}\n",
      "Customer 8 requesting Kitchen: 57\n",
      "Customer 4 finished at DiningRoom: 64\n",
      "Customer 7 finished at Kitchen: 64\n",
      "Customer 7 requesting DiningRoom: 64\n",
      "Customer 4 disposed: 64\n",
      "Customer 7 started processing at DiningRoom : 64\n",
      "Customer 8 started processing at Kitchen : 64\n",
      "Customer 9 created_at: 77 attributes: {'food': 'Burger', 'priority': 1}\n",
      "Customer 9 requesting Kitchen: 77\n",
      "Customer 5 finished at DiningRoom: 78\n",
      "Customer 5 disposed: 78\n",
      "Customer 8 finished at Kitchen: 79\n",
      "Customer 8 requesting DiningRoom: 79\n",
      "Customer 8 started processing at DiningRoom : 79\n",
      "Customer 9 started processing at Kitchen : 79\n",
      "Customer 6 finished at DiningRoom: 82\n",
      "Customer 10 created_at: 82 attributes: {'food': 'Fish', 'priority': 1}\n",
      "Customer 10 requesting Kitchen: 82\n",
      "Customer 6 disposed: 82\n",
      "Customer 9 finished at Kitchen: 84\n",
      "Customer 9 sent food back, bump them to the front of the line\n",
      "Customer 9 requesting Kitchen: 84\n",
      "Customer 9 started processing at Kitchen : 84\n",
      "Customer 9 finished at Kitchen: 89\n",
      "Customer 9 requesting DiningRoom: 89\n",
      "Customer 9 started processing at DiningRoom : 89\n",
      "Customer 10 started processing at Kitchen : 89\n",
      "Customer 7 finished at DiningRoom: 90\n",
      "Customer 7 disposed: 90\n",
      "Customer 8 finished at DiningRoom: 100\n",
      "Customer 8 disposed: 100\n",
      "Customer 10 finished at Kitchen: 104\n",
      "Customer 10 requesting DiningRoom: 104\n",
      "Customer 10 started processing at DiningRoom : 104\n",
      "Customer 9 finished at DiningRoom: 110\n",
      "Customer 9 disposed: 110\n",
      "Customer 10 finished at DiningRoom: 130\n",
      "Customer 10 disposed: 130\n"
     ]
    }
   ],
   "source": [
    "env.process(source.start(debug=True))\n",
    "env.run()"
   ]
  },
  {
   "cell_type": "markdown",
   "metadata": {},
   "source": [
    "## Step 6: Extract Summary Statistics from Source / Resource\n",
    "\n",
    "Use the Stats class from the simpy_helpers package to query for summary statistics about your simulation. Refer to the API documentation for details about each query method.\n",
    "\n",
    "See the following code blocks for some plots and calculations made with the summary statistics."
   ]
  },
  {
   "cell_type": "code",
   "execution_count": 7,
   "metadata": {},
   "outputs": [
    {
     "name": "stdout",
     "output_type": "stream",
     "text": [
      "total_time: [30, 29, 33, 43, 37, 31, 38, 43, 33, 48]\n",
      "waiting_time: [0, 0, 4, 9, 0, 0, 4, 7, 2, 7]\n",
      "processing_time: [30, 29, 29, 34, 37, 31, 34, 36, 31, 41] \n",
      "\n",
      "waiting time for kitchen resource [0, 0, 4, 4, 0, 0, 4, 7, 2, 7]\n",
      "processing time for kitchen resource [8, 5, 5, 5, 8, 5, 8, 15, 10, 15] \n",
      "\n",
      "waiting time for dining_room resource [0, 0, 0, 5, 0, 0, 0, 0, 0, 0]\n",
      "processing time for dining_room resource [22, 24, 24, 29, 29, 26, 26, 21, 21, 26] \n",
      "\n"
     ]
    }
   ],
   "source": [
    "system_time = Stats.get_total_times()\n",
    "print(\"total_time:\", Stats.get_total_times())\n",
    "print(\"waiting_time:\", Stats.get_waiting_times()) \n",
    "print(\"processing_time:\", Stats.get_processing_times(), \"\\n\")\n",
    "\n",
    "print(\"waiting time for kitchen resource\", Stats.get_waiting_times(kitchen))\n",
    "print(\"processing time for kitchen resource\", Stats.get_processing_times(kitchen), \"\\n\")\n",
    "\n",
    "print(\"waiting time for dining_room resource\", Stats.get_waiting_times(dining_room))\n",
    "print(\"processing time for dining_room resource\", Stats.get_processing_times(dining_room), \"\\n\") "
   ]
  },
  {
   "cell_type": "code",
   "execution_count": 8,
   "metadata": {},
   "outputs": [
    {
     "data": {
      "image/png": "[encoded data removed]",
      "text/plain": [
       "<Figure size 432x288 with 1 Axes>"
      ]
     },
     "metadata": {
      "needs_background": "light"
     },
     "output_type": "display_data"
    }
   ],
   "source": [
    "plt.hist(system_time,bins=5)\n",
    "# you can customize the exact tick marks on an axis\n",
    "plt.yticks(range(0,3))\n",
    "plt.ylabel('Frequency');\n",
    "plt.xlabel('Time in System');"
   ]
  },
  {
   "cell_type": "code",
   "execution_count": 9,
   "metadata": {},
   "outputs": [
    {
     "name": "stdout",
     "output_type": "stream",
     "text": [
      "Average number in queue: 0.2153846153846154\n",
      "Max in queue: 1\n"
     ]
    },
    {
     "data": {
      "image/png": "[encoded data removed]",
      "text/plain": [
       "<Figure size 432x288 with 1 Axes>"
      ]
     },
     "metadata": {
      "needs_background": "light"
     },
     "output_type": "display_data"
    }
   ],
   "source": [
    "\"\"\"\n",
    "Histogram of queue over time\n",
    "\"\"\"\n",
    "queue_over_time_kitchen = Stats.queue_size_over_time(kitchen) # sample queue length\n",
    "\n",
    "plt.hist(queue_over_time_kitchen)\n",
    "print(f\"Average number in queue: {np.mean(queue_over_time_kitchen)}\")\n",
    "print(f\"Max in queue: {np.max(queue_over_time_kitchen)}\")"
   ]
  },
  {
   "cell_type": "code",
   "execution_count": 10,
   "metadata": {},
   "outputs": [
    {
     "name": "stdout",
     "output_type": "stream",
     "text": [
      "Average number in queue: 0.038461538461538464\n",
      "Max in queue: 1\n"
     ]
    },
    {
     "data": {
      "image/png": "[encoded data removed]",
      "text/plain": [
       "<Figure size 432x288 with 1 Axes>"
      ]
     },
     "metadata": {
      "needs_background": "light"
     },
     "output_type": "display_data"
    }
   ],
   "source": [
    "queue_over_time_dining_room = Stats.queue_size_over_time(dining_room) # sample queue length\n",
    "\n",
    "plt.hist(queue_over_time_dining_room)\n",
    "print(f\"Average number in queue: {np.mean(queue_over_time_dining_room)}\")\n",
    "print(f\"Max in queue: {np.max(queue_over_time_dining_room)}\")"
   ]
  },
  {
   "cell_type": "code",
   "execution_count": 11,
   "metadata": {},
   "outputs": [
    {
     "name": "stdout",
     "output_type": "stream",
     "text": [
      "number processing over time [0, 0, 0, 0, 0, 1, 1, 1, 1, 1, 1, 1, 1, 0, 0, 1, 1, 1, 1, 1, 1, 1, 1, 1, 1, 1, 1, 1, 1, 1, 0, 0, 0, 0, 0, 0, 0, 0, 0, 0, 0, 1, 1, 1, 1, 1, 1, 1, 1, 0, 0, 1, 1, 1, 1, 1, 1, 1, 1, 1, 1, 1, 1, 1, 1, 1, 1, 1, 1, 1, 1, 1, 1, 1, 1, 1, 1, 1, 1, 1, 1, 1, 1, 1, 1, 1, 1, 1, 1, 1, 1, 1, 1, 1, 1, 1, 1, 1, 1, 1, 1, 1, 1, 1, 0, 0, 0, 0, 0, 0, 0, 0, 0, 0, 0, 0, 0, 0, 0, 0, 0, 0, 0, 0, 0, 0, 0, 0, 0, 0]\n",
      "Average utilization: 0.6461538461538462\n",
      "Max utilization: 1.0\n"
     ]
    },
    {
     "data": {
      "image/png": "[encoded data removed]",
      "text/plain": [
       "<Figure size 432x288 with 1 Axes>"
      ]
     },
     "metadata": {
      "needs_background": "light"
     },
     "output_type": "display_data"
    }
   ],
   "source": [
    "utilization_over_time_kitchen = Stats.utilization_over_time(kitchen)\n",
    "number_processing_over_time_kitchen = Stats.number_being_processed_over_time(kitchen)\n",
    "\n",
    "print(f\"number processing over time {number_processing_over_time_kitchen}\")\n",
    "plt.hist(utilization_over_time_kitchen)\n",
    "print(f\"Average utilization: {np.mean(utilization_over_time_kitchen)}\")\n",
    "print(f\"Max utilization: {np.max(utilization_over_time_kitchen)}\")"
   ]
  },
  {
   "cell_type": "code",
   "execution_count": 12,
   "metadata": {},
   "outputs": [
    {
     "name": "stdout",
     "output_type": "stream",
     "text": [
      "number processing over time [0, 0, 0, 0, 0, 0, 0, 0, 0, 0, 0, 0, 0, 1, 1, 1, 1, 1, 1, 1, 2, 2, 2, 2, 2, 3, 3, 3, 3, 3, 3, 3, 3, 3, 3, 3, 3, 3, 3, 3, 3, 3, 3, 3, 2, 2, 2, 2, 2, 2, 2, 2, 2, 2, 2, 2, 3, 3, 3, 3, 3, 3, 3, 3, 3, 3, 3, 3, 3, 3, 3, 3, 3, 3, 3, 3, 3, 3, 2, 3, 3, 3, 2, 2, 2, 2, 2, 2, 2, 3, 2, 2, 2, 2, 2, 2, 2, 2, 2, 2, 1, 1, 1, 1, 2, 2, 2, 2, 2, 2, 1, 1, 1, 1, 1, 1, 1, 1, 1, 1, 1, 1, 1, 1, 1, 1, 1, 1, 1, 1]\n",
      "Average utilization: 0.6361538461538462\n",
      "Max utilization: 1.0\n"
     ]
    },
    {
     "data": {
      "image/png": "[encoded data removed]",
      "text/plain": [
       "<Figure size 432x288 with 1 Axes>"
      ]
     },
     "metadata": {
      "needs_background": "light"
     },
     "output_type": "display_data"
    }
   ],
   "source": [
    "utilization_over_time_dining_room = Stats.utilization_over_time(dining_room)\n",
    "number_processing_over_time_dining_room = Stats.number_being_processed_over_time(dining_room)\n",
    "\n",
    "print(f\"number processing over time {number_processing_over_time_dining_room}\")\n",
    "plt.hist(utilization_over_time_dining_room)\n",
    "print(f\"Average utilization: {np.mean(utilization_over_time_dining_room)}\")\n",
    "print(f\"Max utilization: {np.max(utilization_over_time_dining_room)}\")"
   ]
  },
  {
   "cell_type": "code",
   "execution_count": 13,
   "metadata": {},
   "outputs": [
    {
     "name": "stdout",
     "output_type": "stream",
     "text": [
      "max system time 48\n",
      "50th percentile time 35.0\n",
      "std system time 6.103277807866851\n"
     ]
    }
   ],
   "source": [
    "print(f\"max system time {np.max(system_time)}\")\n",
    "# 50th percentile, or median\n",
    "print(f\"50th percentile time {np.percentile(system_time,50)}\")\n",
    "print(f\"std system time {np.std(system_time)}\")"
   ]
  },
  {
   "cell_type": "markdown",
   "metadata": {},
   "source": [
    "## What next? \n",
    "\n",
    "Adjust capacities at each resource and see how the summary statistics change.\n",
    "- how many chefs do you need in the kitchen to ensure 0 wait times with the current interarrival function? \n",
    "- What if we expanded our dining room... How big would we need to make the average wait time for a seat to be under 10 minutes? \n",
    "\n",
    "Could also adjust interarrival times / resource service times to see how that impacts\n",
    "- What if we retrained chefs to cook fish 5 seconds faster... would that impact wait times? \n",
    "- What if we get a huge rush at night and interarrival time spikes to 1 minute. How bad would wait times get? \n",
    "- How to implement reneging customers? "
   ]
  }
 ],
 "metadata": {
  "kernelspec": {
   "display_name": "Python 3",
   "language": "python",
   "name": "python3"
  },
  "language_info": {
   "codemirror_mode": {
    "name": "ipython",
    "version": 3
   },
   "file_extension": ".py",
   "mimetype": "text/x-python",
   "name": "python",
   "nbconvert_exporter": "python",
   "pygments_lexer": "ipython3",
   "version": "3.7.4"
  }
 },
 "nbformat": 4,
 "nbformat_minor": 4
}
