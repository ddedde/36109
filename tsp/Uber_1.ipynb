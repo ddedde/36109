{
 "cells": [
  {
   "cell_type": "markdown",
   "metadata": {},
   "source": [
    "# Uber:   Given locations of customers and drivers, make an \"optimal\" assignment."
   ]
  },
  {
   "cell_type": "code",
   "execution_count": 1,
   "metadata": {},
   "outputs": [],
   "source": [
    "from pprint import pprint"
   ]
  },
  {
   "cell_type": "code",
   "execution_count": 2,
   "metadata": {},
   "outputs": [],
   "source": [
    "# Let's consider two customers, C1 and C2, we provide their locations:  [lat,lng]\n",
    "C1_location = [33.780775, -84.386301]\n",
    "C2_location = [33.778988, -84.363791]\n",
    "\n",
    "# And two available drivers, D1 and D2\n",
    "D1_location = [33.793711, -84.317408]\n",
    "D2_location = [33.776812, -84.356153]"
   ]
  },
  {
   "cell_type": "markdown",
   "metadata": {},
   "source": [
    "### We will use the `geopy` package to compute distances between two locations (it considers the curvature of the earth for us!) The documentation can be found here:   https://pypi.org/project/geopy/\n",
    "#### If you are running locally you will need to install geopy with the command at the terminal:   `pip install geopy`"
   ]
  },
  {
   "cell_type": "code",
   "execution_count": 3,
   "metadata": {},
   "outputs": [],
   "source": [
    "from geopy.distance import geodesic"
   ]
  },
  {
   "cell_type": "code",
   "execution_count": 4,
   "metadata": {},
   "outputs": [
    {
     "name": "stdout",
     "output_type": "stream",
     "text": [
      "{'C1_D1': 4.063663522199328,\n",
      " 'C1_D2': 1.7564928121576306,\n",
      " 'C2_D1': 2.8556454250592753,\n",
      " 'C2_D2': 0.46447745846674}\n"
     ]
    }
   ],
   "source": [
    "# We will store distances in a dictionary, with key 'CustomerName_DriverName'\n",
    "distances = {}\n",
    "distances['C1_D1'] = geodesic(C1_location,D1_location).miles\n",
    "distances['C1_D2'] = geodesic(C1_location,D2_location).miles\n",
    "\n",
    "distances['C2_D1'] = geodesic(C2_location,D1_location).miles\n",
    "distances['C2_D2'] = geodesic(C2_location,D2_location).miles\n",
    "\n",
    "pprint(distances)"
   ]
  },
  {
   "cell_type": "markdown",
   "metadata": {},
   "source": [
    "### We are now ready to form a Linear Program to find an optimal assignment.  \n",
    "\n",
    "### There are a number of packages to do optimization, we will use `PuLP` that is open source and free, but works much the same way as a commercial product.   The documentation is here:   https://pypi.org/project/PuLP/\n",
    "#### If you are running locally you will need to install at the terminal with: `pip install pulp`"
   ]
  },
  {
   "cell_type": "code",
   "execution_count": 5,
   "metadata": {},
   "outputs": [],
   "source": [
    "from pulp import *"
   ]
  },
  {
   "cell_type": "markdown",
   "metadata": {},
   "source": [
    "### We use the PuLP function `LpProblem` to define a model instance, with an objective we will want to Minimize"
   ]
  },
  {
   "cell_type": "code",
   "execution_count": 6,
   "metadata": {},
   "outputs": [
    {
     "name": "stdout",
     "output_type": "stream",
     "text": [
      "Uber Assignment:\n",
      "MINIMIZE\n",
      "None\n",
      "VARIABLES\n",
      "\n"
     ]
    }
   ],
   "source": [
    "model = LpProblem(\"Uber Assignment\",LpMinimize)\n",
    "# Let's look at our model, nothing much here yet.\n",
    "pprint(model)"
   ]
  },
  {
   "cell_type": "markdown",
   "metadata": {},
   "source": [
    "### We will define a varible for each Customer/Driver pair.  The variable names will be of the form, `CustName_DriverName`,  so `C1_D2` for example.  "
   ]
  },
  {
   "cell_type": "code",
   "execution_count": 7,
   "metadata": {},
   "outputs": [],
   "source": [
    "# Each arc variable is Binary 0,1\n",
    "C1_D1 = pulp.LpVariable('C1_D1', cat='Binary')\n",
    "C1_D2 = pulp.LpVariable('C1_D2', cat='Binary')\n",
    "C2_D1 = pulp.LpVariable('C2_D1', cat='Binary')\n",
    "C2_D2 = pulp.LpVariable('C2_D2', cat='Binary')\n"
   ]
  },
  {
   "cell_type": "code",
   "execution_count": 8,
   "metadata": {},
   "outputs": [
    {
     "data": {
      "text/plain": [
       "pulp.pulp.LpVariable"
      ]
     },
     "execution_count": 8,
     "metadata": {},
     "output_type": "execute_result"
    }
   ],
   "source": [
    "# Each of these variables is a special class defined by the PuLP system.   \n",
    "# We just nod our head in approval, not caring that we don't understand the inner workings of this class.\n",
    "type(C1_D1)"
   ]
  },
  {
   "cell_type": "markdown",
   "metadata": {},
   "source": [
    "### We can now add our objective function to `model` which is to Minimize the sum of distance travelled"
   ]
  },
  {
   "cell_type": "code",
   "execution_count": 9,
   "metadata": {},
   "outputs": [
    {
     "name": "stdout",
     "output_type": "stream",
     "text": [
      "Uber Assignment:\n",
      "MINIMIZE\n",
      "4.063663522199328*C1_D1 + 1.7564928121576306*C1_D2 + 2.8556454250592753*C2_D1 + 0.46447745846674*C2_D2 + 0.0\n",
      "VARIABLES\n",
      "0 <= C1_D1 <= 1 Integer\n",
      "0 <= C1_D2 <= 1 Integer\n",
      "0 <= C2_D1 <= 1 Integer\n",
      "0 <= C2_D2 <= 1 Integer\n",
      "\n"
     ]
    }
   ],
   "source": [
    "model +=  distances['C1_D1']*C1_D1 + distances['C1_D2']*C1_D2 +   distances['C2_D1']*C2_D1 + distances['C2_D2']*C2_D2\n",
    "pprint(model)"
   ]
  },
  {
   "cell_type": "markdown",
   "metadata": {},
   "source": [
    "### We now need our \"node\" constraints, each customer is assignned to exactly one driver, and each driver is assigned exactly one customer.  "
   ]
  },
  {
   "cell_type": "markdown",
   "metadata": {},
   "source": [
    "### Now we add these constraints to our `model`"
   ]
  },
  {
   "cell_type": "code",
   "execution_count": 10,
   "metadata": {},
   "outputs": [],
   "source": [
    "# Add constraint for each customer\n",
    "#  First we keep each constraint in a variable (this will help us get some info about it later)\n",
    "#  Then we add it to our model with a name in quotes \n",
    "C1_const = C1_D1 + C1_D2 == 1\n",
    "model += C1_const, \"C1\" \n",
    "C2_const = C2_D1 + C2_D2 == 1\n",
    "model += C2_const, \"C2\" \n",
    "# Add constraint for each driver \n",
    "D1_const = C1_D1 + C2_D1 == 1\n",
    "model += D1_const, \"D1\" \n",
    "D2_const = C1_D2 + C2_D2 == 1\n",
    "model += D2_const, \"D2\" "
   ]
  },
  {
   "cell_type": "code",
   "execution_count": 11,
   "metadata": {},
   "outputs": [
    {
     "data": {
      "text/plain": [
       "Uber Assignment:\n",
       "MINIMIZE\n",
       "4.063663522199328*C1_D1 + 1.7564928121576306*C1_D2 + 2.8556454250592753*C2_D1 + 0.46447745846674*C2_D2 + 0.0\n",
       "SUBJECT TO\n",
       "C1: C1_D1 + C1_D2 = 1\n",
       "\n",
       "C2: C2_D1 + C2_D2 = 1\n",
       "\n",
       "D1: C1_D1 + C2_D1 = 1\n",
       "\n",
       "D2: C1_D2 + C2_D2 = 1\n",
       "\n",
       "VARIABLES\n",
       "0 <= C1_D1 <= 1 Integer\n",
       "0 <= C1_D2 <= 1 Integer\n",
       "0 <= C2_D1 <= 1 Integer\n",
       "0 <= C2_D2 <= 1 Integer"
      ]
     },
     "execution_count": 11,
     "metadata": {},
     "output_type": "execute_result"
    }
   ],
   "source": [
    "# Let's inspect our model to make sure it looks right\n",
    "model"
   ]
  },
  {
   "cell_type": "code",
   "execution_count": 12,
   "metadata": {},
   "outputs": [
    {
     "name": "stdout",
     "output_type": "stream",
     "text": [
      "Status: Optimal\n"
     ]
    }
   ],
   "source": [
    "# Let's solve the model and make sure it's status is good\n",
    "model.solve()\n",
    "print(\"Status:\", LpStatus[model.status])"
   ]
  },
  {
   "cell_type": "code",
   "execution_count": 13,
   "metadata": {},
   "outputs": [
    {
     "name": "stdout",
     "output_type": "stream",
     "text": [
      "C1_D1 = 1.0\n",
      "C1_D2 = 0.0\n",
      "C2_D1 = 0.0\n",
      "C2_D2 = 1.0\n"
     ]
    }
   ],
   "source": [
    "# Here is the solution\n",
    "for v in model.variables():\n",
    "    print(v.name, \"=\", v.varValue)"
   ]
  },
  {
   "cell_type": "markdown",
   "metadata": {},
   "source": [
    "## Shadow Prices\n",
    "### For those of you familiar with Linear Programming, you may wonder how to get the shadow prices on our constraints,  here they are. \n",
    "### How might they be of use here? "
   ]
  },
  {
   "cell_type": "code",
   "execution_count": 14,
   "metadata": {},
   "outputs": [
    {
     "name": "stdout",
     "output_type": "stream",
     "text": [
      "C1_D1 + C1_D2 = 1   shadow price: 0.0\n",
      "C2_D1 + C2_D2 = 1   shadow price: 0.0\n",
      "C1_D1 + C2_D1 = 1   shadow price: 0.0\n",
      "C1_D2 + C2_D2 = 1   shadow price: 0.0\n"
     ]
    }
   ],
   "source": [
    "print(C1_const, \"  shadow price:\", C1_const.pi)\n",
    "print(C2_const, \"  shadow price:\", C2_const.pi)\n",
    "print(D1_const, \"  shadow price:\", D1_const.pi)\n",
    "print(D2_const, \"  shadow price:\", D2_const.pi)"
   ]
  },
  {
   "cell_type": "markdown",
   "metadata": {},
   "source": [
    "## Homework/Classroom work\n",
    "\n",
    "- Can you reformulate the problem so that we minimize the worst case?  This would, it seems in this case, change the assignment we got originally.\n",
    "- What if there are not an equal number of drivers and customers, how do we reformulate our model?\n",
    "- What if there are some customers who have waited considerably longer than others, or drivers who have waited longer ... how might your model formulation account for this?"
   ]
  }
 ],
 "metadata": {
  "kernelspec": {
   "display_name": "Python 3",
   "language": "python",
   "name": "python3"
  },
  "language_info": {
   "codemirror_mode": {
    "name": "ipython",
    "version": 3
   },
   "file_extension": ".py",
   "mimetype": "text/x-python",
   "name": "python",
   "nbconvert_exporter": "python",
   "pygments_lexer": "ipython3",
   "version": "3.7.3"
  }
 },
 "nbformat": 4,
 "nbformat_minor": 2
}
