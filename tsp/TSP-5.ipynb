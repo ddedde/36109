{
 "cells": [
  {
   "cell_type": "markdown",
   "metadata": {},
   "source": [
    "# TSP"
   ]
  },
  {
   "cell_type": "markdown",
   "metadata": {},
   "source": [
    "## Use pandas to read in the excel file, `customer_list.xlsx` of customer addresses"
   ]
  },
  {
   "cell_type": "code",
   "execution_count": 1,
   "metadata": {},
   "outputs": [],
   "source": [
    "from pprint import pprint\n",
    "import pandas as pd\n",
    "# replace any empty fields with empty string\n",
    "customers_df = pd.read_excel('customer_list.xlsx').fillna('')"
   ]
  },
  {
   "cell_type": "markdown",
   "metadata": {},
   "source": [
    "## We can look at the pandas customer data frame, `customer_df`.\n",
    "### Note some missing cells, they are stored as empty strings, `''`"
   ]
  },
  {
   "cell_type": "code",
   "execution_count": 2,
   "metadata": {},
   "outputs": [
    {
     "data": {
      "text/html": [
       "<div>\n",
       "<style scoped>\n",
       "    .dataframe tbody tr th:only-of-type {\n",
       "        vertical-align: middle;\n",
       "    }\n",
       "\n",
       "    .dataframe tbody tr th {\n",
       "        vertical-align: top;\n",
       "    }\n",
       "\n",
       "    .dataframe thead th {\n",
       "        text-align: right;\n",
       "    }\n",
       "</style>\n",
       "<table border=\"1\" class=\"dataframe\">\n",
       "  <thead>\n",
       "    <tr style=\"text-align: right;\">\n",
       "      <th></th>\n",
       "      <th>name</th>\n",
       "      <th>address</th>\n",
       "      <th>city</th>\n",
       "      <th>state</th>\n",
       "      <th>zip</th>\n",
       "    </tr>\n",
       "  </thead>\n",
       "  <tbody>\n",
       "    <tr>\n",
       "      <th>0</th>\n",
       "      <td>Lula Café</td>\n",
       "      <td>2537 N Kedzie</td>\n",
       "      <td>Chicago</td>\n",
       "      <td>IL</td>\n",
       "      <td></td>\n",
       "    </tr>\n",
       "    <tr>\n",
       "      <th>1</th>\n",
       "      <td>Pita Inn</td>\n",
       "      <td>4710 Dempster Street</td>\n",
       "      <td>Skokie</td>\n",
       "      <td>IL</td>\n",
       "      <td></td>\n",
       "    </tr>\n",
       "    <tr>\n",
       "      <th>2</th>\n",
       "      <td>Big Jones</td>\n",
       "      <td></td>\n",
       "      <td>Chicago</td>\n",
       "      <td>IL</td>\n",
       "      <td></td>\n",
       "    </tr>\n",
       "    <tr>\n",
       "      <th>3</th>\n",
       "      <td>Pequod's Pizza</td>\n",
       "      <td>2207 N Clybourn</td>\n",
       "      <td>Chicago</td>\n",
       "      <td>IL</td>\n",
       "      <td>60614</td>\n",
       "    </tr>\n",
       "    <tr>\n",
       "      <th>4</th>\n",
       "      <td>L Woods Tap and Pine Lodge</td>\n",
       "      <td>7110 Lincoln Ave</td>\n",
       "      <td>Lincolnwood</td>\n",
       "      <td>IL</td>\n",
       "      <td></td>\n",
       "    </tr>\n",
       "    <tr>\n",
       "      <th>5</th>\n",
       "      <td>Piece Pizza</td>\n",
       "      <td>1927 W North Ave</td>\n",
       "      <td>Chicago</td>\n",
       "      <td>IL</td>\n",
       "      <td>60622</td>\n",
       "    </tr>\n",
       "    <tr>\n",
       "      <th>6</th>\n",
       "      <td>Tapas Barcelona</td>\n",
       "      <td></td>\n",
       "      <td>Evanston</td>\n",
       "      <td>IL</td>\n",
       "      <td></td>\n",
       "    </tr>\n",
       "  </tbody>\n",
       "</table>\n",
       "</div>"
      ],
      "text/plain": [
       "                         name               address         city state    zip\n",
       "0                   Lula Café         2537 N Kedzie      Chicago    IL       \n",
       "1                    Pita Inn  4710 Dempster Street       Skokie    IL       \n",
       "2                   Big Jones                            Chicago   IL        \n",
       "3              Pequod's Pizza       2207 N Clybourn      Chicago    IL  60614\n",
       "4  L Woods Tap and Pine Lodge      7110 Lincoln Ave  Lincolnwood    IL       \n",
       "5                 Piece Pizza      1927 W North Ave      Chicago    IL  60622\n",
       "6             Tapas Barcelona                           Evanston    IL       "
      ]
     },
     "execution_count": 2,
     "metadata": {},
     "output_type": "execute_result"
    }
   ],
   "source": [
    "customers_df"
   ]
  },
  {
   "cell_type": "markdown",
   "metadata": {},
   "source": [
    "### Let's now convert the Pandas structure to standard Python.  Here a List of Dictionaries."
   ]
  },
  {
   "cell_type": "code",
   "execution_count": 3,
   "metadata": {},
   "outputs": [
    {
     "name": "stdout",
     "output_type": "stream",
     "text": [
      "[{'address': '2537 N Kedzie',\n",
      "  'city': 'Chicago',\n",
      "  'name': 'Lula Café',\n",
      "  'state': 'IL',\n",
      "  'zip': ''},\n",
      " {'address': '4710 Dempster Street',\n",
      "  'city': 'Skokie',\n",
      "  'name': 'Pita Inn',\n",
      "  'state': 'IL',\n",
      "  'zip': ''},\n",
      " {'address': '',\n",
      "  'city': 'Chicago',\n",
      "  'name': 'Big Jones',\n",
      "  'state': 'IL ',\n",
      "  'zip': ''},\n",
      " {'address': '2207 N Clybourn',\n",
      "  'city': 'Chicago',\n",
      "  'name': \"Pequod's Pizza\",\n",
      "  'state': 'IL',\n",
      "  'zip': 60614.0},\n",
      " {'address': '7110 Lincoln Ave',\n",
      "  'city': 'Lincolnwood',\n",
      "  'name': 'L Woods Tap and Pine Lodge',\n",
      "  'state': 'IL',\n",
      "  'zip': ''},\n",
      " {'address': '1927 W North Ave',\n",
      "  'city': 'Chicago',\n",
      "  'name': 'Piece Pizza',\n",
      "  'state': 'IL',\n",
      "  'zip': 60622.0},\n",
      " {'address': '',\n",
      "  'city': 'Evanston',\n",
      "  'name': 'Tapas Barcelona',\n",
      "  'state': 'IL',\n",
      "  'zip': ''}]\n"
     ]
    }
   ],
   "source": [
    "customer_records = customers_df.to_dict('records')\n",
    "pprint(customer_records)"
   ]
  },
  {
   "cell_type": "markdown",
   "metadata": {},
   "source": [
    "### Note:  Zip codes get treated like floats by default, for example 60647.0, so we convert each to a string and get rid of the trailing `.0`"
   ]
  },
  {
   "cell_type": "code",
   "execution_count": 4,
   "metadata": {},
   "outputs": [
    {
     "name": "stdout",
     "output_type": "stream",
     "text": [
      "[{'address': '2537 N Kedzie',\n",
      "  'city': 'Chicago',\n",
      "  'name': 'Lula Café',\n",
      "  'state': 'IL',\n",
      "  'zip': ''},\n",
      " {'address': '4710 Dempster Street',\n",
      "  'city': 'Skokie',\n",
      "  'name': 'Pita Inn',\n",
      "  'state': 'IL',\n",
      "  'zip': ''},\n",
      " {'address': '',\n",
      "  'city': 'Chicago',\n",
      "  'name': 'Big Jones',\n",
      "  'state': 'IL ',\n",
      "  'zip': ''},\n",
      " {'address': '2207 N Clybourn',\n",
      "  'city': 'Chicago',\n",
      "  'name': \"Pequod's Pizza\",\n",
      "  'state': 'IL',\n",
      "  'zip': '60614'},\n",
      " {'address': '7110 Lincoln Ave',\n",
      "  'city': 'Lincolnwood',\n",
      "  'name': 'L Woods Tap and Pine Lodge',\n",
      "  'state': 'IL',\n",
      "  'zip': ''},\n",
      " {'address': '1927 W North Ave',\n",
      "  'city': 'Chicago',\n",
      "  'name': 'Piece Pizza',\n",
      "  'state': 'IL',\n",
      "  'zip': '60622'},\n",
      " {'address': '',\n",
      "  'city': 'Evanston',\n",
      "  'name': 'Tapas Barcelona',\n",
      "  'state': 'IL',\n",
      "  'zip': ''}]\n"
     ]
    }
   ],
   "source": [
    "for cust in customer_records:\n",
    "    cust['zip'] = str(cust['zip']).replace('.0','')\n",
    "pprint(customer_records)"
   ]
  },
  {
   "cell_type": "markdown",
   "metadata": {},
   "source": [
    "### We will be using a Google API to handle our addresses, give us geocoordinates, and travel times and directions.  Google will take the address as one long string, so let's replace our chopped up address with a single one we will call `full_address`.\n",
    "\n",
    "### We will keep the name field since this Google API tends to discard the name, keeping only the address.  "
   ]
  },
  {
   "cell_type": "code",
   "execution_count": 5,
   "metadata": {},
   "outputs": [
    {
     "name": "stdout",
     "output_type": "stream",
     "text": [
      "[{'full_address': 'Lula Café, 2537 N Kedzie, Chicago, IL ',\n",
      "  'name': 'Lula Café'},\n",
      " {'full_address': 'Pita Inn, 4710 Dempster Street, Skokie, IL ',\n",
      "  'name': 'Pita Inn'},\n",
      " {'full_address': 'Big Jones, , Chicago, IL  ', 'name': 'Big Jones'},\n",
      " {'full_address': \"Pequod's Pizza, 2207 N Clybourn, Chicago, IL 60614\",\n",
      "  'name': \"Pequod's Pizza\"},\n",
      " {'full_address': 'L Woods Tap and Pine Lodge, 7110 Lincoln Ave, Lincolnwood, '\n",
      "                  'IL ',\n",
      "  'name': 'L Woods Tap and Pine Lodge'},\n",
      " {'full_address': 'Piece Pizza, 1927 W North Ave, Chicago, IL 60622',\n",
      "  'name': 'Piece Pizza'},\n",
      " {'full_address': 'Tapas Barcelona, , Evanston, IL ',\n",
      "  'name': 'Tapas Barcelona'}]\n"
     ]
    }
   ],
   "source": [
    "for cust in customer_records:\n",
    "    cust['full_address'] = cust['name'] + ', ' + cust['address'] + ', ' + cust['city'] + ', ' + cust['state'] + ' ' + cust['zip']\n",
    "    del cust['address']\n",
    "    del cust['city']\n",
    "    del cust['state']\n",
    "    del cust['zip']\n",
    "pprint(customer_records)"
   ]
  },
  {
   "cell_type": "markdown",
   "metadata": {},
   "source": [
    "### Our TSP begins at the company depot, which we define as the Harper Center. \n",
    "### Note we don't provide an address for the Harper Center, we will see if our Google API will take care of that!\n",
    "### We will prepend this depot to our list of customers so it can be included in our TSP routing"
   ]
  },
  {
   "cell_type": "code",
   "execution_count": 6,
   "metadata": {},
   "outputs": [
    {
     "name": "stdout",
     "output_type": "stream",
     "text": [
      "[{'full_address': 'Harper Center, Chicago, IL', 'name': 'Harper Center'},\n",
      " {'full_address': 'Lula Café, 2537 N Kedzie, Chicago, IL ',\n",
      "  'name': 'Lula Café'},\n",
      " {'full_address': 'Pita Inn, 4710 Dempster Street, Skokie, IL ',\n",
      "  'name': 'Pita Inn'},\n",
      " {'full_address': 'Big Jones, , Chicago, IL  ', 'name': 'Big Jones'},\n",
      " {'full_address': \"Pequod's Pizza, 2207 N Clybourn, Chicago, IL 60614\",\n",
      "  'name': \"Pequod's Pizza\"},\n",
      " {'full_address': 'L Woods Tap and Pine Lodge, 7110 Lincoln Ave, Lincolnwood, '\n",
      "                  'IL ',\n",
      "  'name': 'L Woods Tap and Pine Lodge'},\n",
      " {'full_address': 'Piece Pizza, 1927 W North Ave, Chicago, IL 60622',\n",
      "  'name': 'Piece Pizza'},\n",
      " {'full_address': 'Tapas Barcelona, , Evanston, IL ',\n",
      "  'name': 'Tapas Barcelona'}]\n"
     ]
    }
   ],
   "source": [
    "depot = 'Harper Center, Chicago, IL'\n",
    "# Let's add the depot as our first customer, we provide both the full_address and name keys\n",
    "customer_records = [{'full_address': depot, 'name': 'Harper Center'}] + customer_records\n",
    "pprint(customer_records)"
   ]
  },
  {
   "cell_type": "markdown",
   "metadata": {},
   "source": [
    "## We use `google-map-services-python`, the GitHub site and documentation is here: https://github.com/googlemaps/google-maps-services-python.  This is a library of python code specifically written to interace with google map services using python.\n",
    "### The github site explains how to install the `googlemaps` python module, and provides links on how to get your own Google Map Services API key\n"
   ]
  },
  {
   "cell_type": "code",
   "execution_count": 7,
   "metadata": {},
   "outputs": [],
   "source": [
    "import googlemaps\n",
    "import os    # You won't need this unless you hide your Google Key like I did\n",
    "# We first need to provide the googlemaps api our Google Services Key.  I have my key hidden in my OS as an environment variable. \n",
    "googlemap = googlemaps.Client(key=os.environ[\"GOOGLE_API_KEY\"])\n",
    "# You can instead just put your key in directly, so, for example if your key is 'AIXX88' then you would use the following, uncommented\n",
    "#   googlemap = googlemaps.Client(key='AIX88')"
   ]
  },
  {
   "cell_type": "code",
   "execution_count": 28,
   "metadata": {},
   "outputs": [
    {
     "name": "stdout",
     "output_type": "stream",
     "text": [
      "geocode info for customer Lula Café, 2537 N Kedzie, Chicago, IL \n",
      "\n",
      "[{'address_components': [{'long_name': '2537',\n",
      "                          'short_name': '2537',\n",
      "                          'types': ['street_number']},\n",
      "                         {'long_name': 'North Kedzie Avenue',\n",
      "                          'short_name': 'N Kedzie Ave',\n",
      "                          'types': ['route']},\n",
      "                         {'long_name': 'Logan Square',\n",
      "                          'short_name': 'Logan Square',\n",
      "                          'types': ['neighborhood', 'political']},\n",
      "                         {'long_name': 'Chicago',\n",
      "                          'short_name': 'Chicago',\n",
      "                          'types': ['locality', 'political']},\n",
      "                         {'long_name': 'Cook County',\n",
      "                          'short_name': 'Cook County',\n",
      "                          'types': ['administrative_area_level_2',\n",
      "                                    'political']},\n",
      "                         {'long_name': 'Illinois',\n",
      "                          'short_name': 'IL',\n",
      "                          'types': ['administrative_area_level_1',\n",
      "                                    'political']},\n",
      "                         {'long_name': 'United States',\n",
      "                          'short_name': 'US',\n",
      "                          'types': ['country', 'political']},\n",
      "                         {'long_name': '60647',\n",
      "                          'short_name': '60647',\n",
      "                          'types': ['postal_code']}],\n",
      "  'formatted_address': '2537 N Kedzie Ave, Chicago, IL 60647, USA',\n",
      "  'geometry': {'location': {'lat': 41.927684, 'lng': -87.70679400000002},\n",
      "               'location_type': 'ROOFTOP',\n",
      "               'viewport': {'northeast': {'lat': 41.9290329802915,\n",
      "                                          'lng': -87.70544501970852},\n",
      "                            'southwest': {'lat': 41.9263350197085,\n",
      "                                          'lng': -87.70814298029153}}},\n",
      "  'place_id': 'ChIJ-7r5qHrND4gRgmIpiTEL5Nk',\n",
      "  'plus_code': {'compound_code': 'W7HV+37 Chicago, Illinois, United States',\n",
      "                'global_code': '86HJW7HV+37'},\n",
      "  'types': ['bar',\n",
      "            'cafe',\n",
      "            'establishment',\n",
      "            'food',\n",
      "            'point_of_interest',\n",
      "            'restaurant']}]\n",
      "\n",
      "\n",
      "\n",
      "The result is a <class 'list'>\n",
      " of length 1\n"
     ]
    }
   ],
   "source": [
    "#  Let try out this API by calling the geocode method for the second customer\n",
    "#  By calling googlemap.geocode('Some address'), we are making an internet call to Google's API asking google for \n",
    "#  information about an address.\n",
    "geocode_result =  googlemap.geocode(customer_records[1]['full_address'])\n",
    "print(f\"geocode info for customer {customer_records[1]['full_address']}\\n\")\n",
    "pprint(geocode_result)\n",
    "# The result is a List, which contains one element, a Dictionary\n",
    "print(\"\\n\\n\")\n",
    "print(f\"The result is a {type(geocode_result)}\")\n",
    "print(f\" of length {len(geocode_result)}\")"
   ]
  },
  {
   "cell_type": "code",
   "execution_count": 29,
   "metadata": {},
   "outputs": [
    {
     "name": "stdout",
     "output_type": "stream",
     "text": [
      "[{'full_address': 'Harper Center, Chicago, IL',\n",
      "  'google_address': 'Chicago Booth Harper Center, 5807 S Woodlawn Ave, '\n",
      "                    'Chicago, IL 60637, USA',\n",
      "  'location': [41.7891387, -87.5954555],\n",
      "  'name': 'Harper Center'},\n",
      " {'full_address': 'Lula Café, 2537 N Kedzie, Chicago, IL ',\n",
      "  'google_address': '2537 N Kedzie Ave, Chicago, IL 60647, USA',\n",
      "  'location': [41.927684, -87.70679400000002],\n",
      "  'name': 'Lula Café'},\n",
      " {'full_address': 'Pita Inn, 4710 Dempster Street, Skokie, IL ',\n",
      "  'google_address': '4710 Dempster Street, Skokie, IL 60076, USA',\n",
      "  'location': [42.0410639, -87.7451663],\n",
      "  'name': 'Pita Inn'},\n",
      " {'full_address': 'Big Jones, , Chicago, IL  ',\n",
      "  'google_address': '5347 N Clark St, Chicago, IL 60640, USA',\n",
      "  'location': [41.9794569, -87.66814749999999],\n",
      "  'name': 'Big Jones'},\n",
      " {'full_address': \"Pequod's Pizza, 2207 N Clybourn, Chicago, IL 60614\",\n",
      "  'google_address': '2207 N Clybourn Ave, Chicago, IL 60614, USA',\n",
      "  'location': [41.921885, -87.6644455],\n",
      "  'name': \"Pequod's Pizza\"},\n",
      " {'full_address': 'L Woods Tap and Pine Lodge, 7110 Lincoln Ave, Lincolnwood, '\n",
      "                  'IL ',\n",
      "  'google_address': '7110 Lincoln Ave, Lincolnwood, IL 60712, USA',\n",
      "  'location': [42.01014079999999, -87.7378651],\n",
      "  'name': 'L Woods Tap and Pine Lodge'},\n",
      " {'full_address': 'Piece Pizza, 1927 W North Ave, Chicago, IL 60622',\n",
      "  'google_address': '1927 W North Ave, Chicago, IL 60622, USA',\n",
      "  'location': [41.9103001, -87.67612160000002],\n",
      "  'name': 'Piece Pizza'},\n",
      " {'full_address': 'Tapas Barcelona, , Evanston, IL ',\n",
      "  'google_address': '1615 Chicago Ave, Evanston, IL 60201, USA',\n",
      "  'location': [42.0466634, -87.6791169],\n",
      "  'name': 'Tapas Barcelona'}]\n"
     ]
    }
   ],
   "source": [
    "#  We add to each customer dictionary, `google_address` and the location as a List:  `[lat,lng]`\n",
    "for cust in customer_records:\n",
    "    geocode_result = googlemap.geocode(cust['full_address'])\n",
    "    cust['google_address'] = geocode_result[0]['formatted_address'] \n",
    "    cust['location'] = [geocode_result[0]['geometry']['location']['lat'],geocode_result[0]['geometry']['location']['lng']]\n",
    "pprint(customer_records)"
   ]
  },
  {
   "cell_type": "code",
   "execution_count": 10,
   "metadata": {},
   "outputs": [
    {
     "name": "stdout",
     "output_type": "stream",
     "text": [
      "['Chicago Booth Harper Center, 5807 S Woodlawn Ave, Chicago, IL 60637, USA',\n",
      " '2537 N Kedzie Ave, Chicago, IL 60647, USA',\n",
      " '4710 Dempster Street, Skokie, IL 60076, USA',\n",
      " '5347 N Clark St, Chicago, IL 60640, USA',\n",
      " '2207 N Clybourn Ave, Chicago, IL 60614, USA',\n",
      " '7110 Lincoln Ave, Lincolnwood, IL 60712, USA',\n",
      " '1927 W North Ave, Chicago, IL 60622, USA',\n",
      " '1615 Chicago Ave, Evanston, IL 60201, USA']\n"
     ]
    }
   ],
   "source": [
    "# Let's make a simple list, customer_addresses,  of google addresses\n",
    "# This will be useful when we get to mapping\n",
    "#\n",
    "# Python is powerful, it can be done in one line!\n",
    "# customer_addresses = [cust['google_address'] for cust in customer_records]\n",
    "# But we'll go at it a bit more methodically here:\n",
    "customer_addresses=[]\n",
    "for cust in customer_records:\n",
    "    customer_addresses.append(cust['google_address'])\n",
    "pprint(customer_addresses)"
   ]
  },
  {
   "cell_type": "markdown",
   "metadata": {},
   "source": [
    "## We now will call Google's Directions API:   https://developers.google.com/maps/documentation/directions/start\n",
    "### This API will provide us a result, an object, that describes the time and distance between two addresses, accounting for traffic and time of travel if desired"
   ]
  },
  {
   "cell_type": "code",
   "execution_count": 33,
   "metadata": {},
   "outputs": [
    {
     "name": "stdout",
     "output_type": "stream",
     "text": [
      "{'destination_addresses': ['Chicago Booth Harper Center, 5807 S Woodlawn Ave, '\n",
      "                           'Chicago, IL 60637, USA',\n",
      "                           '2537 N Kedzie Ave, Chicago, IL 60647, USA',\n",
      "                           '4710 Dempster Street, Skokie, IL 60076, USA',\n",
      "                           '5347 N Clark St, Chicago, IL 60640, USA',\n",
      "                           '2207 N Clybourn Ave, Chicago, IL 60614, USA',\n",
      "                           '7110 Lincoln Ave, Lincolnwood, IL 60712, USA',\n",
      "                           '1927 W North Ave, Chicago, IL 60622, USA',\n",
      "                           '1615 Chicago Ave, Evanston, IL 60201, USA'],\n",
      " 'origin_addresses': ['Chicago Booth Harper Center, 5807 S Woodlawn Ave, '\n",
      "                      'Chicago, IL 60637, USA',\n",
      "                      '2537 N Kedzie Ave, Chicago, IL 60647, USA',\n",
      "                      '4710 Dempster Street, Skokie, IL 60076, USA',\n",
      "                      '5347 N Clark St, Chicago, IL 60640, USA',\n",
      "                      '2207 N Clybourn Ave, Chicago, IL 60614, USA',\n",
      "                      '7110 Lincoln Ave, Lincolnwood, IL 60712, USA',\n",
      "                      '1927 W North Ave, Chicago, IL 60622, USA',\n",
      "                      '1615 Chicago Ave, Evanston, IL 60201, USA'],\n",
      " 'rows': [{'elements': [{'distance': {'text': '1 ft', 'value': 0},\n",
      "                         'duration': {'text': '1 min', 'value': 0},\n",
      "                         'duration_in_traffic': {'text': '1 min', 'value': 3},\n",
      "                         'status': 'OK'},\n",
      "                        {'distance': {'text': '14.9 mi', 'value': 24046},\n",
      "                         'duration': {'text': '30 mins', 'value': 1788},\n",
      "                         'duration_in_traffic': {'text': '37 mins',\n",
      "                                                 'value': 2246},\n",
      "                         'status': 'OK'},\n",
      "                        {'distance': {'text': '24.2 mi', 'value': 38979},\n",
      "                         'duration': {'text': '37 mins', 'value': 2233},\n",
      "                         'duration_in_traffic': {'text': '46 mins',\n",
      "                                                 'value': 2754},\n",
      "                         'status': 'OK'},\n",
      "                        {'distance': {'text': '16.1 mi', 'value': 25831},\n",
      "                         'duration': {'text': '32 mins', 'value': 1936},\n",
      "                         'duration_in_traffic': {'text': '42 mins',\n",
      "                                                 'value': 2494},\n",
      "                         'status': 'OK'},\n",
      "                        {'distance': {'text': '12.8 mi', 'value': 20646},\n",
      "                         'duration': {'text': '27 mins', 'value': 1593},\n",
      "                         'duration_in_traffic': {'text': '36 mins',\n",
      "                                                 'value': 2137},\n",
      "                         'status': 'OK'},\n",
      "                        {'distance': {'text': '21.3 mi', 'value': 34350},\n",
      "                         'duration': {'text': '35 mins', 'value': 2074},\n",
      "                         'duration_in_traffic': {'text': '43 mins',\n",
      "                                                 'value': 2572},\n",
      "                         'status': 'OK'},\n",
      "                        {'distance': {'text': '12.3 mi', 'value': 19771},\n",
      "                         'duration': {'text': '25 mins', 'value': 1509},\n",
      "                         'duration_in_traffic': {'text': '32 mins',\n",
      "                                                 'value': 1938},\n",
      "                         'status': 'OK'},\n",
      "                        {'distance': {'text': '20.8 mi', 'value': 33430},\n",
      "                         'duration': {'text': '43 mins', 'value': 2550},\n",
      "                         'duration_in_traffic': {'text': '53 mins',\n",
      "                                                 'value': 3153},\n",
      "                         'status': 'OK'}]},\n",
      "          {'elements': [{'distance': {'text': '15.3 mi', 'value': 24667},\n",
      "                         'duration': {'text': '27 mins', 'value': 1623},\n",
      "                         'duration_in_traffic': {'text': '36 mins',\n",
      "                                                 'value': 2162},\n",
      "                         'status': 'OK'},\n",
      "                        {'distance': {'text': '1 ft', 'value': 0},\n",
      "                         'duration': {'text': '1 min', 'value': 0},\n",
      "                         'duration_in_traffic': {'text': '1 min', 'value': 22},\n",
      "                         'status': 'OK'},\n",
      "                        {'distance': {'text': '11.0 mi', 'value': 17780},\n",
      "                         'duration': {'text': '18 mins', 'value': 1091},\n",
      "                         'duration_in_traffic': {'text': '20 mins',\n",
      "                                                 'value': 1189},\n",
      "                         'status': 'OK'},\n",
      "                        {'distance': {'text': '5.6 mi', 'value': 9017},\n",
      "                         'duration': {'text': '24 mins', 'value': 1464},\n",
      "                         'duration_in_traffic': {'text': '23 mins',\n",
      "                                                 'value': 1389},\n",
      "                         'status': 'OK'},\n",
      "                        {'distance': {'text': '2.5 mi', 'value': 4061},\n",
      "                         'duration': {'text': '12 mins', 'value': 713},\n",
      "                         'duration_in_traffic': {'text': '13 mins',\n",
      "                                                 'value': 790},\n",
      "                         'status': 'OK'},\n",
      "                        {'distance': {'text': '8.2 mi', 'value': 13151},\n",
      "                         'duration': {'text': '16 mins', 'value': 932},\n",
      "                         'duration_in_traffic': {'text': '16 mins',\n",
      "                                                 'value': 973},\n",
      "                         'status': 'OK'},\n",
      "                        {'distance': {'text': '2.1 mi', 'value': 3430},\n",
      "                         'duration': {'text': '12 mins', 'value': 741},\n",
      "                         'duration_in_traffic': {'text': '12 mins',\n",
      "                                                 'value': 714},\n",
      "                         'status': 'OK'},\n",
      "                        {'distance': {'text': '14.7 mi', 'value': 23627},\n",
      "                         'duration': {'text': '29 mins', 'value': 1763},\n",
      "                         'duration_in_traffic': {'text': '31 mins',\n",
      "                                                 'value': 1856},\n",
      "                         'status': 'OK'}]},\n",
      "          {'elements': [{'distance': {'text': '22.9 mi', 'value': 36827},\n",
      "                         'duration': {'text': '38 mins', 'value': 2261},\n",
      "                         'duration_in_traffic': {'text': '48 mins',\n",
      "                                                 'value': 2875},\n",
      "                         'status': 'OK'},\n",
      "                        {'distance': {'text': '9.7 mi', 'value': 15590},\n",
      "                         'duration': {'text': '22 mins', 'value': 1312},\n",
      "                         'duration_in_traffic': {'text': '24 mins',\n",
      "                                                 'value': 1439},\n",
      "                         'status': 'OK'},\n",
      "                        {'distance': {'text': '1 ft', 'value': 0},\n",
      "                         'duration': {'text': '1 min', 'value': 0},\n",
      "                         'duration_in_traffic': {'text': '1 min', 'value': 0},\n",
      "                         'status': 'OK'},\n",
      "                        {'distance': {'text': '7.3 mi', 'value': 11760},\n",
      "                         'duration': {'text': '27 mins', 'value': 1606},\n",
      "                         'duration_in_traffic': {'text': '26 mins',\n",
      "                                                 'value': 1564},\n",
      "                         'status': 'OK'},\n",
      "                        {'distance': {'text': '11.8 mi', 'value': 18942},\n",
      "                         'duration': {'text': '22 mins', 'value': 1344},\n",
      "                         'duration_in_traffic': {'text': '27 mins',\n",
      "                                                 'value': 1630},\n",
      "                         'status': 'OK'},\n",
      "                        {'distance': {'text': '2.5 mi', 'value': 4042},\n",
      "                         'duration': {'text': '9 mins', 'value': 513},\n",
      "                         'duration_in_traffic': {'text': '8 mins',\n",
      "                                                 'value': 484},\n",
      "                         'status': 'OK'},\n",
      "                        {'distance': {'text': '11.8 mi', 'value': 19068},\n",
      "                         'duration': {'text': '21 mins', 'value': 1289},\n",
      "                         'duration_in_traffic': {'text': '26 mins',\n",
      "                                                 'value': 1535},\n",
      "                         'status': 'OK'},\n",
      "                        {'distance': {'text': '3.8 mi', 'value': 6046},\n",
      "                         'duration': {'text': '13 mins', 'value': 771},\n",
      "                         'duration_in_traffic': {'text': '13 mins',\n",
      "                                                 'value': 790},\n",
      "                         'status': 'OK'}]},\n",
      "          {'elements': [{'distance': {'text': '16.2 mi', 'value': 26088},\n",
      "                         'duration': {'text': '31 mins', 'value': 1865},\n",
      "                         'duration_in_traffic': {'text': '33 mins',\n",
      "                                                 'value': 2006},\n",
      "                         'status': 'OK'},\n",
      "                        {'distance': {'text': '5.8 mi', 'value': 9254},\n",
      "                         'duration': {'text': '26 mins', 'value': 1544},\n",
      "                         'duration_in_traffic': {'text': '26 mins',\n",
      "                                                 'value': 1566},\n",
      "                         'status': 'OK'},\n",
      "                        {'distance': {'text': '7.5 mi', 'value': 12107},\n",
      "                         'duration': {'text': '28 mins', 'value': 1664},\n",
      "                         'duration_in_traffic': {'text': '27 mins',\n",
      "                                                 'value': 1621},\n",
      "                         'status': 'OK'},\n",
      "                        {'distance': {'text': '1 ft', 'value': 0},\n",
      "                         'duration': {'text': '1 min', 'value': 0},\n",
      "                         'duration_in_traffic': {'text': '1 min', 'value': 0},\n",
      "                         'status': 'OK'},\n",
      "                        {'distance': {'text': '4.2 mi', 'value': 6712},\n",
      "                         'duration': {'text': '19 mins', 'value': 1123},\n",
      "                         'duration_in_traffic': {'text': '19 mins',\n",
      "                                                 'value': 1130},\n",
      "                         'status': 'OK'},\n",
      "                        {'distance': {'text': '5.1 mi', 'value': 8174},\n",
      "                         'duration': {'text': '19 mins', 'value': 1131},\n",
      "                         'duration_in_traffic': {'text': '18 mins',\n",
      "                                                 'value': 1051},\n",
      "                         'status': 'OK'},\n",
      "                        {'distance': {'text': '5.3 mi', 'value': 8516},\n",
      "                         'duration': {'text': '24 mins', 'value': 1431},\n",
      "                         'duration_in_traffic': {'text': '23 mins',\n",
      "                                                 'value': 1400},\n",
      "                         'status': 'OK'},\n",
      "                        {'distance': {'text': '4.8 mi', 'value': 7753},\n",
      "                         'duration': {'text': '21 mins', 'value': 1283},\n",
      "                         'duration_in_traffic': {'text': '20 mins',\n",
      "                                                 'value': 1179},\n",
      "                         'status': 'OK'}]},\n",
      "          {'elements': [{'distance': {'text': '12.8 mi', 'value': 20589},\n",
      "                         'duration': {'text': '30 mins', 'value': 1783},\n",
      "                         'duration_in_traffic': {'text': '30 mins',\n",
      "                                                 'value': 1775},\n",
      "                         'status': 'OK'},\n",
      "                        {'distance': {'text': '2.5 mi', 'value': 3977},\n",
      "                         'duration': {'text': '13 mins', 'value': 757},\n",
      "                         'duration_in_traffic': {'text': '12 mins',\n",
      "                                                 'value': 708},\n",
      "                         'status': 'OK'},\n",
      "                        {'distance': {'text': '12.5 mi', 'value': 20189},\n",
      "                         'duration': {'text': '19 mins', 'value': 1139},\n",
      "                         'duration_in_traffic': {'text': '21 mins',\n",
      "                                                 'value': 1270},\n",
      "                         'status': 'OK'},\n",
      "                        {'distance': {'text': '4.2 mi', 'value': 6696},\n",
      "                         'duration': {'text': '18 mins', 'value': 1078},\n",
      "                         'duration_in_traffic': {'text': '16 mins',\n",
      "                                                 'value': 967},\n",
      "                         'status': 'OK'},\n",
      "                        {'distance': {'text': '1 ft', 'value': 0},\n",
      "                         'duration': {'text': '1 min', 'value': 0},\n",
      "                         'duration_in_traffic': {'text': '1 min', 'value': 8},\n",
      "                         'status': 'OK'},\n",
      "                        {'distance': {'text': '9.7 mi', 'value': 15560},\n",
      "                         'duration': {'text': '16 mins', 'value': 980},\n",
      "                         'duration_in_traffic': {'text': '17 mins',\n",
      "                                                 'value': 1034},\n",
      "                         'status': 'OK'},\n",
      "                        {'distance': {'text': '1.4 mi', 'value': 2287},\n",
      "                         'duration': {'text': '7 mins', 'value': 424},\n",
      "                         'duration_in_traffic': {'text': '6 mins',\n",
      "                                                 'value': 350},\n",
      "                         'status': 'OK'},\n",
      "                        {'distance': {'text': '8.8 mi', 'value': 14134},\n",
      "                         'duration': {'text': '36 mins', 'value': 2184},\n",
      "                         'duration_in_traffic': {'text': '33 mins',\n",
      "                                                 'value': 2000},\n",
      "                         'status': 'OK'}]},\n",
      "          {'elements': [{'distance': {'text': '21.1 mi', 'value': 33967},\n",
      "                         'duration': {'text': '35 mins', 'value': 2111},\n",
      "                         'duration_in_traffic': {'text': '46 mins',\n",
      "                                                 'value': 2735},\n",
      "                         'status': 'OK'},\n",
      "                        {'distance': {'text': '8.6 mi', 'value': 13904},\n",
      "                         'duration': {'text': '18 mins', 'value': 1104},\n",
      "                         'duration_in_traffic': {'text': '22 mins',\n",
      "                                                 'value': 1312},\n",
      "                         'status': 'OK'},\n",
      "                        {'distance': {'text': '2.6 mi', 'value': 4224},\n",
      "                         'duration': {'text': '10 mins', 'value': 627},\n",
      "                         'duration_in_traffic': {'text': '11 mins',\n",
      "                                                 'value': 674},\n",
      "                         'status': 'OK'},\n",
      "                        {'distance': {'text': '4.8 mi', 'value': 7739},\n",
      "                         'duration': {'text': '19 mins', 'value': 1135},\n",
      "                         'duration_in_traffic': {'text': '19 mins',\n",
      "                                                 'value': 1137},\n",
      "                         'status': 'OK'},\n",
      "                        {'distance': {'text': '10.0 mi', 'value': 16082},\n",
      "                         'duration': {'text': '20 mins', 'value': 1194},\n",
      "                         'duration_in_traffic': {'text': '24 mins',\n",
      "                                                 'value': 1443},\n",
      "                         'status': 'OK'},\n",
      "                        {'distance': {'text': '1 ft', 'value': 0},\n",
      "                         'duration': {'text': '1 min', 'value': 0},\n",
      "                         'duration_in_traffic': {'text': '1 min', 'value': 0},\n",
      "                         'status': 'OK'},\n",
      "                        {'distance': {'text': '10.1 mi', 'value': 16208},\n",
      "                         'duration': {'text': '19 mins', 'value': 1139},\n",
      "                         'duration_in_traffic': {'text': '23 mins',\n",
      "                                                 'value': 1363},\n",
      "                         'status': 'OK'},\n",
      "                        {'distance': {'text': '5.6 mi', 'value': 9039},\n",
      "                         'duration': {'text': '18 mins', 'value': 1100},\n",
      "                         'duration_in_traffic': {'text': '20 mins',\n",
      "                                                 'value': 1207},\n",
      "                         'status': 'OK'}]},\n",
      "          {'elements': [{'distance': {'text': '12.5 mi', 'value': 20090},\n",
      "                         'duration': {'text': '24 mins', 'value': 1418},\n",
      "                         'duration_in_traffic': {'text': '30 mins',\n",
      "                                                 'value': 1796},\n",
      "                         'status': 'OK'},\n",
      "                        {'distance': {'text': '2.8 mi', 'value': 4510},\n",
      "                         'duration': {'text': '12 mins', 'value': 728},\n",
      "                         'duration_in_traffic': {'text': '11 mins',\n",
      "                                                 'value': 661},\n",
      "                         'status': 'OK'},\n",
      "                        {'distance': {'text': '12.8 mi', 'value': 20622},\n",
      "                         'duration': {'text': '20 mins', 'value': 1178},\n",
      "                         'duration_in_traffic': {'text': '22 mins',\n",
      "                                                 'value': 1297},\n",
      "                         'status': 'OK'},\n",
      "                        {'distance': {'text': '5.3 mi', 'value': 8517},\n",
      "                         'duration': {'text': '24 mins', 'value': 1453},\n",
      "                         'duration_in_traffic': {'text': '23 mins',\n",
      "                                                 'value': 1381},\n",
      "                         'status': 'OK'},\n",
      "                        {'distance': {'text': '1.6 mi', 'value': 2640},\n",
      "                         'duration': {'text': '7 mins', 'value': 447},\n",
      "                         'duration_in_traffic': {'text': '8 mins',\n",
      "                                                 'value': 482},\n",
      "                         'status': 'OK'},\n",
      "                        {'distance': {'text': '9.9 mi', 'value': 15992},\n",
      "                         'duration': {'text': '17 mins', 'value': 1019},\n",
      "                         'duration_in_traffic': {'text': '18 mins',\n",
      "                                                 'value': 1066},\n",
      "                         'status': 'OK'},\n",
      "                        {'distance': {'text': '1 ft', 'value': 0},\n",
      "                         'duration': {'text': '1 min', 'value': 0},\n",
      "                         'duration_in_traffic': {'text': '1 min', 'value': 7},\n",
      "                         'status': 'OK'},\n",
      "                        {'distance': {'text': '16.4 mi', 'value': 26469},\n",
      "                         'duration': {'text': '31 mins', 'value': 1850},\n",
      "                         'duration_in_traffic': {'text': '32 mins',\n",
      "                                                 'value': 1948},\n",
      "                         'status': 'OK'}]},\n",
      "          {'elements': [{'distance': {'text': '20.7 mi', 'value': 33302},\n",
      "                         'duration': {'text': '46 mins', 'value': 2736},\n",
      "                         'duration_in_traffic': {'text': '51 mins',\n",
      "                                                 'value': 3030},\n",
      "                         'status': 'OK'},\n",
      "                        {'distance': {'text': '14.1 mi', 'value': 22647},\n",
      "                         'duration': {'text': '32 mins', 'value': 1920},\n",
      "                         'duration_in_traffic': {'text': '33 mins',\n",
      "                                                 'value': 1971},\n",
      "                         'status': 'OK'},\n",
      "                        {'distance': {'text': '3.7 mi', 'value': 6022},\n",
      "                         'duration': {'text': '12 mins', 'value': 722},\n",
      "                         'duration_in_traffic': {'text': '11 mins',\n",
      "                                                 'value': 652},\n",
      "                         'status': 'OK'},\n",
      "                        {'distance': {'text': '4.9 mi', 'value': 7862},\n",
      "                         'duration': {'text': '21 mins', 'value': 1261},\n",
      "                         'duration_in_traffic': {'text': '19 mins',\n",
      "                                                 'value': 1142},\n",
      "                         'status': 'OK'},\n",
      "                        {'distance': {'text': '8.8 mi', 'value': 14131},\n",
      "                         'duration': {'text': '37 mins', 'value': 2214},\n",
      "                         'duration_in_traffic': {'text': '36 mins',\n",
      "                                                 'value': 2131},\n",
      "                         'status': 'OK'},\n",
      "                        {'distance': {'text': '5.4 mi', 'value': 8770},\n",
      "                         'duration': {'text': '19 mins', 'value': 1110},\n",
      "                         'duration_in_traffic': {'text': '18 mins',\n",
      "                                                 'value': 1074},\n",
      "                         'status': 'OK'},\n",
      "                        {'distance': {'text': '15.5 mi', 'value': 24950},\n",
      "                         'duration': {'text': '33 mins', 'value': 1959},\n",
      "                         'duration_in_traffic': {'text': '34 mins',\n",
      "                                                 'value': 2045},\n",
      "                         'status': 'OK'},\n",
      "                        {'distance': {'text': '1 ft', 'value': 0},\n",
      "                         'duration': {'text': '1 min', 'value': 0},\n",
      "                         'duration_in_traffic': {'text': '1 min', 'value': 7},\n",
      "                         'status': 'OK'}]}],\n",
      " 'status': 'OK'}\n"
     ]
    }
   ],
   "source": [
    "from datetime import datetime\n",
    "\n",
    "now = datetime.now()\n",
    "# We ask google to consider the traffic now\n",
    "# We provide first a list of Origin addresses and then Destination addresses, for us, they are both given by customer_addresses\n",
    "my_dist = googlemap.distance_matrix(customer_addresses,customer_addresses,\n",
    "                                            mode=\"driving\",\n",
    "                                            units=\"imperial\",\n",
    "                                            departure_time=now)\n",
    "\n",
    "pprint(my_dist)"
   ]
  },
  {
   "cell_type": "markdown",
   "metadata": {},
   "source": [
    "### We now have in effect, a square matrix of travel times between each customer pair.\n",
    "### `my_dist` is a big Dictionary, the `rows` key yields a List of Dictionaries, a Dictionary for each row(origin)\n",
    "###  The Key for each of these Dictionaries that we are interested in is `elements`.\n",
    "###  Each of these 'elements' is a List of Dictionaries, a dictionary for each Column(destination)\n",
    "###  We can then grab out the Key `duration_in_traffic` from each of these Dictionaries, which (is anyone still with me?) is another Dictionary that finally contains the Key `value`, which gives the time in seconds"
   ]
  },
  {
   "cell_type": "code",
   "execution_count": 34,
   "metadata": {},
   "outputs": [
    {
     "name": "stdout",
     "output_type": "stream",
     "text": [
      "[[3, 2246, 2754, 2494, 2137, 2572, 1938, 3153],\n",
      " [2162, 22, 1189, 1389, 790, 973, 714, 1856],\n",
      " [2875, 1439, 0, 1564, 1630, 484, 1535, 790],\n",
      " [2006, 1566, 1621, 0, 1130, 1051, 1400, 1179],\n",
      " [1775, 708, 1270, 967, 8, 1034, 350, 2000],\n",
      " [2735, 1312, 674, 1137, 1443, 0, 1363, 1207],\n",
      " [1796, 661, 1297, 1381, 482, 1066, 7, 1948],\n",
      " [3030, 1971, 652, 1142, 2131, 1074, 2045, 7]]\n"
     ]
    }
   ],
   "source": [
    "# travel_times will hold our square matrix of travel times\n",
    "travel_times = []\n",
    "# loop through the list of rows(origins)\n",
    "for row in my_dist['rows']:\n",
    "    # put in a new empty list for the new row\n",
    "    travel_times.append([])\n",
    "    # now, for each row loop through all the columns(destinations)\n",
    "    for column in row['elements']:\n",
    "        duration = column['duration_in_traffic']['value']\n",
    "        # append this time to the last element of travel_times, which is our current list for this row\n",
    "        travel_times[-1].append(duration)\n",
    "pprint(travel_times)"
   ]
  },
  {
   "cell_type": "markdown",
   "metadata": {},
   "source": [
    "## Solving the TSP\n",
    "### The TSP is complicated to solve to optimality.  Formulating its solution with gurobi is not straightforward.  In fact, if the problem instance gets large enough, it may be impractical to find the optimal solution.  Fortunately, most real-world problems, with hundreds or even thousands of points, can be solved.  There are also many heuristic approaches that can get close to optimal.\n",
    "### Here we use a python packaged solver for simplicity.  It is described here:  https://pypi.org/project/tsp/"
   ]
  },
  {
   "cell_type": "code",
   "execution_count": 13,
   "metadata": {},
   "outputs": [],
   "source": [
    "# https://pypi.org/project/tsp/ to download the module and find some limited documentation\n",
    "# Correspondence with the author confirms that the module returns optimal solutions using PuLP, and instances can be\n",
    "# non-symmetric.\n",
    "import tsp\n",
    "r = range(len(travel_times))\n",
    "# Dictionary of distance.  Each key is a tuple (i,j) with value travel_times[i][j]\n",
    "mydist = {}\n",
    "for i in r:\n",
    "    for j in r:\n",
    "        mydist[(i,j)] = travel_times[i][j]\n",
    "# provide the tsp solver the range of values and the dictionary of distances\n",
    "tsp_raw_solution = tsp.tsp(r, mydist)"
   ]
  },
  {
   "cell_type": "code",
   "execution_count": 14,
   "metadata": {},
   "outputs": [
    {
     "data": {
      "text/plain": [
       "(9747.0, [0, 6, 4, 1, 5, 2, 7, 3])"
      ]
     },
     "execution_count": 14,
     "metadata": {},
     "output_type": "execute_result"
    }
   ],
   "source": [
    "# The raw_solution is a tuple whose first entry is the length of the optimal tour, \n",
    "# followed by an array of the optimal route\n",
    "tsp_raw_solution\n"
   ]
  },
  {
   "cell_type": "code",
   "execution_count": 15,
   "metadata": {},
   "outputs": [],
   "source": [
    "# tsp_route picks off just the optimal route array\n",
    "tsp_route = tsp_raw_solution[-1]"
   ]
  },
  {
   "cell_type": "markdown",
   "metadata": {},
   "source": [
    "## Our array `tsp_route` provides the optimal TSP sequence, the return to the depot is implied but *not* explicitly placed at the end of the array"
   ]
  },
  {
   "cell_type": "code",
   "execution_count": 16,
   "metadata": {},
   "outputs": [
    {
     "data": {
      "text/plain": [
       "[0, 6, 4, 1, 5, 2, 7, 3]"
      ]
     },
     "execution_count": 16,
     "metadata": {},
     "output_type": "execute_result"
    }
   ],
   "source": [
    "tsp_route"
   ]
  },
  {
   "cell_type": "code",
   "execution_count": 17,
   "metadata": {},
   "outputs": [
    {
     "name": "stdout",
     "output_type": "stream",
     "text": [
      "Chicago Booth Harper Center, 5807 S Woodlawn Ave, Chicago, IL 60637, USA\n",
      "[41.7891387, -87.5954555]\n",
      "1927 W North Ave, Chicago, IL 60622, USA\n",
      "[41.9103001, -87.67612160000002]\n",
      "2207 N Clybourn Ave, Chicago, IL 60614, USA\n",
      "[41.921885, -87.6644455]\n",
      "2537 N Kedzie Ave, Chicago, IL 60647, USA\n",
      "[41.927684, -87.70679400000002]\n",
      "7110 Lincoln Ave, Lincolnwood, IL 60712, USA\n",
      "[42.01014079999999, -87.7378651]\n",
      "4710 Dempster Street, Skokie, IL 60076, USA\n",
      "[42.0410639, -87.7451663]\n",
      "1615 Chicago Ave, Evanston, IL 60201, USA\n",
      "[42.0466634, -87.6791169]\n",
      "5347 N Clark St, Chicago, IL 60640, USA\n",
      "[41.9794569, -87.66814749999999]\n"
     ]
    }
   ],
   "source": [
    "# Sequence of TSP tour using our customer addresses ... return to the depot is not output but implied in route\n",
    "for customer in tsp_route:\n",
    "    print(customer_records[customer]['google_address'])\n",
    "    print(customer_records[customer]['location'])"
   ]
  },
  {
   "cell_type": "code",
   "execution_count": 18,
   "metadata": {},
   "outputs": [
    {
     "name": "stdout",
     "output_type": "stream",
     "text": [
      "[41.7891387, -87.5954555]\n",
      "[41.9103001, -87.67612160000002]\n",
      "[41.921885, -87.6644455]\n",
      "[41.927684, -87.70679400000002]\n",
      "[42.01014079999999, -87.7378651]\n",
      "[42.0410639, -87.7451663]\n",
      "[42.0466634, -87.6791169]\n",
      "[41.9794569, -87.66814749999999]\n"
     ]
    }
   ],
   "source": [
    "map_marker_locations=[]\n",
    "map_marker_info_boxes=[]\n",
    "sequence_num = 0\n",
    "for customer in tsp_route:\n",
    "    sequence_num = sequence_num + 1\n",
    "    # each map_marker has a location and a popup_html\n",
    "    print(customer_records[customer]['location'])\n",
    "    map_marker_locations.append(customer_records[customer]['location'])\n",
    "    map_marker_info_boxes.append('<b>' +  str(sequence_num) + ': ' + customer_records[customer]['name'] + '<br></b>' + customer_records[customer]['google_address'])\n"
   ]
  },
  {
   "cell_type": "code",
   "execution_count": 19,
   "metadata": {},
   "outputs": [
    {
     "data": {
      "text/plain": [
       "[[41.7891387, -87.5954555],\n",
       " [41.9103001, -87.67612160000002],\n",
       " [41.921885, -87.6644455],\n",
       " [41.927684, -87.70679400000002],\n",
       " [42.01014079999999, -87.7378651],\n",
       " [42.0410639, -87.7451663],\n",
       " [42.0466634, -87.6791169],\n",
       " [41.9794569, -87.66814749999999]]"
      ]
     },
     "execution_count": 19,
     "metadata": {},
     "output_type": "execute_result"
    }
   ],
   "source": [
    "# Let's take a look at our map_markers to check em out\n",
    "map_marker_locations"
   ]
  },
  {
   "cell_type": "code",
   "execution_count": 20,
   "metadata": {},
   "outputs": [
    {
     "data": {
      "text/plain": [
       "['<b>1: Harper Center<br></b>Chicago Booth Harper Center, 5807 S Woodlawn Ave, Chicago, IL 60637, USA',\n",
       " '<b>2: Piece Pizza<br></b>1927 W North Ave, Chicago, IL 60622, USA',\n",
       " \"<b>3: Pequod's Pizza<br></b>2207 N Clybourn Ave, Chicago, IL 60614, USA\",\n",
       " '<b>4: Lula Café<br></b>2537 N Kedzie Ave, Chicago, IL 60647, USA',\n",
       " '<b>5: L Woods Tap and Pine Lodge<br></b>7110 Lincoln Ave, Lincolnwood, IL 60712, USA',\n",
       " '<b>6: Pita Inn<br></b>4710 Dempster Street, Skokie, IL 60076, USA',\n",
       " '<b>7: Tapas Barcelona<br></b>1615 Chicago Ave, Evanston, IL 60201, USA',\n",
       " '<b>8: Big Jones<br></b>5347 N Clark St, Chicago, IL 60640, USA']"
      ]
     },
     "execution_count": 20,
     "metadata": {},
     "output_type": "execute_result"
    }
   ],
   "source": [
    "map_marker_info_boxes"
   ]
  },
  {
   "cell_type": "code",
   "execution_count": 21,
   "metadata": {},
   "outputs": [
    {
     "data": {
      "application/vnd.jupyter.widget-view+json": {
       "model_id": "6d90b04e6c9843b799f9f4e2f893fa43",
       "version_major": 2,
       "version_minor": 0
      },
      "text/plain": [
       "Figure(layout=FigureLayout(height='420px'))"
      ]
     },
     "metadata": {},
     "output_type": "display_data"
    }
   ],
   "source": [
    "import gmaps \n",
    "gmaps.configure(api_key=os.environ[\"GOOGLE_API_KEY\"])\n",
    "fig = gmaps.figure()\n",
    "markers = gmaps.marker_layer(map_marker_locations, info_box_content=map_marker_info_boxes)\n",
    "directions_lay = gmaps.directions_layer(map_marker_locations[0],map_marker_locations[0],waypoints=map_marker_locations,show_markers=False)\n",
    "fig.add_layer(directions_lay)\n",
    "fig.add_layer(markers)\n",
    "fig\n"
   ]
  },
  {
   "cell_type": "markdown",
   "metadata": {},
   "source": [
    "### Homework/Classroom work \n",
    "- Suppose I don't really care about the time spent returning to the depot.  That is, I want to find the least cost route starting at the depot and visiting all customers.  How can I do this using the TSP package?\n",
    "- Now suppose I want to start at the depot, visit all customers, but specify which customer I want to end my tour?  This may be useful for example when an Uber driver wants to pick up a pool of customers and end the pick ups at the customer closest to the destinations.  How would I model and solve this problem using the TSP package?"
   ]
  }
 ],
 "metadata": {
  "kernelspec": {
   "display_name": "Python 3",
   "language": "python",
   "name": "python3"
  },
  "language_info": {
   "codemirror_mode": {
    "name": "ipython",
    "version": 3
   },
   "file_extension": ".py",
   "mimetype": "text/x-python",
   "name": "python",
   "nbconvert_exporter": "python",
   "pygments_lexer": "ipython3",
   "version": "3.7.3"
  }
 },
 "nbformat": 4,
 "nbformat_minor": 2
}
