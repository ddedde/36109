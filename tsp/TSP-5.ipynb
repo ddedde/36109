{
 "cells": [
  {
   "cell_type": "markdown",
   "metadata": {},
   "source": [
    "# TSP"
   ]
  },
  {
   "cell_type": "markdown",
   "metadata": {},
   "source": [
    "## Use pandas to read in the excel file, `customer_list.xlsx` of customer addresses"
   ]
  },
  {
   "cell_type": "code",
   "execution_count": 2,
   "metadata": {},
   "outputs": [],
   "source": [
    "from pprint import pprint\n",
    "import pandas as pd\n",
    "# replace any empty fields with empty string\n",
    "customers_df = pd.read_excel('customer_list.xlsx').fillna('')"
   ]
  },
  {
   "cell_type": "markdown",
   "metadata": {},
   "source": [
    "## We can look at the pandas customer data frame, `customer_df`.\n",
    "### Note some missing cells, they are stored as empty strings, `''`"
   ]
  },
  {
   "cell_type": "code",
   "execution_count": 3,
   "metadata": {},
   "outputs": [
    {
     "data": {
      "text/html": [
       "<div>\n",
       "<style scoped>\n",
       "    .dataframe tbody tr th:only-of-type {\n",
       "        vertical-align: middle;\n",
       "    }\n",
       "\n",
       "    .dataframe tbody tr th {\n",
       "        vertical-align: top;\n",
       "    }\n",
       "\n",
       "    .dataframe thead th {\n",
       "        text-align: right;\n",
       "    }\n",
       "</style>\n",
       "<table border=\"1\" class=\"dataframe\">\n",
       "  <thead>\n",
       "    <tr style=\"text-align: right;\">\n",
       "      <th></th>\n",
       "      <th>name</th>\n",
       "      <th>address</th>\n",
       "      <th>city</th>\n",
       "      <th>state</th>\n",
       "      <th>zip</th>\n",
       "    </tr>\n",
       "  </thead>\n",
       "  <tbody>\n",
       "    <tr>\n",
       "      <th>0</th>\n",
       "      <td>Lula Café</td>\n",
       "      <td>2537 N Kedzie</td>\n",
       "      <td>Chicago</td>\n",
       "      <td>IL</td>\n",
       "      <td></td>\n",
       "    </tr>\n",
       "    <tr>\n",
       "      <th>1</th>\n",
       "      <td>Pita Inn</td>\n",
       "      <td>4710 Dempster Street</td>\n",
       "      <td>Skokie</td>\n",
       "      <td>IL</td>\n",
       "      <td></td>\n",
       "    </tr>\n",
       "    <tr>\n",
       "      <th>2</th>\n",
       "      <td>Big Jones</td>\n",
       "      <td></td>\n",
       "      <td>Chicago</td>\n",
       "      <td>IL</td>\n",
       "      <td></td>\n",
       "    </tr>\n",
       "    <tr>\n",
       "      <th>3</th>\n",
       "      <td>Pequod's Pizza</td>\n",
       "      <td>2207 N Clybourn</td>\n",
       "      <td>Chicago</td>\n",
       "      <td>IL</td>\n",
       "      <td>60614</td>\n",
       "    </tr>\n",
       "    <tr>\n",
       "      <th>4</th>\n",
       "      <td>L Woods Tap and Pine Lodge</td>\n",
       "      <td>7110 Lincoln Ave</td>\n",
       "      <td>Lincolnwood</td>\n",
       "      <td>IL</td>\n",
       "      <td></td>\n",
       "    </tr>\n",
       "    <tr>\n",
       "      <th>5</th>\n",
       "      <td>Piece Pizza</td>\n",
       "      <td>1927 W North Ave</td>\n",
       "      <td>Chicago</td>\n",
       "      <td>IL</td>\n",
       "      <td>60622</td>\n",
       "    </tr>\n",
       "    <tr>\n",
       "      <th>6</th>\n",
       "      <td>Tapas Barcelona</td>\n",
       "      <td></td>\n",
       "      <td>Evanston</td>\n",
       "      <td>IL</td>\n",
       "      <td></td>\n",
       "    </tr>\n",
       "  </tbody>\n",
       "</table>\n",
       "</div>"
      ],
      "text/plain": [
       "                         name               address         city state    zip\n",
       "0                   Lula Café         2537 N Kedzie      Chicago    IL       \n",
       "1                    Pita Inn  4710 Dempster Street       Skokie    IL       \n",
       "2                   Big Jones                            Chicago   IL        \n",
       "3              Pequod's Pizza       2207 N Clybourn      Chicago    IL  60614\n",
       "4  L Woods Tap and Pine Lodge      7110 Lincoln Ave  Lincolnwood    IL       \n",
       "5                 Piece Pizza      1927 W North Ave      Chicago    IL  60622\n",
       "6             Tapas Barcelona                           Evanston    IL       "
      ]
     },
     "execution_count": 3,
     "metadata": {},
     "output_type": "execute_result"
    }
   ],
   "source": [
    "customers_df"
   ]
  },
  {
   "cell_type": "markdown",
   "metadata": {},
   "source": [
    "### Let's now convert the Pandas structure to standard Python.  Here a List of Dictionaries."
   ]
  },
  {
   "cell_type": "code",
   "execution_count": 4,
   "metadata": {},
   "outputs": [
    {
     "name": "stdout",
     "output_type": "stream",
     "text": [
      "[{'address': '2537 N Kedzie',\n",
      "  'city': 'Chicago',\n",
      "  'name': 'Lula Café',\n",
      "  'state': 'IL',\n",
      "  'zip': ''},\n",
      " {'address': '4710 Dempster Street',\n",
      "  'city': 'Skokie',\n",
      "  'name': 'Pita Inn',\n",
      "  'state': 'IL',\n",
      "  'zip': ''},\n",
      " {'address': '',\n",
      "  'city': 'Chicago',\n",
      "  'name': 'Big Jones',\n",
      "  'state': 'IL ',\n",
      "  'zip': ''},\n",
      " {'address': '2207 N Clybourn',\n",
      "  'city': 'Chicago',\n",
      "  'name': \"Pequod's Pizza\",\n",
      "  'state': 'IL',\n",
      "  'zip': 60614.0},\n",
      " {'address': '7110 Lincoln Ave',\n",
      "  'city': 'Lincolnwood',\n",
      "  'name': 'L Woods Tap and Pine Lodge',\n",
      "  'state': 'IL',\n",
      "  'zip': ''},\n",
      " {'address': '1927 W North Ave',\n",
      "  'city': 'Chicago',\n",
      "  'name': 'Piece Pizza',\n",
      "  'state': 'IL',\n",
      "  'zip': 60622.0},\n",
      " {'address': '',\n",
      "  'city': 'Evanston',\n",
      "  'name': 'Tapas Barcelona',\n",
      "  'state': 'IL',\n",
      "  'zip': ''}]\n"
     ]
    }
   ],
   "source": [
    "customer_records = customers_df.to_dict('records')\n",
    "pprint(customer_records)"
   ]
  },
  {
   "cell_type": "markdown",
   "metadata": {},
   "source": [
    "### Note:  Zip codes get treated like floats by default, for example 60647.0, so we convert each to a string and get rid of the trailing `.0`"
   ]
  },
  {
   "cell_type": "code",
   "execution_count": 5,
   "metadata": {},
   "outputs": [
    {
     "name": "stdout",
     "output_type": "stream",
     "text": [
      "[{'address': '2537 N Kedzie',\n",
      "  'city': 'Chicago',\n",
      "  'name': 'Lula Café',\n",
      "  'state': 'IL',\n",
      "  'zip': ''},\n",
      " {'address': '4710 Dempster Street',\n",
      "  'city': 'Skokie',\n",
      "  'name': 'Pita Inn',\n",
      "  'state': 'IL',\n",
      "  'zip': ''},\n",
      " {'address': '',\n",
      "  'city': 'Chicago',\n",
      "  'name': 'Big Jones',\n",
      "  'state': 'IL ',\n",
      "  'zip': ''},\n",
      " {'address': '2207 N Clybourn',\n",
      "  'city': 'Chicago',\n",
      "  'name': \"Pequod's Pizza\",\n",
      "  'state': 'IL',\n",
      "  'zip': '60614'},\n",
      " {'address': '7110 Lincoln Ave',\n",
      "  'city': 'Lincolnwood',\n",
      "  'name': 'L Woods Tap and Pine Lodge',\n",
      "  'state': 'IL',\n",
      "  'zip': ''},\n",
      " {'address': '1927 W North Ave',\n",
      "  'city': 'Chicago',\n",
      "  'name': 'Piece Pizza',\n",
      "  'state': 'IL',\n",
      "  'zip': '60622'},\n",
      " {'address': '',\n",
      "  'city': 'Evanston',\n",
      "  'name': 'Tapas Barcelona',\n",
      "  'state': 'IL',\n",
      "  'zip': ''}]\n"
     ]
    }
   ],
   "source": [
    "for cust in customer_records:\n",
    "    cust['zip'] = str(cust['zip']).replace('.0','')\n",
    "pprint(customer_records)"
   ]
  },
  {
   "cell_type": "markdown",
   "metadata": {},
   "source": [
    "### We will be using a Google API to handle our addresses, give us geocoordinates, and travel times and directions.  Google will take the address as one long string, so let's replace our chopped up address with a single one we will call `full_address`.\n",
    "\n",
    "### We will keep the name field since this Google API tends to discard the name, keeping only the address.  "
   ]
  },
  {
   "cell_type": "code",
   "execution_count": 6,
   "metadata": {},
   "outputs": [
    {
     "name": "stdout",
     "output_type": "stream",
     "text": [
      "[{'full_address': 'Lula Café, 2537 N Kedzie, Chicago, IL ',\n",
      "  'name': 'Lula Café'},\n",
      " {'full_address': 'Pita Inn, 4710 Dempster Street, Skokie, IL ',\n",
      "  'name': 'Pita Inn'},\n",
      " {'full_address': 'Big Jones, , Chicago, IL  ', 'name': 'Big Jones'},\n",
      " {'full_address': \"Pequod's Pizza, 2207 N Clybourn, Chicago, IL 60614\",\n",
      "  'name': \"Pequod's Pizza\"},\n",
      " {'full_address': 'L Woods Tap and Pine Lodge, 7110 Lincoln Ave, Lincolnwood, '\n",
      "                  'IL ',\n",
      "  'name': 'L Woods Tap and Pine Lodge'},\n",
      " {'full_address': 'Piece Pizza, 1927 W North Ave, Chicago, IL 60622',\n",
      "  'name': 'Piece Pizza'},\n",
      " {'full_address': 'Tapas Barcelona, , Evanston, IL ',\n",
      "  'name': 'Tapas Barcelona'}]\n"
     ]
    }
   ],
   "source": [
    "for cust in customer_records:\n",
    "    cust['full_address'] = cust['name'] + ', ' + cust['address'] + ', ' + cust['city'] + ', ' + cust['state'] + ' ' + cust['zip']\n",
    "    del cust['address']\n",
    "    del cust['city']\n",
    "    del cust['state']\n",
    "    del cust['zip']\n",
    "pprint(customer_records)"
   ]
  },
  {
   "cell_type": "markdown",
   "metadata": {},
   "source": [
    "### Our TSP begins at the company depot, which we define as the Harper Center. \n",
    "### Note we don't provide an address for the Harper Center, we will see if our Google API will take care of that!\n",
    "### We will prepend this depot to our list of customers so it can be included in our TSP routing"
   ]
  },
  {
   "cell_type": "code",
   "execution_count": 7,
   "metadata": {},
   "outputs": [
    {
     "name": "stdout",
     "output_type": "stream",
     "text": [
      "[{'full_address': 'Harper Center, Chicago, IL', 'name': 'Harper Center'},\n",
      " {'full_address': 'Lula Café, 2537 N Kedzie, Chicago, IL ',\n",
      "  'name': 'Lula Café'},\n",
      " {'full_address': 'Pita Inn, 4710 Dempster Street, Skokie, IL ',\n",
      "  'name': 'Pita Inn'},\n",
      " {'full_address': 'Big Jones, , Chicago, IL  ', 'name': 'Big Jones'},\n",
      " {'full_address': \"Pequod's Pizza, 2207 N Clybourn, Chicago, IL 60614\",\n",
      "  'name': \"Pequod's Pizza\"},\n",
      " {'full_address': 'L Woods Tap and Pine Lodge, 7110 Lincoln Ave, Lincolnwood, '\n",
      "                  'IL ',\n",
      "  'name': 'L Woods Tap and Pine Lodge'},\n",
      " {'full_address': 'Piece Pizza, 1927 W North Ave, Chicago, IL 60622',\n",
      "  'name': 'Piece Pizza'},\n",
      " {'full_address': 'Tapas Barcelona, , Evanston, IL ',\n",
      "  'name': 'Tapas Barcelona'}]\n"
     ]
    }
   ],
   "source": [
    "depot = 'Harper Center, Chicago, IL'\n",
    "# Let's add the depot as our first customer, we provide both the full_address and name keys\n",
    "customer_records = [{'full_address': depot, 'name': 'Harper Center'}] + customer_records\n",
    "pprint(customer_records)"
   ]
  },
  {
   "cell_type": "markdown",
   "metadata": {},
   "source": [
    "## We use `google-map-services-python`, the GitHub site and documentation is here: https://github.com/googlemaps/google-maps-services-python.  This is a library of python code specifically written to interace with google map services using python.\n",
    "### The github site explains how to install the `googlemaps` python module, and provides links on how to get your own Google Map Services API key\n"
   ]
  },
  {
   "cell_type": "code",
   "execution_count": 8,
   "metadata": {},
   "outputs": [
    {
     "ename": "ModuleNotFoundError",
     "evalue": "No module named 'googlemaps'",
     "output_type": "error",
     "traceback": [
      "\u001b[0;31m---------------------------------------------------------------------------\u001b[0m",
      "\u001b[0;31mModuleNotFoundError\u001b[0m                       Traceback (most recent call last)",
      "\u001b[0;32m<ipython-input-8-a0adcfcec190>\u001b[0m in \u001b[0;36m<module>\u001b[0;34m\u001b[0m\n\u001b[0;32m----> 1\u001b[0;31m \u001b[0;32mimport\u001b[0m \u001b[0mgooglemaps\u001b[0m\u001b[0;34m\u001b[0m\u001b[0m\n\u001b[0m\u001b[1;32m      2\u001b[0m \u001b[0;32mimport\u001b[0m \u001b[0mos\u001b[0m    \u001b[0;31m# You won't need this unless you hide your Google Key like I did\u001b[0m\u001b[0;34m\u001b[0m\u001b[0m\n\u001b[1;32m      3\u001b[0m \u001b[0;31m# We first need to provide the googlemaps api our Google Services Key.  I have my key hidden in my OS as an environment variable.\u001b[0m\u001b[0;34m\u001b[0m\u001b[0;34m\u001b[0m\u001b[0m\n\u001b[1;32m      4\u001b[0m \u001b[0mgooglemap\u001b[0m \u001b[0;34m=\u001b[0m \u001b[0mgooglemaps\u001b[0m\u001b[0;34m.\u001b[0m\u001b[0mClient\u001b[0m\u001b[0;34m(\u001b[0m\u001b[0mkey\u001b[0m\u001b[0;34m=\u001b[0m\u001b[0mos\u001b[0m\u001b[0;34m.\u001b[0m\u001b[0menviron\u001b[0m\u001b[0;34m[\u001b[0m\u001b[0;34m\"GOOGLE_API_KEY\"\u001b[0m\u001b[0;34m]\u001b[0m\u001b[0;34m)\u001b[0m\u001b[0;34m\u001b[0m\u001b[0m\n\u001b[1;32m      5\u001b[0m \u001b[0;31m# You can instead just put your key in directly, so, for example if your key is 'AIXX88' then you would use the following, uncommented\u001b[0m\u001b[0;34m\u001b[0m\u001b[0;34m\u001b[0m\u001b[0m\n",
      "\u001b[0;31mModuleNotFoundError\u001b[0m: No module named 'googlemaps'"
     ]
    }
   ],
   "source": [
    "import googlemaps\n",
    "import os    # You won't need this unless you hide your Google Key like I did\n",
    "# We first need to provide the googlemaps api our Google Services Key.  I have my key hidden in my OS as an environment variable. \n",
    "googlemap = googlemaps.Client(key=os.environ[\"GOOGLE_API_KEY\"])\n",
    "# You can instead just put your key in directly, so, for example if your key is 'AIXX88' then you would use the following, uncommented\n",
    "#   googlemap = googlemaps.Client(key='AIX88')"
   ]
  },
  {
   "cell_type": "code",
   "execution_count": 9,
   "metadata": {},
   "outputs": [
    {
     "ename": "NameError",
     "evalue": "name 'googlemap' is not defined",
     "output_type": "error",
     "traceback": [
      "\u001b[0;31m---------------------------------------------------------------------------\u001b[0m",
      "\u001b[0;31mNameError\u001b[0m                                 Traceback (most recent call last)",
      "\u001b[0;32m<ipython-input-9-322287a06a99>\u001b[0m in \u001b[0;36m<module>\u001b[0;34m\u001b[0m\n\u001b[1;32m      2\u001b[0m \u001b[0;31m#  By calling googlemap.geocode('Some address'), we are making an internet call to Google's API asking google for\u001b[0m\u001b[0;34m\u001b[0m\u001b[0;34m\u001b[0m\u001b[0m\n\u001b[1;32m      3\u001b[0m \u001b[0;31m#  information about an address.\u001b[0m\u001b[0;34m\u001b[0m\u001b[0;34m\u001b[0m\u001b[0m\n\u001b[0;32m----> 4\u001b[0;31m \u001b[0mgeocode_result\u001b[0m \u001b[0;34m=\u001b[0m  \u001b[0mgooglemap\u001b[0m\u001b[0;34m.\u001b[0m\u001b[0mgeocode\u001b[0m\u001b[0;34m(\u001b[0m\u001b[0mcustomer_records\u001b[0m\u001b[0;34m[\u001b[0m\u001b[0;36m1\u001b[0m\u001b[0;34m]\u001b[0m\u001b[0;34m[\u001b[0m\u001b[0;34m'full_address'\u001b[0m\u001b[0;34m]\u001b[0m\u001b[0;34m)\u001b[0m\u001b[0;34m\u001b[0m\u001b[0m\n\u001b[0m\u001b[1;32m      5\u001b[0m \u001b[0mprint\u001b[0m\u001b[0;34m(\u001b[0m\u001b[0;34mf\"geocode info for customer {customer_records[1]['full_address']}\\n\"\u001b[0m\u001b[0;34m)\u001b[0m\u001b[0;34m\u001b[0m\u001b[0m\n\u001b[1;32m      6\u001b[0m \u001b[0mpprint\u001b[0m\u001b[0;34m(\u001b[0m\u001b[0mgeocode_result\u001b[0m\u001b[0;34m)\u001b[0m\u001b[0;34m\u001b[0m\u001b[0m\n",
      "\u001b[0;31mNameError\u001b[0m: name 'googlemap' is not defined"
     ]
    }
   ],
   "source": [
    "#  Let try out this API by calling the geocode method for the second customer\n",
    "#  By calling googlemap.geocode('Some address'), we are making an internet call to Google's API asking google for \n",
    "#  information about an address.\n",
    "geocode_result =  googlemap.geocode(customer_records[1]['full_address'])\n",
    "print(f\"geocode info for customer {customer_records[1]['full_address']}\\n\")\n",
    "pprint(geocode_result)\n",
    "# The result is a List, which contains one element, a Dictionary\n",
    "print(\"\\n\\n\")\n",
    "print(f\"The result is a {type(geocode_result)}\")\n",
    "print(f\" of length {len(geocode_result)}\")"
   ]
  },
  {
   "cell_type": "code",
   "execution_count": 10,
   "metadata": {},
   "outputs": [
    {
     "ename": "NameError",
     "evalue": "name 'googlemap' is not defined",
     "output_type": "error",
     "traceback": [
      "\u001b[0;31m---------------------------------------------------------------------------\u001b[0m",
      "\u001b[0;31mNameError\u001b[0m                                 Traceback (most recent call last)",
      "\u001b[0;32m<ipython-input-10-b647b291db77>\u001b[0m in \u001b[0;36m<module>\u001b[0;34m\u001b[0m\n\u001b[1;32m      1\u001b[0m \u001b[0;31m#  We add to each customer dictionary, `google_address` and the location as a List:  `[lat,lng]`\u001b[0m\u001b[0;34m\u001b[0m\u001b[0;34m\u001b[0m\u001b[0m\n\u001b[1;32m      2\u001b[0m \u001b[0;32mfor\u001b[0m \u001b[0mcust\u001b[0m \u001b[0;32min\u001b[0m \u001b[0mcustomer_records\u001b[0m\u001b[0;34m:\u001b[0m\u001b[0;34m\u001b[0m\u001b[0m\n\u001b[0;32m----> 3\u001b[0;31m     \u001b[0mgeocode_result\u001b[0m \u001b[0;34m=\u001b[0m \u001b[0mgooglemap\u001b[0m\u001b[0;34m.\u001b[0m\u001b[0mgeocode\u001b[0m\u001b[0;34m(\u001b[0m\u001b[0mcust\u001b[0m\u001b[0;34m[\u001b[0m\u001b[0;34m'full_address'\u001b[0m\u001b[0;34m]\u001b[0m\u001b[0;34m)\u001b[0m\u001b[0;34m\u001b[0m\u001b[0m\n\u001b[0m\u001b[1;32m      4\u001b[0m     \u001b[0mcust\u001b[0m\u001b[0;34m[\u001b[0m\u001b[0;34m'google_address'\u001b[0m\u001b[0;34m]\u001b[0m \u001b[0;34m=\u001b[0m \u001b[0mgeocode_result\u001b[0m\u001b[0;34m[\u001b[0m\u001b[0;36m0\u001b[0m\u001b[0;34m]\u001b[0m\u001b[0;34m[\u001b[0m\u001b[0;34m'formatted_address'\u001b[0m\u001b[0;34m]\u001b[0m\u001b[0;34m\u001b[0m\u001b[0m\n\u001b[1;32m      5\u001b[0m     \u001b[0mcust\u001b[0m\u001b[0;34m[\u001b[0m\u001b[0;34m'location'\u001b[0m\u001b[0;34m]\u001b[0m \u001b[0;34m=\u001b[0m \u001b[0;34m[\u001b[0m\u001b[0mgeocode_result\u001b[0m\u001b[0;34m[\u001b[0m\u001b[0;36m0\u001b[0m\u001b[0;34m]\u001b[0m\u001b[0;34m[\u001b[0m\u001b[0;34m'geometry'\u001b[0m\u001b[0;34m]\u001b[0m\u001b[0;34m[\u001b[0m\u001b[0;34m'location'\u001b[0m\u001b[0;34m]\u001b[0m\u001b[0;34m[\u001b[0m\u001b[0;34m'lat'\u001b[0m\u001b[0;34m]\u001b[0m\u001b[0;34m,\u001b[0m\u001b[0mgeocode_result\u001b[0m\u001b[0;34m[\u001b[0m\u001b[0;36m0\u001b[0m\u001b[0;34m]\u001b[0m\u001b[0;34m[\u001b[0m\u001b[0;34m'geometry'\u001b[0m\u001b[0;34m]\u001b[0m\u001b[0;34m[\u001b[0m\u001b[0;34m'location'\u001b[0m\u001b[0;34m]\u001b[0m\u001b[0;34m[\u001b[0m\u001b[0;34m'lng'\u001b[0m\u001b[0;34m]\u001b[0m\u001b[0;34m]\u001b[0m\u001b[0;34m\u001b[0m\u001b[0m\n",
      "\u001b[0;31mNameError\u001b[0m: name 'googlemap' is not defined"
     ]
    }
   ],
   "source": [
    "#  We add to each customer dictionary, `google_address` and the location as a List:  `[lat,lng]`\n",
    "for cust in customer_records:\n",
    "    geocode_result = googlemap.geocode(cust['full_address'])\n",
    "    cust['google_address'] = geocode_result[0]['formatted_address'] \n",
    "    cust['location'] = [geocode_result[0]['geometry']['location']['lat'],geocode_result[0]['geometry']['location']['lng']]\n",
    "pprint(customer_records)"
   ]
  },
  {
   "cell_type": "code",
   "execution_count": 11,
   "metadata": {},
   "outputs": [
    {
     "ename": "KeyError",
     "evalue": "'google_address'",
     "output_type": "error",
     "traceback": [
      "\u001b[0;31m---------------------------------------------------------------------------\u001b[0m",
      "\u001b[0;31mKeyError\u001b[0m                                  Traceback (most recent call last)",
      "\u001b[0;32m<ipython-input-11-856da585be45>\u001b[0m in \u001b[0;36m<module>\u001b[0;34m\u001b[0m\n\u001b[1;32m      7\u001b[0m \u001b[0mcustomer_addresses\u001b[0m\u001b[0;34m=\u001b[0m\u001b[0;34m[\u001b[0m\u001b[0;34m]\u001b[0m\u001b[0;34m\u001b[0m\u001b[0m\n\u001b[1;32m      8\u001b[0m \u001b[0;32mfor\u001b[0m \u001b[0mcust\u001b[0m \u001b[0;32min\u001b[0m \u001b[0mcustomer_records\u001b[0m\u001b[0;34m:\u001b[0m\u001b[0;34m\u001b[0m\u001b[0m\n\u001b[0;32m----> 9\u001b[0;31m     \u001b[0mcustomer_addresses\u001b[0m\u001b[0;34m.\u001b[0m\u001b[0mappend\u001b[0m\u001b[0;34m(\u001b[0m\u001b[0mcust\u001b[0m\u001b[0;34m[\u001b[0m\u001b[0;34m'google_address'\u001b[0m\u001b[0;34m]\u001b[0m\u001b[0;34m)\u001b[0m\u001b[0;34m\u001b[0m\u001b[0m\n\u001b[0m\u001b[1;32m     10\u001b[0m \u001b[0mpprint\u001b[0m\u001b[0;34m(\u001b[0m\u001b[0mcustomer_addresses\u001b[0m\u001b[0;34m)\u001b[0m\u001b[0;34m\u001b[0m\u001b[0m\n",
      "\u001b[0;31mKeyError\u001b[0m: 'google_address'"
     ]
    }
   ],
   "source": [
    "# Let's make a simple list, customer_addresses,  of google addresses\n",
    "# This will be useful when we get to mapping\n",
    "#\n",
    "# Python is powerful, it can be done in one line!\n",
    "# customer_addresses = [cust['google_address'] for cust in customer_records]\n",
    "# But we'll go at it a bit more methodically here:\n",
    "customer_addresses=[]\n",
    "for cust in customer_records:\n",
    "    customer_addresses.append(cust['google_address'])\n",
    "pprint(customer_addresses)"
   ]
  },
  {
   "cell_type": "markdown",
   "metadata": {},
   "source": [
    "## We now will call Google's Directions API:   https://developers.google.com/maps/documentation/directions/start\n",
    "### This API will provide us a result, an object, that describes the time and distance between two addresses, accounting for traffic and time of travel if desired"
   ]
  },
  {
   "cell_type": "code",
   "execution_count": 12,
   "metadata": {},
   "outputs": [
    {
     "ename": "NameError",
     "evalue": "name 'googlemap' is not defined",
     "output_type": "error",
     "traceback": [
      "\u001b[0;31m---------------------------------------------------------------------------\u001b[0m",
      "\u001b[0;31mNameError\u001b[0m                                 Traceback (most recent call last)",
      "\u001b[0;32m<ipython-input-12-3fb1fd969f80>\u001b[0m in \u001b[0;36m<module>\u001b[0;34m\u001b[0m\n\u001b[1;32m      4\u001b[0m \u001b[0;31m# We ask google to consider the traffic now\u001b[0m\u001b[0;34m\u001b[0m\u001b[0;34m\u001b[0m\u001b[0m\n\u001b[1;32m      5\u001b[0m \u001b[0;31m# We provide first a list of Origin addresses and then Destination addresses, for us, they are both given by customer_addresses\u001b[0m\u001b[0;34m\u001b[0m\u001b[0;34m\u001b[0m\u001b[0m\n\u001b[0;32m----> 6\u001b[0;31m my_dist = googlemap.distance_matrix(customer_addresses,customer_addresses,\n\u001b[0m\u001b[1;32m      7\u001b[0m                                             \u001b[0mmode\u001b[0m\u001b[0;34m=\u001b[0m\u001b[0;34m\"driving\"\u001b[0m\u001b[0;34m,\u001b[0m\u001b[0;34m\u001b[0m\u001b[0m\n\u001b[1;32m      8\u001b[0m                                             \u001b[0munits\u001b[0m\u001b[0;34m=\u001b[0m\u001b[0;34m\"imperial\"\u001b[0m\u001b[0;34m,\u001b[0m\u001b[0;34m\u001b[0m\u001b[0m\n",
      "\u001b[0;31mNameError\u001b[0m: name 'googlemap' is not defined"
     ]
    }
   ],
   "source": [
    "from datetime import datetime\n",
    "\n",
    "now = datetime.now()\n",
    "# We ask google to consider the traffic now\n",
    "# We provide first a list of Origin addresses and then Destination addresses, for us, they are both given by customer_addresses\n",
    "my_dist = googlemap.distance_matrix(customer_addresses,customer_addresses,\n",
    "                                            mode=\"driving\",\n",
    "                                            units=\"imperial\",\n",
    "                                            departure_time=now)\n",
    "\n",
    "pprint(my_dist)"
   ]
  },
  {
   "cell_type": "markdown",
   "metadata": {},
   "source": [
    "### We now have in effect, a square matrix of travel times between each customer pair.\n",
    "### `my_dist` is a big Dictionary, the `rows` key yields a List of Dictionaries, a Dictionary for each row(origin)\n",
    "###  The Key for each of these Dictionaries that we are interested in is `elements`.\n",
    "###  Each of these 'elements' is a List of Dictionaries, a dictionary for each Column(destination)\n",
    "###  We can then grab out the Key `duration_in_traffic` from each of these Dictionaries, which (is anyone still with me?) is another Dictionary that finally contains the Key `value`, which gives the time in seconds"
   ]
  },
  {
   "cell_type": "code",
   "execution_count": 34,
   "metadata": {},
   "outputs": [
    {
     "name": "stdout",
     "output_type": "stream",
     "text": [
      "[[3, 2246, 2754, 2494, 2137, 2572, 1938, 3153],\n",
      " [2162, 22, 1189, 1389, 790, 973, 714, 1856],\n",
      " [2875, 1439, 0, 1564, 1630, 484, 1535, 790],\n",
      " [2006, 1566, 1621, 0, 1130, 1051, 1400, 1179],\n",
      " [1775, 708, 1270, 967, 8, 1034, 350, 2000],\n",
      " [2735, 1312, 674, 1137, 1443, 0, 1363, 1207],\n",
      " [1796, 661, 1297, 1381, 482, 1066, 7, 1948],\n",
      " [3030, 1971, 652, 1142, 2131, 1074, 2045, 7]]\n"
     ]
    }
   ],
   "source": [
    "# travel_times will hold our square matrix of travel times\n",
    "travel_times = []\n",
    "# loop through the list of rows(origins)\n",
    "for row in my_dist['rows']:\n",
    "    # put in a new empty list for the new row\n",
    "    travel_times.append([])\n",
    "    # now, for each row loop through all the columns(destinations)\n",
    "    for column in row['elements']:\n",
    "        duration = column['duration_in_traffic']['value']\n",
    "        # append this time to the last element of travel_times, which is our current list for this row\n",
    "        travel_times[-1].append(duration)\n",
    "pprint(travel_times)"
   ]
  },
  {
   "cell_type": "markdown",
   "metadata": {},
   "source": [
    "## Solving the TSP\n",
    "### The TSP is complicated to solve to optimality.  Formulating its solution with gurobi is not straightforward.  In fact, if the problem instance gets large enough, it may be impractical to find the optimal solution.  Fortunately, most real-world problems, with hundreds or even thousands of points, can be solved.  There are also many heuristic approaches that can get close to optimal.\n",
    "### Here we use a python packaged solver for simplicity.  It is described here:  https://pypi.org/project/tsp/"
   ]
  },
  {
   "cell_type": "code",
   "execution_count": 13,
   "metadata": {},
   "outputs": [],
   "source": [
    "# https://pypi.org/project/tsp/ to download the module and find some limited documentation\n",
    "# Correspondence with the author confirms that the module returns optimal solutions using PuLP, and instances can be\n",
    "# non-symmetric.\n",
    "import tsp\n",
    "r = range(len(travel_times))\n",
    "# Dictionary of distance.  Each key is a tuple (i,j) with value travel_times[i][j]\n",
    "mydist = {}\n",
    "for i in r:\n",
    "    for j in r:\n",
    "        mydist[(i,j)] = travel_times[i][j]\n",
    "# provide the tsp solver the range of values and the dictionary of distances\n",
    "tsp_raw_solution = tsp.tsp(r, mydist)"
   ]
  },
  {
   "cell_type": "code",
   "execution_count": 14,
   "metadata": {},
   "outputs": [
    {
     "data": {
      "text/plain": [
       "(9747.0, [0, 6, 4, 1, 5, 2, 7, 3])"
      ]
     },
     "execution_count": 14,
     "metadata": {},
     "output_type": "execute_result"
    }
   ],
   "source": [
    "# The raw_solution is a tuple whose first entry is the length of the optimal tour, \n",
    "# followed by an array of the optimal route\n",
    "tsp_raw_solution\n"
   ]
  },
  {
   "cell_type": "code",
   "execution_count": 1,
   "metadata": {},
   "outputs": [
    {
     "ename": "NameError",
     "evalue": "name 'tsp_raw_solution' is not defined",
     "output_type": "error",
     "traceback": [
      "\u001b[0;31m---------------------------------------------------------------------------\u001b[0m",
      "\u001b[0;31mNameError\u001b[0m                                 Traceback (most recent call last)",
      "\u001b[0;32m<ipython-input-1-bf73c6eb1b0e>\u001b[0m in \u001b[0;36m<module>\u001b[0;34m\u001b[0m\n\u001b[1;32m      1\u001b[0m \u001b[0;31m# tsp_route picks off just the optimal route array\u001b[0m\u001b[0;34m\u001b[0m\u001b[0;34m\u001b[0m\u001b[0m\n\u001b[0;32m----> 2\u001b[0;31m \u001b[0mcost\u001b[0m\u001b[0;34m,\u001b[0m \u001b[0mtsp_route\u001b[0m \u001b[0;34m=\u001b[0m \u001b[0mtsp_raw_solution\u001b[0m\u001b[0;34m\u001b[0m\u001b[0m\n\u001b[0m",
      "\u001b[0;31mNameError\u001b[0m: name 'tsp_raw_solution' is not defined"
     ]
    }
   ],
   "source": [
    "# tsp_route picks off just the optimal route array\n",
    "cost, tsp_route = tsp_raw_solution"
   ]
  },
  {
   "cell_type": "markdown",
   "metadata": {},
   "source": [
    "## Our array `tsp_route` provides the optimal TSP sequence, the return to the depot is implied but *not* explicitly placed at the end of the array"
   ]
  },
  {
   "cell_type": "code",
   "execution_count": 16,
   "metadata": {},
   "outputs": [
    {
     "data": {
      "text/plain": [
       "[0, 6, 4, 1, 5, 2, 7, 3]"
      ]
     },
     "execution_count": 16,
     "metadata": {},
     "output_type": "execute_result"
    }
   ],
   "source": [
    "tsp_route"
   ]
  },
  {
   "cell_type": "code",
   "execution_count": 17,
   "metadata": {},
   "outputs": [
    {
     "name": "stdout",
     "output_type": "stream",
     "text": [
      "Chicago Booth Harper Center, 5807 S Woodlawn Ave, Chicago, IL 60637, USA\n",
      "[41.7891387, -87.5954555]\n",
      "1927 W North Ave, Chicago, IL 60622, USA\n",
      "[41.9103001, -87.67612160000002]\n",
      "2207 N Clybourn Ave, Chicago, IL 60614, USA\n",
      "[41.921885, -87.6644455]\n",
      "2537 N Kedzie Ave, Chicago, IL 60647, USA\n",
      "[41.927684, -87.70679400000002]\n",
      "7110 Lincoln Ave, Lincolnwood, IL 60712, USA\n",
      "[42.01014079999999, -87.7378651]\n",
      "4710 Dempster Street, Skokie, IL 60076, USA\n",
      "[42.0410639, -87.7451663]\n",
      "1615 Chicago Ave, Evanston, IL 60201, USA\n",
      "[42.0466634, -87.6791169]\n",
      "5347 N Clark St, Chicago, IL 60640, USA\n",
      "[41.9794569, -87.66814749999999]\n"
     ]
    }
   ],
   "source": [
    "# Sequence of TSP tour using our customer addresses ... return to the depot is not output but implied in route\n",
    "for customer in tsp_route:\n",
    "    print(customer_records[customer]['google_address'])\n",
    "    print(customer_records[customer]['location'])"
   ]
  },
  {
   "cell_type": "code",
   "execution_count": 18,
   "metadata": {},
   "outputs": [
    {
     "name": "stdout",
     "output_type": "stream",
     "text": [
      "[41.7891387, -87.5954555]\n",
      "[41.9103001, -87.67612160000002]\n",
      "[41.921885, -87.6644455]\n",
      "[41.927684, -87.70679400000002]\n",
      "[42.01014079999999, -87.7378651]\n",
      "[42.0410639, -87.7451663]\n",
      "[42.0466634, -87.6791169]\n",
      "[41.9794569, -87.66814749999999]\n"
     ]
    }
   ],
   "source": [
    "map_marker_locations=[]\n",
    "map_marker_info_boxes=[]\n",
    "sequence_num = 0\n",
    "for customer in tsp_route:\n",
    "    sequence_num = sequence_num + 1\n",
    "    # each map_marker has a location and a popup_html\n",
    "    print(customer_records[customer]['location'])\n",
    "    map_marker_locations.append(customer_records[customer]['location'])\n",
    "    map_marker_info_boxes.append('<b>' +  str(sequence_num) + ': ' + customer_records[customer]['name'] + '<br></b>' + customer_records[customer]['google_address'])\n"
   ]
  },
  {
   "cell_type": "code",
   "execution_count": 19,
   "metadata": {},
   "outputs": [
    {
     "data": {
      "text/plain": [
       "[[41.7891387, -87.5954555],\n",
       " [41.9103001, -87.67612160000002],\n",
       " [41.921885, -87.6644455],\n",
       " [41.927684, -87.70679400000002],\n",
       " [42.01014079999999, -87.7378651],\n",
       " [42.0410639, -87.7451663],\n",
       " [42.0466634, -87.6791169],\n",
       " [41.9794569, -87.66814749999999]]"
      ]
     },
     "execution_count": 19,
     "metadata": {},
     "output_type": "execute_result"
    }
   ],
   "source": [
    "# Let's take a look at our map_markers to check em out\n",
    "map_marker_locations"
   ]
  },
  {
   "cell_type": "code",
   "execution_count": 20,
   "metadata": {},
   "outputs": [
    {
     "data": {
      "text/plain": [
       "['<b>1: Harper Center<br></b>Chicago Booth Harper Center, 5807 S Woodlawn Ave, Chicago, IL 60637, USA',\n",
       " '<b>2: Piece Pizza<br></b>1927 W North Ave, Chicago, IL 60622, USA',\n",
       " \"<b>3: Pequod's Pizza<br></b>2207 N Clybourn Ave, Chicago, IL 60614, USA\",\n",
       " '<b>4: Lula Café<br></b>2537 N Kedzie Ave, Chicago, IL 60647, USA',\n",
       " '<b>5: L Woods Tap and Pine Lodge<br></b>7110 Lincoln Ave, Lincolnwood, IL 60712, USA',\n",
       " '<b>6: Pita Inn<br></b>4710 Dempster Street, Skokie, IL 60076, USA',\n",
       " '<b>7: Tapas Barcelona<br></b>1615 Chicago Ave, Evanston, IL 60201, USA',\n",
       " '<b>8: Big Jones<br></b>5347 N Clark St, Chicago, IL 60640, USA']"
      ]
     },
     "execution_count": 20,
     "metadata": {},
     "output_type": "execute_result"
    }
   ],
   "source": [
    "map_marker_info_boxes"
   ]
  },
  {
   "cell_type": "code",
   "execution_count": 21,
   "metadata": {},
   "outputs": [
    {
     "data": {
      "application/vnd.jupyter.widget-view+json": {
       "model_id": "6d90b04e6c9843b799f9f4e2f893fa43",
       "version_major": 2,
       "version_minor": 0
      },
      "text/plain": [
       "Figure(layout=FigureLayout(height='420px'))"
      ]
     },
     "metadata": {},
     "output_type": "display_data"
    }
   ],
   "source": [
    "import gmaps \n",
    "gmaps.configure(api_key=os.environ[\"GOOGLE_API_KEY\"])\n",
    "fig = gmaps.figure()\n",
    "markers = gmaps.marker_layer(map_marker_locations, info_box_content=map_marker_info_boxes)\n",
    "directions_lay = gmaps.directions_layer(map_marker_locations[0],map_marker_locations[0],waypoints=map_marker_locations,show_markers=False)\n",
    "fig.add_layer(directions_lay)\n",
    "fig.add_layer(markers)\n",
    "fig\n"
   ]
  },
  {
   "cell_type": "markdown",
   "metadata": {},
   "source": [
    "### Homework/Classroom work \n",
    "- Suppose I don't really care about the time spent returning to the depot.  That is, I want to find the least cost route starting at the depot and visiting all customers.  How can I do this using the TSP package?\n",
    "- Now suppose I want to start at the depot, visit all customers, but specify which customer I want to end my tour?  This may be useful for example when an Uber driver wants to pick up a pool of customers and end the pick ups at the customer closest to the destinations.  How would I model and solve this problem using the TSP package?"
   ]
  }
 ],
 "metadata": {
  "kernelspec": {
   "display_name": "Python 3",
   "language": "python",
   "name": "python3"
  },
  "language_info": {
   "codemirror_mode": {
    "name": "ipython",
    "version": 3
   },
   "file_extension": ".py",
   "mimetype": "text/x-python",
   "name": "python",
   "nbconvert_exporter": "python",
   "pygments_lexer": "ipython3",
   "version": "3.7.0"
  }
 },
 "nbformat": 4,
 "nbformat_minor": 2
}
