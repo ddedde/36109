{
 "cells": [
  {
   "cell_type": "markdown",
   "metadata": {},
   "source": [
    "# Support Center Queue\n",
    "\n",
    "Jill manages a software support center.  Jill wants to run an analysis on how long support requests remain in the system before getting resolved.  Collecting some stats and showing a Histogram of request time in system seems like a nice outcome.  Jill has data of when each request enters the system, and when each request is resolved.  \n",
    "\n",
    "One methodology is to gather various Scenarios for which to analyze.  For example, a Busy Post Launch Scenario, a Mild Scenario,  A Monday Morning Scenario, etc.   And then use these scenarios to plan staffing, etc.\n",
    "\n",
    "To test her methodology and code, she will use the following small dataset and make the following assumptions:\n",
    "\n",
    "- Jobs arrive, are processed, and complete only at integral units of minutes\n",
    "- Request arrival times:  `0, 5, 10, 12, 14, 15, 55`\n",
    "- So, the time between arrivals is `5, 5, 2, 2, 1, 40`\n",
    "- Service times for each request, that is, time to resolve once started: `4, 4, 10, 10, 10, 10, 1`\n",
    "- There is a single support staff that processes requests First-In-First-Out (FIFO)"
   ]
  },
  {
   "cell_type": "code",
   "execution_count": 22,
   "metadata": {},
   "outputs": [],
   "source": [
    "import simpy\n",
    "import numpy as np\n",
    "import matplotlib.pyplot as plt\n",
    "from pprint import pprint"
   ]
  },
  {
   "cell_type": "code",
   "execution_count": 23,
   "metadata": {},
   "outputs": [],
   "source": [
    "system_time = []\n",
    "service_times = [4, 4, 10, 10, 10, 10, 1] \n",
    "time_between_jobs = [5,5,2,2,1,40]\n",
    "NUM_JOBS = len(service_times)"
   ]
  },
  {
   "cell_type": "code",
   "execution_count": 24,
   "metadata": {},
   "outputs": [],
   "source": [
    "def source(env, number, res):\n",
    "    \"\"\" Generate arrivals into our simulation\n",
    "    \n",
    "    Arguments:   \n",
    "     env:  Our simulation environment\n",
    "     number: number of jobs to generate\n",
    "     res: Shared resource\n",
    "    \"\"\"\n",
    "    for i in range(number):     # keep looping until all jobs are generated\n",
    "        service_time = service_times.pop(0)   # grab the first service time and then delete from list\n",
    "        job_name = f'Job_{i}'      # create a job name string \n",
    "        print(f'\\nGenerate {job_name} with service time: {service_time}')\n",
    "        j = job(env, job_name, res, service_time)   # create a new job and add it to our simulation env\n",
    "        env.process(j)\n",
    "        \n",
    "        if len(time_between_jobs) > 0:   # make sure there is another interarrival time\n",
    "            time_between = time_between_jobs.pop(0)  # grab first interarrival time from list\n",
    "            print(f'Next Job in: {time_between} time units')  \n",
    "            yield env.timeout(time_between)  # pause here for interarrival time"
   ]
  },
  {
   "cell_type": "code",
   "execution_count": 25,
   "metadata": {},
   "outputs": [],
   "source": [
    "def job(env, name, server, time_in_bank):\n",
    "    \"\"\"Customer arrives, is served and leaves.\n",
    "    \n",
    "    Arguments:\n",
    "        env: \n",
    "    \"\"\"\n",
    "    print(f'{env.now}: {name} arrived\\n')\n",
    "    arr_time = env.now\n",
    "    \n",
    "    request = server.request()  # request the server\n",
    "    yield request               # wait for the server\n",
    "    print(f'{env.now}: {name} Accessed the server')\n",
    "    yield env.timeout(time_in_bank)  # server processes job\n",
    "    server.release(request)      # you must free up the server\n",
    "    print(f'{env.now}: {name} left service') \n",
    "    \n",
    "    total_time = env.now - arr_time  \n",
    "    print(f'{env.now}: {name} Total time in system: {total_time}') \n",
    "    system_time.append(total_time)\n"
   ]
  },
  {
   "cell_type": "code",
   "execution_count": 26,
   "metadata": {},
   "outputs": [
    {
     "name": "stdout",
     "output_type": "stream",
     "text": [
      "Support Center 1\n",
      "\n",
      "\n",
      "Generate Job_0 with service time: 4\n",
      "Next Job in: 5 time units\n",
      "0: Job_0 arrived\n",
      "\n",
      "0: Job_0 Accessed the server\n",
      "4: Job_0 left service\n",
      "4: Job_0 Total time in system: 4\n",
      "\n",
      "Generate Job_1 with service time: 4\n",
      "Next Job in: 5 time units\n",
      "5: Job_1 arrived\n",
      "\n",
      "5: Job_1 Accessed the server\n",
      "9: Job_1 left service\n",
      "9: Job_1 Total time in system: 4\n",
      "\n",
      "Generate Job_2 with service time: 10\n",
      "Next Job in: 2 time units\n",
      "10: Job_2 arrived\n",
      "\n",
      "10: Job_2 Accessed the server\n",
      "\n",
      "Generate Job_3 with service time: 10\n",
      "Next Job in: 2 time units\n",
      "12: Job_3 arrived\n",
      "\n",
      "\n",
      "Generate Job_4 with service time: 10\n",
      "Next Job in: 1 time units\n",
      "14: Job_4 arrived\n",
      "\n",
      "\n",
      "Generate Job_5 with service time: 10\n",
      "Next Job in: 40 time units\n",
      "15: Job_5 arrived\n",
      "\n",
      "20: Job_2 left service\n",
      "20: Job_2 Total time in system: 10\n",
      "20: Job_3 Accessed the server\n",
      "30: Job_3 left service\n",
      "30: Job_3 Total time in system: 18\n",
      "30: Job_4 Accessed the server\n",
      "40: Job_4 left service\n",
      "40: Job_4 Total time in system: 26\n",
      "40: Job_5 Accessed the server\n",
      "50: Job_5 left service\n",
      "50: Job_5 Total time in system: 35\n",
      "\n",
      "Generate Job_6 with service time: 1\n",
      "55: Job_6 arrived\n",
      "\n",
      "55: Job_6 Accessed the server\n",
      "56: Job_6 left service\n",
      "56: Job_6 Total time in system: 1\n"
     ]
    }
   ],
   "source": [
    "# Setup and start the simulation\n",
    "print('Support Center 1\\n')\n",
    "env = simpy.Environment()\n",
    "\n",
    "# Start processes and run\n",
    "server_resource = simpy.Resource(env, capacity=1)\n",
    "env.process(source(env, NUM_JOBS, server_resource))\n",
    "env.run()"
   ]
  },
  {
   "cell_type": "code",
   "execution_count": 27,
   "metadata": {},
   "outputs": [
    {
     "name": "stdout",
     "output_type": "stream",
     "text": [
      "The average system time is: 14.0\n"
     ]
    }
   ],
   "source": [
    "print('The average system time is:',np.mean(system_time))"
   ]
  },
  {
   "cell_type": "code",
   "execution_count": 28,
   "metadata": {},
   "outputs": [
    {
     "data": {
      "image/png": "[encoded data removed]",
      "text/plain": [
       "<Figure size 432x288 with 1 Axes>"
      ]
     },
     "metadata": {
      "needs_background": "light"
     },
     "output_type": "display_data"
    }
   ],
   "source": [
    "# Tinker with number of bins, until it looks right\n",
    "plt.hist(system_time,bins=36)\n",
    "# you can customize the exact tick marks on an axis\n",
    "plt.yticks(range(0,3))\n",
    "plt.ylabel('Frequency');\n",
    "plt.xlabel('Time in System');"
   ]
  },
  {
   "cell_type": "markdown",
   "metadata": {},
   "source": [
    "## The NumPy package provides lots of statistical methods, we call it with `np`"
   ]
  },
  {
   "cell_type": "code",
   "execution_count": 13,
   "metadata": {},
   "outputs": [
    {
     "data": {
      "text/plain": [
       "35"
      ]
     },
     "execution_count": 13,
     "metadata": {},
     "output_type": "execute_result"
    }
   ],
   "source": [
    "np.max(system_time)"
   ]
  },
  {
   "cell_type": "code",
   "execution_count": 14,
   "metadata": {},
   "outputs": [
    {
     "data": {
      "text/plain": [
       "10.0"
      ]
     },
     "execution_count": 14,
     "metadata": {},
     "output_type": "execute_result"
    }
   ],
   "source": [
    "# 50th percentile, or median\n",
    "np.percentile(system_time,50)"
   ]
  },
  {
   "cell_type": "code",
   "execution_count": 15,
   "metadata": {},
   "outputs": [
    {
     "data": {
      "text/plain": [
       "10.0"
      ]
     },
     "execution_count": 15,
     "metadata": {},
     "output_type": "execute_result"
    }
   ],
   "source": [
    "np.median(system_time)"
   ]
  },
  {
   "cell_type": "code",
   "execution_count": 16,
   "metadata": {},
   "outputs": [
    {
     "data": {
      "text/plain": [
       "11.868325191750639"
      ]
     },
     "execution_count": 16,
     "metadata": {},
     "output_type": "execute_result"
    }
   ],
   "source": [
    "np.std(system_time)"
   ]
  },
  {
   "cell_type": "markdown",
   "metadata": {},
   "source": [
    "# Support Center: Homework/Class work\n",
    "\n",
    "Add to this notebook to answer the following:\n",
    "\n",
    "1. Consider the number of jobs in the queue over time, from 0 until all jobs are completed\n",
    "  - What is the average number of jobs in the queue?\n",
    "  - Form a histogram of the number of jobs in the queue\n",
    "\n",
    "1. Consider the time jobs spend in the queue, before beginning service.\n",
    "  - What is the average time a job spends in the queue?\n",
    "  - Form a histogram of the time jobs spend in the queue\n",
    "  \n"
   ]
  },
  {
   "cell_type": "code",
   "execution_count": null,
   "metadata": {},
   "outputs": [],
   "source": []
  }
 ],
 "metadata": {
  "kernelspec": {
   "display_name": "Python 3",
   "language": "python",
   "name": "python3"
  },
  "language_info": {
   "codemirror_mode": {
    "name": "ipython",
    "version": 3
   },
   "file_extension": ".py",
   "mimetype": "text/x-python",
   "name": "python",
   "nbconvert_exporter": "python",
   "pygments_lexer": "ipython3",
   "version": "3.7.0"
  }
 },
 "nbformat": 4,
 "nbformat_minor": 2
}
