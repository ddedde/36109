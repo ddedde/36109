{
 "cells": [
  {
   "cell_type": "markdown",
   "metadata": {},
   "source": [
    "# Support Center Queue ... Stochastic Sim. Phase 2\n",
    "\n",
    "Jill is happy that her code seems to be running well, and simulating a fixed arrival and service stream.  That is, she has a nice tool to gather stats and experiment with staffing needs for various scenarios.\n",
    "\n",
    "Such scenarios are nice, but they are fixed in nature, and Jill understandably wants to also be sure that any recomendations she makes are robust to variability in the loads.\n",
    "So she will extend her analysis in another way.  First, she wants to simulate many days, and experiment with adding staff, etc.  The first step is to generate arrivals to the support center randomly, and generate random service times --- A monte carlo simulation.  She knows from her intro to Ops class (which she loved), that one way to help validate her code is to compare it to a theoretical M/M/1 queueing system.  Once she sees her code track the theoretical values, she would feel better about making changes to the distribution, etc.  That is, she will have confidence that her code is working.   So here is her current plan for Phase 2:\n",
    "\n",
    "- Jobs arrive to the support center with interarrival times according to an exponential distribution\n",
    "- Service times are generated according to an exponential distribution\n",
    "- Still just one server (for now!), and thus she will be simulating an M/M/1 queueing system"
   ]
  },
  {
   "cell_type": "markdown",
   "metadata": {},
   "source": [
    "## Let's load up some common code modules before we begin"
   ]
  },
  {
   "cell_type": "code",
   "execution_count": 66,
   "metadata": {},
   "outputs": [],
   "source": [
    "import math\n",
    "import numpy as np\n",
    "import matplotlib.pyplot as plt\n",
    "from pprint import pprint"
   ]
  },
  {
   "cell_type": "markdown",
   "metadata": {},
   "source": [
    "## Let's load our data into Python data structures"
   ]
  },
  {
   "cell_type": "code",
   "execution_count": 67,
   "metadata": {},
   "outputs": [
    {
     "name": "stdout",
     "output_type": "stream",
     "text": [
      "[   {'arrival_time': 0},\n",
      "    {'arrival_time': 12},\n",
      "    {'arrival_time': 158},\n",
      "    {'arrival_time': 233},\n",
      "    {'arrival_time': 257},\n",
      "    {'arrival_time': 435},\n",
      "    {'arrival_time': 592},\n",
      "    {'arrival_time': 625},\n",
      "    {'arrival_time': 1008},\n",
      "    {'arrival_time': 1056},\n",
      "    {'arrival_time': 1337},\n",
      "    {'arrival_time': 1429},\n",
      "    {'arrival_time': 1579},\n",
      "    {'arrival_time': 1783},\n",
      "    {'arrival_time': 1824},\n",
      "    {'arrival_time': 1929},\n",
      "    {'arrival_time': 1946},\n",
      "    {'arrival_time': 2473},\n",
      "    {'arrival_time': 2484},\n",
      "    {'arrival_time': 2831}]\n"
     ]
    }
   ],
   "source": [
    "# Create NUMBER_OF_ARRIVALS arrivals with interarrival times \n",
    "# Exponentially distributed with mean MEAN_TIME_BETWEEN_ARRIVALS\n",
    "# And service times exponentially distributed with MEAN_SERVICE_TIME\n",
    "NUMBER_OF_ARRIVALS = 100000\n",
    "MEAN_TIME_BETWEEN_ARRIVALS = 200\n",
    "MEAN_SERVICE_TIME = 190\n",
    "\n",
    "DEBUG = False\n",
    "\n",
    "job_list = []\n",
    "# If you specify a seed, here 55, then the random numbers will be the same each run\n",
    "#np.random.seed(55)\n",
    "\n",
    "for i in range(NUMBER_OF_ARRIVALS):\n",
    "    # create a new job object\n",
    "    new_job = {}\n",
    "    \n",
    "    # Put the first arrival at time 0\n",
    "    if (i==0):\n",
    "        new_job['arrival_time'] = 0\n",
    "    else:\n",
    "        # note arrival_jobs[-1] returns the last job in the arrival_jobs list \n",
    "        last_arrival_time = job_list[-1]['arrival_time']\n",
    "        next_arrival_time = last_arrival_time + math.ceil(np.random.exponential(MEAN_TIME_BETWEEN_ARRIVALS))\n",
    "        new_job['arrival_time'] = next_arrival_time\n",
    "        \n",
    "    job_list.append(new_job)\n",
    "\n",
    "# Let's inspect the first few arrival times\n",
    "pprint(job_list[:20],indent=4)\n"
   ]
  },
  {
   "cell_type": "markdown",
   "metadata": {},
   "source": [
    "## Let's create a few more data structures that will be useful for our simulation"
   ]
  },
  {
   "cell_type": "code",
   "execution_count": 68,
   "metadata": {},
   "outputs": [],
   "source": [
    "# job_queue is a list to hold jobs that have arrived and are waiting for service\n",
    "jobs_in_queue = []\n",
    "# A variable that holds None or job in service\n",
    "job_in_service = None\n",
    "# job_completion_times is a list holding when jobs complete service\n",
    "completed_jobs = []"
   ]
  },
  {
   "cell_type": "code",
   "execution_count": 69,
   "metadata": {},
   "outputs": [],
   "source": [
    "def is_simulation_over():\n",
    "#     return len(completed_jobs) == len(arrival_times)\n",
    "    return len(completed_jobs) == NUMBER_OF_ARRIVALS\n",
    "      \n",
    "def is_unprocessed_job_remaining():\n",
    "    return len(job_list) > 0\n",
    "\n",
    "def next_arrival_at_time(time):\n",
    "    return job_list[0]['arrival_time'] == time\n",
    "\n",
    "def is_job_in_service():\n",
    "    return job_in_service != None\n",
    "\n",
    "def is_job_remaining_in_queue():\n",
    "    return len(jobs_in_queue) > 0\n",
    "\n",
    "def is_job_complete(time_period):\n",
    "    return job_in_service[\"start_service_time\"] + job_in_service[\"service_duration\"] == time_period\n",
    "    \n",
    "def set_job_in_service_duration():\n",
    "    # job_in_service[\"service_duration\"] = service_durations.pop(0)\n",
    "    job_in_service[\"service_duration\"] = math.ceil(np.random.exponential(MEAN_SERVICE_TIME))\n",
    "    \n",
    "def set_job_start_service_time(time_period):\n",
    "    job_in_service[\"start_service_time\"] =  time_period\n",
    "    \n",
    "def set_job_in_service_completion_time(time_period):\n",
    "    job_in_service[\"service_completion_time\"] = time_period"
   ]
  },
  {
   "cell_type": "markdown",
   "metadata": {},
   "source": [
    "## We will now loop through time, with a variable called  `time_period`"
   ]
  },
  {
   "cell_type": "code",
   "execution_count": 70,
   "metadata": {},
   "outputs": [
    {
     "name": "stdout",
     "output_type": "stream",
     "text": [
      "Begin simulation loop\n"
     ]
    }
   ],
   "source": [
    "#  We will increment time_period as simulation proceeds\n",
    "time_period = 0\n",
    "#  We will run our simulation until all jobs have departed service\n",
    "print('Begin simulation loop')\n",
    "while not is_simulation_over():\n",
    "    DEBUG and print('Time Period:',time_period)\n",
    "    #\n",
    "    # PROCESS POSSIBLE ARRIVAL TO QUEUE\n",
    "    #\n",
    "    if (is_unprocessed_job_remaining() and next_arrival_at_time(time_period)):\n",
    "        DEBUG and print('** Process Arrival at time',time_period)\n",
    "        \n",
    "        # remove first job from arrival_jobs\n",
    "        job_moving_to_queue = job_list.pop(0)\n",
    "        # append job to end of jobs_in_queue\n",
    "        jobs_in_queue.append(job_moving_to_queue)\n",
    "    #\n",
    "    # PROCESS POSSIBLE SERVICE COMPLETION\n",
    "    #\n",
    "    if (is_job_in_service() and is_job_complete(time_period)):\n",
    "        DEBUG and print('** Process Departure at time',time_period)\n",
    "        \n",
    "        # record time of completion\n",
    "        set_job_in_service_completion_time(time_period)\n",
    "        \n",
    "        # add job to departure_times list\n",
    "        completed_jobs.append(job_in_service)\n",
    "        # Free up our server\n",
    "        job_in_service = None\n",
    "    #\n",
    "    # PROCESS POSSIBLE START OF SERVICE, DEPARTURE FROM QUEUE\n",
    "    if (not is_job_in_service() and is_job_remaining_in_queue()):\n",
    "        \n",
    "        DEBUG and print('** Process Start of Service at time:',time_period)\n",
    "        # remove first job from queue\n",
    "        job_in_service = jobs_in_queue.pop(0)\n",
    "        # Place in service by setting service start time and service duration\n",
    "        set_job_start_service_time(time_period)\n",
    "        set_job_in_service_duration()\n",
    "    #\n",
    "    # Increment the time_period before going back to top of loop\n",
    "    time_period = time_period + 1"
   ]
  },
  {
   "cell_type": "code",
   "execution_count": 71,
   "metadata": {},
   "outputs": [
    {
     "name": "stdout",
     "output_type": "stream",
     "text": [
      "[   {   'arrival_time': 0,\n",
      "        'service_completion_time': 164,\n",
      "        'service_duration': 164,\n",
      "        'start_service_time': 0},\n",
      "    {   'arrival_time': 12,\n",
      "        'service_completion_time': 565,\n",
      "        'service_duration': 401,\n",
      "        'start_service_time': 164},\n",
      "    {   'arrival_time': 158,\n",
      "        'service_completion_time': 895,\n",
      "        'service_duration': 330,\n",
      "        'start_service_time': 565},\n",
      "    {   'arrival_time': 233,\n",
      "        'service_completion_time': 979,\n",
      "        'service_duration': 84,\n",
      "        'start_service_time': 895},\n",
      "    {   'arrival_time': 257,\n",
      "        'service_completion_time': 1219,\n",
      "        'service_duration': 240,\n",
      "        'start_service_time': 979},\n",
      "    {   'arrival_time': 435,\n",
      "        'service_completion_time': 1848,\n",
      "        'service_duration': 629,\n",
      "        'start_service_time': 1219},\n",
      "    {   'arrival_time': 592,\n",
      "        'service_completion_time': 1946,\n",
      "        'service_duration': 98,\n",
      "        'start_service_time': 1848},\n",
      "    {   'arrival_time': 625,\n",
      "        'service_completion_time': 2123,\n",
      "        'service_duration': 177,\n",
      "        'start_service_time': 1946},\n",
      "    {   'arrival_time': 1008,\n",
      "        'service_completion_time': 2955,\n",
      "        'service_duration': 832,\n",
      "        'start_service_time': 2123},\n",
      "    {   'arrival_time': 1056,\n",
      "        'service_completion_time': 2963,\n",
      "        'service_duration': 8,\n",
      "        'start_service_time': 2955},\n",
      "    {   'arrival_time': 1337,\n",
      "        'service_completion_time': 3227,\n",
      "        'service_duration': 264,\n",
      "        'start_service_time': 2963},\n",
      "    {   'arrival_time': 1429,\n",
      "        'service_completion_time': 3297,\n",
      "        'service_duration': 70,\n",
      "        'start_service_time': 3227},\n",
      "    {   'arrival_time': 1579,\n",
      "        'service_completion_time': 3399,\n",
      "        'service_duration': 102,\n",
      "        'start_service_time': 3297},\n",
      "    {   'arrival_time': 1783,\n",
      "        'service_completion_time': 3564,\n",
      "        'service_duration': 165,\n",
      "        'start_service_time': 3399},\n",
      "    {   'arrival_time': 1824,\n",
      "        'service_completion_time': 3569,\n",
      "        'service_duration': 5,\n",
      "        'start_service_time': 3564},\n",
      "    {   'arrival_time': 1929,\n",
      "        'service_completion_time': 3669,\n",
      "        'service_duration': 100,\n",
      "        'start_service_time': 3569},\n",
      "    {   'arrival_time': 1946,\n",
      "        'service_completion_time': 3720,\n",
      "        'service_duration': 51,\n",
      "        'start_service_time': 3669},\n",
      "    {   'arrival_time': 2473,\n",
      "        'service_completion_time': 3737,\n",
      "        'service_duration': 17,\n",
      "        'start_service_time': 3720},\n",
      "    {   'arrival_time': 2484,\n",
      "        'service_completion_time': 3803,\n",
      "        'service_duration': 66,\n",
      "        'start_service_time': 3737},\n",
      "    {   'arrival_time': 2831,\n",
      "        'service_completion_time': 4107,\n",
      "        'service_duration': 304,\n",
      "        'start_service_time': 3803}]\n"
     ]
    }
   ],
   "source": [
    "pprint(completed_jobs[:20],indent=4)"
   ]
  },
  {
   "cell_type": "markdown",
   "metadata": {},
   "source": [
    "### Let's inspect the total system time"
   ]
  },
  {
   "cell_type": "code",
   "execution_count": 72,
   "metadata": {},
   "outputs": [
    {
     "name": "stdout",
     "output_type": "stream",
     "text": [
      "[164,\n",
      " 553,\n",
      " 737,\n",
      " 746,\n",
      " 962,\n",
      " 1413,\n",
      " 1354,\n",
      " 1498,\n",
      " 1947,\n",
      " 1907,\n",
      " 1890,\n",
      " 1868,\n",
      " 1820,\n",
      " 1781,\n",
      " 1745,\n",
      " 1740,\n",
      " 1774,\n",
      " 1264,\n",
      " 1319,\n",
      " 1276]\n"
     ]
    }
   ],
   "source": [
    "system_time=[]\n",
    "for job in completed_jobs:\n",
    "    system_time.append(job['service_completion_time']-job['arrival_time'])\n",
    "#\n",
    "pprint(system_time[:20])"
   ]
  },
  {
   "cell_type": "code",
   "execution_count": 73,
   "metadata": {},
   "outputs": [
    {
     "name": "stdout",
     "output_type": "stream",
     "text": [
      "The average system time is: 3299.79406\n"
     ]
    }
   ],
   "source": [
    "print('The average system time is:',np.mean(system_time))"
   ]
  },
  {
   "cell_type": "markdown",
   "metadata": {},
   "source": [
    "### Compare to M/M/1 theoretical average time in system\n",
    "- $CT = \\frac{1}{\\mu - \\lambda}$\n",
    "- Here, $\\mu$ is the average service rate, 1/MEAN_SERVICE_TIME\n",
    "- And $\\lambda$ is the average arrival rate, 1/MEAN_TIME_BETWEEN_ARRIVALS"
   ]
  },
  {
   "cell_type": "code",
   "execution_count": 74,
   "metadata": {},
   "outputs": [
    {
     "name": "stdout",
     "output_type": "stream",
     "text": [
      "The theoretical average system time is: 3800.000000000003\n"
     ]
    }
   ],
   "source": [
    "print('The theoretical average system time is:',1/( (1/MEAN_SERVICE_TIME) - (1/MEAN_TIME_BETWEEN_ARRIVALS) ))"
   ]
  },
  {
   "cell_type": "code",
   "execution_count": 75,
   "metadata": {},
   "outputs": [
    {
     "data": {
      "image/png": "[encoded data removed]",
      "text/plain": [
       "<Figure size 432x288 with 1 Axes>"
      ]
     },
     "metadata": {
      "needs_background": "light"
     },
     "output_type": "display_data"
    }
   ],
   "source": [
    "# Tinker with number of bins, until it looks right\n",
    "plt.hist(system_time,bins=30)\n",
    "# you can customize the exact tick marks on an axis\n",
    "plt.yticks(range(0,3))\n",
    "plt.ylabel('Frequency');\n",
    "plt.xlabel('Time in System');"
   ]
  },
  {
   "cell_type": "markdown",
   "metadata": {},
   "source": [
    "## The NumPy package provides lots of statistical methods, we call it with `np`"
   ]
  },
  {
   "cell_type": "code",
   "execution_count": 76,
   "metadata": {},
   "outputs": [
    {
     "data": {
      "text/plain": [
       "18003"
      ]
     },
     "execution_count": 76,
     "metadata": {},
     "output_type": "execute_result"
    }
   ],
   "source": [
    "np.max(system_time)"
   ]
  },
  {
   "cell_type": "code",
   "execution_count": 77,
   "metadata": {},
   "outputs": [
    {
     "data": {
      "text/plain": [
       "2499.0"
      ]
     },
     "execution_count": 77,
     "metadata": {},
     "output_type": "execute_result"
    }
   ],
   "source": [
    "# 50th percentile, or median\n",
    "np.percentile(system_time,50)"
   ]
  },
  {
   "cell_type": "code",
   "execution_count": 78,
   "metadata": {},
   "outputs": [
    {
     "data": {
      "text/plain": [
       "2499.0"
      ]
     },
     "execution_count": 78,
     "metadata": {},
     "output_type": "execute_result"
    }
   ],
   "source": [
    "np.median(system_time)"
   ]
  },
  {
   "cell_type": "code",
   "execution_count": 79,
   "metadata": {},
   "outputs": [
    {
     "data": {
      "text/plain": [
       "2893.195845636572"
      ]
     },
     "execution_count": 79,
     "metadata": {},
     "output_type": "execute_result"
    }
   ],
   "source": [
    "np.std(system_time)"
   ]
  },
  {
   "cell_type": "markdown",
   "metadata": {},
   "source": [
    "# Homework/In-class work\n",
    "\n",
    "Consider the following function that will return an exponential random variable that takes one argument, the mean:\n",
    "\n",
    "    \n",
    "```\n",
    " def exponential(mean):\n",
    " # using math.ceil will round up all floating point numbers\n",
    " return math.ceil(np.random.exponential(mean))\n",
    "```\n",
    "        \n",
    "So, to get an exponential random variable with mean 10, we would use: `exponential(10)`\n",
    "\n",
    "1. Incorporate this function into the code and use it to for arrivals and service times\n",
    "    \n",
    "1. Of course, we may want to use other distributions in a simulation.  Write functions for other distributions,  `normal`, `triangular`,  and `uniform`, explore the `numpy` documentation:  https://docs.scipy.org/doc/numpy-1.14.0/reference/routines.random.html\n",
    "\n",
    "   - remember, make sure your functions return only positive integers for our purposes.\n",
    "   - try out each of your functions in some cells to make sure they work as expected\n",
    "\n",
    "   \n"
   ]
  }
 ],
 "metadata": {
  "kernelspec": {
   "display_name": "Python 3",
   "language": "python",
   "name": "python3"
  },
  "language_info": {
   "codemirror_mode": {
    "name": "ipython",
    "version": 3
   },
   "file_extension": ".py",
   "mimetype": "text/x-python",
   "name": "python",
   "nbconvert_exporter": "python",
   "pygments_lexer": "ipython3",
   "version": "3.7.0"
  }
 },
 "nbformat": 4,
 "nbformat_minor": 2
}
