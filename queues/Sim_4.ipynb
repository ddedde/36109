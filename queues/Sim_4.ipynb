{
 "cells": [
  {
   "cell_type": "markdown",
   "metadata": {},
   "source": [
    "# Support Center Queue ... Stochastic Sim. Phase 4\n",
    "\n",
    " \n",
    "- Make G/G/k function"
   ]
  },
  {
   "cell_type": "markdown",
   "metadata": {},
   "source": [
    "## Let's load up some common code modules before we begin"
   ]
  },
  {
   "cell_type": "code",
   "execution_count": 78,
   "metadata": {
    "slideshow": {
     "slide_type": "-"
    }
   },
   "outputs": [],
   "source": [
    "import math\n",
    "import numpy as np\n",
    "import matplotlib.pyplot as plt\n",
    "from pprint import pprint"
   ]
  },
  {
   "cell_type": "markdown",
   "metadata": {},
   "source": [
    "### Let's define some functions to return random variables from different distributions"
   ]
  },
  {
   "cell_type": "code",
   "execution_count": 79,
   "metadata": {},
   "outputs": [],
   "source": [
    "# returns a random exponential random variable rounded up to a positive integer\n",
    "def exponential(mean):\n",
    "    # usint math.ceil will round up all floating point numbers\n",
    "    return math.ceil(np.random.exponential(mean))\n",
    "# returns a uniform random integer between low to high inclusive of low and high\n",
    "def uniform(low,high):\n",
    "    return np.random.randint(low,high+1)\n",
    "# returns a random normal random variable rounded up and truncated if necessary to a positive integer\n",
    "def normal(mean,sigma):\n",
    "    # usint math.ceil will round up all floating point numbers\n",
    "    return max(math.ceil(np.random.normal(mean,sigma)),1)\n",
    "# returns a triangular random variable rounded up and truncated if necessary to a positive integer\n",
    "def triangular(left,mode,right):\n",
    "    return max(round(np.random.triangular(left,mode,right)),1)"
   ]
  },
  {
   "cell_type": "code",
   "execution_count": 80,
   "metadata": {},
   "outputs": [
    {
     "data": {
      "text/plain": [
       "2"
      ]
     },
     "execution_count": 80,
     "metadata": {},
     "output_type": "execute_result"
    }
   ],
   "source": [
    "triangular(1,2,3)"
   ]
  },
  {
   "cell_type": "code",
   "execution_count": 81,
   "metadata": {},
   "outputs": [
    {
     "data": {
      "text/plain": [
       "4"
      ]
     },
     "execution_count": 81,
     "metadata": {},
     "output_type": "execute_result"
    }
   ],
   "source": [
    "uniform(2,4)"
   ]
  },
  {
   "cell_type": "code",
   "execution_count": 82,
   "metadata": {},
   "outputs": [
    {
     "data": {
      "text/plain": [
       "6"
      ]
     },
     "execution_count": 82,
     "metadata": {},
     "output_type": "execute_result"
    }
   ],
   "source": [
    "exponential(10)"
   ]
  },
  {
   "cell_type": "code",
   "execution_count": 83,
   "metadata": {},
   "outputs": [
    {
     "data": {
      "text/plain": [
       "45"
      ]
     },
     "execution_count": 83,
     "metadata": {},
     "output_type": "execute_result"
    }
   ],
   "source": [
    "normal(50,25)"
   ]
  },
  {
   "cell_type": "markdown",
   "metadata": {},
   "source": [
    "## Let's load our data into Python data structures"
   ]
  },
  {
   "cell_type": "code",
   "execution_count": 84,
   "metadata": {},
   "outputs": [
    {
     "name": "stdout",
     "output_type": "stream",
     "text": [
      "[   {'arrival_time': 0},\n",
      "    {'arrival_time': 145},\n",
      "    {'arrival_time': 661},\n",
      "    {'arrival_time': 1208},\n",
      "    {'arrival_time': 1444},\n",
      "    {'arrival_time': 1735},\n",
      "    {'arrival_time': 2024},\n",
      "    {'arrival_time': 2257},\n",
      "    {'arrival_time': 2303},\n",
      "    {'arrival_time': 2382},\n",
      "    {'arrival_time': 2513},\n",
      "    {'arrival_time': 2700},\n",
      "    {'arrival_time': 2767},\n",
      "    {'arrival_time': 2843},\n",
      "    {'arrival_time': 2925},\n",
      "    {'arrival_time': 3117},\n",
      "    {'arrival_time': 3164},\n",
      "    {'arrival_time': 3589},\n",
      "    {'arrival_time': 3799},\n",
      "    {'arrival_time': 3965}]\n"
     ]
    }
   ],
   "source": [
    "# Create NUMBER_OF_ARRIVALS arrivals with interarrival times \n",
    "# Exponentially distributed with mean MEAN_TIME_BETWEEN_ARRIVALS\n",
    "# And service times exponentially distributed with MEAN_SERVICE_TIME\n",
    "NUMBER_OF_ARRIVALS = 10000\n",
    "MEAN_TIME_BETWEEN_ARRIVALS = 200\n",
    "MEAN_SERVICE_TIME = 190\n",
    "\n",
    "# Set this to True to print out some debug info\n",
    "DEBUG = False\n",
    "\n",
    "job_list = []\n",
    "# If you specify a seed, here 55, then the random numbers will be the same each run\n",
    "#np.random.seed(55)\n",
    "\n",
    "for i in range(NUMBER_OF_ARRIVALS):\n",
    "    # create a new job object, an empty dictionary object\n",
    "    new_job = {}\n",
    "    \n",
    "    # Put the first arrival at time 0\n",
    "    if (i==0):\n",
    "        new_job['arrival_time'] = 0\n",
    "    else:\n",
    "        # note arrival_jobs[-1] returns the last job in the arrival_jobs list \n",
    "        last_arrival_time = job_list[-1]['arrival_time']\n",
    "        next_arrival_time = last_arrival_time +  exponential(MEAN_TIME_BETWEEN_ARRIVALS)\n",
    "        new_job['arrival_time'] = next_arrival_time\n",
    "        \n",
    "    job_list.append(new_job)\n",
    "\n",
    "# Let's inspect the first few arrival times\n",
    "pprint(job_list[:20],indent=4)\n"
   ]
  },
  {
   "cell_type": "markdown",
   "metadata": {},
   "source": [
    "## We will now loop through time, with a variable called  `time_period`"
   ]
  },
  {
   "cell_type": "code",
   "execution_count": 85,
   "metadata": {},
   "outputs": [],
   "source": [
    "def is_simulation_over(completed_jobs):\n",
    "#     return len(completed_jobs) == len(arrival_times)\n",
    "    return len(completed_jobs) == NUMBER_OF_ARRIVALS\n",
    "      \n",
    "def is_unprocessed_job_remaining(job_list):\n",
    "    return len(job_list) > 0\n",
    "\n",
    "def next_arrival_at_time(job_list,time):\n",
    "    return job_list[0]['arrival_time'] == time\n",
    "\n",
    "def is_job_in_service(job_in_service):\n",
    "    return job_in_service != None\n",
    "\n",
    "def is_job_remaining_in_queue(jobs_in_queue):\n",
    "    return len(jobs_in_queue) > 0\n",
    "\n",
    "def is_job_complete(job_in_service,time_period):\n",
    "    return job_in_service[\"start_service_time\"] + job_in_service[\"service_duration\"] == time_period\n",
    "    \n",
    "def set_job_in_service_duration(job_in_service, mean_service_time):\n",
    "    # Pop the next service time off the service_times list, and set in service job dictionary\n",
    "    # job_in_service[\"service_duration\"] = service_durations.pop(0)\n",
    "    job_in_service[\"service_duration\"] =  exponential(mean_service_time)\n",
    "    \n",
    "def set_job_start_service_time(job_in_service, time_period):\n",
    "    job_in_service[\"start_service_time\"] =  time_period\n",
    "    \n",
    "def set_job_in_service_completion_time(job_in_service, time_period):\n",
    "    job_in_service[\"service_completion_time\"] = time_period\n",
    "    \n",
    "def add_job_to_next_arrivals(next_arrival_list,arrival_time):\n",
    "    new_job = {'arrival_time': arrival_time}\n",
    "    next_arrival_list.append(new_job)\n"
   ]
  },
  {
   "cell_type": "markdown",
   "metadata": {},
   "source": [
    "## The ggk function"
   ]
  },
  {
   "cell_type": "code",
   "execution_count": 86,
   "metadata": {},
   "outputs": [],
   "source": [
    "def ggk(job_list,mean_service_time,num_servers):\n",
    "    # initialize job_in_service as an array of size num_servers, each with value None\n",
    "    job_in_service = [None]*num_servers \n",
    "    # job_completion_times is a list holding when jobs complete service\n",
    "    completed_jobs = []\n",
    "    # job_queue is a list to hold jobs that have arrived and are waiting for service\n",
    "    jobs_in_queue = []\n",
    "    #  make a list of jobs that can serve as arrivals to another process\n",
    "    next_arrivals = []\n",
    "    #  We will increment time_period as simulation proceeds\n",
    "    time_period = 0\n",
    "    print('Begin simulation loop')\n",
    "    while not is_simulation_over(completed_jobs):\n",
    "        DEBUG and print('Time Period:',time_period)\n",
    "        #\n",
    "        # PROCESS POSSIBLE ARRIVAL TO QUEUE\n",
    "        #\n",
    "        if (is_unprocessed_job_remaining(job_list) and next_arrival_at_time(job_list,time_period)):\n",
    "            DEBUG and print('** Process Arrival at time',time_period)\n",
    "\n",
    "            # remove first job from arrival_jobs\n",
    "            job_moving_to_queue = job_list.pop(0)\n",
    "            # append job to end of jobs_in_queue\n",
    "            jobs_in_queue.append(job_moving_to_queue)\n",
    "        #\n",
    "        # PROCESS POSSIBLE SERVICE COMPLETION\n",
    "        #\n",
    "        # loop through all servers\n",
    "        for server_num in range(num_servers):\n",
    "            if (is_job_in_service(job_in_service[server_num]) and is_job_complete(job_in_service[server_num],time_period)):\n",
    "                DEBUG and print('** Process Departure at time',time_period)\n",
    "\n",
    "                # record time of completion\n",
    "                set_job_in_service_completion_time(job_in_service[server_num],time_period)\n",
    "\n",
    "                # add job to departure_times list\n",
    "                completed_jobs.append(job_in_service[server_num])\n",
    "                # add job to next_arrivals list\n",
    "                add_job_to_next_arrivals(next_arrivals,time_period)\n",
    "                # Free up our server\n",
    "                job_in_service[server_num] = None\n",
    "        #\n",
    "        # PROCESS POSSIBLE START OF SERVICE, DEPARTURE FROM QUEUE\n",
    "        # loop through all servers\n",
    "        for server_num in range(num_servers):\n",
    "            if (not is_job_in_service(job_in_service[server_num]) and is_job_remaining_in_queue(jobs_in_queue)):\n",
    "\n",
    "                DEBUG and print('** Process Start of Service at time:',time_period)\n",
    "                # remove first job from queue\n",
    "                job_in_service[server_num] = jobs_in_queue.pop(0)\n",
    "                # Place in service by setting start and duration  \n",
    "                set_job_start_service_time(job_in_service[server_num],time_period)\n",
    "                set_job_in_service_duration(job_in_service[server_num],mean_service_time)\n",
    "        #\n",
    "        # Increment the time_period before going back to top of loop\n",
    "        time_period = time_period + 1\n",
    "    return completed_jobs,next_arrivals"
   ]
  },
  {
   "cell_type": "code",
   "execution_count": 87,
   "metadata": {},
   "outputs": [
    {
     "name": "stdout",
     "output_type": "stream",
     "text": [
      "Begin simulation loop\n",
      "[   {   'arrival_time': 0,\n",
      "        'service_completion_time': 119,\n",
      "        'service_duration': 119,\n",
      "        'start_service_time': 0},\n",
      "    {   'arrival_time': 661,\n",
      "        'service_completion_time': 708,\n",
      "        'service_duration': 47,\n",
      "        'start_service_time': 661},\n",
      "    {   'arrival_time': 145,\n",
      "        'service_completion_time': 828,\n",
      "        'service_duration': 683,\n",
      "        'start_service_time': 145},\n",
      "    {   'arrival_time': 1208,\n",
      "        'service_completion_time': 1401,\n",
      "        'service_duration': 193,\n",
      "        'start_service_time': 1208},\n",
      "    {   'arrival_time': 1444,\n",
      "        'service_completion_time': 1526,\n",
      "        'service_duration': 82,\n",
      "        'start_service_time': 1444},\n",
      "    {   'arrival_time': 1735,\n",
      "        'service_completion_time': 1817,\n",
      "        'service_duration': 82,\n",
      "        'start_service_time': 1735},\n",
      "    {   'arrival_time': 2024,\n",
      "        'service_completion_time': 2158,\n",
      "        'service_duration': 134,\n",
      "        'start_service_time': 2024},\n",
      "    {   'arrival_time': 2257,\n",
      "        'service_completion_time': 2442,\n",
      "        'service_duration': 185,\n",
      "        'start_service_time': 2257},\n",
      "    {   'arrival_time': 2303,\n",
      "        'service_completion_time': 2492,\n",
      "        'service_duration': 189,\n",
      "        'start_service_time': 2303},\n",
      "    {   'arrival_time': 2513,\n",
      "        'service_completion_time': 2579,\n",
      "        'service_duration': 66,\n",
      "        'start_service_time': 2513},\n",
      "    {   'arrival_time': 2700,\n",
      "        'service_completion_time': 2739,\n",
      "        'service_duration': 39,\n",
      "        'start_service_time': 2700},\n",
      "    {   'arrival_time': 2382,\n",
      "        'service_completion_time': 3040,\n",
      "        'service_duration': 598,\n",
      "        'start_service_time': 2442},\n",
      "    {   'arrival_time': 2767,\n",
      "        'service_completion_time': 3187,\n",
      "        'service_duration': 420,\n",
      "        'start_service_time': 2767},\n",
      "    {   'arrival_time': 2925,\n",
      "        'service_completion_time': 3188,\n",
      "        'service_duration': 1,\n",
      "        'start_service_time': 3187},\n",
      "    {   'arrival_time': 3117,\n",
      "        'service_completion_time': 3582,\n",
      "        'service_duration': 394,\n",
      "        'start_service_time': 3188},\n",
      "    {   'arrival_time': 3164,\n",
      "        'service_completion_time': 3623,\n",
      "        'service_duration': 41,\n",
      "        'start_service_time': 3582},\n",
      "    {   'arrival_time': 3589,\n",
      "        'service_completion_time': 3665,\n",
      "        'service_duration': 42,\n",
      "        'start_service_time': 3623},\n",
      "    {   'arrival_time': 2843,\n",
      "        'service_completion_time': 3737,\n",
      "        'service_duration': 697,\n",
      "        'start_service_time': 3040},\n",
      "    {   'arrival_time': 3799,\n",
      "        'service_completion_time': 3856,\n",
      "        'service_duration': 57,\n",
      "        'start_service_time': 3799},\n",
      "    {   'arrival_time': 4166,\n",
      "        'service_completion_time': 4289,\n",
      "        'service_duration': 123,\n",
      "        'start_service_time': 4166}]\n",
      "[   {'arrival_time': 119},\n",
      "    {'arrival_time': 708},\n",
      "    {'arrival_time': 828},\n",
      "    {'arrival_time': 1401},\n",
      "    {'arrival_time': 1526},\n",
      "    {'arrival_time': 1817},\n",
      "    {'arrival_time': 2158},\n",
      "    {'arrival_time': 2442},\n",
      "    {'arrival_time': 2492},\n",
      "    {'arrival_time': 2579},\n",
      "    {'arrival_time': 2739},\n",
      "    {'arrival_time': 3040},\n",
      "    {'arrival_time': 3187},\n",
      "    {'arrival_time': 3188},\n",
      "    {'arrival_time': 3582},\n",
      "    {'arrival_time': 3623},\n",
      "    {'arrival_time': 3665},\n",
      "    {'arrival_time': 3737},\n",
      "    {'arrival_time': 3856},\n",
      "    {'arrival_time': 4289}]\n"
     ]
    }
   ],
   "source": [
    "completed_jobs, next_arrivals = ggk(job_list,MEAN_SERVICE_TIME,2)\n",
    "pprint(completed_jobs[:20],indent=4)\n",
    "pprint(next_arrivals[:20],indent=4)"
   ]
  },
  {
   "cell_type": "markdown",
   "metadata": {},
   "source": [
    "### Let's inspect the total system time"
   ]
  },
  {
   "cell_type": "code",
   "execution_count": 88,
   "metadata": {},
   "outputs": [
    {
     "name": "stdout",
     "output_type": "stream",
     "text": [
      "[119,\n",
      " 47,\n",
      " 683,\n",
      " 193,\n",
      " 82,\n",
      " 82,\n",
      " 134,\n",
      " 185,\n",
      " 189,\n",
      " 66,\n",
      " 39,\n",
      " 658,\n",
      " 420,\n",
      " 263,\n",
      " 465,\n",
      " 459,\n",
      " 76,\n",
      " 894,\n",
      " 57,\n",
      " 123]\n"
     ]
    }
   ],
   "source": [
    "system_time=[]\n",
    "for job in completed_jobs:\n",
    "    system_time.append(job['service_completion_time']-job['arrival_time'])\n",
    "#\n",
    "pprint(system_time[:20])"
   ]
  },
  {
   "cell_type": "code",
   "execution_count": 89,
   "metadata": {},
   "outputs": [
    {
     "name": "stdout",
     "output_type": "stream",
     "text": [
      "The average system time is: 245.8241\n"
     ]
    }
   ],
   "source": [
    "print('The average system time is:',np.mean(system_time))"
   ]
  },
  {
   "cell_type": "markdown",
   "metadata": {},
   "source": [
    "### Compare to M/M/1 theoretical average time in system\n",
    "- $CT = \\frac{1}{\\mu - \\lambda}$\n",
    "- Here, $\\mu$ is the average service rate, 1/MEAN_SERVICE_TIME\n",
    "- And $\\lambda$ is the average arrival rate, 1/MEAN_TIME_BETWEEN_ARRIVALS"
   ]
  },
  {
   "cell_type": "code",
   "execution_count": 90,
   "metadata": {},
   "outputs": [
    {
     "name": "stdout",
     "output_type": "stream",
     "text": [
      "The theoretical average system time is: 3800.000000000003\n"
     ]
    }
   ],
   "source": [
    "print('The theoretical average system time is:',1/( (1/MEAN_SERVICE_TIME) - (1/MEAN_TIME_BETWEEN_ARRIVALS) ))"
   ]
  },
  {
   "cell_type": "code",
   "execution_count": 91,
   "metadata": {},
   "outputs": [
    {
     "data": {
      "image/png": "[encoded data removed]",
      "text/plain": [
       "<Figure size 432x288 with 1 Axes>"
      ]
     },
     "metadata": {
      "needs_background": "light"
     },
     "output_type": "display_data"
    }
   ],
   "source": [
    "# Tinker with number of bins, until it looks right\n",
    "plt.hist(system_time,bins=30)\n",
    "# you can customize the exact tick marks on an axis\n",
    "plt.yticks(range(0,3))\n",
    "plt.ylabel('Frequency');\n",
    "plt.xlabel('Time in System');"
   ]
  },
  {
   "cell_type": "markdown",
   "metadata": {},
   "source": [
    "## The NumPy package provides lots of statistical methods, we call it with `np`"
   ]
  },
  {
   "cell_type": "code",
   "execution_count": 92,
   "metadata": {},
   "outputs": [
    {
     "data": {
      "text/plain": [
       "2098"
      ]
     },
     "execution_count": 92,
     "metadata": {},
     "output_type": "execute_result"
    }
   ],
   "source": [
    "np.max(system_time)"
   ]
  },
  {
   "cell_type": "code",
   "execution_count": 93,
   "metadata": {},
   "outputs": [
    {
     "data": {
      "text/plain": [
       "181.0"
      ]
     },
     "execution_count": 93,
     "metadata": {},
     "output_type": "execute_result"
    }
   ],
   "source": [
    "# 50th percentile, or median\n",
    "np.percentile(system_time,50)"
   ]
  },
  {
   "cell_type": "code",
   "execution_count": 94,
   "metadata": {},
   "outputs": [
    {
     "data": {
      "text/plain": [
       "181.0"
      ]
     },
     "execution_count": 94,
     "metadata": {},
     "output_type": "execute_result"
    }
   ],
   "source": [
    "np.median(system_time)"
   ]
  },
  {
   "cell_type": "code",
   "execution_count": 95,
   "metadata": {},
   "outputs": [
    {
     "data": {
      "text/plain": [
       "229.4503736305304"
      ]
     },
     "execution_count": 95,
     "metadata": {},
     "output_type": "execute_result"
    }
   ],
   "source": [
    "np.std(system_time)"
   ]
  },
  {
   "cell_type": "markdown",
   "metadata": {},
   "source": [
    "# Paramount\n",
    "1.  We can simulate this pretty well now, queue for multiple cooks, then for multiple seats\n",
    "\n",
    "# Homework/In-class work\n",
    "\n",
    "1. ?\n"
   ]
  }
 ],
 "metadata": {
  "kernelspec": {
   "display_name": "Python 3",
   "language": "python",
   "name": "python3"
  },
  "language_info": {
   "codemirror_mode": {
    "name": "ipython",
    "version": 3
   },
   "file_extension": ".py",
   "mimetype": "text/x-python",
   "name": "python",
   "nbconvert_exporter": "python",
   "pygments_lexer": "ipython3",
   "version": "3.7.0"
  }
 },
 "nbformat": 4,
 "nbformat_minor": 2
}
