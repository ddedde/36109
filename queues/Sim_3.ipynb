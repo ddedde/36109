{
 "cells": [
  {
   "cell_type": "markdown",
   "metadata": {},
   "source": [
    "# Support Center Queue ... Stochastic Sim. Phase 3\n",
    "\n",
    "Jill now wants a more complete picture of the Support Center Process.  After a job completes work by a tech, it then queues for review by a senior tech.  So now, jobs must first wait in one queue, then wait in another.\n",
    "\n",
    "- Make G/M/1 a function\n",
    "- Process jobs through one queue and then another."
   ]
  },
  {
   "cell_type": "markdown",
   "metadata": {},
   "source": [
    "## Let's load up some common code modules before we begin"
   ]
  },
  {
   "cell_type": "code",
   "execution_count": 55,
   "metadata": {
    "slideshow": {
     "slide_type": "-"
    }
   },
   "outputs": [],
   "source": [
    "import math\n",
    "import numpy as np\n",
    "import matplotlib.pyplot as plt\n",
    "from pprint import pprint"
   ]
  },
  {
   "cell_type": "markdown",
   "metadata": {},
   "source": [
    "### Let's define some functions to return random variables from different distributions"
   ]
  },
  {
   "cell_type": "code",
   "execution_count": 56,
   "metadata": {},
   "outputs": [],
   "source": [
    "# returns a random exponential random variable rounded up to a positive integer\n",
    "def exponential(mean):\n",
    "    # usint math.ceil will round up all floating point numbers\n",
    "    return math.ceil(np.random.exponential(mean))\n",
    "# returns a uniform random integer between low to high inclusive of low and high\n",
    "def uniform(low,high):\n",
    "    return np.random.randint(low,high+1)\n",
    "# returns a random normal random variable rounded up and truncated if necessary to a positive integer\n",
    "def normal(mean,sigma):\n",
    "    # usint math.ceil will round up all floating point numbers\n",
    "    return max(math.ceil(np.random.normal(mean,sigma)),1)\n",
    "# returns a triangular random variable rounded up and truncated if necessary to a positive integer\n",
    "def triangular(left,mode,right):\n",
    "    return max(round(np.random.triangular(left,mode,right)),1)"
   ]
  },
  {
   "cell_type": "code",
   "execution_count": 57,
   "metadata": {},
   "outputs": [
    {
     "data": {
      "text/plain": [
       "2"
      ]
     },
     "execution_count": 57,
     "metadata": {},
     "output_type": "execute_result"
    }
   ],
   "source": [
    "triangular(1,2,3)"
   ]
  },
  {
   "cell_type": "code",
   "execution_count": 58,
   "metadata": {},
   "outputs": [
    {
     "data": {
      "text/plain": [
       "4"
      ]
     },
     "execution_count": 58,
     "metadata": {},
     "output_type": "execute_result"
    }
   ],
   "source": [
    "uniform(2,4)"
   ]
  },
  {
   "cell_type": "code",
   "execution_count": 59,
   "metadata": {},
   "outputs": [
    {
     "data": {
      "text/plain": [
       "14"
      ]
     },
     "execution_count": 59,
     "metadata": {},
     "output_type": "execute_result"
    }
   ],
   "source": [
    "exponential(10)"
   ]
  },
  {
   "cell_type": "code",
   "execution_count": 60,
   "metadata": {},
   "outputs": [
    {
     "data": {
      "text/plain": [
       "37"
      ]
     },
     "execution_count": 60,
     "metadata": {},
     "output_type": "execute_result"
    }
   ],
   "source": [
    "normal(50,25)"
   ]
  },
  {
   "cell_type": "markdown",
   "metadata": {},
   "source": [
    "## Let's load our data into Python data structures"
   ]
  },
  {
   "cell_type": "code",
   "execution_count": 61,
   "metadata": {},
   "outputs": [
    {
     "name": "stdout",
     "output_type": "stream",
     "text": [
      "[   {'arrival_time': 0},\n",
      "    {'arrival_time': 187},\n",
      "    {'arrival_time': 224},\n",
      "    {'arrival_time': 436},\n",
      "    {'arrival_time': 683},\n",
      "    {'arrival_time': 1066},\n",
      "    {'arrival_time': 1713},\n",
      "    {'arrival_time': 1894},\n",
      "    {'arrival_time': 1955},\n",
      "    {'arrival_time': 2015},\n",
      "    {'arrival_time': 2161},\n",
      "    {'arrival_time': 2219},\n",
      "    {'arrival_time': 2749},\n",
      "    {'arrival_time': 3015},\n",
      "    {'arrival_time': 3096},\n",
      "    {'arrival_time': 3136},\n",
      "    {'arrival_time': 3448},\n",
      "    {'arrival_time': 3957},\n",
      "    {'arrival_time': 4394},\n",
      "    {'arrival_time': 4553}]\n"
     ]
    }
   ],
   "source": [
    "# Create NUMBER_OF_ARRIVALS arrivals with interarrival times \n",
    "# Exponentially distributed with mean MEAN_TIME_BETWEEN_ARRIVALS\n",
    "# And service times exponentially distributed with MEAN_SERVICE_TIME\n",
    "NUMBER_OF_ARRIVALS = 100\n",
    "MEAN_TIME_BETWEEN_ARRIVALS = 200\n",
    "MEAN_SERVICE_TIME = 190\n",
    "\n",
    "# Set this to True to print out some debug info\n",
    "DEBUG = False\n",
    "\n",
    "job_list = []\n",
    "# If you specify a seed, here 55, then the random numbers will be the same each run\n",
    "#np.random.seed(55)\n",
    "\n",
    "for i in range(NUMBER_OF_ARRIVALS):\n",
    "    # create a new job object, an empty dictionary object\n",
    "    new_job = {}\n",
    "    \n",
    "    # Put the first arrival at time 0\n",
    "    if (i==0):\n",
    "        new_job['arrival_time'] = 0\n",
    "    else:\n",
    "        # note arrival_jobs[-1] returns the last job in the arrival_jobs list \n",
    "        last_arrival_time = job_list[-1]['arrival_time']\n",
    "        next_arrival_time = last_arrival_time +  exponential(MEAN_TIME_BETWEEN_ARRIVALS)\n",
    "        new_job['arrival_time'] = next_arrival_time\n",
    "        \n",
    "    job_list.append(new_job)\n",
    "\n",
    "# Let's inspect the first few arrival times\n",
    "pprint(job_list[:20],indent=4)\n"
   ]
  },
  {
   "cell_type": "markdown",
   "metadata": {},
   "source": [
    "## We will now loop through time, with a variable called  `time_period`"
   ]
  },
  {
   "cell_type": "code",
   "execution_count": 62,
   "metadata": {},
   "outputs": [],
   "source": [
    "def is_simulation_over(completed_jobs):\n",
    "#     return len(completed_jobs) == len(arrival_times)\n",
    "    return len(completed_jobs) == NUMBER_OF_ARRIVALS\n",
    "      \n",
    "def is_unprocessed_job_remaining(job_list):\n",
    "    return len(job_list) > 0\n",
    "\n",
    "def next_arrival_at_time(job_list,time):\n",
    "    return job_list[0]['arrival_time'] == time\n",
    "\n",
    "def is_job_in_service(job_in_service):\n",
    "    return job_in_service != None\n",
    "\n",
    "def is_job_remaining_in_queue(jobs_in_queue):\n",
    "    return len(jobs_in_queue) > 0\n",
    "\n",
    "def is_job_complete(job_in_service,time_period):\n",
    "    return job_in_service[\"start_service_time\"] + job_in_service[\"service_duration\"] == time_period\n",
    "    \n",
    "def set_job_in_service_duration(job_in_service, mean_service_time):\n",
    "    # Pop the next service time off the service_times list, and set in service job dictionary\n",
    "    # job_in_service[\"service_duration\"] = service_durations.pop(0)\n",
    "    job_in_service[\"service_duration\"] =  exponential(mean_service_time)\n",
    "    \n",
    "def set_job_start_service_time(job_in_service, time_period):\n",
    "    job_in_service[\"start_service_time\"] =  time_period\n",
    "   \n",
    "def set_job_in_service_completion_time(job_in_service, time_period):\n",
    "    job_in_service[\"service_completion_time\"] = time_period\n",
    "    \n",
    "def add_job_to_next_arrivals(next_arrival_list,arrival_time):\n",
    "    new_job = {'arrival_time': arrival_time}\n",
    "    next_arrival_list.append(new_job)\n"
   ]
  },
  {
   "cell_type": "markdown",
   "metadata": {},
   "source": [
    "## The gg1 function"
   ]
  },
  {
   "cell_type": "code",
   "execution_count": 63,
   "metadata": {},
   "outputs": [],
   "source": [
    "def gg1(job_list,mean_service_time):\n",
    "    # A variable that holds None or job in service\n",
    "    job_in_service = None\n",
    "    # job_completion_times is a list holding when jobs complete service\n",
    "    completed_jobs = []\n",
    "    # job_queue is a list to hold jobs that have arrived and are waiting for service\n",
    "    jobs_in_queue = []\n",
    "    #  make a list of jobs that can serve as arrivals to another process\n",
    "    next_arrivals = []\n",
    "    #  We will increment time_period as simulation proceeds\n",
    "    time_period = 0\n",
    "    print('Begin simulation loop')\n",
    "    while not is_simulation_over(completed_jobs):\n",
    "        DEBUG and print('Time Period:',time_period)\n",
    "        #\n",
    "        # PROCESS POSSIBLE ARRIVAL TO QUEUE\n",
    "        #\n",
    "        if (is_unprocessed_job_remaining(job_list) and next_arrival_at_time(job_list,time_period)):\n",
    "            DEBUG and print('** Process Arrival at time',time_period)\n",
    "\n",
    "            # remove first job from arrival_jobs\n",
    "            job_moving_to_queue = job_list.pop(0)\n",
    "            # append job to end of jobs_in_queue\n",
    "            jobs_in_queue.append(job_moving_to_queue)\n",
    "        #\n",
    "        # PROCESS POSSIBLE SERVICE COMPLETION\n",
    "        #\n",
    "        if (is_job_in_service(job_in_service) and is_job_complete(job_in_service,time_period)):\n",
    "            DEBUG and print('** Process Departure at time',time_period)\n",
    "\n",
    "            # record time of completion\n",
    "            set_job_in_service_completion_time(job_in_service,time_period)\n",
    "\n",
    "            # add job to departure_times list\n",
    "            completed_jobs.append(job_in_service)\n",
    "            # add job to next_arrivals list\n",
    "            add_job_to_next_arrivals(next_arrivals,time_period)\n",
    "            # Free up our server\n",
    "            job_in_service = None\n",
    "        #\n",
    "        # PROCESS POSSIBLE START OF SERVICE, DEPARTURE FROM QUEUE\n",
    "        if (not is_job_in_service(job_in_service) and is_job_remaining_in_queue(jobs_in_queue)):\n",
    "\n",
    "            DEBUG and print('** Process Start of Service at time:',time_period)\n",
    "            # remove first job from queue\n",
    "            job_in_service = jobs_in_queue.pop(0)\n",
    "            # Place in service by setting start and duration  \n",
    "            set_job_start_service_time(job_in_service,time_period)\n",
    "            set_job_in_service_duration(job_in_service,mean_service_time)\n",
    "        #\n",
    "        # Increment the time_period before going back to top of loop\n",
    "        time_period = time_period + 1\n",
    "    return completed_jobs,next_arrivals"
   ]
  },
  {
   "cell_type": "code",
   "execution_count": 64,
   "metadata": {},
   "outputs": [
    {
     "name": "stdout",
     "output_type": "stream",
     "text": [
      "Begin simulation loop\n",
      "[   {   'arrival_time': 0,\n",
      "        'service_completion_time': 26,\n",
      "        'service_duration': 26,\n",
      "        'start_service_time': 0},\n",
      "    {   'arrival_time': 187,\n",
      "        'service_completion_time': 245,\n",
      "        'service_duration': 58,\n",
      "        'start_service_time': 187},\n",
      "    {   'arrival_time': 224,\n",
      "        'service_completion_time': 424,\n",
      "        'service_duration': 179,\n",
      "        'start_service_time': 245},\n",
      "    {   'arrival_time': 436,\n",
      "        'service_completion_time': 987,\n",
      "        'service_duration': 551,\n",
      "        'start_service_time': 436},\n",
      "    {   'arrival_time': 683,\n",
      "        'service_completion_time': 1092,\n",
      "        'service_duration': 105,\n",
      "        'start_service_time': 987},\n",
      "    {   'arrival_time': 1066,\n",
      "        'service_completion_time': 1095,\n",
      "        'service_duration': 3,\n",
      "        'start_service_time': 1092},\n",
      "    {   'arrival_time': 1713,\n",
      "        'service_completion_time': 2037,\n",
      "        'service_duration': 324,\n",
      "        'start_service_time': 1713},\n",
      "    {   'arrival_time': 1894,\n",
      "        'service_completion_time': 2667,\n",
      "        'service_duration': 630,\n",
      "        'start_service_time': 2037},\n",
      "    {   'arrival_time': 1955,\n",
      "        'service_completion_time': 2765,\n",
      "        'service_duration': 98,\n",
      "        'start_service_time': 2667},\n",
      "    {   'arrival_time': 2015,\n",
      "        'service_completion_time': 2916,\n",
      "        'service_duration': 151,\n",
      "        'start_service_time': 2765},\n",
      "    {   'arrival_time': 2161,\n",
      "        'service_completion_time': 3014,\n",
      "        'service_duration': 98,\n",
      "        'start_service_time': 2916},\n",
      "    {   'arrival_time': 2219,\n",
      "        'service_completion_time': 3284,\n",
      "        'service_duration': 270,\n",
      "        'start_service_time': 3014},\n",
      "    {   'arrival_time': 2749,\n",
      "        'service_completion_time': 3614,\n",
      "        'service_duration': 330,\n",
      "        'start_service_time': 3284},\n",
      "    {   'arrival_time': 3015,\n",
      "        'service_completion_time': 3737,\n",
      "        'service_duration': 123,\n",
      "        'start_service_time': 3614},\n",
      "    {   'arrival_time': 3096,\n",
      "        'service_completion_time': 3760,\n",
      "        'service_duration': 23,\n",
      "        'start_service_time': 3737},\n",
      "    {   'arrival_time': 3136,\n",
      "        'service_completion_time': 3886,\n",
      "        'service_duration': 126,\n",
      "        'start_service_time': 3760},\n",
      "    {   'arrival_time': 3448,\n",
      "        'service_completion_time': 4105,\n",
      "        'service_duration': 219,\n",
      "        'start_service_time': 3886},\n",
      "    {   'arrival_time': 3957,\n",
      "        'service_completion_time': 4155,\n",
      "        'service_duration': 50,\n",
      "        'start_service_time': 4105},\n",
      "    {   'arrival_time': 4394,\n",
      "        'service_completion_time': 4395,\n",
      "        'service_duration': 1,\n",
      "        'start_service_time': 4394},\n",
      "    {   'arrival_time': 4553,\n",
      "        'service_completion_time': 4762,\n",
      "        'service_duration': 209,\n",
      "        'start_service_time': 4553}]\n",
      "[   {'arrival_time': 26},\n",
      "    {'arrival_time': 245},\n",
      "    {'arrival_time': 424},\n",
      "    {'arrival_time': 987},\n",
      "    {'arrival_time': 1092},\n",
      "    {'arrival_time': 1095},\n",
      "    {'arrival_time': 2037},\n",
      "    {'arrival_time': 2667},\n",
      "    {'arrival_time': 2765},\n",
      "    {'arrival_time': 2916},\n",
      "    {'arrival_time': 3014},\n",
      "    {'arrival_time': 3284},\n",
      "    {'arrival_time': 3614},\n",
      "    {'arrival_time': 3737},\n",
      "    {'arrival_time': 3760},\n",
      "    {'arrival_time': 3886},\n",
      "    {'arrival_time': 4105},\n",
      "    {'arrival_time': 4155},\n",
      "    {'arrival_time': 4395},\n",
      "    {'arrival_time': 4762}]\n"
     ]
    }
   ],
   "source": [
    "completed_jobs, next_arrivals = gg1(job_list,MEAN_SERVICE_TIME)\n",
    "pprint(completed_jobs[:20],indent=4)\n",
    "pprint(next_arrivals[:20],indent=4)"
   ]
  },
  {
   "cell_type": "markdown",
   "metadata": {},
   "source": [
    "### Let's inspect the total system time"
   ]
  },
  {
   "cell_type": "code",
   "execution_count": 65,
   "metadata": {},
   "outputs": [
    {
     "name": "stdout",
     "output_type": "stream",
     "text": [
      "[26,\n",
      " 58,\n",
      " 200,\n",
      " 551,\n",
      " 409,\n",
      " 29,\n",
      " 324,\n",
      " 773,\n",
      " 810,\n",
      " 901,\n",
      " 853,\n",
      " 1065,\n",
      " 865,\n",
      " 722,\n",
      " 664,\n",
      " 750,\n",
      " 657,\n",
      " 198,\n",
      " 1,\n",
      " 209]\n"
     ]
    }
   ],
   "source": [
    "system_time=[]\n",
    "for job in completed_jobs:\n",
    "    system_time.append(job['service_completion_time']-job['arrival_time'])\n",
    "#\n",
    "pprint(system_time[:20])"
   ]
  },
  {
   "cell_type": "code",
   "execution_count": 66,
   "metadata": {},
   "outputs": [
    {
     "name": "stdout",
     "output_type": "stream",
     "text": [
      "The average system time is: 670.17\n"
     ]
    }
   ],
   "source": [
    "print('The average system time is:',np.mean(system_time))"
   ]
  },
  {
   "cell_type": "markdown",
   "metadata": {},
   "source": [
    "### Compare to M/M/1 theoretical average time in system\n",
    "- $CT = \\frac{1}{\\mu - \\lambda}$\n",
    "- Here, $\\mu$ is the average service rate, 1/MEAN_SERVICE_TIME\n",
    "- And $\\lambda$ is the average arrival rate, 1/MEAN_TIME_BETWEEN_ARRIVALS"
   ]
  },
  {
   "cell_type": "code",
   "execution_count": 67,
   "metadata": {},
   "outputs": [
    {
     "name": "stdout",
     "output_type": "stream",
     "text": [
      "The theoretical average system time is: 3800.000000000003\n"
     ]
    }
   ],
   "source": [
    "print('The theoretical average system time is:',1/( (1/MEAN_SERVICE_TIME) - (1/MEAN_TIME_BETWEEN_ARRIVALS) ))"
   ]
  },
  {
   "cell_type": "code",
   "execution_count": 68,
   "metadata": {},
   "outputs": [
    {
     "data": {
      "image/png": "[encoded data removed]",
      "text/plain": [
       "<Figure size 432x288 with 1 Axes>"
      ]
     },
     "metadata": {
      "needs_background": "light"
     },
     "output_type": "display_data"
    }
   ],
   "source": [
    "# Tinker with number of bins, until it looks right\n",
    "plt.hist(system_time,bins=30)\n",
    "# you can customize the exact tick marks on an axis\n",
    "plt.yticks(range(0,3))\n",
    "plt.ylabel('Frequency');\n",
    "plt.xlabel('Time in System');"
   ]
  },
  {
   "cell_type": "markdown",
   "metadata": {},
   "source": [
    "## The NumPy package provides lots of statistical methods, we call it with `np`"
   ]
  },
  {
   "cell_type": "code",
   "execution_count": 69,
   "metadata": {},
   "outputs": [
    {
     "data": {
      "text/plain": [
       "1957"
      ]
     },
     "execution_count": 69,
     "metadata": {},
     "output_type": "execute_result"
    }
   ],
   "source": [
    "np.max(system_time)"
   ]
  },
  {
   "cell_type": "code",
   "execution_count": 70,
   "metadata": {},
   "outputs": [
    {
     "data": {
      "text/plain": [
       "710.5"
      ]
     },
     "execution_count": 70,
     "metadata": {},
     "output_type": "execute_result"
    }
   ],
   "source": [
    "# 50th percentile, or median\n",
    "np.percentile(system_time,50)"
   ]
  },
  {
   "cell_type": "code",
   "execution_count": 71,
   "metadata": {},
   "outputs": [
    {
     "data": {
      "text/plain": [
       "710.5"
      ]
     },
     "execution_count": 71,
     "metadata": {},
     "output_type": "execute_result"
    }
   ],
   "source": [
    "np.median(system_time)"
   ]
  },
  {
   "cell_type": "code",
   "execution_count": 72,
   "metadata": {},
   "outputs": [
    {
     "data": {
      "text/plain": [
       "397.7645799967614"
      ]
     },
     "execution_count": 72,
     "metadata": {},
     "output_type": "execute_result"
    }
   ],
   "source": [
    "np.std(system_time)"
   ]
  },
  {
   "cell_type": "markdown",
   "metadata": {},
   "source": [
    "# Paramount\n",
    "1.  ?\n",
    "\n",
    "# Homework/In-class work\n",
    "\n",
    "1. ?\n"
   ]
  }
 ],
 "metadata": {
  "kernelspec": {
   "display_name": "Python 3",
   "language": "python",
   "name": "python3"
  },
  "language_info": {
   "codemirror_mode": {
    "name": "ipython",
    "version": 3
   },
   "file_extension": ".py",
   "mimetype": "text/x-python",
   "name": "python",
   "nbconvert_exporter": "python",
   "pygments_lexer": "ipython3",
   "version": "3.7.0"
  }
 },
 "nbformat": 4,
 "nbformat_minor": 2
}
