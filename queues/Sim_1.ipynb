{
 "cells": [
  {
   "cell_type": "markdown",
   "metadata": {},
   "source": [
    "# Support Center Queue\n",
    "\n",
    "Jill manages a software support center.  Jill wants to run an analysis on how long support requests remain in the system before getting resolved.  Collecting some stats and showing a Histogram of request time in system seems like a nice outcome.  Jill has data of when each request enters the system, and when each request is resolved.  \n",
    "\n",
    "One methodology is to gather various Scenarios for which to analyze.  For example, a Busy Post Launch Scenario, a Mild Scenario,  A Monday Morning Scenario, etc.   And then use these scenarios to plan staffing, etc.\n",
    "\n",
    "To test her methodology and code, she will use the following small dataset and make the following assumptions:\n",
    "\n",
    "- Jobs arrive, are processed, and complete only at integral units of minutes\n",
    "- Request arrival times:  `0, 5, 10, 12, 14, 15, 55`\n",
    "- Service times for each request, that is, time to resolve once started: `4, 4, 10, 10, 10, 10, 1`\n",
    "- There is a single support staff that processes requests First-In-First-Out (FIFO)"
   ]
  },
  {
   "cell_type": "markdown",
   "metadata": {},
   "source": [
    "## Let's load up some common code modules before we begin"
   ]
  },
  {
   "cell_type": "code",
   "execution_count": 43,
   "metadata": {},
   "outputs": [],
   "source": [
    "import numpy as np\n",
    "import matplotlib.pyplot as plt\n",
    "from pprint import pprint"
   ]
  },
  {
   "cell_type": "markdown",
   "metadata": {},
   "source": [
    "## Let's load our data into Python data structures"
   ]
  },
  {
   "cell_type": "code",
   "execution_count": 44,
   "metadata": {},
   "outputs": [
    {
     "name": "stdout",
     "output_type": "stream",
     "text": [
      "[0, 5, 10, 12, 14, 15, 55]\n"
     ]
    }
   ],
   "source": [
    "# arrival_times is a Python list\n",
    "arrival_times = [0, 5, 10, 12, 14, 15, 55]\n",
    "pprint(arrival_times)"
   ]
  },
  {
   "cell_type": "code",
   "execution_count": 45,
   "metadata": {},
   "outputs": [
    {
     "name": "stdout",
     "output_type": "stream",
     "text": [
      "[4, 4, 10, 10, 10, 10, 1]\n"
     ]
    }
   ],
   "source": [
    "# service_times is a Python list\n",
    "service_durations = [4, 4, 10, 10, 10, 10, 1]\n",
    "pprint(service_durations)"
   ]
  },
  {
   "cell_type": "markdown",
   "metadata": {},
   "source": [
    "## Let's make each job its own \"data bundle\", an object, in particular a Python Dictionary object.  \n",
    "\n",
    "### Each job dictionary object will hold two pieces of information, `arrival_time` and `service_completion_time`, initially `service_completion_time` is not know, so we will put a null placeholder there, which in Python is called `None`."
   ]
  },
  {
   "cell_type": "markdown",
   "metadata": {},
   "source": [
    "### We will first put all of these job dictionary objects into a new list called, `job_list`"
   ]
  },
  {
   "cell_type": "markdown",
   "metadata": {},
   "source": [
    "### NOTE:   A List of Dictionary objects is a very common structure we will see many times"
   ]
  },
  {
   "cell_type": "code",
   "execution_count": 46,
   "metadata": {},
   "outputs": [
    {
     "name": "stdout",
     "output_type": "stream",
     "text": [
      "job_list,  Which is a List of job Dictionary objects:\n",
      "\n",
      "[{'arrival_time': 0},\n",
      " {'arrival_time': 5},\n",
      " {'arrival_time': 10},\n",
      " {'arrival_time': 12},\n",
      " {'arrival_time': 14},\n",
      " {'arrival_time': 15},\n",
      " {'arrival_time': 55}]\n",
      "\n",
      "Arrival time of second job:  5\n"
     ]
    }
   ],
   "source": [
    "job_list = []\n",
    "# loop through all `arrival_times` and for each, create a new job\n",
    "for arrival_tm in arrival_times:\n",
    "    # create a job object\n",
    "    new_job = {'arrival_time': arrival_tm}\n",
    "    # add the job object to the arrival_jobs list\n",
    "    job_list.append(new_job)\n",
    "    \n",
    "print(\"job_list,  Which is a List of job Dictionary objects:\\n\")\n",
    "pprint(job_list)\n",
    "\n",
    "# Let's print out the arrival time of the second job, just for fun\n",
    "print('\\nArrival time of second job: ',job_list[1]['arrival_time'])"
   ]
  },
  {
   "cell_type": "markdown",
   "metadata": {},
   "source": [
    "## Let's create a couple of more data structures that will be useful for our simulation"
   ]
  },
  {
   "cell_type": "code",
   "execution_count": 47,
   "metadata": {},
   "outputs": [],
   "source": [
    "# job_queue is a List to hold jobs that have arrived and are waiting for service\n",
    "jobs_in_queue = []\n",
    "# A variable that holds None or job in service\n",
    "job_in_service = None\n",
    "# job_completion_times is a list holding when jobs complete service\n",
    "completed_jobs = []"
   ]
  },
  {
   "cell_type": "code",
   "execution_count": 48,
   "metadata": {},
   "outputs": [],
   "source": [
    "def is_simulation_over():\n",
    "    return len(completed_jobs) == len(arrival_times)\n",
    "        \n",
    "def is_unprocessed_job_remaining():\n",
    "    return len(job_list) > 0\n",
    "\n",
    "def next_arrival_at_time(time):\n",
    "    return job_list[0]['arrival_time'] == time\n",
    "\n",
    "def is_job_in_service():\n",
    "    return job_in_service != None\n",
    "\n",
    "def is_job_remaining_in_queue():\n",
    "    return len(jobs_in_queue) > 0\n",
    "\n",
    "def is_job_complete(time_period):\n",
    "    return job_in_service[\"start_service_time\"] + job_in_service[\"service_duration\"] == time_period\n",
    "    \n",
    "def set_job_in_service_duration():\n",
    "    job_in_service[\"service_duration\"] = service_durations.pop(0)\n",
    "    \n",
    "def set_job_start_service_time(time_period):\n",
    "    job_in_service[\"start_service_time\"] =  time_period\n",
    "    \n",
    "def set_job_in_service_completion_time(time_period):\n",
    "    job_in_service[\"service_completion_time\"] = time_period"
   ]
  },
  {
   "cell_type": "markdown",
   "metadata": {},
   "source": [
    "## We will now loop through time, with a variable called  `time_period`"
   ]
  },
  {
   "cell_type": "code",
   "execution_count": 49,
   "metadata": {
    "collapsed": true
   },
   "outputs": [
    {
     "name": "stdout",
     "output_type": "stream",
     "text": [
      "Begin simulation loop\n",
      "Time Period: 0\n",
      "** Process Arrival at time 0\n",
      "** Process Start of Service at time: 0\n",
      "Time Period: 1\n",
      "Time Period: 2\n",
      "Time Period: 3\n",
      "Time Period: 4\n",
      "** Process Departure at time 4\n",
      "Time Period: 5\n",
      "** Process Arrival at time 5\n",
      "** Process Start of Service at time: 5\n",
      "Time Period: 6\n",
      "Time Period: 7\n",
      "Time Period: 8\n",
      "Time Period: 9\n",
      "** Process Departure at time 9\n",
      "Time Period: 10\n",
      "** Process Arrival at time 10\n",
      "** Process Start of Service at time: 10\n",
      "Time Period: 11\n",
      "Time Period: 12\n",
      "** Process Arrival at time 12\n",
      "Time Period: 13\n",
      "Time Period: 14\n",
      "** Process Arrival at time 14\n",
      "Time Period: 15\n",
      "** Process Arrival at time 15\n",
      "Time Period: 16\n",
      "Time Period: 17\n",
      "Time Period: 18\n",
      "Time Period: 19\n",
      "Time Period: 20\n",
      "** Process Departure at time 20\n",
      "** Process Start of Service at time: 20\n",
      "Time Period: 21\n",
      "Time Period: 22\n",
      "Time Period: 23\n",
      "Time Period: 24\n",
      "Time Period: 25\n",
      "Time Period: 26\n",
      "Time Period: 27\n",
      "Time Period: 28\n",
      "Time Period: 29\n",
      "Time Period: 30\n",
      "** Process Departure at time 30\n",
      "** Process Start of Service at time: 30\n",
      "Time Period: 31\n",
      "Time Period: 32\n",
      "Time Period: 33\n",
      "Time Period: 34\n",
      "Time Period: 35\n",
      "Time Period: 36\n",
      "Time Period: 37\n",
      "Time Period: 38\n",
      "Time Period: 39\n",
      "Time Period: 40\n",
      "** Process Departure at time 40\n",
      "** Process Start of Service at time: 40\n",
      "Time Period: 41\n",
      "Time Period: 42\n",
      "Time Period: 43\n",
      "Time Period: 44\n",
      "Time Period: 45\n",
      "Time Period: 46\n",
      "Time Period: 47\n",
      "Time Period: 48\n",
      "Time Period: 49\n",
      "Time Period: 50\n",
      "** Process Departure at time 50\n",
      "Time Period: 51\n",
      "Time Period: 52\n",
      "Time Period: 53\n",
      "Time Period: 54\n",
      "Time Period: 55\n",
      "** Process Arrival at time 55\n",
      "** Process Start of Service at time: 55\n",
      "Time Period: 56\n",
      "** Process Departure at time 56\n"
     ]
    }
   ],
   "source": [
    "#  We will increment time_period as simulation proceeds\n",
    "time_period = 0\n",
    "#  We will run our simulation until all jobs have departed service\n",
    "print('Begin simulation loop')\n",
    "while not is_simulation_over():\n",
    "    print('Time Period:',time_period)\n",
    "    #\n",
    "    # PROCESS POSSIBLE ARRIVAL TO QUEUE\n",
    "    #\n",
    "    if (is_unprocessed_job_remaining() and next_arrival_at_time(time_period)):\n",
    "        print('** Process Arrival at time',time_period)\n",
    "        \n",
    "        # remove first job from arrival_jobs\n",
    "        job_moving_to_queue = job_list.pop(0)\n",
    "        # append job to end of jobs_in_queue\n",
    "        jobs_in_queue.append(job_moving_to_queue)\n",
    "    #\n",
    "    # PROCESS POSSIBLE SERVICE COMPLETION\n",
    "    #\n",
    "    if (is_job_in_service() and is_job_complete(time_period)):\n",
    "        print('** Process Departure at time',time_period)\n",
    "        \n",
    "        # record time of completion\n",
    "        set_job_in_service_completion_time(time_period)\n",
    "\n",
    "        # add job to departure_times list\n",
    "        completed_jobs.append(job_in_service)\n",
    "        # Free up our server\n",
    "        job_in_service = None\n",
    "    #\n",
    "    # PROCESS POSSIBLE START OF SERVICE, DEPARTURE FROM QUEUE\n",
    "    if (not is_job_in_service() and is_job_remaining_in_queue()):\n",
    "        \n",
    "        print('** Process Start of Service at time:',time_period)\n",
    "        # remove first job from queue\n",
    "        job_in_service = jobs_in_queue.pop(0)\n",
    "        # Place in service by setting service start time and service duration\n",
    "        set_job_start_service_time(time_period)\n",
    "        set_job_in_service_duration()\n",
    "    #\n",
    "    # Increment the time_period before going back to top of loop\n",
    "    time_period = time_period + 1"
   ]
  },
  {
   "cell_type": "code",
   "execution_count": 50,
   "metadata": {},
   "outputs": [
    {
     "name": "stdout",
     "output_type": "stream",
     "text": [
      "[   {   'arrival_time': 0,\n",
      "        'service_completion_time': 4,\n",
      "        'service_duration': 4,\n",
      "        'start_service_time': 0},\n",
      "    {   'arrival_time': 5,\n",
      "        'service_completion_time': 9,\n",
      "        'service_duration': 4,\n",
      "        'start_service_time': 5},\n",
      "    {   'arrival_time': 10,\n",
      "        'service_completion_time': 20,\n",
      "        'service_duration': 10,\n",
      "        'start_service_time': 10},\n",
      "    {   'arrival_time': 12,\n",
      "        'service_completion_time': 30,\n",
      "        'service_duration': 10,\n",
      "        'start_service_time': 20},\n",
      "    {   'arrival_time': 14,\n",
      "        'service_completion_time': 40,\n",
      "        'service_duration': 10,\n",
      "        'start_service_time': 30},\n",
      "    {   'arrival_time': 15,\n",
      "        'service_completion_time': 50,\n",
      "        'service_duration': 10,\n",
      "        'start_service_time': 40},\n",
      "    {   'arrival_time': 55,\n",
      "        'service_completion_time': 56,\n",
      "        'service_duration': 1,\n",
      "        'start_service_time': 55}]\n"
     ]
    }
   ],
   "source": [
    "pprint(completed_jobs[:20],indent=4)"
   ]
  },
  {
   "cell_type": "markdown",
   "metadata": {},
   "source": [
    "## Let's gather up the total times in the system and store them in the list, `system_time`"
   ]
  },
  {
   "cell_type": "code",
   "execution_count": 51,
   "metadata": {},
   "outputs": [
    {
     "name": "stdout",
     "output_type": "stream",
     "text": [
      "[4, 4, 10, 18, 26, 35, 1]\n"
     ]
    }
   ],
   "source": [
    "system_time=[]\n",
    "for job in completed_jobs:\n",
    "    system_time.append(job['service_completion_time']-job['arrival_time'])\n",
    "#\n",
    "pprint(system_time)"
   ]
  },
  {
   "cell_type": "code",
   "execution_count": 52,
   "metadata": {},
   "outputs": [
    {
     "name": "stdout",
     "output_type": "stream",
     "text": [
      "The average system time is: 14.0\n"
     ]
    }
   ],
   "source": [
    "print('The average system time is:',np.mean(system_time))"
   ]
  },
  {
   "cell_type": "code",
   "execution_count": 53,
   "metadata": {},
   "outputs": [
    {
     "data": {
      "image/png": "[encoded data removed]",
      "text/plain": [
       "<Figure size 432x288 with 1 Axes>"
      ]
     },
     "metadata": {
      "needs_background": "light"
     },
     "output_type": "display_data"
    }
   ],
   "source": [
    "# Tinker with number of bins, until it looks right\n",
    "plt.hist(system_time,bins=36)\n",
    "# you can customize the exact tick marks on an axis\n",
    "plt.yticks(range(0,3))\n",
    "plt.ylabel('Frequency');\n",
    "plt.xlabel('Time in System');"
   ]
  },
  {
   "cell_type": "markdown",
   "metadata": {},
   "source": [
    "## The NumPy package provides lots of statistical methods, we call it with `np`"
   ]
  },
  {
   "cell_type": "code",
   "execution_count": 54,
   "metadata": {},
   "outputs": [
    {
     "data": {
      "text/plain": [
       "35"
      ]
     },
     "execution_count": 54,
     "metadata": {},
     "output_type": "execute_result"
    }
   ],
   "source": [
    "np.max(system_time)"
   ]
  },
  {
   "cell_type": "code",
   "execution_count": 55,
   "metadata": {},
   "outputs": [
    {
     "data": {
      "text/plain": [
       "10.0"
      ]
     },
     "execution_count": 55,
     "metadata": {},
     "output_type": "execute_result"
    }
   ],
   "source": [
    "# 50th percentile, or median\n",
    "np.percentile(system_time,50)"
   ]
  },
  {
   "cell_type": "code",
   "execution_count": 56,
   "metadata": {},
   "outputs": [
    {
     "data": {
      "text/plain": [
       "10.0"
      ]
     },
     "execution_count": 56,
     "metadata": {},
     "output_type": "execute_result"
    }
   ],
   "source": [
    "np.median(system_time)"
   ]
  },
  {
   "cell_type": "code",
   "execution_count": 57,
   "metadata": {},
   "outputs": [
    {
     "data": {
      "text/plain": [
       "11.868325191750639"
      ]
     },
     "execution_count": 57,
     "metadata": {},
     "output_type": "execute_result"
    }
   ],
   "source": [
    "np.std(system_time)"
   ]
  },
  {
   "cell_type": "markdown",
   "metadata": {},
   "source": [
    "# Paramount\n",
    "\n",
    "1. Consider the spreadsheet file, `ParmountArrivals.xls`.  Assume the Cooks act as a single server at rate X.  Anayze the queue for service.\n",
    "\n",
    "# Support Center: Homework\n",
    "\n",
    "Add to this notebook to answer the following:\n",
    "\n",
    "1. Consider the number of jobs in the queue over time, from 0 until all jobs are completed\n",
    "  - What is the average number of jobs in the queue?\n",
    "  - Form a histogram of the number of jobs in the queue\n",
    "\n",
    "1. Consider the time jobs spend in the queue, before beginning service.\n",
    "  - What is the average time a job spends in the queue?\n",
    "  - Form a histogram of the time jobs spend in the queue\n",
    "  \n",
    "\n"
   ]
  }
 ],
 "metadata": {
  "kernelspec": {
   "display_name": "Python 3",
   "language": "python",
   "name": "python3"
  },
  "language_info": {
   "codemirror_mode": {
    "name": "ipython",
    "version": 3
   },
   "file_extension": ".py",
   "mimetype": "text/x-python",
   "name": "python",
   "nbconvert_exporter": "python",
   "pygments_lexer": "ipython3",
   "version": "3.7.0"
  }
 },
 "nbformat": 4,
 "nbformat_minor": 2
}
