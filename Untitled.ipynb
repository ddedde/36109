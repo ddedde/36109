{
 "cells": [
  {
   "cell_type": "code",
   "execution_count": 3,
   "metadata": {},
   "outputs": [
    {
     "name": "stdout",
     "output_type": "stream",
     "text": [
      "OrderedDict([('b', {'a': 1})])\n"
     ]
    }
   ],
   "source": [
    "from collections import OrderedDict\n",
    "\n",
    "thing = OrderedDict()\n",
    "thing.setdefault('b', {'a': 0})['a'] += 1"
   ]
  },
  {
   "cell_type": "code",
   "execution_count": 13,
   "metadata": {},
   "outputs": [
    {
     "name": "stdout",
     "output_type": "stream",
     "text": [
      "1\n",
      "2\n"
     ]
    }
   ],
   "source": [
    "class Resource(object):\n",
    "    def __init__(self, service_function, *args, **kwargs):\n",
    "        self.service_function = service_function()\n",
    "        super(*args, **kwargs)\n",
    "    \n",
    "    def next_service_time(self):\n",
    "        return next(self.service_function)\n",
    "\n",
    "    \n",
    "def service_time_generator():\n",
    "    service_times = [1,2]\n",
    "    for i in service_times:\n",
    "        yield i\n",
    "        \n",
    "r = Resource(service_time_generator)\n",
    "\n",
    "print(r.next_service_time())\n",
    "print(r.next_service_time())"
   ]
  },
  {
   "cell_type": "code",
   "execution_count": null,
   "metadata": {},
   "outputs": [],
   "source": []
  }
 ],
 "metadata": {
  "kernelspec": {
   "display_name": "Python 3",
   "language": "python",
   "name": "python3"
  },
  "language_info": {
   "codemirror_mode": {
    "name": "ipython",
    "version": 3
   },
   "file_extension": ".py",
   "mimetype": "text/x-python",
   "name": "python",
   "nbconvert_exporter": "python",
   "pygments_lexer": "ipython3",
   "version": "3.7.0"
  }
 },
 "nbformat": 4,
 "nbformat_minor": 4
}
