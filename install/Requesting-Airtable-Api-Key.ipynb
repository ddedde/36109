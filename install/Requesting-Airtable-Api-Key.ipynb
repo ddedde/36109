{
 "cells": [
  {
   "cell_type": "markdown",
   "metadata": {},
   "source": [
    "# Requesting an Airtable API Key \n",
    "\n",
    "This course will involve projects that require you to make API requests to retrieve data from remote data sources. We have chosen to use the flexible database/spreadsheet hybrid [Airtable](https://airtable.com/) as our primary remote data store.\n",
    "\n",
    "In order to interface with Airtable from Python, you will need to create an Airtable account and provide us with an API key so we can authorize your access to necessary tables. \n",
    "\n",
    "## Sign in to Airtable With Your Booth Gmail Account\n",
    "\n",
    "Follow this link to create an Airtable Account: https://airtable.com/signup\n",
    "\n",
    "You can sign up for an account with your Booth gmail account using the \"Sign up with Google\" button on the signup page. \n",
    "\n",
    "![airtable-sign-up.png](img/airtable-sign-up.png)\n",
    "\n",
    "After signing in to airtable you'll see a screen asking for some context about your airtable usage, feel free to skip over these questions\n",
    "\n",
    "![skip-this.png](img/skip-this.png)\n",
    "\n",
    "You should now find yourself on the airtable workspace dashboard.\n",
    "\n",
    "![workplace-dashboard.png](img/workplace-dashboard.png)\n",
    "\n",
    "\n",
    "## Create an API Key\n",
    "\n",
    "Navigate to your airtable account settings here: https://airtable.com/account\n",
    "\n",
    "Click on the \"Generate API Key\" button.\n",
    "\n",
    "![generate-api-key.png](img/generate-api-key.png)\n",
    "\n",
    "You should see a box appear with an obscured version of your API key inside. Click in this box to see your API key, copy it now, we will use it later.\n",
    "\n",
    "⚠️CAUTION: Treat API keys like you would treat a credit card number. Don't share them in public spaces, commit them to github, or submit them in homework assignments. **Only share keys with people you trust.**\n",
    "\n",
    "## Request Access to The Test 'Base' in Airtable\n",
    "\n",
    "Airtable has concepts called Workspaces, Bases, Tables, and Views. They relate together in the following heirarchy.\n",
    "\n",
    "![airtable-data-heirarchy.png](img/airtable-data-heirarchy.png)\n",
    "\n",
    "Click through the following link to request read-access to a base for the course which contains some test data: [Click here](https://airtable.com/invite/l?inviteId=invSBJRk7PjtSekTo&inviteToken=06918a02b62f5d7deb275bdd77f4dd4ae1680b9f9d186dd876701a8dbcd9b951) \n",
    "\n",
    "We will use the data in this base to test your API key in the next step.\n",
    "\n",
    "If the link worked, you should see a new base called \"Booth Test\" in your airtable dashboard.\n",
    "\n",
    "![booth-test.png](img/booth-test.png)\n",
    "\n",
    "## Testing Your API Key\n",
    "\n",
    "Copy the API key that you created in step 2, and set it as the value of `AIRTABLE_API_KEY` in the code block below. Make sure it is a string. \n",
    "\n",
    "Run the code block: You should see the output of any airtable records in the base (should look like a dictionary)."
   ]
  },
  {
   "cell_type": "code",
   "execution_count": 2,
   "metadata": {},
   "outputs": [
    {
     "name": "stdout",
     "output_type": "stream",
     "text": [
      "Record is: {'id': 'recWk9h7jio9n2CUW', 'fields': {'Name': 'It Worked', 'Favorite Number': 42, 'Notes': 'Some Notes '}, 'createdTime': '2020-03-22T21:36:58.000Z'}\n",
      "\n"
     ]
    }
   ],
   "source": [
    "# Note: need to make sure airtable-python-wrapper is installed first before running this code block.\n",
    "from airtable import Airtable\n",
    "\n",
    "AIRTABLE_API_KEY=\"YOUR API KEY HERE\"\n",
    "\n",
    "AIRTABLE_BASE_ID=\"appxAvUIMvTKY7vEg\" # This contains remote test data \n",
    "AIRTABLE_TABLE_NAME=\"ApiKeyTest\" # This is the table with the data in it\n",
    "\n",
    "# create a new client configured with your api key\n",
    "read_only_airtable_client = Airtable(AIRTABLE_BASE_ID, AIRTABLE_TABLE_NAME, api_key=AIRTABLE_API_KEY)\n",
    "\n",
    "# use the client to get all of the records in the ApiKeyTest table\n",
    "record = read_only_airtable_client.get_all()[0]\n",
    "\n",
    "print(f\"Record is: {record}\\n\")"
   ]
  },
  {
   "cell_type": "markdown",
   "metadata": {},
   "source": [
    "For the curious, we are using the package [airtable-python-wrapper](https://airtable-python-wrapper.readthedocs.io/en/master/index.html) as an easy way to interface with airtable from python.\n",
    "\n",
    "One of the cooler aspects of Airtable is it provides [API Documentation](https://airtable.com/appxAvUIMvTKY7vEg/api/docs#curl/introduction) for each base and table that you create. \n",
    "\n",
    "You can make standard HTTP GET / POST / PUT / DELETE requests to query from your bases, but the `airtable-python-wrapper` takes care of that complexity for us and allows us to focus more on python (which is good).\n",
    "\n"
   ]
  },
  {
   "cell_type": "markdown",
   "metadata": {},
   "source": [
    "## That's it!\n",
    "\n",
    "If you've made it this far, you've successfully done the following:\n",
    "\n",
    "1. created an Airtable account\n",
    "2. created a new API key\n",
    "3. requested access to the \"Booth Test\" base\n",
    "4. queried from the base using the airtable-python-wrapper. \n",
    "\n",
    "You should be all set for any other assignments that involve airtable for this course 🎉"
   ]
  }
 ],
 "metadata": {
  "kernelspec": {
   "display_name": "Python 3",
   "language": "python",
   "name": "python3"
  },
  "language_info": {
   "codemirror_mode": {
    "name": "ipython",
    "version": 3
   },
   "file_extension": ".py",
   "mimetype": "text/x-python",
   "name": "python",
   "nbconvert_exporter": "python",
   "pygments_lexer": "ipython3",
   "version": "3.7.4"
  }
 },
 "nbformat": 4,
 "nbformat_minor": 4
}
