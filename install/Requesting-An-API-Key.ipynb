{
 "cells": [
  {
   "cell_type": "markdown",
   "metadata": {},
   "source": [
    "#### Requesting a Google Maps API key\n",
    "\n",
    "The `gmaps` python package used in this course leverages the Google Maps API. Each student will need to request a Google Maps API key for notebooks with mapping functionality to work correctly. \n",
    "\n",
    "This guide will walk you through how to request an API key from the Google Developer Console.\n",
    "\n",
    "#### What is an API Key?\n",
    "\n",
    "If you've never used an API key before, or need a refresher on the purpose of API keys, [this article](https://cloud.google.com/endpoints/docs/openapi/when-why-api-key) does a nice job of explaining what they are and why they are needed.\n",
    "\n",
    "#### Instructions\n",
    "\n",
    "#### Step 0: Log in to your google account\n",
    "You will need a google account (e.g. gmail) to request an API key. \n",
    "\n",
    "There have been some reports that using your `@chicagobooth.edu` email account causes problems during API key creation. You are welcome to try using it, but if the steps below do not work for you, we suggest that you just use a non-booth gmail account to request an API key."
   ]
  },
  {
   "cell_type": "markdown",
   "metadata": {},
   "source": [
    "#### Step 1: [Navigate here to create a new \"project\" in the developer console](https://console.developers.google.com/projectcreate).  \n",
    "Creating a project is necessary before we request an API key.\n",
    "\n",
    "On the **New Project** page, fill out the fields:\n",
    "- Name: `chicago-booth`\n",
    "- Location: `No organization`\n",
    "\n",
    "Fully configured, your project should look like this:\n",
    "\n",
    "![create-project.png](img/create-project.png)\n",
    "\n",
    "Click **Create** and wait for the project dashboard to appear before moving on. It might take a minute for the project dashboard to appear after clicking create.  \n",
    "\n",
    "#### NOTE: if you are trying to create a key with a chicagobooth.edu email address\n",
    "If you are using a `chicagobooth.edu` email account, you will see a third field at this step called \"organization\". We've heard reports that setting the organization and location fields to `chicagobooth.edu` will allow you to successfully create a new project project. Something like this:\n",
    "\n",
    "![3_field.png](img/3_field.png)\n",
    "\n",
    "If you are unable to create a project, please start from the beginning of Step 1 again with a non-booth email address.\n"
   ]
  },
  {
   "cell_type": "markdown",
   "metadata": {},
   "source": [
    "#### Step 2: [Navigate here to request an API key](https://console.developers.google.com/flows/enableapi?apiid=maps_backend,geocoding_backend,directions_backend,distance_matrix_backend,elevation_backend&keyType=CLIENT_SIDE&reusekey=true).  \n",
    "\n",
    "Select your newly created `chicago-booth` project from the dropdown, then click **Continue**. \n",
    "\n",
    "On the subsequent **API Key** page, do the following:\n",
    "\n",
    "- Name your key: `gmaps-api-key`\n",
    "- Under the `API restrictions` tab, select all of the available options one-by-one in the dropdown.\n",
    "  - Directions API\n",
    "  - Distance Matrix API\n",
    "  - Geocoding API\n",
    "  - Maps Elevation API\n",
    "  - Maps JavaScript API\n",
    "\n",
    "Fully configured, your key should look like this:\n",
    "\n",
    "![api-key-configuration.png](img/api-key-configuration.png)\n",
    "\n",
    "Click **Create**. The API key created dialog will display your newly created API key (an encrypted string that starts with the letters `AI`).\n",
    "\n",
    "**⚠️CAUTION:** Treat API keys like you would treat a credit card number. Don't share them in public spaces, commit them to github, or submit them in homework assignments. **Only share keys with people you trust.**\n",
    "\n"
   ]
  },
  {
   "cell_type": "markdown",
   "metadata": {},
   "source": [
    "#### Step 3:  Enable Billing\n",
    "\n",
    "If your gmail account is not associated with Google Cloud Platform account with a Credit Card on file, you will get an error message as you proceed below.  If so you will need to   [Navigate to Enable Billing](https://console.cloud.google.com/project/_/billing/enable) \n",
    "\n",
    "Google provides $300 of free usage, that's a lot of usage.  And billing will not start without a manual confirmation, so you are free to explore the API. "
   ]
  },
  {
   "cell_type": "markdown",
   "metadata": {},
   "source": [
    "\n",
    "#### Step 4: Test that your API key is functioning by adding it to the code block below\n"
   ]
  },
  {
   "cell_type": "code",
   "execution_count": 32,
   "metadata": {},
   "outputs": [],
   "source": [
    "# If you are on your local machines you need to uncomment this cell the first time through to install\n",
    "# the googlemaps module\n",
    "# !pip install -U googlemaps"
   ]
  },
  {
   "cell_type": "code",
   "execution_count": 33,
   "metadata": {},
   "outputs": [],
   "source": [
    "# Once installed, you should be able to import the wrapper\n",
    "import googlemaps"
   ]
  },
  {
   "cell_type": "code",
   "execution_count": 34,
   "metadata": {},
   "outputs": [
    {
     "name": "stdout",
     "output_type": "stream",
     "text": [
      "The number of seconds from Harper Center, Chicago to Gleacher Center, Chicago is 1094\n"
     ]
    }
   ],
   "source": [
    "from datetime import datetime\n",
    "now = datetime.now()\n",
    "gmap = googlemaps.Client(key='YOUR_API_KEY_GOES_HERE')\n",
    "add_1 = 'Harper Center, Chicago'\n",
    "add_2 = 'Gleacher Center, Chicago'\n",
    "dir=gmap.directions(add_1,add_2,mode=\"driving\", units=\"imperial\", departure_time=now)\n",
    "print(f\"The number of seconds from {add_1} to {add_2} is {dir[0]['legs'][0]['duration_in_traffic']['value']}\")"
   ]
  },
  {
   "cell_type": "markdown",
   "metadata": {},
   "source": [
    "#### If you get the current driving time from Harper to Gleacher your API key is working!  \n",
    "#### If you got an error about enabling billing, go back to Step 3.\n",
    "\n",
    "#### FAQ\n",
    "\n",
    "#### How else can I tell that my API key is working?\n",
    "If you navigate to the [dashboard page](https://console.cloud.google.com/apis/dashboard) you should see some traffic on the Directions API, but there may be some lag before the metric is updated. \n",
    "\n",
    "#### How many free requests can I make to Google Maps per month?\n",
    "Google Maps provides $300 of free credit per month to developers (across all projects and keys). This equates to for example around 28,000 requests to Google Maps.\n",
    "\n",
    "If you're curious, [see here](https://cloud.google.com/maps-platform/pricing/sheet/?&sign=0) for additional information about Google Maps Pricing. "
   ]
  },
  {
   "cell_type": "code",
   "execution_count": null,
   "metadata": {},
   "outputs": [],
   "source": []
  }
 ],
 "metadata": {
  "kernelspec": {
   "display_name": "Python 3",
   "language": "python",
   "name": "python3"
  },
  "language_info": {
   "codemirror_mode": {
    "name": "ipython",
    "version": 3
   },
   "file_extension": ".py",
   "mimetype": "text/x-python",
   "name": "python",
   "nbconvert_exporter": "python",
   "pygments_lexer": "ipython3",
   "version": "3.7.4"
  }
 },
 "nbformat": 4,
 "nbformat_minor": 4
}
