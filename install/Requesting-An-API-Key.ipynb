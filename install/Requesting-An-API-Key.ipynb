{
 "cells": [
  {
   "cell_type": "markdown",
   "metadata": {},
   "source": [
    "## Requesting a Google Maps API key\n",
    "\n",
    "The `gmaps` python package used in this course leverages the Google Maps API. Each student will need to request a Google Maps API key for notebooks with mapping functionality to work correctly. \n",
    "\n",
    "This guide will walk you through how to request an API key from the Google Developer Console.\n",
    "\n",
    "### What is an API Key?\n",
    "\n",
    "If you've never used an API key before, or need a refresher on the purpose of API keys, [this article](https://cloud.google.com/endpoints/docs/openapi/when-why-api-key) does a nice job of explaining what they are and why they are needed.\n",
    "\n",
    "### Instructions\n",
    "\n",
    "#### Step 0: Log in to your google account\n",
    "You will need a google account (e.g. gmail) to request an API key. You can use your @chicagobooth.edu account to request a key. Make sure you are logged in to that account before proceeding.\n",
    "  "
   ]
  },
  {
   "cell_type": "markdown",
   "metadata": {},
   "source": [
    "#### Step 1: [Navigate here to create a new \"project\" in the developer console](https://console.developers.google.com/projectcreate).  \n",
    "Creating a project is a necessary before we request an API key.\n",
    "\n",
    "On the **New Project** page, fill out the fields:\n",
    "- Name: `chicago-booth`\n",
    "- Location: `No organization`\n",
    "\n",
    "Fully configured, your project should look like this:\n",
    "\n",
    "![create-project.png](img/create-project.png)\n",
    "\n",
    "Click **Create** and wait for the project dashboard to appear before moving on.\n",
    "\n",
    "**NOTE:** it might take a minute for the project dashboard to appear after clicking create.  \n",
    "   "
   ]
  },
  {
   "cell_type": "markdown",
   "metadata": {},
   "source": [
    "#### Step 2: [Navigate here to request an API key](https://console.developers.google.com/flows/enableapi?apiid=maps_backend,geocoding_backend,directions_backend,distance_matrix_backend,elevation_backend&keyType=CLIENT_SIDE&reusekey=true).  \n",
    "\n",
    "Select your newly created `chicago-booth` project from the dropdown, then click **Continue**. \n",
    "\n",
    "On the subsequent **API Key** page, do the following:\n",
    "\n",
    "- Name your key: `gmaps-api-key`\n",
    "- Under the `API restrictions` tab, select all of the available options in the dropdown.\n",
    "  - Directions API\n",
    "  - Distance Matrix API\n",
    "  - Geocoding API\n",
    "  - Maps Elevation API\n",
    "  - Maps JavaScript API\n",
    "\n",
    "Fully configured, your key should look like this:\n",
    "\n",
    "![api-key-configuration.png](img/api-key-configuration.png)\n",
    "\n",
    "Click **Create**. The API key created dialog will display your newly created API key (an encrypted string that starts with the letters `AI`).\n",
    "\n",
    "**⚠️CAUTION:** Treat API keys like you would treat a credit card number. Don't share them in public spaces, commit them to github, or submit them in homework assignments. **Only share keys with people you trust.**\n",
    "\n"
   ]
  },
  {
   "cell_type": "markdown",
   "metadata": {},
   "source": [
    "\n",
    "#### Step 3: Test that your API key is functioning by adding it to the code block below\n"
   ]
  },
  {
   "cell_type": "code",
   "execution_count": 3,
   "metadata": {},
   "outputs": [
    {
     "data": {
      "application/vnd.jupyter.widget-view+json": {
       "model_id": "845026e2b92a4c6d8116709b69b02026",
       "version_major": 2,
       "version_minor": 0
      },
      "text/plain": [
       "Figure(layout=FigureLayout(height='420px'))"
      ]
     },
     "metadata": {},
     "output_type": "display_data"
    }
   ],
   "source": [
    "import gmaps\n",
    "import gmaps.datasets\n",
    "\n",
    "gmaps.configure(api_key='key goes here') # Fill in with your API key\n",
    "\n",
    "earthquake_df = gmaps.datasets.load_dataset_as_df('earthquakes')\n",
    "locations = earthquake_df[['latitude', 'longitude']]\n",
    "weights = earthquake_df['magnitude']\n",
    "fig = gmaps.figure()\n",
    "fig.add_layer(gmaps.heatmap_layer(locations, weights=weights))\n",
    "fig"
   ]
  },
  {
   "cell_type": "markdown",
   "metadata": {},
   "source": [
    "If you see a map above with layered earthquake data, your API key is working correctly 🎉\n",
    "\n",
    "### FAQ\n",
    "\n",
    "#### How else can I tell that my API key is working?\n",
    "If you navigate to the [details page](https://console.cloud.google.com/google/maps-apis/apis/maps-backend.googleapis.com/metrics) for the Google Maps JavaScript APIs in the developer console, you should see some traffic.\n",
    "\n",
    "#### How many free requests can I make to Google Maps per month?\n",
    "Google Maps provides $200 of free credit per month to developers (across all projects and keys). This equates to around 28,000 requests to Google Maps.\n",
    "\n",
    "If you're curious, [see here](https://cloud.google.com/maps-platform/pricing/sheet/?&sign=0) for additional information about Google Maps Pricing. "
   ]
  }
 ],
 "metadata": {
  "kernelspec": {
   "display_name": "Python 3",
   "language": "python",
   "name": "python3"
  },
  "language_info": {
   "codemirror_mode": {
    "name": "ipython",
    "version": 3
   },
   "file_extension": ".py",
   "mimetype": "text/x-python",
   "name": "python",
   "nbconvert_exporter": "python",
   "pygments_lexer": "ipython3",
   "version": "3.7.0"
  }
 },
 "nbformat": 4,
 "nbformat_minor": 2
}
