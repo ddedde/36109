{
 "cells": [
  {
   "cell_type": "markdown",
   "metadata": {},
   "source": [
    "## Getting Started\n",
    "\n",
    "Python environments are notoriously [tricky to manage](https://www.pluralsight.com/tech-blog/managing-python-environments/) and there are a lot of opinions on which option is best.\n",
    "\n",
    "For this course, we'll try to keep things as straightforward as possible by using the [anaconda](https://www.anaconda.com) environment and dependency manager.\n",
    "\n",
    "Follow along to get everything set up on your system, and reach out in Piazza if anything goes awry.\n",
    "\n",
    "## Installation\n",
    "\n",
    "[Click here](https://www.anaconda.com/distribution/#download-section) to download the **Python 3.7** anaconda installer that is correct for your operating system.\n",
    "\n",
    "![Python3.png](img/Python3.png)\n",
    "\n",
    "Open the .exe or .pkg file, and click through the install prompts. \n",
    "**Please stick with the default options.** \n",
    "\n",
    "### Note for Windows:\n",
    "\n",
    "At the \"advanced installation options\" step, make sure to leave the \"Add anaconda to my PATH environment variable\" option unchecked.\n",
    "\n",
    "### JetBrains\n",
    "\n",
    "After the install completes, you'll see an advertisement for Anaconda + JetBrains. Don't worry about installing this, just click continue.\n",
    "\n",
    "![jet-brains.png](img/jet-brains.png)\n",
    "\n",
    "\n",
    "## Anaconda Successfully Installed\n",
    "\n",
    "That was easy! Anaconda comes pre-installed with most of the packages we will need for this class."
   ]
  },
  {
   "cell_type": "markdown",
   "metadata": {},
   "source": [
    "## Opening JupyterLab through Anaconda Navigator\n",
    "\n",
    "In either your start menu (Windows) or applications folder (OSX) search for Anaconda Navigator and open it. You should see the anaconda launch screen with a menu item to launch JupyterLab. Click Launch.\n",
    "\n",
    "![anaconda-navigator.png](img/anaconda-navigator.png)\n",
    "\n",
    "JupyterLab should launch in your computer's default browser.\n",
    "## Testing JupyterLab\n",
    "\n",
    "Once JupyterLab launches, create a new folder for course material using the \"new folder\" button in left navigation. \n",
    "\n",
    "![new-folder-3.png](img/new-folder-3.png) \n",
    "\n",
    "Then create a new Python3 notebook using the new file launcher. \n",
    "\n",
    "![launcher.png](img/launcher.png)\n",
    "\n",
    "In your new Python3 notebook, type `print(f\"1 + 2 is {1+2}\")` in a new code cell, then execute the cell by clicking the play button.\n",
    "\n",
    "You should see the result of your expression printed out below your cell.\n",
    "\n",
    "![hello-world.png](img/hello-world.png)\n",
    "\n",
    "## Summary\n",
    "If you've gotten this far, you'll be good to go for our class. If there are any additional packages to install or custom environments to load, we'll provide those with future notebooks. "
   ]
  },
  {
   "cell_type": "code",
   "execution_count": null,
   "metadata": {},
   "outputs": [],
   "source": []
  }
 ],
 "metadata": {
  "kernelspec": {
   "display_name": "Python 3",
   "language": "python",
   "name": "python3"
  },
  "language_info": {
   "codemirror_mode": {
    "name": "ipython",
    "version": 3
   },
   "file_extension": ".py",
   "mimetype": "text/x-python",
   "name": "python",
   "nbconvert_exporter": "python",
   "pygments_lexer": "ipython3",
   "version": "3.7.4"
  }
 },
 "nbformat": 4,
 "nbformat_minor": 4
}
