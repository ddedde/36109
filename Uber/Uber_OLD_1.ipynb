{
 "cells": [
  {
   "cell_type": "markdown",
   "metadata": {},
   "source": [
    "# Uber:   Given locations of customers and drivers, make an \"optimal\" assignment."
   ]
  },
  {
   "cell_type": "code",
   "execution_count": 1,
   "metadata": {},
   "outputs": [],
   "source": [
    "from pprint import pprint"
   ]
  },
  {
   "cell_type": "code",
   "execution_count": 2,
   "metadata": {},
   "outputs": [],
   "source": [
    "# Let's consider two customers, C1 and C2, we provide their locations:  [lat,lng]\n",
    "C1_location = [33.780775, -84.386301]\n",
    "C2_location = [33.778988, -84.363791]\n",
    "\n",
    "# And two available drivers, D1 and D2\n",
    "D1_location = [33.793711, -84.317408]\n",
    "D2_location = [33.776812, -84.356153]"
   ]
  },
  {
   "cell_type": "markdown",
   "metadata": {},
   "source": [
    "### We will use the `geopy` package to compute distances between two locations (it considers the curvature of the earth for us!)"
   ]
  },
  {
   "cell_type": "code",
   "execution_count": 3,
   "metadata": {},
   "outputs": [],
   "source": [
    "from geopy.distance import geodesic"
   ]
  },
  {
   "cell_type": "code",
   "execution_count": 4,
   "metadata": {},
   "outputs": [
    {
     "name": "stdout",
     "output_type": "stream",
     "text": [
      "{'C1_D1': 4.063663522199328,\n",
      " 'C1_D2': 1.7564928121576306,\n",
      " 'C2_D1': 2.8556454250592753,\n",
      " 'C2_D2': 0.46447745846674}\n"
     ]
    }
   ],
   "source": [
    "# We will store distances in a dictionary, with key 'CustomerName_DriverName'\n",
    "distances = {}\n",
    "distances['C1_D1'] = geodesic(C1_location,D1_location).miles\n",
    "distances['C1_D2'] = geodesic(C1_location,D2_location).miles\n",
    "\n",
    "distances['C2_D1'] = geodesic(C2_location,D1_location).miles\n",
    "distances['C2_D2'] = geodesic(C2_location,D2_location).miles\n",
    "\n",
    "pprint(distances)"
   ]
  },
  {
   "cell_type": "markdown",
   "metadata": {},
   "source": [
    "### We are now ready to form a Linear Program to find an optimal assignment.  \n",
    "\n",
    "### There are a number of packages to do optimization, we will use `PuLP` that is open source and free, but works much the same way as a commercial product"
   ]
  },
  {
   "cell_type": "code",
   "execution_count": 5,
   "metadata": {},
   "outputs": [],
   "source": [
    "from pulp import *"
   ]
  },
  {
   "cell_type": "markdown",
   "metadata": {},
   "source": [
    "### We use the PuLP function `LpProblem` to define a model instance, with an objective we will want to Minimize"
   ]
  },
  {
   "cell_type": "code",
   "execution_count": 6,
   "metadata": {},
   "outputs": [],
   "source": [
    "model = LpProblem(\"Uber Assignment\",LpMinimize)"
   ]
  },
  {
   "cell_type": "markdown",
   "metadata": {},
   "source": [
    "### We will define a varible for each Customer/Driver pair.  The variable names will be of the form, `X_CustName_DriverName`,  so `X_C1_D2` for example.  To have PuLP do this, we first make a List of these pairs,`all_pairs`, without the `X_` prepended."
   ]
  },
  {
   "cell_type": "code",
   "execution_count": 7,
   "metadata": {},
   "outputs": [
    {
     "name": "stdout",
     "output_type": "stream",
     "text": [
      "{'C1_D1': X_C1_D1, 'C1_D2': X_C1_D2, 'C2_D1': X_C2_D1, 'C2_D2': X_C2_D2}\n"
     ]
    }
   ],
   "source": [
    "# Each arc variable is Binary 0,1\n",
    "assignment_vars = LpVariable.dicts(\"X\",['C1_D1','C1_D2','C2_D1','C2_D2'],cat='Binary')\n",
    "pprint(assignment_vars)"
   ]
  },
  {
   "cell_type": "markdown",
   "metadata": {},
   "source": [
    "### We can now add our objective function to `model` which is to Minimize the sum of distance travelled"
   ]
  },
  {
   "cell_type": "code",
   "execution_count": 8,
   "metadata": {},
   "outputs": [
    {
     "name": "stdout",
     "output_type": "stream",
     "text": [
      "Uber Assignment:\n",
      "MINIMIZE\n",
      "4.063663522199328*X_C1_D1 + 1.7564928121576306*X_C1_D2 + 2.8556454250592753*X_C2_D1 + 0.46447745846674*X_C2_D2 + 0.0\n",
      "VARIABLES\n",
      "0 <= X_C1_D1 <= 1 Integer\n",
      "0 <= X_C1_D2 <= 1 Integer\n",
      "0 <= X_C2_D1 <= 1 Integer\n",
      "0 <= X_C2_D2 <= 1 Integer\n",
      "\n"
     ]
    }
   ],
   "source": [
    "obj=''\n",
    "for var in ['C1_D1','C1_D2','C2_D1','C2_D2']:\n",
    "    obj += distances[var]*assignment_vars[var]\n",
    "model += lpSum(obj), \"Cost of each Customer Driver Assignment\"\n",
    "pprint(model)"
   ]
  },
  {
   "cell_type": "markdown",
   "metadata": {},
   "source": [
    "### We now need our \"node\" constraints, each customer is assignned to exactly one driver, and each driver is assigned exactly one customer.  "
   ]
  },
  {
   "cell_type": "markdown",
   "metadata": {},
   "source": [
    "### Now we add these constraints to our `model`"
   ]
  },
  {
   "cell_type": "code",
   "execution_count": 9,
   "metadata": {},
   "outputs": [],
   "source": [
    "# Add constraint for each customer node\n",
    "model += lpSum(assignment_vars['C1_D1'] + assignment_vars['C1_D2']) == 1, \"C1\"\n",
    "model += lpSum(assignment_vars['C2_D1'] + assignment_vars['C2_D2']) == 1, \"C2\"\n",
    "# Add constraint for each driver node\n",
    "model += lpSum(assignment_vars['C1_D1'] + assignment_vars['C2_D1']) == 1, \"D1\"\n",
    "model += lpSum(assignment_vars['C1_D2'] + assignment_vars['C2_D2']) == 1, \"D2\""
   ]
  },
  {
   "cell_type": "code",
   "execution_count": 10,
   "metadata": {},
   "outputs": [
    {
     "data": {
      "text/plain": [
       "Uber Assignment:\n",
       "MINIMIZE\n",
       "4.063663522199328*X_C1_D1 + 1.7564928121576306*X_C1_D2 + 2.8556454250592753*X_C2_D1 + 0.46447745846674*X_C2_D2 + 0.0\n",
       "SUBJECT TO\n",
       "C1: X_C1_D1 + X_C1_D2 = 1\n",
       "\n",
       "C2: X_C2_D1 + X_C2_D2 = 1\n",
       "\n",
       "D1: X_C1_D1 + X_C2_D1 = 1\n",
       "\n",
       "D2: X_C1_D2 + X_C2_D2 = 1\n",
       "\n",
       "VARIABLES\n",
       "0 <= X_C1_D1 <= 1 Integer\n",
       "0 <= X_C1_D2 <= 1 Integer\n",
       "0 <= X_C2_D1 <= 1 Integer\n",
       "0 <= X_C2_D2 <= 1 Integer"
      ]
     },
     "execution_count": 10,
     "metadata": {},
     "output_type": "execute_result"
    }
   ],
   "source": [
    "# Let's inspect our model\n",
    "model"
   ]
  },
  {
   "cell_type": "code",
   "execution_count": 11,
   "metadata": {},
   "outputs": [
    {
     "name": "stdout",
     "output_type": "stream",
     "text": [
      "Status: Optimal\n"
     ]
    }
   ],
   "source": [
    "# Let's solve the model and make sure it's status is good\n",
    "model.solve()\n",
    "print(\"Status:\", LpStatus[model.status])"
   ]
  },
  {
   "cell_type": "code",
   "execution_count": 12,
   "metadata": {},
   "outputs": [
    {
     "name": "stdout",
     "output_type": "stream",
     "text": [
      "X_C1_D1 = 1.0\n",
      "X_C1_D2 = 0.0\n",
      "X_C2_D1 = 0.0\n",
      "X_C2_D2 = 1.0\n"
     ]
    }
   ],
   "source": [
    "# Here is the solution\n",
    "for v in model.variables():\n",
    "    print(v.name, \"=\", v.varValue)"
   ]
  },
  {
   "cell_type": "markdown",
   "metadata": {},
   "source": [
    "### Now that we have a solution, in the real world we need to disseminate that information, that would likely mean an update to our database to relect the assignment, and this will lead to a number of changes:\n",
    "- Send this information to both the driver and customer\n",
    "- Update live maps for admins and drivers and customer\n",
    "\n",
    "### We will display the results on a Google Map"
   ]
  },
  {
   "cell_type": "markdown",
   "metadata": {},
   "source": [
    "#### If you are using a local install, then you will need to install some packages, see https://buildmedia.readthedocs.org/media/pdf/jupyter-gmaps/latest/jupyter-gmaps.pdf for details.\n",
    "\n",
    "#### You will also need a Google API key, which is also covered in this document"
   ]
  },
  {
   "cell_type": "code",
   "execution_count": 13,
   "metadata": {},
   "outputs": [],
   "source": [
    "import gmaps\n",
    "gmaps.configure(api_key='')"
   ]
  },
  {
   "cell_type": "markdown",
   "metadata": {},
   "source": [
    "### Let's plot our customers and driver locations on a Google Map.  First, we collect a List of these locations.  And along the way we make a list of information that will be displayed when a Customer or Driver is clicked on."
   ]
  },
  {
   "cell_type": "code",
   "execution_count": 14,
   "metadata": {},
   "outputs": [
    {
     "name": "stdout",
     "output_type": "stream",
     "text": [
      "[[33.780775, -84.386301], [33.778988, -84.363791]]\n",
      "[[33.793711, -84.317408], [33.776812, -84.356153]]\n"
     ]
    }
   ],
   "source": [
    "customer_marker_locations=[C1_location, C2_location]\n",
    "customer_info_boxes=['C1','C2']\n",
    "pprint(customer_marker_locations)\n",
    "\n",
    "driver_marker_locations=[D1_location,D2_location]\n",
    "driver_info_boxes=['D1','D2']\n",
    "pprint(driver_marker_locations)"
   ]
  },
  {
   "cell_type": "code",
   "execution_count": 15,
   "metadata": {},
   "outputs": [
    {
     "data": {
      "application/vnd.jupyter.widget-view+json": {
       "model_id": "aada19169ad048ffa72be1b5433d6d03",
       "version_major": 2,
       "version_minor": 0
      },
      "text/plain": [
       "Figure(layout=FigureLayout(height='420px'))"
      ]
     },
     "metadata": {},
     "output_type": "display_data"
    }
   ],
   "source": [
    "fig=gmaps.figure()\n",
    "customers_layer = gmaps.symbol_layer(\n",
    "    customer_marker_locations, info_box_content = customer_info_boxes, fill_color='red', stroke_color='red', scale=6)\n",
    "fig.add_layer(customers_layer)\n",
    "drivers_layer = gmaps.symbol_layer(\n",
    "    driver_marker_locations, info_box_content = driver_info_boxes, fill_color='blue', stroke_color='blue', scale=6)\n",
    "fig.add_layer(drivers_layer)\n",
    "fig"
   ]
  },
  {
   "cell_type": "markdown",
   "metadata": {},
   "source": [
    "### Now, let's draw a line between all the optimal assignments"
   ]
  },
  {
   "cell_type": "code",
   "execution_count": 16,
   "metadata": {},
   "outputs": [
    {
     "name": "stdout",
     "output_type": "stream",
     "text": [
      "Our variable name split into strings and put into a List: ['X', 'C1', 'D1']\n",
      "Our variable name split into strings and put into a List: ['X', 'C2', 'D2']\n"
     ]
    },
    {
     "data": {
      "application/vnd.jupyter.widget-view+json": {
       "model_id": "aada19169ad048ffa72be1b5433d6d03",
       "version_major": 2,
       "version_minor": 0
      },
      "text/plain": [
       "Figure(layout=FigureLayout(height='420px'))"
      ]
     },
     "metadata": {},
     "output_type": "display_data"
    }
   ],
   "source": [
    "# Loop through all the assignment variables\n",
    "for v in model.variables():\n",
    "    # If the assignment is made, then draw a line\n",
    "    if (v.varValue==1.0):\n",
    "        # A little fancy footwork to strip out the customer and driver name from the variable name\n",
    "        var_name_split = v.name.split(\"_\")\n",
    "        print(f\"Our variable name split into strings and put into a List: {var_name_split}\")\n",
    "        # We can now grab the customer and driver name\n",
    "        cust_name = var_name_split[1]\n",
    "        driver_name = var_name_split[2]\n",
    "        # Now we create a line between the customer and driver\n",
    "        assignment_line = gmaps.Line(\n",
    "          start=eval(cust_name  + '_location'),\n",
    "          end=eval(driver_name + '_location'),\n",
    "          stroke_weight=3.0\n",
    "        )\n",
    "        # and we add the line to our map\n",
    "        drawing = gmaps.drawing_layer(features=[assignment_line])\n",
    "        fig.add_layer(drawing)\n",
    "fig"
   ]
  },
  {
   "cell_type": "markdown",
   "metadata": {},
   "source": [
    "## Homework/Classroom work\n",
    "\n",
    "- Can you reformulate the problem so that we minimize the worst case?  This would, it seems in this case, change the assignment we got originally."
   ]
  }
 ],
 "metadata": {
  "kernelspec": {
   "display_name": "Python 3",
   "language": "python",
   "name": "python3"
  },
  "language_info": {
   "codemirror_mode": {
    "name": "ipython",
    "version": 3
   },
   "file_extension": ".py",
   "mimetype": "text/x-python",
   "name": "python",
   "nbconvert_exporter": "python",
   "pygments_lexer": "ipython3",
   "version": "3.7.0"
  }
 },
 "nbformat": 4,
 "nbformat_minor": 2
}
